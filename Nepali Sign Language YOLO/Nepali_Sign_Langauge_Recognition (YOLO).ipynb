{
 "cells": [
  {
   "cell_type": "markdown",
   "id": "15e2b213-abb8-48fe-8e8f-e24d564b28ce",
   "metadata": {},
   "source": [
    "# Nepali Sign Language Recognition - YOLO"
   ]
  },
  {
   "cell_type": "markdown",
   "id": "8eb07536-db33-401f-8b21-7a37945367fc",
   "metadata": {},
   "source": [
    "## 1. Import required libraries "
   ]
  },
  {
   "cell_type": "code",
   "execution_count": 1,
   "id": "69bc9ca1-a62d-481d-8ecc-1db6d4bf3b4b",
   "metadata": {},
   "outputs": [],
   "source": [
    "from ultralytics import YOLO\n",
    "import matplotlib.pyplot as plt\n",
    "import torch"
   ]
  },
  {
   "cell_type": "code",
   "execution_count": 2,
   "id": "ae8d86a3-d499-4a22-97d2-cce0ffb88b46",
   "metadata": {},
   "outputs": [],
   "source": [
    "# Set Devanagari font\n",
    "plt.rcParams['font.family'] = 'Noto Sans Devanagari'"
   ]
  },
  {
   "cell_type": "code",
   "execution_count": 3,
   "id": "e2b70b66-8974-4850-802a-7afe51d8708b",
   "metadata": {},
   "outputs": [],
   "source": [
    "# Ignore warnings\n",
    "import warnings\n",
    "warnings.filterwarnings(\"ignore\")"
   ]
  },
  {
   "cell_type": "code",
   "execution_count": 4,
   "id": "4371cc20-5e6c-40b6-a8a2-e8ae5363d295",
   "metadata": {},
   "outputs": [
    {
     "name": "stdout",
     "output_type": "stream",
     "text": [
      "Using device: cuda\n"
     ]
    }
   ],
   "source": [
    "# Check for CUDA device and set it\n",
    "device = 'cuda' if torch.cuda.is_available() else 'cpu'\n",
    "print(f'Using device: {device}')"
   ]
  },
  {
   "cell_type": "markdown",
   "id": "21e2d938-2524-4be3-9086-91c345d744f2",
   "metadata": {},
   "source": [
    "## 2. Create config file"
   ]
  },
  {
   "cell_type": "code",
   "execution_count": 5,
   "id": "ce5a9fe4-53c4-4816-a85a-4678f2aef6d8",
   "metadata": {},
   "outputs": [
    {
     "name": "stdout",
     "output_type": "stream",
     "text": [
      "Overwriting config.yaml\n"
     ]
    }
   ],
   "source": [
    "%%writefile \"config.yaml\"\n",
    "\n",
    "path: \"/home/aashish/Downloads/Nepali-Sign-Language-Recognition/Nepali Sign Language Image Annotations (YOLOv8)/\"\n",
    "train: train/images/\n",
    "val: val/images/\n",
    "test: test/images/\n",
    "\n",
    "nc: 46\n",
    "names: ['क', 'क्ष', 'ख', 'ग', 'घ', 'ङ', 'च', 'छ', 'ज', 'ज्ञ', 'झ', 'ञ', 'ट', 'ठ', 'ड', 'ढ', 'ण', 'त', 'त्र', 'थ', 'द', 'ध', 'न', 'प', 'फ', 'ब', 'भ', 'म', 'य', 'र', 'ल', 'व', 'श', 'ष', 'स', 'ह', '०', '१', '२', '३', '४', '५', '६', '७', '८', '९']"
   ]
  },
  {
   "cell_type": "markdown",
   "id": "5dbe23c1-742e-4777-8021-0ff5026fbfca",
   "metadata": {},
   "source": [
    "## 3. Model training "
   ]
  },
  {
   "cell_type": "code",
   "execution_count": 6,
   "id": "20338fa7-88fe-4545-9bcc-dcdcf31239c1",
   "metadata": {},
   "outputs": [],
   "source": [
    "# Load a model\n",
    "model = YOLO(\"yolov8n.pt\").to(device)"
   ]
  },
  {
   "cell_type": "code",
   "execution_count": 7,
   "id": "9ba4f59a-e8a9-422c-880e-aa289e948c57",
   "metadata": {
    "scrolled": true
   },
   "outputs": [
    {
     "name": "stdout",
     "output_type": "stream",
     "text": [
      "\u001b[34m\u001b[1mengine/trainer: \u001b[0mtask=detect, mode=train, model=yolov8n.pt, data=config.yaml, epochs=50, time=None, patience=100, batch=32, imgsz=640, save=True, save_period=-1, cache=False, device=cuda:0, workers=8, project=None, name=train, exist_ok=False, pretrained=True, optimizer=SGD, verbose=True, seed=0, deterministic=True, single_cls=False, rect=False, cos_lr=False, close_mosaic=10, resume=False, amp=True, fraction=1.0, profile=False, freeze=None, multi_scale=False, overlap_mask=True, mask_ratio=4, dropout=0.0, val=True, split=val, save_json=False, save_hybrid=False, conf=None, iou=0.7, max_det=300, half=False, dnn=False, plots=True, source=None, vid_stride=1, stream_buffer=False, visualize=False, augment=False, agnostic_nms=False, classes=None, retina_masks=False, embed=None, show=False, save_frames=False, save_txt=False, save_conf=False, save_crop=False, show_labels=True, show_conf=True, show_boxes=True, line_width=None, format=torchscript, keras=False, optimize=False, int8=False, dynamic=False, simplify=False, opset=None, workspace=4, nms=False, lr0=0.01, lrf=0.01, momentum=0.937, weight_decay=0.0005, warmup_epochs=3.0, warmup_momentum=0.8, warmup_bias_lr=0.1, box=7.5, cls=0.5, dfl=1.5, pose=12.0, kobj=1.0, label_smoothing=0.0, nbs=64, hsv_h=0.1, hsv_s=0.4, hsv_v=0.2, degrees=45, translate=0.3, scale=0.5, shear=0.3, perspective=0.0, flipud=0.0, fliplr=0.5, bgr=0.0, mosaic=1.0, mixup=0.2, copy_paste=0.0, auto_augment=randaugment, erasing=0.4, crop_fraction=1.0, cfg=None, tracker=botsort.yaml, save_dir=runs/detect/train\n",
      "Overriding model.yaml nc=80 with nc=46\n",
      "\n",
      "                   from  n    params  module                                       arguments                     \n",
      "  0                  -1  1       464  ultralytics.nn.modules.conv.Conv             [3, 16, 3, 2]                 \n",
      "  1                  -1  1      4672  ultralytics.nn.modules.conv.Conv             [16, 32, 3, 2]                \n",
      "  2                  -1  1      7360  ultralytics.nn.modules.block.C2f             [32, 32, 1, True]             \n",
      "  3                  -1  1     18560  ultralytics.nn.modules.conv.Conv             [32, 64, 3, 2]                \n",
      "  4                  -1  2     49664  ultralytics.nn.modules.block.C2f             [64, 64, 2, True]             \n",
      "  5                  -1  1     73984  ultralytics.nn.modules.conv.Conv             [64, 128, 3, 2]               \n",
      "  6                  -1  2    197632  ultralytics.nn.modules.block.C2f             [128, 128, 2, True]           \n",
      "  7                  -1  1    295424  ultralytics.nn.modules.conv.Conv             [128, 256, 3, 2]              \n",
      "  8                  -1  1    460288  ultralytics.nn.modules.block.C2f             [256, 256, 1, True]           \n",
      "  9                  -1  1    164608  ultralytics.nn.modules.block.SPPF            [256, 256, 5]                 \n",
      " 10                  -1  1         0  torch.nn.modules.upsampling.Upsample         [None, 2, 'nearest']          \n",
      " 11             [-1, 6]  1         0  ultralytics.nn.modules.conv.Concat           [1]                           \n",
      " 12                  -1  1    148224  ultralytics.nn.modules.block.C2f             [384, 128, 1]                 \n",
      " 13                  -1  1         0  torch.nn.modules.upsampling.Upsample         [None, 2, 'nearest']          \n",
      " 14             [-1, 4]  1         0  ultralytics.nn.modules.conv.Concat           [1]                           \n",
      " 15                  -1  1     37248  ultralytics.nn.modules.block.C2f             [192, 64, 1]                  \n",
      " 16                  -1  1     36992  ultralytics.nn.modules.conv.Conv             [64, 64, 3, 2]                \n",
      " 17            [-1, 12]  1         0  ultralytics.nn.modules.conv.Concat           [1]                           \n",
      " 18                  -1  1    123648  ultralytics.nn.modules.block.C2f             [192, 128, 1]                 \n",
      " 19                  -1  1    147712  ultralytics.nn.modules.conv.Conv             [128, 128, 3, 2]              \n",
      " 20             [-1, 9]  1         0  ultralytics.nn.modules.conv.Concat           [1]                           \n",
      " 21                  -1  1    493056  ultralytics.nn.modules.block.C2f             [384, 256, 1]                 \n",
      " 22        [15, 18, 21]  1    760282  ultralytics.nn.modules.head.Detect           [46, [64, 128, 256]]          \n",
      "Model summary: 225 layers, 3,019,818 parameters, 3,019,802 gradients, 8.2 GFLOPs\n",
      "\n",
      "Transferred 319/355 items from pretrained weights\n",
      "Freezing layer 'model.22.dfl.conv.weight'\n",
      "\u001b[34m\u001b[1mAMP: \u001b[0mrunning Automatic Mixed Precision (AMP) checks with YOLOv8n...\n",
      "\u001b[34m\u001b[1mAMP: \u001b[0mchecks passed ✅\n"
     ]
    },
    {
     "name": "stderr",
     "output_type": "stream",
     "text": [
      "\u001b[34m\u001b[1mtrain: \u001b[0mScanning /home/aashish/Downloads/Nepali-Sign-Language-Recognition/Nepali \u001b[0m"
     ]
    },
    {
     "name": "stdout",
     "output_type": "stream",
     "text": [
      "\u001b[34m\u001b[1mtrain: \u001b[0mWARNING ⚠️ /home/aashish/Downloads/Nepali-Sign-Language-Recognition/Nepali Sign Language Image Annotations (YOLOv8)/train/images/002a7978-20231204_141139.jpg: corrupt JPEG restored and saved\n",
      "\u001b[34m\u001b[1mtrain: \u001b[0mWARNING ⚠️ /home/aashish/Downloads/Nepali-Sign-Language-Recognition/Nepali Sign Language Image Annotations (YOLOv8)/train/images/00527d75-20231203_133943.jpg: corrupt JPEG restored and saved\n",
      "\u001b[34m\u001b[1mtrain: \u001b[0mWARNING ⚠️ /home/aashish/Downloads/Nepali-Sign-Language-Recognition/Nepali Sign Language Image Annotations (YOLOv8)/train/images/00952d22-20231212_1429350.jpg: corrupt JPEG restored and saved\n",
      "\u001b[34m\u001b[1mtrain: \u001b[0mWARNING ⚠️ /home/aashish/Downloads/Nepali-Sign-Language-Recognition/Nepali Sign Language Image Annotations (YOLOv8)/train/images/00961e26-20231204_1316250.jpg: corrupt JPEG restored and saved\n",
      "\u001b[34m\u001b[1mtrain: \u001b[0mWARNING ⚠️ /home/aashish/Downloads/Nepali-Sign-Language-Recognition/Nepali Sign Language Image Annotations (YOLOv8)/train/images/00ff6204-20231203_132214.jpg: corrupt JPEG restored and saved\n",
      "\u001b[34m\u001b[1mtrain: \u001b[0mWARNING ⚠️ /home/aashish/Downloads/Nepali-Sign-Language-Recognition/Nepali Sign Language Image Annotations (YOLOv8)/train/images/015d9da9-20231204_142837.jpg: corrupt JPEG restored and saved\n",
      "\u001b[34m\u001b[1mtrain: \u001b[0mWARNING ⚠️ /home/aashish/Downloads/Nepali-Sign-Language-Recognition/Nepali Sign Language Image Annotations (YOLOv8)/train/images/01bf7c0a-20231204_1409300.jpg: corrupt JPEG restored and saved\n",
      "\u001b[34m\u001b[1mtrain: \u001b[0mWARNING ⚠️ /home/aashish/Downloads/Nepali-Sign-Language-Recognition/Nepali Sign Language Image Annotations (YOLOv8)/train/images/01cf9ec9-20231203_133728.jpg: corrupt JPEG restored and saved\n",
      "\u001b[34m\u001b[1mtrain: \u001b[0mWARNING ⚠️ /home/aashish/Downloads/Nepali-Sign-Language-Recognition/Nepali Sign Language Image Annotations (YOLOv8)/train/images/01d89745-20231203_131302.jpg: corrupt JPEG restored and saved\n",
      "\u001b[34m\u001b[1mtrain: \u001b[0mWARNING ⚠️ /home/aashish/Downloads/Nepali-Sign-Language-Recognition/Nepali Sign Language Image Annotations (YOLOv8)/train/images/01f0d9d2-20231212_1500080.jpg: corrupt JPEG restored and saved\n",
      "\u001b[34m\u001b[1mtrain: \u001b[0mWARNING ⚠️ /home/aashish/Downloads/Nepali-Sign-Language-Recognition/Nepali Sign Language Image Annotations (YOLOv8)/train/images/01f7c446-20231203_132640.jpg: corrupt JPEG restored and saved\n",
      "\u001b[34m\u001b[1mtrain: \u001b[0mWARNING ⚠️ /home/aashish/Downloads/Nepali-Sign-Language-Recognition/Nepali Sign Language Image Annotations (YOLOv8)/train/images/02205d61-20231204_141859.jpg: corrupt JPEG restored and saved\n",
      "\u001b[34m\u001b[1mtrain: \u001b[0mWARNING ⚠️ /home/aashish/Downloads/Nepali-Sign-Language-Recognition/Nepali Sign Language Image Annotations (YOLOv8)/train/images/024bf702-20231203_133830.jpg: corrupt JPEG restored and saved\n",
      "\u001b[34m\u001b[1mtrain: \u001b[0mWARNING ⚠️ /home/aashish/Downloads/Nepali-Sign-Language-Recognition/Nepali Sign Language Image Annotations (YOLOv8)/train/images/0251f4ba-20231204_135250.jpg: corrupt JPEG restored and saved\n",
      "\u001b[34m\u001b[1mtrain: \u001b[0mWARNING ⚠️ /home/aashish/Downloads/Nepali-Sign-Language-Recognition/Nepali Sign Language Image Annotations (YOLOv8)/train/images/02634854-20231203_132536.jpg: corrupt JPEG restored and saved\n",
      "\u001b[34m\u001b[1mtrain: \u001b[0mWARNING ⚠️ /home/aashish/Downloads/Nepali-Sign-Language-Recognition/Nepali Sign Language Image Annotations (YOLOv8)/train/images/027264f3-20231212_150519.jpg: corrupt JPEG restored and saved\n",
      "\u001b[34m\u001b[1mtrain: \u001b[0mWARNING ⚠️ /home/aashish/Downloads/Nepali-Sign-Language-Recognition/Nepali Sign Language Image Annotations (YOLOv8)/train/images/029683ed-20231204_1419070.jpg: corrupt JPEG restored and saved\n",
      "\u001b[34m\u001b[1mtrain: \u001b[0mWARNING ⚠️ /home/aashish/Downloads/Nepali-Sign-Language-Recognition/Nepali Sign Language Image Annotations (YOLOv8)/train/images/02bb6e48-20231204_1356140.jpg: corrupt JPEG restored and saved\n",
      "\u001b[34m\u001b[1mtrain: \u001b[0mWARNING ⚠️ /home/aashish/Downloads/Nepali-Sign-Language-Recognition/Nepali Sign Language Image Annotations (YOLOv8)/train/images/02c6b4cc-20231203_130623.jpg: corrupt JPEG restored and saved\n",
      "\u001b[34m\u001b[1mtrain: \u001b[0mWARNING ⚠️ /home/aashish/Downloads/Nepali-Sign-Language-Recognition/Nepali Sign Language Image Annotations (YOLOv8)/train/images/02cf17d7-20231203_132435.jpg: corrupt JPEG restored and saved\n",
      "\u001b[34m\u001b[1mtrain: \u001b[0mWARNING ⚠️ /home/aashish/Downloads/Nepali-Sign-Language-Recognition/Nepali Sign Language Image Annotations (YOLOv8)/train/images/02d1383e-20231204_141239.jpg: corrupt JPEG restored and saved\n",
      "\u001b[34m\u001b[1mtrain: \u001b[0mWARNING ⚠️ /home/aashish/Downloads/Nepali-Sign-Language-Recognition/Nepali Sign Language Image Annotations (YOLOv8)/train/images/02f4f230-20231204_1318570.jpg: corrupt JPEG restored and saved\n",
      "\u001b[34m\u001b[1mtrain: \u001b[0mWARNING ⚠️ /home/aashish/Downloads/Nepali-Sign-Language-Recognition/Nepali Sign Language Image Annotations (YOLOv8)/train/images/0411965c-20231203_130521.jpg: corrupt JPEG restored and saved\n",
      "\u001b[34m\u001b[1mtrain: \u001b[0mWARNING ⚠️ /home/aashish/Downloads/Nepali-Sign-Language-Recognition/Nepali Sign Language Image Annotations (YOLOv8)/train/images/042e2f1d-20231203_125933.jpg: corrupt JPEG restored and saved\n",
      "\u001b[34m\u001b[1mtrain: \u001b[0mWARNING ⚠️ /home/aashish/Downloads/Nepali-Sign-Language-Recognition/Nepali Sign Language Image Annotations (YOLOv8)/train/images/0433d858-20231204_130854.jpg: corrupt JPEG restored and saved\n",
      "\u001b[34m\u001b[1mtrain: \u001b[0mWARNING ⚠️ /home/aashish/Downloads/Nepali-Sign-Language-Recognition/Nepali Sign Language Image Annotations (YOLOv8)/train/images/044a0866-20231203_134920.jpg: corrupt JPEG restored and saved\n",
      "\u001b[34m\u001b[1mtrain: \u001b[0mWARNING ⚠️ /home/aashish/Downloads/Nepali-Sign-Language-Recognition/Nepali Sign Language Image Annotations (YOLOv8)/train/images/04695064-20231212_1446540.jpg: corrupt JPEG restored and saved\n",
      "\u001b[34m\u001b[1mtrain: \u001b[0mWARNING ⚠️ /home/aashish/Downloads/Nepali-Sign-Language-Recognition/Nepali Sign Language Image Annotations (YOLOv8)/train/images/04a56746-20231203_125513.jpg: corrupt JPEG restored and saved\n",
      "\u001b[34m\u001b[1mtrain: \u001b[0mWARNING ⚠️ /home/aashish/Downloads/Nepali-Sign-Language-Recognition/Nepali Sign Language Image Annotations (YOLOv8)/train/images/04c8e0f4-20231203_132424.jpg: corrupt JPEG restored and saved\n",
      "\u001b[34m\u001b[1mtrain: \u001b[0mWARNING ⚠️ /home/aashish/Downloads/Nepali-Sign-Language-Recognition/Nepali Sign Language Image Annotations (YOLOv8)/train/images/052c4cb6-20231203_134710.jpg: corrupt JPEG restored and saved\n",
      "\u001b[34m\u001b[1mtrain: \u001b[0mWARNING ⚠️ /home/aashish/Downloads/Nepali-Sign-Language-Recognition/Nepali Sign Language Image Annotations (YOLOv8)/train/images/057044bd-20231203_131202.jpg: corrupt JPEG restored and saved\n",
      "\u001b[34m\u001b[1mtrain: \u001b[0mWARNING ⚠️ /home/aashish/Downloads/Nepali-Sign-Language-Recognition/Nepali Sign Language Image Annotations (YOLOv8)/train/images/05936e82-20231203_1348080.jpg: corrupt JPEG restored and saved\n",
      "\u001b[34m\u001b[1mtrain: \u001b[0mWARNING ⚠️ /home/aashish/Downloads/Nepali-Sign-Language-Recognition/Nepali Sign Language Image Annotations (YOLOv8)/train/images/05aaa66d-20231203_125858.jpg: corrupt JPEG restored and saved\n",
      "\u001b[34m\u001b[1mtrain: \u001b[0mWARNING ⚠️ /home/aashish/Downloads/Nepali-Sign-Language-Recognition/Nepali Sign Language Image Annotations (YOLOv8)/train/images/06403378-20231203_131935.jpg: corrupt JPEG restored and saved\n",
      "\u001b[34m\u001b[1mtrain: \u001b[0mWARNING ⚠️ /home/aashish/Downloads/Nepali-Sign-Language-Recognition/Nepali Sign Language Image Annotations (YOLOv8)/train/images/065b1a9e-20231212_141558.jpg: corrupt JPEG restored and saved\n",
      "\u001b[34m\u001b[1mtrain: \u001b[0mWARNING ⚠️ /home/aashish/Downloads/Nepali-Sign-Language-Recognition/Nepali Sign Language Image Annotations (YOLOv8)/train/images/065c8e5a-20231203_134822.jpg: corrupt JPEG restored and saved\n",
      "\u001b[34m\u001b[1mtrain: \u001b[0mWARNING ⚠️ /home/aashish/Downloads/Nepali-Sign-Language-Recognition/Nepali Sign Language Image Annotations (YOLOv8)/train/images/0672124d-20231204_142328.jpg: corrupt JPEG restored and saved\n",
      "\u001b[34m\u001b[1mtrain: \u001b[0mWARNING ⚠️ /home/aashish/Downloads/Nepali-Sign-Language-Recognition/Nepali Sign Language Image Annotations (YOLOv8)/train/images/06722bbb-20231203_130104.jpg: corrupt JPEG restored and saved\n",
      "\u001b[34m\u001b[1mtrain: \u001b[0mWARNING ⚠️ /home/aashish/Downloads/Nepali-Sign-Language-Recognition/Nepali Sign Language Image Annotations (YOLOv8)/train/images/067ffc8d-20231204_141346.jpg: corrupt JPEG restored and saved\n",
      "\u001b[34m\u001b[1mtrain: \u001b[0mWARNING ⚠️ /home/aashish/Downloads/Nepali-Sign-Language-Recognition/Nepali Sign Language Image Annotations (YOLOv8)/train/images/0696ac63-20231203_134638.jpg: corrupt JPEG restored and saved\n",
      "\u001b[34m\u001b[1mtrain: \u001b[0mWARNING ⚠️ /home/aashish/Downloads/Nepali-Sign-Language-Recognition/Nepali Sign Language Image Annotations (YOLOv8)/train/images/069a903c-20231203_132724.jpg: corrupt JPEG restored and saved\n",
      "\u001b[34m\u001b[1mtrain: \u001b[0mWARNING ⚠️ /home/aashish/Downloads/Nepali-Sign-Language-Recognition/Nepali Sign Language Image Annotations (YOLOv8)/train/images/069ace45-20231204_143229.jpg: corrupt JPEG restored and saved\n",
      "\u001b[34m\u001b[1mtrain: \u001b[0mWARNING ⚠️ /home/aashish/Downloads/Nepali-Sign-Language-Recognition/Nepali Sign Language Image Annotations (YOLOv8)/train/images/069d0e55-20231203_1322150.jpg: corrupt JPEG restored and saved\n",
      "\u001b[34m\u001b[1mtrain: \u001b[0mWARNING ⚠️ /home/aashish/Downloads/Nepali-Sign-Language-Recognition/Nepali Sign Language Image Annotations (YOLOv8)/train/images/06f825c0-20231204_141843.jpg: corrupt JPEG restored and saved\n",
      "\u001b[34m\u001b[1mtrain: \u001b[0mWARNING ⚠️ /home/aashish/Downloads/Nepali-Sign-Language-Recognition/Nepali Sign Language Image Annotations (YOLOv8)/train/images/07198f96-20231204_143034.jpg: corrupt JPEG restored and saved\n",
      "\u001b[34m\u001b[1mtrain: \u001b[0mWARNING ⚠️ /home/aashish/Downloads/Nepali-Sign-Language-Recognition/Nepali Sign Language Image Annotations (YOLOv8)/train/images/078f5461-20231204_142132.jpg: corrupt JPEG restored and saved\n",
      "\u001b[34m\u001b[1mtrain: \u001b[0mWARNING ⚠️ /home/aashish/Downloads/Nepali-Sign-Language-Recognition/Nepali Sign Language Image Annotations (YOLOv8)/train/images/07a44662-20231204_141333.jpg: corrupt JPEG restored and saved\n",
      "\u001b[34m\u001b[1mtrain: \u001b[0mWARNING ⚠️ /home/aashish/Downloads/Nepali-Sign-Language-Recognition/Nepali Sign Language Image Annotations (YOLOv8)/train/images/07cf98be-20231203_1345470.jpg: corrupt JPEG restored and saved\n",
      "\u001b[34m\u001b[1mtrain: \u001b[0mWARNING ⚠️ /home/aashish/Downloads/Nepali-Sign-Language-Recognition/Nepali Sign Language Image Annotations (YOLOv8)/train/images/0845bc25-20231204_1422120.jpg: corrupt JPEG restored and saved\n",
      "\u001b[34m\u001b[1mtrain: \u001b[0mWARNING ⚠️ /home/aashish/Downloads/Nepali-Sign-Language-Recognition/Nepali Sign Language Image Annotations (YOLOv8)/train/images/088b4cf6-20231204_130550.jpg: corrupt JPEG restored and saved\n",
      "\u001b[34m\u001b[1mtrain: \u001b[0mWARNING ⚠️ /home/aashish/Downloads/Nepali-Sign-Language-Recognition/Nepali Sign Language Image Annotations (YOLOv8)/train/images/08952b85-20231204_141401.jpg: corrupt JPEG restored and saved\n",
      "\u001b[34m\u001b[1mtrain: \u001b[0mWARNING ⚠️ /home/aashish/Downloads/Nepali-Sign-Language-Recognition/Nepali Sign Language Image Annotations (YOLOv8)/train/images/089c7a43-20231203_1346490.jpg: corrupt JPEG restored and saved\n",
      "\u001b[34m\u001b[1mtrain: \u001b[0mWARNING ⚠️ /home/aashish/Downloads/Nepali-Sign-Language-Recognition/Nepali Sign Language Image Annotations (YOLOv8)/train/images/08de3a18-20231204_140349.jpg: corrupt JPEG restored and saved\n",
      "\u001b[34m\u001b[1mtrain: \u001b[0mWARNING ⚠️ /home/aashish/Downloads/Nepali-Sign-Language-Recognition/Nepali Sign Language Image Annotations (YOLOv8)/train/images/0937afa9-20231203_124758.jpg: corrupt JPEG restored and saved\n",
      "\u001b[34m\u001b[1mtrain: \u001b[0mWARNING ⚠️ /home/aashish/Downloads/Nepali-Sign-Language-Recognition/Nepali Sign Language Image Annotations (YOLOv8)/train/images/0952e335-20231212_142057.jpg: corrupt JPEG restored and saved\n",
      "\u001b[34m\u001b[1mtrain: \u001b[0mWARNING ⚠️ /home/aashish/Downloads/Nepali-Sign-Language-Recognition/Nepali Sign Language Image Annotations (YOLOv8)/train/images/0960740b-20231204_1412420.jpg: corrupt JPEG restored and saved\n",
      "\u001b[34m\u001b[1mtrain: \u001b[0mWARNING ⚠️ /home/aashish/Downloads/Nepali-Sign-Language-Recognition/Nepali Sign Language Image Annotations (YOLOv8)/train/images/09bcf302-20231203_1318370.jpg: corrupt JPEG restored and saved\n",
      "\u001b[34m\u001b[1mtrain: \u001b[0mWARNING ⚠️ /home/aashish/Downloads/Nepali-Sign-Language-Recognition/Nepali Sign Language Image Annotations (YOLOv8)/train/images/09df7762-20231204_141221.jpg: corrupt JPEG restored and saved\n",
      "\u001b[34m\u001b[1mtrain: \u001b[0mWARNING ⚠️ /home/aashish/Downloads/Nepali-Sign-Language-Recognition/Nepali Sign Language Image Annotations (YOLOv8)/train/images/09e347be-20231204_1316160.jpg: corrupt JPEG restored and saved\n",
      "\u001b[34m\u001b[1mtrain: \u001b[0mWARNING ⚠️ /home/aashish/Downloads/Nepali-Sign-Language-Recognition/Nepali Sign Language Image Annotations (YOLOv8)/train/images/09f29987-20231212_150433.jpg: corrupt JPEG restored and saved\n",
      "\u001b[34m\u001b[1mtrain: \u001b[0mWARNING ⚠️ /home/aashish/Downloads/Nepali-Sign-Language-Recognition/Nepali Sign Language Image Annotations (YOLOv8)/train/images/09fedc7f-20231203_133933.jpg: corrupt JPEG restored and saved\n",
      "\u001b[34m\u001b[1mtrain: \u001b[0mWARNING ⚠️ /home/aashish/Downloads/Nepali-Sign-Language-Recognition/Nepali Sign Language Image Annotations (YOLOv8)/train/images/0a1295e6-20231212_150447.jpg: corrupt JPEG restored and saved\n",
      "\u001b[34m\u001b[1mtrain: \u001b[0mWARNING ⚠️ /home/aashish/Downloads/Nepali-Sign-Language-Recognition/Nepali Sign Language Image Annotations (YOLOv8)/train/images/0a37dcff-20231204_1314260.jpg: corrupt JPEG restored and saved\n",
      "\u001b[34m\u001b[1mtrain: \u001b[0mWARNING ⚠️ /home/aashish/Downloads/Nepali-Sign-Language-Recognition/Nepali Sign Language Image Annotations (YOLOv8)/train/images/0a795833-20231204_143246.jpg: corrupt JPEG restored and saved\n",
      "\u001b[34m\u001b[1mtrain: \u001b[0mWARNING ⚠️ /home/aashish/Downloads/Nepali-Sign-Language-Recognition/Nepali Sign Language Image Annotations (YOLOv8)/train/images/0aaeb0e1-20231212_142336.jpg: corrupt JPEG restored and saved\n",
      "\u001b[34m\u001b[1mtrain: \u001b[0mWARNING ⚠️ /home/aashish/Downloads/Nepali-Sign-Language-Recognition/Nepali Sign Language Image Annotations (YOLOv8)/train/images/0afba87a-20231204_1401020.jpg: corrupt JPEG restored and saved\n",
      "\u001b[34m\u001b[1mtrain: \u001b[0mWARNING ⚠️ /home/aashish/Downloads/Nepali-Sign-Language-Recognition/Nepali Sign Language Image Annotations (YOLOv8)/train/images/0b14ba04-20231203_1350000.jpg: corrupt JPEG restored and saved\n",
      "\u001b[34m\u001b[1mtrain: \u001b[0mWARNING ⚠️ /home/aashish/Downloads/Nepali-Sign-Language-Recognition/Nepali Sign Language Image Annotations (YOLOv8)/train/images/0b35c0bc-20231204_140702.jpg: corrupt JPEG restored and saved\n",
      "\u001b[34m\u001b[1mtrain: \u001b[0mWARNING ⚠️ /home/aashish/Downloads/Nepali-Sign-Language-Recognition/Nepali Sign Language Image Annotations (YOLOv8)/train/images/0b40e1cc-20231203_135333.jpg: corrupt JPEG restored and saved\n",
      "\u001b[34m\u001b[1mtrain: \u001b[0mWARNING ⚠️ /home/aashish/Downloads/Nepali-Sign-Language-Recognition/Nepali Sign Language Image Annotations (YOLOv8)/train/images/0b72cc85-20231204_142253.jpg: corrupt JPEG restored and saved\n",
      "\u001b[34m\u001b[1mtrain: \u001b[0mWARNING ⚠️ /home/aashish/Downloads/Nepali-Sign-Language-Recognition/Nepali Sign Language Image Annotations (YOLOv8)/train/images/0c2097d2-20231203_131420.jpg: corrupt JPEG restored and saved\n",
      "\u001b[34m\u001b[1mtrain: \u001b[0mWARNING ⚠️ /home/aashish/Downloads/Nepali-Sign-Language-Recognition/Nepali Sign Language Image Annotations (YOLOv8)/train/images/0c3e232a-20231203_124836.jpg: corrupt JPEG restored and saved\n",
      "\u001b[34m\u001b[1mtrain: \u001b[0mWARNING ⚠️ /home/aashish/Downloads/Nepali-Sign-Language-Recognition/Nepali Sign Language Image Annotations (YOLOv8)/train/images/0c3f8100-20231203_1350100.jpg: corrupt JPEG restored and saved\n",
      "\u001b[34m\u001b[1mtrain: \u001b[0mWARNING ⚠️ /home/aashish/Downloads/Nepali-Sign-Language-Recognition/Nepali Sign Language Image Annotations (YOLOv8)/train/images/0c4ae5c2-20231204_142807.jpg: corrupt JPEG restored and saved\n",
      "\u001b[34m\u001b[1mtrain: \u001b[0mWARNING ⚠️ /home/aashish/Downloads/Nepali-Sign-Language-Recognition/Nepali Sign Language Image Annotations (YOLOv8)/train/images/0c92f663-20231203_132541.jpg: corrupt JPEG restored and saved\n",
      "\u001b[34m\u001b[1mtrain: \u001b[0mWARNING ⚠️ /home/aashish/Downloads/Nepali-Sign-Language-Recognition/Nepali Sign Language Image Annotations (YOLOv8)/train/images/0d03aa18-20231212_145151.jpg: corrupt JPEG restored and saved\n",
      "\u001b[34m\u001b[1mtrain: \u001b[0mWARNING ⚠️ /home/aashish/Downloads/Nepali-Sign-Language-Recognition/Nepali Sign Language Image Annotations (YOLOv8)/train/images/0d2e8092-20231212_150414.jpg: corrupt JPEG restored and saved\n",
      "\u001b[34m\u001b[1mtrain: \u001b[0mWARNING ⚠️ /home/aashish/Downloads/Nepali-Sign-Language-Recognition/Nepali Sign Language Image Annotations (YOLOv8)/train/images/0dc47a94-20231204_1411400.jpg: corrupt JPEG restored and saved\n",
      "\u001b[34m\u001b[1mtrain: \u001b[0mWARNING ⚠️ /home/aashish/Downloads/Nepali-Sign-Language-Recognition/Nepali Sign Language Image Annotations (YOLOv8)/train/images/0dc52302-20231203_132137.jpg: corrupt JPEG restored and saved\n",
      "\u001b[34m\u001b[1mtrain: \u001b[0mWARNING ⚠️ /home/aashish/Downloads/Nepali-Sign-Language-Recognition/Nepali Sign Language Image Annotations (YOLOv8)/train/images/0e33a39e-20231212_142853.jpg: corrupt JPEG restored and saved\n",
      "\u001b[34m\u001b[1mtrain: \u001b[0mWARNING ⚠️ /home/aashish/Downloads/Nepali-Sign-Language-Recognition/Nepali Sign Language Image Annotations (YOLOv8)/train/images/0e522274-20231204_140311.jpg: corrupt JPEG restored and saved\n",
      "\u001b[34m\u001b[1mtrain: \u001b[0mWARNING ⚠️ /home/aashish/Downloads/Nepali-Sign-Language-Recognition/Nepali Sign Language Image Annotations (YOLOv8)/train/images/0e731b34-20231203_131733.jpg: corrupt JPEG restored and saved\n",
      "\u001b[34m\u001b[1mtrain: \u001b[0mWARNING ⚠️ /home/aashish/Downloads/Nepali-Sign-Language-Recognition/Nepali Sign Language Image Annotations (YOLOv8)/train/images/0eae3bfb-20231204_140238.jpg: corrupt JPEG restored and saved\n",
      "\u001b[34m\u001b[1mtrain: \u001b[0mWARNING ⚠️ /home/aashish/Downloads/Nepali-Sign-Language-Recognition/Nepali Sign Language Image Annotations (YOLOv8)/train/images/0ed0d962-20231203_133025.jpg: corrupt JPEG restored and saved\n",
      "\u001b[34m\u001b[1mtrain: \u001b[0mWARNING ⚠️ /home/aashish/Downloads/Nepali-Sign-Language-Recognition/Nepali Sign Language Image Annotations (YOLOv8)/train/images/0f155477-20231204_141006.jpg: corrupt JPEG restored and saved\n",
      "\u001b[34m\u001b[1mtrain: \u001b[0mWARNING ⚠️ /home/aashish/Downloads/Nepali-Sign-Language-Recognition/Nepali Sign Language Image Annotations (YOLOv8)/train/images/0f301f90-20231203_133430.jpg: corrupt JPEG restored and saved\n",
      "\u001b[34m\u001b[1mtrain: \u001b[0mWARNING ⚠️ /home/aashish/Downloads/Nepali-Sign-Language-Recognition/Nepali Sign Language Image Annotations (YOLOv8)/train/images/0f61feee-20231203_133258.jpg: corrupt JPEG restored and saved\n",
      "\u001b[34m\u001b[1mtrain: \u001b[0mWARNING ⚠️ /home/aashish/Downloads/Nepali-Sign-Language-Recognition/Nepali Sign Language Image Annotations (YOLOv8)/train/images/103b8f13-20231212_145912.jpg: corrupt JPEG restored and saved\n",
      "\u001b[34m\u001b[1mtrain: \u001b[0mWARNING ⚠️ /home/aashish/Downloads/Nepali-Sign-Language-Recognition/Nepali Sign Language Image Annotations (YOLOv8)/train/images/1073ad58-20231204_140222.jpg: corrupt JPEG restored and saved\n",
      "\u001b[34m\u001b[1mtrain: \u001b[0mWARNING ⚠️ /home/aashish/Downloads/Nepali-Sign-Language-Recognition/Nepali Sign Language Image Annotations (YOLOv8)/train/images/1073c0c1-20231204_140329.jpg: corrupt JPEG restored and saved\n",
      "\u001b[34m\u001b[1mtrain: \u001b[0mWARNING ⚠️ /home/aashish/Downloads/Nepali-Sign-Language-Recognition/Nepali Sign Language Image Annotations (YOLOv8)/train/images/10910be2-20231212_1502500.jpg: corrupt JPEG restored and saved\n",
      "\u001b[34m\u001b[1mtrain: \u001b[0mWARNING ⚠️ /home/aashish/Downloads/Nepali-Sign-Language-Recognition/Nepali Sign Language Image Annotations (YOLOv8)/train/images/10f7c5ab-20231212_144654.jpg: corrupt JPEG restored and saved\n",
      "\u001b[34m\u001b[1mtrain: \u001b[0mWARNING ⚠️ /home/aashish/Downloads/Nepali-Sign-Language-Recognition/Nepali Sign Language Image Annotations (YOLOv8)/train/images/1101d157-20231204_135457.jpg: corrupt JPEG restored and saved\n",
      "\u001b[34m\u001b[1mtrain: \u001b[0mWARNING ⚠️ /home/aashish/Downloads/Nepali-Sign-Language-Recognition/Nepali Sign Language Image Annotations (YOLOv8)/train/images/1196302b-20231204_140803.jpg: corrupt JPEG restored and saved\n",
      "\u001b[34m\u001b[1mtrain: \u001b[0mWARNING ⚠️ /home/aashish/Downloads/Nepali-Sign-Language-Recognition/Nepali Sign Language Image Annotations (YOLOv8)/train/images/11ae4166-20231212_1434300.jpg: corrupt JPEG restored and saved\n",
      "\u001b[34m\u001b[1mtrain: \u001b[0mWARNING ⚠️ /home/aashish/Downloads/Nepali-Sign-Language-Recognition/Nepali Sign Language Image Annotations (YOLOv8)/train/images/11f9e43b-20231204_140720.jpg: corrupt JPEG restored and saved\n",
      "\u001b[34m\u001b[1mtrain: \u001b[0mWARNING ⚠️ /home/aashish/Downloads/Nepali-Sign-Language-Recognition/Nepali Sign Language Image Annotations (YOLOv8)/train/images/121db7aa-20231204_130906.jpg: corrupt JPEG restored and saved\n",
      "\u001b[34m\u001b[1mtrain: \u001b[0mWARNING ⚠️ /home/aashish/Downloads/Nepali-Sign-Language-Recognition/Nepali Sign Language Image Annotations (YOLOv8)/train/images/1258be44-20231212_134938.jpg: corrupt JPEG restored and saved\n",
      "\u001b[34m\u001b[1mtrain: \u001b[0mWARNING ⚠️ /home/aashish/Downloads/Nepali-Sign-Language-Recognition/Nepali Sign Language Image Annotations (YOLOv8)/train/images/129deb2c-20231203_125205.jpg: corrupt JPEG restored and saved\n",
      "\u001b[34m\u001b[1mtrain: \u001b[0mWARNING ⚠️ /home/aashish/Downloads/Nepali-Sign-Language-Recognition/Nepali Sign Language Image Annotations (YOLOv8)/train/images/12e8f7b4-20231203_1353010.jpg: corrupt JPEG restored and saved\n",
      "\u001b[34m\u001b[1mtrain: \u001b[0mWARNING ⚠️ /home/aashish/Downloads/Nepali-Sign-Language-Recognition/Nepali Sign Language Image Annotations (YOLOv8)/train/images/1310cd19-20231204_140541.jpg: corrupt JPEG restored and saved\n",
      "\u001b[34m\u001b[1mtrain: \u001b[0mWARNING ⚠️ /home/aashish/Downloads/Nepali-Sign-Language-Recognition/Nepali Sign Language Image Annotations (YOLOv8)/train/images/137f8e75-20231212_1420210.jpg: corrupt JPEG restored and saved\n",
      "\u001b[34m\u001b[1mtrain: \u001b[0mWARNING ⚠️ /home/aashish/Downloads/Nepali-Sign-Language-Recognition/Nepali Sign Language Image Annotations (YOLOv8)/train/images/139a2c36-20231212_150422.jpg: corrupt JPEG restored and saved\n",
      "\u001b[34m\u001b[1mtrain: \u001b[0mWARNING ⚠️ /home/aashish/Downloads/Nepali-Sign-Language-Recognition/Nepali Sign Language Image Annotations (YOLOv8)/train/images/13e9b79d-20231204_141128.jpg: corrupt JPEG restored and saved\n",
      "\u001b[34m\u001b[1mtrain: \u001b[0mWARNING ⚠️ /home/aashish/Downloads/Nepali-Sign-Language-Recognition/Nepali Sign Language Image Annotations (YOLOv8)/train/images/13fd9dda-20231203_131659.jpg: corrupt JPEG restored and saved\n",
      "\u001b[34m\u001b[1mtrain: \u001b[0mWARNING ⚠️ /home/aashish/Downloads/Nepali-Sign-Language-Recognition/Nepali Sign Language Image Annotations (YOLOv8)/train/images/144cbe72-20231212_144914.jpg: corrupt JPEG restored and saved\n",
      "\u001b[34m\u001b[1mtrain: \u001b[0mWARNING ⚠️ /home/aashish/Downloads/Nepali-Sign-Language-Recognition/Nepali Sign Language Image Annotations (YOLOv8)/train/images/1457c18a-20231212_145340.jpg: corrupt JPEG restored and saved\n",
      "\u001b[34m\u001b[1mtrain: \u001b[0mWARNING ⚠️ /home/aashish/Downloads/Nepali-Sign-Language-Recognition/Nepali Sign Language Image Annotations (YOLOv8)/train/images/1485c44d-20231212_134956.jpg: corrupt JPEG restored and saved\n",
      "\u001b[34m\u001b[1mtrain: \u001b[0mWARNING ⚠️ /home/aashish/Downloads/Nepali-Sign-Language-Recognition/Nepali Sign Language Image Annotations (YOLOv8)/train/images/14ae5202-20231203_134834.jpg: corrupt JPEG restored and saved\n",
      "\u001b[34m\u001b[1mtrain: \u001b[0mWARNING ⚠️ /home/aashish/Downloads/Nepali-Sign-Language-Recognition/Nepali Sign Language Image Annotations (YOLOv8)/train/images/14cabfbb-20231204_141209.jpg: corrupt JPEG restored and saved\n",
      "\u001b[34m\u001b[1mtrain: \u001b[0mWARNING ⚠️ /home/aashish/Downloads/Nepali-Sign-Language-Recognition/Nepali Sign Language Image Annotations (YOLOv8)/train/images/14cbe97b-20231212_1434150.jpg: corrupt JPEG restored and saved\n",
      "\u001b[34m\u001b[1mtrain: \u001b[0mWARNING ⚠️ /home/aashish/Downloads/Nepali-Sign-Language-Recognition/Nepali Sign Language Image Annotations (YOLOv8)/train/images/152d7676-20231212_1426540.jpg: corrupt JPEG restored and saved\n",
      "\u001b[34m\u001b[1mtrain: \u001b[0mWARNING ⚠️ /home/aashish/Downloads/Nepali-Sign-Language-Recognition/Nepali Sign Language Image Annotations (YOLOv8)/train/images/1577c8b2-20231203_1252040.jpg: corrupt JPEG restored and saved\n",
      "\u001b[34m\u001b[1mtrain: \u001b[0mWARNING ⚠️ /home/aashish/Downloads/Nepali-Sign-Language-Recognition/Nepali Sign Language Image Annotations (YOLOv8)/train/images/158e2006-20231212_141854.jpg: corrupt JPEG restored and saved\n",
      "\u001b[34m\u001b[1mtrain: \u001b[0mWARNING ⚠️ /home/aashish/Downloads/Nepali-Sign-Language-Recognition/Nepali Sign Language Image Annotations (YOLOv8)/train/images/15f5ac37-20231212_134909.jpg: corrupt JPEG restored and saved\n",
      "\u001b[34m\u001b[1mtrain: \u001b[0mWARNING ⚠️ /home/aashish/Downloads/Nepali-Sign-Language-Recognition/Nepali Sign Language Image Annotations (YOLOv8)/train/images/166f9bb1-20231203_124958.jpg: corrupt JPEG restored and saved\n",
      "\u001b[34m\u001b[1mtrain: \u001b[0mWARNING ⚠️ /home/aashish/Downloads/Nepali-Sign-Language-Recognition/Nepali Sign Language Image Annotations (YOLOv8)/train/images/1687e11f-20231203_1313020.jpg: corrupt JPEG restored and saved\n",
      "\u001b[34m\u001b[1mtrain: \u001b[0mWARNING ⚠️ /home/aashish/Downloads/Nepali-Sign-Language-Recognition/Nepali Sign Language Image Annotations (YOLOv8)/train/images/16ec704c-20231204_140221.jpg: corrupt JPEG restored and saved\n",
      "\u001b[34m\u001b[1mtrain: \u001b[0mWARNING ⚠️ /home/aashish/Downloads/Nepali-Sign-Language-Recognition/Nepali Sign Language Image Annotations (YOLOv8)/train/images/1702c48f-20231212_142506.jpg: corrupt JPEG restored and saved\n",
      "\u001b[34m\u001b[1mtrain: \u001b[0mWARNING ⚠️ /home/aashish/Downloads/Nepali-Sign-Language-Recognition/Nepali Sign Language Image Annotations (YOLOv8)/train/images/179a10bc-20231204_1423010.jpg: corrupt JPEG restored and saved\n",
      "\u001b[34m\u001b[1mtrain: \u001b[0mWARNING ⚠️ /home/aashish/Downloads/Nepali-Sign-Language-Recognition/Nepali Sign Language Image Annotations (YOLOv8)/train/images/17ee6832-20231203_1317220.jpg: corrupt JPEG restored and saved\n",
      "\u001b[34m\u001b[1mtrain: \u001b[0mWARNING ⚠️ /home/aashish/Downloads/Nepali-Sign-Language-Recognition/Nepali Sign Language Image Annotations (YOLOv8)/train/images/17fcf0fd-20231204_141426.jpg: corrupt JPEG restored and saved\n",
      "\u001b[34m\u001b[1mtrain: \u001b[0mWARNING ⚠️ /home/aashish/Downloads/Nepali-Sign-Language-Recognition/Nepali Sign Language Image Annotations (YOLOv8)/train/images/18247911-20231204_140825.jpg: corrupt JPEG restored and saved\n",
      "\u001b[34m\u001b[1mtrain: \u001b[0mWARNING ⚠️ /home/aashish/Downloads/Nepali-Sign-Language-Recognition/Nepali Sign Language Image Annotations (YOLOv8)/train/images/186363c0-20231212_145341.jpg: corrupt JPEG restored and saved\n",
      "\u001b[34m\u001b[1mtrain: \u001b[0mWARNING ⚠️ /home/aashish/Downloads/Nepali-Sign-Language-Recognition/Nepali Sign Language Image Annotations (YOLOv8)/train/images/187440da-20231212_142539.jpg: corrupt JPEG restored and saved\n",
      "\u001b[34m\u001b[1mtrain: \u001b[0mWARNING ⚠️ /home/aashish/Downloads/Nepali-Sign-Language-Recognition/Nepali Sign Language Image Annotations (YOLOv8)/train/images/189cd5e2-20231204_141127.jpg: corrupt JPEG restored and saved\n",
      "\u001b[34m\u001b[1mtrain: \u001b[0mWARNING ⚠️ /home/aashish/Downloads/Nepali-Sign-Language-Recognition/Nepali Sign Language Image Annotations (YOLOv8)/train/images/190193c9-20231203_1256280.jpg: corrupt JPEG restored and saved\n",
      "\u001b[34m\u001b[1mtrain: \u001b[0mWARNING ⚠️ /home/aashish/Downloads/Nepali-Sign-Language-Recognition/Nepali Sign Language Image Annotations (YOLOv8)/train/images/197eaf38-20231204_143041.jpg: corrupt JPEG restored and saved\n",
      "\u001b[34m\u001b[1mtrain: \u001b[0mWARNING ⚠️ /home/aashish/Downloads/Nepali-Sign-Language-Recognition/Nepali Sign Language Image Annotations (YOLOv8)/train/images/1988eb00-20231203_125924.jpg: corrupt JPEG restored and saved\n",
      "\u001b[34m\u001b[1mtrain: \u001b[0mWARNING ⚠️ /home/aashish/Downloads/Nepali-Sign-Language-Recognition/Nepali Sign Language Image Annotations (YOLOv8)/train/images/19a42e38-20231204_1353400.jpg: corrupt JPEG restored and saved\n",
      "\u001b[34m\u001b[1mtrain: \u001b[0mWARNING ⚠️ /home/aashish/Downloads/Nepali-Sign-Language-Recognition/Nepali Sign Language Image Annotations (YOLOv8)/train/images/19abd325-20231212_1449570.jpg: corrupt JPEG restored and saved\n",
      "\u001b[34m\u001b[1mtrain: \u001b[0mWARNING ⚠️ /home/aashish/Downloads/Nepali-Sign-Language-Recognition/Nepali Sign Language Image Annotations (YOLOv8)/train/images/19e29414-20231212_145231.jpg: corrupt JPEG restored and saved\n",
      "\u001b[34m\u001b[1mtrain: \u001b[0mWARNING ⚠️ /home/aashish/Downloads/Nepali-Sign-Language-Recognition/Nepali Sign Language Image Annotations (YOLOv8)/train/images/19f4d7a3-20231203_133719.jpg: corrupt JPEG restored and saved\n",
      "\u001b[34m\u001b[1mtrain: \u001b[0mWARNING ⚠️ /home/aashish/Downloads/Nepali-Sign-Language-Recognition/Nepali Sign Language Image Annotations (YOLOv8)/train/images/1af1315f-20231204_141122.jpg: corrupt JPEG restored and saved\n",
      "\u001b[34m\u001b[1mtrain: \u001b[0mWARNING ⚠️ /home/aashish/Downloads/Nepali-Sign-Language-Recognition/Nepali Sign Language Image Annotations (YOLOv8)/train/images/1b2b51cf-20231204_142720.jpg: corrupt JPEG restored and saved\n",
      "\u001b[34m\u001b[1mtrain: \u001b[0mWARNING ⚠️ /home/aashish/Downloads/Nepali-Sign-Language-Recognition/Nepali Sign Language Image Annotations (YOLOv8)/train/images/1b6b70c0-20231203_130004.jpg: corrupt JPEG restored and saved\n",
      "\u001b[34m\u001b[1mtrain: \u001b[0mWARNING ⚠️ /home/aashish/Downloads/Nepali-Sign-Language-Recognition/Nepali Sign Language Image Annotations (YOLOv8)/train/images/1bb5a797-20231204_1318190.jpg: corrupt JPEG restored and saved\n",
      "\u001b[34m\u001b[1mtrain: \u001b[0mWARNING ⚠️ /home/aashish/Downloads/Nepali-Sign-Language-Recognition/Nepali Sign Language Image Annotations (YOLOv8)/train/images/1c078a8a-20231203_132601.jpg: corrupt JPEG restored and saved\n",
      "\u001b[34m\u001b[1mtrain: \u001b[0mWARNING ⚠️ /home/aashish/Downloads/Nepali-Sign-Language-Recognition/Nepali Sign Language Image Annotations (YOLOv8)/train/images/1c9f2f7e-20231203_1332400.jpg: corrupt JPEG restored and saved\n",
      "\u001b[34m\u001b[1mtrain: \u001b[0mWARNING ⚠️ /home/aashish/Downloads/Nepali-Sign-Language-Recognition/Nepali Sign Language Image Annotations (YOLOv8)/train/images/1d34516d-20231212_145404.jpg: corrupt JPEG restored and saved\n",
      "\u001b[34m\u001b[1mtrain: \u001b[0mWARNING ⚠️ /home/aashish/Downloads/Nepali-Sign-Language-Recognition/Nepali Sign Language Image Annotations (YOLOv8)/train/images/1d541b63-20231203_125628.jpg: corrupt JPEG restored and saved\n",
      "\u001b[34m\u001b[1mtrain: \u001b[0mWARNING ⚠️ /home/aashish/Downloads/Nepali-Sign-Language-Recognition/Nepali Sign Language Image Annotations (YOLOv8)/train/images/1d903165-20231204_141939.jpg: corrupt JPEG restored and saved\n",
      "\u001b[34m\u001b[1mtrain: \u001b[0mWARNING ⚠️ /home/aashish/Downloads/Nepali-Sign-Language-Recognition/Nepali Sign Language Image Annotations (YOLOv8)/train/images/1e143b4a-20231203_124846.jpg: corrupt JPEG restored and saved\n",
      "\u001b[34m\u001b[1mtrain: \u001b[0mWARNING ⚠️ /home/aashish/Downloads/Nepali-Sign-Language-Recognition/Nepali Sign Language Image Annotations (YOLOv8)/train/images/1e24f81f-20231212_143415.jpg: corrupt JPEG restored and saved\n",
      "\u001b[34m\u001b[1mtrain: \u001b[0mWARNING ⚠️ /home/aashish/Downloads/Nepali-Sign-Language-Recognition/Nepali Sign Language Image Annotations (YOLOv8)/train/images/1e5ecac0-20231203_125859.jpg: corrupt JPEG restored and saved\n",
      "\u001b[34m\u001b[1mtrain: \u001b[0mWARNING ⚠️ /home/aashish/Downloads/Nepali-Sign-Language-Recognition/Nepali Sign Language Image Annotations (YOLOv8)/train/images/1ec1ec7c-20231212_150022.jpg: corrupt JPEG restored and saved\n",
      "\u001b[34m\u001b[1mtrain: \u001b[0mWARNING ⚠️ /home/aashish/Downloads/Nepali-Sign-Language-Recognition/Nepali Sign Language Image Annotations (YOLOv8)/train/images/1eff065c-20231204_143511.jpg: corrupt JPEG restored and saved\n",
      "\u001b[34m\u001b[1mtrain: \u001b[0mWARNING ⚠️ /home/aashish/Downloads/Nepali-Sign-Language-Recognition/Nepali Sign Language Image Annotations (YOLOv8)/train/images/1f7cc5f0-20231204_143001.jpg: corrupt JPEG restored and saved\n",
      "\u001b[34m\u001b[1mtrain: \u001b[0mWARNING ⚠️ /home/aashish/Downloads/Nepali-Sign-Language-Recognition/Nepali Sign Language Image Annotations (YOLOv8)/train/images/2017b0a9-20231204_141452.jpg: corrupt JPEG restored and saved\n",
      "\u001b[34m\u001b[1mtrain: \u001b[0mWARNING ⚠️ /home/aashish/Downloads/Nepali-Sign-Language-Recognition/Nepali Sign Language Image Annotations (YOLOv8)/train/images/20333cf9-20231203_134958.jpg: corrupt JPEG restored and saved\n",
      "\u001b[34m\u001b[1mtrain: \u001b[0mWARNING ⚠️ /home/aashish/Downloads/Nepali-Sign-Language-Recognition/Nepali Sign Language Image Annotations (YOLOv8)/train/images/204bdc49-20231204_143137.jpg: corrupt JPEG restored and saved\n",
      "\u001b[34m\u001b[1mtrain: \u001b[0mWARNING ⚠️ /home/aashish/Downloads/Nepali-Sign-Language-Recognition/Nepali Sign Language Image Annotations (YOLOv8)/train/images/207a2c5a-20231203_125543.jpg: corrupt JPEG restored and saved\n",
      "\u001b[34m\u001b[1mtrain: \u001b[0mWARNING ⚠️ /home/aashish/Downloads/Nepali-Sign-Language-Recognition/Nepali Sign Language Image Annotations (YOLOv8)/train/images/20ea050d-20231203_1313100.jpg: corrupt JPEG restored and saved\n",
      "\u001b[34m\u001b[1mtrain: \u001b[0mWARNING ⚠️ /home/aashish/Downloads/Nepali-Sign-Language-Recognition/Nepali Sign Language Image Annotations (YOLOv8)/train/images/21168e0d-20231203_131744.jpg: corrupt JPEG restored and saved\n",
      "\u001b[34m\u001b[1mtrain: \u001b[0mWARNING ⚠️ /home/aashish/Downloads/Nepali-Sign-Language-Recognition/Nepali Sign Language Image Annotations (YOLOv8)/train/images/212725a3-20231203_1352010.jpg: corrupt JPEG restored and saved\n",
      "\u001b[34m\u001b[1mtrain: \u001b[0mWARNING ⚠️ /home/aashish/Downloads/Nepali-Sign-Language-Recognition/Nepali Sign Language Image Annotations (YOLOv8)/train/images/2153a610-20231204_143338.jpg: corrupt JPEG restored and saved\n",
      "\u001b[34m\u001b[1mtrain: \u001b[0mWARNING ⚠️ /home/aashish/Downloads/Nepali-Sign-Language-Recognition/Nepali Sign Language Image Annotations (YOLOv8)/train/images/22059dbf-20231212_145018.jpg: corrupt JPEG restored and saved\n",
      "\u001b[34m\u001b[1mtrain: \u001b[0mWARNING ⚠️ /home/aashish/Downloads/Nepali-Sign-Language-Recognition/Nepali Sign Language Image Annotations (YOLOv8)/train/images/2227e497-20231203_132520.jpg: corrupt JPEG restored and saved\n",
      "\u001b[34m\u001b[1mtrain: \u001b[0mWARNING ⚠️ /home/aashish/Downloads/Nepali-Sign-Language-Recognition/Nepali Sign Language Image Annotations (YOLOv8)/train/images/229b7a17-20231203_125823.jpg: corrupt JPEG restored and saved\n",
      "\u001b[34m\u001b[1mtrain: \u001b[0mWARNING ⚠️ /home/aashish/Downloads/Nepali-Sign-Language-Recognition/Nepali Sign Language Image Annotations (YOLOv8)/train/images/2300172c-20231212_143200.jpg: corrupt JPEG restored and saved\n",
      "\u001b[34m\u001b[1mtrain: \u001b[0mWARNING ⚠️ /home/aashish/Downloads/Nepali-Sign-Language-Recognition/Nepali Sign Language Image Annotations (YOLOv8)/train/images/230b3e60-20231212_1347200.jpg: corrupt JPEG restored and saved\n",
      "\u001b[34m\u001b[1mtrain: \u001b[0mWARNING ⚠️ /home/aashish/Downloads/Nepali-Sign-Language-Recognition/Nepali Sign Language Image Annotations (YOLOv8)/train/images/231b001a-20231204_141346.jpg: corrupt JPEG restored and saved\n",
      "\u001b[34m\u001b[1mtrain: \u001b[0mWARNING ⚠️ /home/aashish/Downloads/Nepali-Sign-Language-Recognition/Nepali Sign Language Image Annotations (YOLOv8)/train/images/23ce7c9c-20231203_132330.jpg: corrupt JPEG restored and saved\n",
      "\u001b[34m\u001b[1mtrain: \u001b[0mWARNING ⚠️ /home/aashish/Downloads/Nepali-Sign-Language-Recognition/Nepali Sign Language Image Annotations (YOLOv8)/train/images/23d63a37-20231203_132056.jpg: corrupt JPEG restored and saved\n",
      "\u001b[34m\u001b[1mtrain: \u001b[0mWARNING ⚠️ /home/aashish/Downloads/Nepali-Sign-Language-Recognition/Nepali Sign Language Image Annotations (YOLOv8)/train/images/23da08bf-20231203_134502.jpg: corrupt JPEG restored and saved\n",
      "\u001b[34m\u001b[1mtrain: \u001b[0mWARNING ⚠️ /home/aashish/Downloads/Nepali-Sign-Language-Recognition/Nepali Sign Language Image Annotations (YOLOv8)/train/images/240c2694-20231204_135251.jpg: corrupt JPEG restored and saved\n",
      "\u001b[34m\u001b[1mtrain: \u001b[0mWARNING ⚠️ /home/aashish/Downloads/Nepali-Sign-Language-Recognition/Nepali Sign Language Image Annotations (YOLOv8)/train/images/241b926b-20231212_142958.jpg: corrupt JPEG restored and saved\n",
      "\u001b[34m\u001b[1mtrain: \u001b[0mWARNING ⚠️ /home/aashish/Downloads/Nepali-Sign-Language-Recognition/Nepali Sign Language Image Annotations (YOLOv8)/train/images/2425e7c2-20231212_142957.jpg: corrupt JPEG restored and saved\n",
      "\u001b[34m\u001b[1mtrain: \u001b[0mWARNING ⚠️ /home/aashish/Downloads/Nepali-Sign-Language-Recognition/Nepali Sign Language Image Annotations (YOLOv8)/train/images/243c9462-20231212_141843.jpg: corrupt JPEG restored and saved\n",
      "\u001b[34m\u001b[1mtrain: \u001b[0mWARNING ⚠️ /home/aashish/Downloads/Nepali-Sign-Language-Recognition/Nepali Sign Language Image Annotations (YOLOv8)/train/images/2499bf69-20231212_1432360.jpg: corrupt JPEG restored and saved\n",
      "\u001b[34m\u001b[1mtrain: \u001b[0mWARNING ⚠️ /home/aashish/Downloads/Nepali-Sign-Language-Recognition/Nepali Sign Language Image Annotations (YOLOv8)/train/images/24be1af0-20231212_145303.jpg: corrupt JPEG restored and saved\n",
      "\u001b[34m\u001b[1mtrain: \u001b[0mWARNING ⚠️ /home/aashish/Downloads/Nepali-Sign-Language-Recognition/Nepali Sign Language Image Annotations (YOLOv8)/train/images/24d63e11-20231204_143522.jpg: corrupt JPEG restored and saved\n",
      "\u001b[34m\u001b[1mtrain: \u001b[0mWARNING ⚠️ /home/aashish/Downloads/Nepali-Sign-Language-Recognition/Nepali Sign Language Image Annotations (YOLOv8)/train/images/251bddce-20231212_1434410.jpg: corrupt JPEG restored and saved\n",
      "\u001b[34m\u001b[1mtrain: \u001b[0mWARNING ⚠️ /home/aashish/Downloads/Nepali-Sign-Language-Recognition/Nepali Sign Language Image Annotations (YOLOv8)/train/images/2520a697-20231203_1316590.jpg: corrupt JPEG restored and saved\n",
      "\u001b[34m\u001b[1mtrain: \u001b[0mWARNING ⚠️ /home/aashish/Downloads/Nepali-Sign-Language-Recognition/Nepali Sign Language Image Annotations (YOLOv8)/train/images/2562aaa1-20231204_143535.jpg: corrupt JPEG restored and saved\n",
      "\u001b[34m\u001b[1mtrain: \u001b[0mWARNING ⚠️ /home/aashish/Downloads/Nepali-Sign-Language-Recognition/Nepali Sign Language Image Annotations (YOLOv8)/train/images/2566eb82-20231212_145452.jpg: corrupt JPEG restored and saved\n",
      "\u001b[34m\u001b[1mtrain: \u001b[0mWARNING ⚠️ /home/aashish/Downloads/Nepali-Sign-Language-Recognition/Nepali Sign Language Image Annotations (YOLOv8)/train/images/25786f43-20231203_1312420.jpg: corrupt JPEG restored and saved\n",
      "\u001b[34m\u001b[1mtrain: \u001b[0mWARNING ⚠️ /home/aashish/Downloads/Nepali-Sign-Language-Recognition/Nepali Sign Language Image Annotations (YOLOv8)/train/images/259cadd1-20231212_143735.jpg: corrupt JPEG restored and saved\n",
      "\u001b[34m\u001b[1mtrain: \u001b[0mWARNING ⚠️ /home/aashish/Downloads/Nepali-Sign-Language-Recognition/Nepali Sign Language Image Annotations (YOLOv8)/train/images/25ad8c26-20231204_140800.jpg: corrupt JPEG restored and saved\n",
      "\u001b[34m\u001b[1mtrain: \u001b[0mWARNING ⚠️ /home/aashish/Downloads/Nepali-Sign-Language-Recognition/Nepali Sign Language Image Annotations (YOLOv8)/train/images/26042745-20231203_1338060.jpg: corrupt JPEG restored and saved\n",
      "\u001b[34m\u001b[1mtrain: \u001b[0mWARNING ⚠️ /home/aashish/Downloads/Nepali-Sign-Language-Recognition/Nepali Sign Language Image Annotations (YOLOv8)/train/images/2614f569-20231212_142134.jpg: corrupt JPEG restored and saved\n",
      "\u001b[34m\u001b[1mtrain: \u001b[0mWARNING ⚠️ /home/aashish/Downloads/Nepali-Sign-Language-Recognition/Nepali Sign Language Image Annotations (YOLOv8)/train/images/27852c80-20231204_141327.jpg: corrupt JPEG restored and saved\n",
      "\u001b[34m\u001b[1mtrain: \u001b[0mWARNING ⚠️ /home/aashish/Downloads/Nepali-Sign-Language-Recognition/Nepali Sign Language Image Annotations (YOLOv8)/train/images/2789c36e-20231203_133453.jpg: corrupt JPEG restored and saved\n",
      "\u001b[34m\u001b[1mtrain: \u001b[0mWARNING ⚠️ /home/aashish/Downloads/Nepali-Sign-Language-Recognition/Nepali Sign Language Image Annotations (YOLOv8)/train/images/278a3870-20231204_140812.jpg: corrupt JPEG restored and saved\n",
      "\u001b[34m\u001b[1mtrain: \u001b[0mWARNING ⚠️ /home/aashish/Downloads/Nepali-Sign-Language-Recognition/Nepali Sign Language Image Annotations (YOLOv8)/train/images/27e01341-20231203_131348.jpg: corrupt JPEG restored and saved\n",
      "\u001b[34m\u001b[1mtrain: \u001b[0mWARNING ⚠️ /home/aashish/Downloads/Nepali-Sign-Language-Recognition/Nepali Sign Language Image Annotations (YOLOv8)/train/images/28bfecd5-20231203_125108.jpg: corrupt JPEG restored and saved\n",
      "\u001b[34m\u001b[1mtrain: \u001b[0mWARNING ⚠️ /home/aashish/Downloads/Nepali-Sign-Language-Recognition/Nepali Sign Language Image Annotations (YOLOv8)/train/images/28e6db8a-20231204_1313100.jpg: corrupt JPEG restored and saved\n",
      "\u001b[34m\u001b[1mtrain: \u001b[0mWARNING ⚠️ /home/aashish/Downloads/Nepali-Sign-Language-Recognition/Nepali Sign Language Image Annotations (YOLOv8)/train/images/28f58276-20231204_141430.jpg: corrupt JPEG restored and saved\n",
      "\u001b[34m\u001b[1mtrain: \u001b[0mWARNING ⚠️ /home/aashish/Downloads/Nepali-Sign-Language-Recognition/Nepali Sign Language Image Annotations (YOLOv8)/train/images/28fc9fc9-20231203_132702.jpg: corrupt JPEG restored and saved\n",
      "\u001b[34m\u001b[1mtrain: \u001b[0mWARNING ⚠️ /home/aashish/Downloads/Nepali-Sign-Language-Recognition/Nepali Sign Language Image Annotations (YOLOv8)/train/images/2902a00c-20231212_142555.jpg: corrupt JPEG restored and saved\n",
      "\u001b[34m\u001b[1mtrain: \u001b[0mWARNING ⚠️ /home/aashish/Downloads/Nepali-Sign-Language-Recognition/Nepali Sign Language Image Annotations (YOLOv8)/train/images/293632a3-20231204_141225.jpg: corrupt JPEG restored and saved\n",
      "\u001b[34m\u001b[1mtrain: \u001b[0mWARNING ⚠️ /home/aashish/Downloads/Nepali-Sign-Language-Recognition/Nepali Sign Language Image Annotations (YOLOv8)/train/images/2943f83c-20231204_1435510.jpg: corrupt JPEG restored and saved\n",
      "\u001b[34m\u001b[1mtrain: \u001b[0mWARNING ⚠️ /home/aashish/Downloads/Nepali-Sign-Language-Recognition/Nepali Sign Language Image Annotations (YOLOv8)/train/images/2965f2de-20231212_1451380.jpg: corrupt JPEG restored and saved\n",
      "\u001b[34m\u001b[1mtrain: \u001b[0mWARNING ⚠️ /home/aashish/Downloads/Nepali-Sign-Language-Recognition/Nepali Sign Language Image Annotations (YOLOv8)/train/images/2976e5c9-20231204_142835.jpg: corrupt JPEG restored and saved\n",
      "\u001b[34m\u001b[1mtrain: \u001b[0mWARNING ⚠️ /home/aashish/Downloads/Nepali-Sign-Language-Recognition/Nepali Sign Language Image Annotations (YOLOv8)/train/images/298dc3bf-20231203_134657.jpg: corrupt JPEG restored and saved\n",
      "\u001b[34m\u001b[1mtrain: \u001b[0mWARNING ⚠️ /home/aashish/Downloads/Nepali-Sign-Language-Recognition/Nepali Sign Language Image Annotations (YOLOv8)/train/images/29d6279d-20231212_142247.jpg: corrupt JPEG restored and saved\n",
      "\u001b[34m\u001b[1mtrain: \u001b[0mWARNING ⚠️ /home/aashish/Downloads/Nepali-Sign-Language-Recognition/Nepali Sign Language Image Annotations (YOLOv8)/train/images/2a201b6f-20231204_142932.jpg: corrupt JPEG restored and saved\n",
      "\u001b[34m\u001b[1mtrain: \u001b[0mWARNING ⚠️ /home/aashish/Downloads/Nepali-Sign-Language-Recognition/Nepali Sign Language Image Annotations (YOLOv8)/train/images/2a75c97c-20231203_134513.jpg: corrupt JPEG restored and saved\n",
      "\u001b[34m\u001b[1mtrain: \u001b[0mWARNING ⚠️ /home/aashish/Downloads/Nepali-Sign-Language-Recognition/Nepali Sign Language Image Annotations (YOLOv8)/train/images/2a975630-20231212_141721.jpg: corrupt JPEG restored and saved\n",
      "\u001b[34m\u001b[1mtrain: \u001b[0mWARNING ⚠️ /home/aashish/Downloads/Nepali-Sign-Language-Recognition/Nepali Sign Language Image Annotations (YOLOv8)/train/images/2b33e12b-20231204_135910.jpg: corrupt JPEG restored and saved\n",
      "\u001b[34m\u001b[1mtrain: \u001b[0mWARNING ⚠️ /home/aashish/Downloads/Nepali-Sign-Language-Recognition/Nepali Sign Language Image Annotations (YOLOv8)/train/images/2b5cf721-20231212_144358.jpg: corrupt JPEG restored and saved\n",
      "\u001b[34m\u001b[1mtrain: \u001b[0mWARNING ⚠️ /home/aashish/Downloads/Nepali-Sign-Language-Recognition/Nepali Sign Language Image Annotations (YOLOv8)/train/images/2bb33b60-20231203_1248360.jpg: corrupt JPEG restored and saved\n",
      "\u001b[34m\u001b[1mtrain: \u001b[0mWARNING ⚠️ /home/aashish/Downloads/Nepali-Sign-Language-Recognition/Nepali Sign Language Image Annotations (YOLOv8)/train/images/2bd94a8e-20231212_141942.jpg: corrupt JPEG restored and saved\n",
      "\u001b[34m\u001b[1mtrain: \u001b[0mWARNING ⚠️ /home/aashish/Downloads/Nepali-Sign-Language-Recognition/Nepali Sign Language Image Annotations (YOLOv8)/train/images/2bf3a4e4-20231203_125407.jpg: corrupt JPEG restored and saved\n",
      "\u001b[34m\u001b[1mtrain: \u001b[0mWARNING ⚠️ /home/aashish/Downloads/Nepali-Sign-Language-Recognition/Nepali Sign Language Image Annotations (YOLOv8)/train/images/2c4d0b57-20231204_130603.jpg: corrupt JPEG restored and saved\n",
      "\u001b[34m\u001b[1mtrain: \u001b[0mWARNING ⚠️ /home/aashish/Downloads/Nepali-Sign-Language-Recognition/Nepali Sign Language Image Annotations (YOLOv8)/train/images/2c50b9e0-20231212_150249.jpg: corrupt JPEG restored and saved\n",
      "\u001b[34m\u001b[1mtrain: \u001b[0mWARNING ⚠️ /home/aashish/Downloads/Nepali-Sign-Language-Recognition/Nepali Sign Language Image Annotations (YOLOv8)/train/images/2c9053be-20231204_1307530.jpg: corrupt JPEG restored and saved\n",
      "\u001b[34m\u001b[1mtrain: \u001b[0mWARNING ⚠️ /home/aashish/Downloads/Nepali-Sign-Language-Recognition/Nepali Sign Language Image Annotations (YOLOv8)/train/images/2cffbd2e-20231204_142317.jpg: corrupt JPEG restored and saved\n",
      "\u001b[34m\u001b[1mtrain: \u001b[0mWARNING ⚠️ /home/aashish/Downloads/Nepali-Sign-Language-Recognition/Nepali Sign Language Image Annotations (YOLOv8)/train/images/2d1e3393-20231204_131119.jpg: corrupt JPEG restored and saved\n",
      "\u001b[34m\u001b[1mtrain: \u001b[0mWARNING ⚠️ /home/aashish/Downloads/Nepali-Sign-Language-Recognition/Nepali Sign Language Image Annotations (YOLOv8)/train/images/2d577da9-20231203_1320400.jpg: corrupt JPEG restored and saved\n",
      "\u001b[34m\u001b[1mtrain: \u001b[0mWARNING ⚠️ /home/aashish/Downloads/Nepali-Sign-Language-Recognition/Nepali Sign Language Image Annotations (YOLOv8)/train/images/2d677831-20231203_1248460.jpg: corrupt JPEG restored and saved\n",
      "\u001b[34m\u001b[1mtrain: \u001b[0mWARNING ⚠️ /home/aashish/Downloads/Nepali-Sign-Language-Recognition/Nepali Sign Language Image Annotations (YOLOv8)/train/images/2d87c501-20231203_124903.jpg: corrupt JPEG restored and saved\n",
      "\u001b[34m\u001b[1mtrain: \u001b[0mWARNING ⚠️ /home/aashish/Downloads/Nepali-Sign-Language-Recognition/Nepali Sign Language Image Annotations (YOLOv8)/train/images/2dccd705-20231204_131644.jpg: corrupt JPEG restored and saved\n",
      "\u001b[34m\u001b[1mtrain: \u001b[0mWARNING ⚠️ /home/aashish/Downloads/Nepali-Sign-Language-Recognition/Nepali Sign Language Image Annotations (YOLOv8)/train/images/2df0b0ac-20231203_133442.jpg: corrupt JPEG restored and saved\n",
      "\u001b[34m\u001b[1mtrain: \u001b[0mWARNING ⚠️ /home/aashish/Downloads/Nepali-Sign-Language-Recognition/Nepali Sign Language Image Annotations (YOLOv8)/train/images/2dfe5789-20231212_1459460.jpg: corrupt JPEG restored and saved\n",
      "\u001b[34m\u001b[1mtrain: \u001b[0mWARNING ⚠️ /home/aashish/Downloads/Nepali-Sign-Language-Recognition/Nepali Sign Language Image Annotations (YOLOv8)/train/images/2e4d503f-20231204_1312370.jpg: corrupt JPEG restored and saved\n",
      "\u001b[34m\u001b[1mtrain: \u001b[0mWARNING ⚠️ /home/aashish/Downloads/Nepali-Sign-Language-Recognition/Nepali Sign Language Image Annotations (YOLOv8)/train/images/2ea4a8b7-20231204_140228.jpg: corrupt JPEG restored and saved\n",
      "\u001b[34m\u001b[1mtrain: \u001b[0mWARNING ⚠️ /home/aashish/Downloads/Nepali-Sign-Language-Recognition/Nepali Sign Language Image Annotations (YOLOv8)/train/images/2ea861b6-20231204_143337.jpg: corrupt JPEG restored and saved\n",
      "\u001b[34m\u001b[1mtrain: \u001b[0mWARNING ⚠️ /home/aashish/Downloads/Nepali-Sign-Language-Recognition/Nepali Sign Language Image Annotations (YOLOv8)/train/images/2ec8577d-20231203_125240.jpg: corrupt JPEG restored and saved\n",
      "\u001b[34m\u001b[1mtrain: \u001b[0mWARNING ⚠️ /home/aashish/Downloads/Nepali-Sign-Language-Recognition/Nepali Sign Language Image Annotations (YOLOv8)/train/images/2ed50f67-20231204_143604.jpg: corrupt JPEG restored and saved\n",
      "\u001b[34m\u001b[1mtrain: \u001b[0mWARNING ⚠️ /home/aashish/Downloads/Nepali-Sign-Language-Recognition/Nepali Sign Language Image Annotations (YOLOv8)/train/images/2f3ef45b-20231204_142011.jpg: corrupt JPEG restored and saved\n",
      "\u001b[34m\u001b[1mtrain: \u001b[0mWARNING ⚠️ /home/aashish/Downloads/Nepali-Sign-Language-Recognition/Nepali Sign Language Image Annotations (YOLOv8)/train/images/2f6d26f1-20231203_133538.jpg: corrupt JPEG restored and saved\n",
      "\u001b[34m\u001b[1mtrain: \u001b[0mWARNING ⚠️ /home/aashish/Downloads/Nepali-Sign-Language-Recognition/Nepali Sign Language Image Annotations (YOLOv8)/train/images/2f6ee027-20231204_131212.jpg: corrupt JPEG restored and saved\n",
      "\u001b[34m\u001b[1mtrain: \u001b[0mWARNING ⚠️ /home/aashish/Downloads/Nepali-Sign-Language-Recognition/Nepali Sign Language Image Annotations (YOLOv8)/train/images/2f8d6ef1-20231203_131947.jpg: corrupt JPEG restored and saved\n",
      "\u001b[34m\u001b[1mtrain: \u001b[0mWARNING ⚠️ /home/aashish/Downloads/Nepali-Sign-Language-Recognition/Nepali Sign Language Image Annotations (YOLOv8)/train/images/2fabbf09-20231203_133727.jpg: corrupt JPEG restored and saved\n",
      "\u001b[34m\u001b[1mtrain: \u001b[0mWARNING ⚠️ /home/aashish/Downloads/Nepali-Sign-Language-Recognition/Nepali Sign Language Image Annotations (YOLOv8)/train/images/2fdc3a25-20231204_135614.jpg: corrupt JPEG restored and saved\n",
      "\u001b[34m\u001b[1mtrain: \u001b[0mWARNING ⚠️ /home/aashish/Downloads/Nepali-Sign-Language-Recognition/Nepali Sign Language Image Annotations (YOLOv8)/train/images/2feed1b9-20231203_133735.jpg: corrupt JPEG restored and saved\n",
      "\u001b[34m\u001b[1mtrain: \u001b[0mWARNING ⚠️ /home/aashish/Downloads/Nepali-Sign-Language-Recognition/Nepali Sign Language Image Annotations (YOLOv8)/train/images/302bfaaa-20231212_1417550.jpg: corrupt JPEG restored and saved\n",
      "\u001b[34m\u001b[1mtrain: \u001b[0mWARNING ⚠️ /home/aashish/Downloads/Nepali-Sign-Language-Recognition/Nepali Sign Language Image Annotations (YOLOv8)/train/images/3057343b-20231203_1345020.jpg: corrupt JPEG restored and saved\n",
      "\u001b[34m\u001b[1mtrain: \u001b[0mWARNING ⚠️ /home/aashish/Downloads/Nepali-Sign-Language-Recognition/Nepali Sign Language Image Annotations (YOLOv8)/train/images/31420f4a-20231204_1306020.jpg: corrupt JPEG restored and saved\n",
      "\u001b[34m\u001b[1mtrain: \u001b[0mWARNING ⚠️ /home/aashish/Downloads/Nepali-Sign-Language-Recognition/Nepali Sign Language Image Annotations (YOLOv8)/train/images/31ba34e7-20231203_134523.jpg: corrupt JPEG restored and saved\n",
      "\u001b[34m\u001b[1mtrain: \u001b[0mWARNING ⚠️ /home/aashish/Downloads/Nepali-Sign-Language-Recognition/Nepali Sign Language Image Annotations (YOLOv8)/train/images/32442a6c-20231203_131734.jpg: corrupt JPEG restored and saved\n",
      "\u001b[34m\u001b[1mtrain: \u001b[0mWARNING ⚠️ /home/aashish/Downloads/Nepali-Sign-Language-Recognition/Nepali Sign Language Image Annotations (YOLOv8)/train/images/32a94847-20231203_134904.jpg: corrupt JPEG restored and saved\n",
      "\u001b[34m\u001b[1mtrain: \u001b[0mWARNING ⚠️ /home/aashish/Downloads/Nepali-Sign-Language-Recognition/Nepali Sign Language Image Annotations (YOLOv8)/train/images/32abb186-20231212_1350210.jpg: corrupt JPEG restored and saved\n",
      "\u001b[34m\u001b[1mtrain: \u001b[0mWARNING ⚠️ /home/aashish/Downloads/Nepali-Sign-Language-Recognition/Nepali Sign Language Image Annotations (YOLOv8)/train/images/32b5018b-20231204_142413.jpg: corrupt JPEG restored and saved\n",
      "\u001b[34m\u001b[1mtrain: \u001b[0mWARNING ⚠️ /home/aashish/Downloads/Nepali-Sign-Language-Recognition/Nepali Sign Language Image Annotations (YOLOv8)/train/images/32d665ec-20231204_142402.jpg: corrupt JPEG restored and saved\n",
      "\u001b[34m\u001b[1mtrain: \u001b[0mWARNING ⚠️ /home/aashish/Downloads/Nepali-Sign-Language-Recognition/Nepali Sign Language Image Annotations (YOLOv8)/train/images/32deaf6e-20231212_1450190.jpg: corrupt JPEG restored and saved\n",
      "\u001b[34m\u001b[1mtrain: \u001b[0mWARNING ⚠️ /home/aashish/Downloads/Nepali-Sign-Language-Recognition/Nepali Sign Language Image Annotations (YOLOv8)/train/images/330a09a6-20231203_130620.jpg: corrupt JPEG restored and saved\n",
      "\u001b[34m\u001b[1mtrain: \u001b[0mWARNING ⚠️ /home/aashish/Downloads/Nepali-Sign-Language-Recognition/Nepali Sign Language Image Annotations (YOLOv8)/train/images/3325e881-20231212_145749.jpg: corrupt JPEG restored and saved\n",
      "\u001b[34m\u001b[1mtrain: \u001b[0mWARNING ⚠️ /home/aashish/Downloads/Nepali-Sign-Language-Recognition/Nepali Sign Language Image Annotations (YOLOv8)/train/images/3333fc14-20231204_140259.jpg: corrupt JPEG restored and saved\n",
      "\u001b[34m\u001b[1mtrain: \u001b[0mWARNING ⚠️ /home/aashish/Downloads/Nepali-Sign-Language-Recognition/Nepali Sign Language Image Annotations (YOLOv8)/train/images/333cd364-20231204_1402590.jpg: corrupt JPEG restored and saved\n",
      "\u001b[34m\u001b[1mtrain: \u001b[0mWARNING ⚠️ /home/aashish/Downloads/Nepali-Sign-Language-Recognition/Nepali Sign Language Image Annotations (YOLOv8)/train/images/33dec9ba-20231212_142037.jpg: corrupt JPEG restored and saved\n",
      "\u001b[34m\u001b[1mtrain: \u001b[0mWARNING ⚠️ /home/aashish/Downloads/Nepali-Sign-Language-Recognition/Nepali Sign Language Image Annotations (YOLOv8)/train/images/34165126-20231212_1449130.jpg: corrupt JPEG restored and saved\n",
      "\u001b[34m\u001b[1mtrain: \u001b[0mWARNING ⚠️ /home/aashish/Downloads/Nepali-Sign-Language-Recognition/Nepali Sign Language Image Annotations (YOLOv8)/train/images/3422f28e-20231204_1407220.jpg: corrupt JPEG restored and saved\n",
      "\u001b[34m\u001b[1mtrain: \u001b[0mWARNING ⚠️ /home/aashish/Downloads/Nepali-Sign-Language-Recognition/Nepali Sign Language Image Annotations (YOLOv8)/train/images/3594b7ed-20231203_134512.jpg: corrupt JPEG restored and saved\n",
      "\u001b[34m\u001b[1mtrain: \u001b[0mWARNING ⚠️ /home/aashish/Downloads/Nepali-Sign-Language-Recognition/Nepali Sign Language Image Annotations (YOLOv8)/train/images/35b76fab-20231203_125136.jpg: corrupt JPEG restored and saved\n",
      "\u001b[34m\u001b[1mtrain: \u001b[0mWARNING ⚠️ /home/aashish/Downloads/Nepali-Sign-Language-Recognition/Nepali Sign Language Image Annotations (YOLOv8)/train/images/35bfb5d8-20231212_145657.jpg: corrupt JPEG restored and saved\n",
      "\u001b[34m\u001b[1mtrain: \u001b[0mWARNING ⚠️ /home/aashish/Downloads/Nepali-Sign-Language-Recognition/Nepali Sign Language Image Annotations (YOLOv8)/train/images/35d094ce-20231212_142000.jpg: corrupt JPEG restored and saved\n",
      "\u001b[34m\u001b[1mtrain: \u001b[0mWARNING ⚠️ /home/aashish/Downloads/Nepali-Sign-Language-Recognition/Nepali Sign Language Image Annotations (YOLOv8)/train/images/35f4904d-20231203_132804.jpg: corrupt JPEG restored and saved\n",
      "\u001b[34m\u001b[1mtrain: \u001b[0mWARNING ⚠️ /home/aashish/Downloads/Nepali-Sign-Language-Recognition/Nepali Sign Language Image Annotations (YOLOv8)/train/images/36005ddb-20231203_125401.jpg: corrupt JPEG restored and saved\n",
      "\u001b[34m\u001b[1mtrain: \u001b[0mWARNING ⚠️ /home/aashish/Downloads/Nepali-Sign-Language-Recognition/Nepali Sign Language Image Annotations (YOLOv8)/train/images/369f40b0-20231203_125052.jpg: corrupt JPEG restored and saved\n",
      "\u001b[34m\u001b[1mtrain: \u001b[0mWARNING ⚠️ /home/aashish/Downloads/Nepali-Sign-Language-Recognition/Nepali Sign Language Image Annotations (YOLOv8)/train/images/36a0b76d-20231204_1436040.jpg: corrupt JPEG restored and saved\n",
      "\u001b[34m\u001b[1mtrain: \u001b[0mWARNING ⚠️ /home/aashish/Downloads/Nepali-Sign-Language-Recognition/Nepali Sign Language Image Annotations (YOLOv8)/train/images/36efda68-20231204_140436.jpg: corrupt JPEG restored and saved\n",
      "\u001b[34m\u001b[1mtrain: \u001b[0mWARNING ⚠️ /home/aashish/Downloads/Nepali-Sign-Language-Recognition/Nepali Sign Language Image Annotations (YOLOv8)/train/images/36f93045-20231203_131415.jpg: corrupt JPEG restored and saved\n",
      "\u001b[34m\u001b[1mtrain: \u001b[0mWARNING ⚠️ /home/aashish/Downloads/Nepali-Sign-Language-Recognition/Nepali Sign Language Image Annotations (YOLOv8)/train/images/3700f06f-20231203_134745.jpg: corrupt JPEG restored and saved\n",
      "\u001b[34m\u001b[1mtrain: \u001b[0mWARNING ⚠️ /home/aashish/Downloads/Nepali-Sign-Language-Recognition/Nepali Sign Language Image Annotations (YOLOv8)/train/images/3710e66a-20231212_142820.jpg: corrupt JPEG restored and saved\n",
      "\u001b[34m\u001b[1mtrain: \u001b[0mWARNING ⚠️ /home/aashish/Downloads/Nepali-Sign-Language-Recognition/Nepali Sign Language Image Annotations (YOLOv8)/train/images/375cc8e0-20231212_134829.jpg: corrupt JPEG restored and saved\n",
      "\u001b[34m\u001b[1mtrain: \u001b[0mWARNING ⚠️ /home/aashish/Downloads/Nepali-Sign-Language-Recognition/Nepali Sign Language Image Annotations (YOLOv8)/train/images/37af7836-20231204_143536.jpg: corrupt JPEG restored and saved\n",
      "\u001b[34m\u001b[1mtrain: \u001b[0mWARNING ⚠️ /home/aashish/Downloads/Nepali-Sign-Language-Recognition/Nepali Sign Language Image Annotations (YOLOv8)/train/images/37d46649-20231212_150114.jpg: corrupt JPEG restored and saved\n",
      "\u001b[34m\u001b[1mtrain: \u001b[0mWARNING ⚠️ /home/aashish/Downloads/Nepali-Sign-Language-Recognition/Nepali Sign Language Image Annotations (YOLOv8)/train/images/38202b42-20231203_1248240.jpg: corrupt JPEG restored and saved\n",
      "\u001b[34m\u001b[1mtrain: \u001b[0mWARNING ⚠️ /home/aashish/Downloads/Nepali-Sign-Language-Recognition/Nepali Sign Language Image Annotations (YOLOv8)/train/images/38215978-20231203_125155.jpg: corrupt JPEG restored and saved\n",
      "\u001b[34m\u001b[1mtrain: \u001b[0mWARNING ⚠️ /home/aashish/Downloads/Nepali-Sign-Language-Recognition/Nepali Sign Language Image Annotations (YOLOv8)/train/images/38c97efe-20231203_124932.jpg: corrupt JPEG restored and saved\n",
      "\u001b[34m\u001b[1mtrain: \u001b[0mWARNING ⚠️ /home/aashish/Downloads/Nepali-Sign-Language-Recognition/Nepali Sign Language Image Annotations (YOLOv8)/train/images/38da2038-20231204_140355.jpg: corrupt JPEG restored and saved\n",
      "\u001b[34m\u001b[1mtrain: \u001b[0mWARNING ⚠️ /home/aashish/Downloads/Nepali-Sign-Language-Recognition/Nepali Sign Language Image Annotations (YOLOv8)/train/images/38e7dd23-20231212_142505.jpg: corrupt JPEG restored and saved\n",
      "\u001b[34m\u001b[1mtrain: \u001b[0mWARNING ⚠️ /home/aashish/Downloads/Nepali-Sign-Language-Recognition/Nepali Sign Language Image Annotations (YOLOv8)/train/images/38f5628e-20231212_134721.jpg: corrupt JPEG restored and saved\n",
      "\u001b[34m\u001b[1mtrain: \u001b[0mWARNING ⚠️ /home/aashish/Downloads/Nepali-Sign-Language-Recognition/Nepali Sign Language Image Annotations (YOLOv8)/train/images/399c1072-20231204_140729.jpg: corrupt JPEG restored and saved\n",
      "\u001b[34m\u001b[1mtrain: \u001b[0mWARNING ⚠️ /home/aashish/Downloads/Nepali-Sign-Language-Recognition/Nepali Sign Language Image Annotations (YOLOv8)/train/images/399e80e3-20231204_141450.jpg: corrupt JPEG restored and saved\n",
      "\u001b[34m\u001b[1mtrain: \u001b[0mWARNING ⚠️ /home/aashish/Downloads/Nepali-Sign-Language-Recognition/Nepali Sign Language Image Annotations (YOLOv8)/train/images/39b9576f-20231203_134823.jpg: corrupt JPEG restored and saved\n",
      "\u001b[34m\u001b[1mtrain: \u001b[0mWARNING ⚠️ /home/aashish/Downloads/Nepali-Sign-Language-Recognition/Nepali Sign Language Image Annotations (YOLOv8)/train/images/39c8a0ac-20231203_131937.jpg: corrupt JPEG restored and saved\n",
      "\u001b[34m\u001b[1mtrain: \u001b[0mWARNING ⚠️ /home/aashish/Downloads/Nepali-Sign-Language-Recognition/Nepali Sign Language Image Annotations (YOLOv8)/train/images/3a2d4cbd-20231212_150250.jpg: corrupt JPEG restored and saved\n",
      "\u001b[34m\u001b[1mtrain: \u001b[0mWARNING ⚠️ /home/aashish/Downloads/Nepali-Sign-Language-Recognition/Nepali Sign Language Image Annotations (YOLOv8)/train/images/3a81f697-20231203_132328.jpg: corrupt JPEG restored and saved\n",
      "\u001b[34m\u001b[1mtrain: \u001b[0mWARNING ⚠️ /home/aashish/Downloads/Nepali-Sign-Language-Recognition/Nepali Sign Language Image Annotations (YOLOv8)/train/images/3aa2cf58-20231212_145200.jpg: corrupt JPEG restored and saved\n",
      "\u001b[34m\u001b[1mtrain: \u001b[0mWARNING ⚠️ /home/aashish/Downloads/Nepali-Sign-Language-Recognition/Nepali Sign Language Image Annotations (YOLOv8)/train/images/3aee26fe-20231204_1430340.jpg: corrupt JPEG restored and saved\n",
      "\u001b[34m\u001b[1mtrain: \u001b[0mWARNING ⚠️ /home/aashish/Downloads/Nepali-Sign-Language-Recognition/Nepali Sign Language Image Annotations (YOLOv8)/train/images/3b49f493-20231212_1444140.jpg: corrupt JPEG restored and saved\n",
      "\u001b[34m\u001b[1mtrain: \u001b[0mWARNING ⚠️ /home/aashish/Downloads/Nepali-Sign-Language-Recognition/Nepali Sign Language Image Annotations (YOLOv8)/train/images/3bb0eaf5-20231212_1418430.jpg: corrupt JPEG restored and saved\n",
      "\u001b[34m\u001b[1mtrain: \u001b[0mWARNING ⚠️ /home/aashish/Downloads/Nepali-Sign-Language-Recognition/Nepali Sign Language Image Annotations (YOLOv8)/train/images/3becaf74-20231203_132057.jpg: corrupt JPEG restored and saved\n",
      "\u001b[34m\u001b[1mtrain: \u001b[0mWARNING ⚠️ /home/aashish/Downloads/Nepali-Sign-Language-Recognition/Nepali Sign Language Image Annotations (YOLOv8)/train/images/3c20332e-20231203_132631.jpg: corrupt JPEG restored and saved\n",
      "\u001b[34m\u001b[1mtrain: \u001b[0mWARNING ⚠️ /home/aashish/Downloads/Nepali-Sign-Language-Recognition/Nepali Sign Language Image Annotations (YOLOv8)/train/images/3c39efbf-20231204_131357.jpg: corrupt JPEG restored and saved\n",
      "\u001b[34m\u001b[1mtrain: \u001b[0mWARNING ⚠️ /home/aashish/Downloads/Nepali-Sign-Language-Recognition/Nepali Sign Language Image Annotations (YOLOv8)/train/images/3c8f8250-20231204_140319.jpg: corrupt JPEG restored and saved\n",
      "\u001b[34m\u001b[1mtrain: \u001b[0mWARNING ⚠️ /home/aashish/Downloads/Nepali-Sign-Language-Recognition/Nepali Sign Language Image Annotations (YOLOv8)/train/images/3db88101-20231212_1423230.jpg: corrupt JPEG restored and saved\n",
      "\u001b[34m\u001b[1mtrain: \u001b[0mWARNING ⚠️ /home/aashish/Downloads/Nepali-Sign-Language-Recognition/Nepali Sign Language Image Annotations (YOLOv8)/train/images/3e37802b-20231203_1348220.jpg: corrupt JPEG restored and saved\n",
      "\u001b[34m\u001b[1mtrain: \u001b[0mWARNING ⚠️ /home/aashish/Downloads/Nepali-Sign-Language-Recognition/Nepali Sign Language Image Annotations (YOLOv8)/train/images/3e4424e3-20231203_131404.jpg: corrupt JPEG restored and saved\n",
      "\u001b[34m\u001b[1mtrain: \u001b[0mWARNING ⚠️ /home/aashish/Downloads/Nepali-Sign-Language-Recognition/Nepali Sign Language Image Annotations (YOLOv8)/train/images/3e4c9c2c-20231212_1425170.jpg: corrupt JPEG restored and saved\n",
      "\u001b[34m\u001b[1mtrain: \u001b[0mWARNING ⚠️ /home/aashish/Downloads/Nepali-Sign-Language-Recognition/Nepali Sign Language Image Annotations (YOLOv8)/train/images/3e5959dd-20231203_132820.jpg: corrupt JPEG restored and saved\n",
      "\u001b[34m\u001b[1mtrain: \u001b[0mWARNING ⚠️ /home/aashish/Downloads/Nepali-Sign-Language-Recognition/Nepali Sign Language Image Annotations (YOLOv8)/train/images/3e805db7-20231203_133419.jpg: corrupt JPEG restored and saved\n",
      "\u001b[34m\u001b[1mtrain: \u001b[0mWARNING ⚠️ /home/aashish/Downloads/Nepali-Sign-Language-Recognition/Nepali Sign Language Image Annotations (YOLOv8)/train/images/3eaeb2bd-20231204_140250.jpg: corrupt JPEG restored and saved\n",
      "\u001b[34m\u001b[1mtrain: \u001b[0mWARNING ⚠️ /home/aashish/Downloads/Nepali-Sign-Language-Recognition/Nepali Sign Language Image Annotations (YOLOv8)/train/images/3ef932bc-20231212_134908.jpg: corrupt JPEG restored and saved\n",
      "\u001b[34m\u001b[1mtrain: \u001b[0mWARNING ⚠️ /home/aashish/Downloads/Nepali-Sign-Language-Recognition/Nepali Sign Language Image Annotations (YOLOv8)/train/images/3efe3b13-20231212_144934.jpg: corrupt JPEG restored and saved\n",
      "\u001b[34m\u001b[1mtrain: \u001b[0mWARNING ⚠️ /home/aashish/Downloads/Nepali-Sign-Language-Recognition/Nepali Sign Language Image Annotations (YOLOv8)/train/images/3f383363-20231212_144615.jpg: corrupt JPEG restored and saved\n",
      "\u001b[34m\u001b[1mtrain: \u001b[0mWARNING ⚠️ /home/aashish/Downloads/Nepali-Sign-Language-Recognition/Nepali Sign Language Image Annotations (YOLOv8)/train/images/3f8fb410-20231204_1430220.jpg: corrupt JPEG restored and saved\n",
      "\u001b[34m\u001b[1mtrain: \u001b[0mWARNING ⚠️ /home/aashish/Downloads/Nepali-Sign-Language-Recognition/Nepali Sign Language Image Annotations (YOLOv8)/train/images/3fab12db-20231204_141030.jpg: corrupt JPEG restored and saved\n",
      "\u001b[34m\u001b[1mtrain: \u001b[0mWARNING ⚠️ /home/aashish/Downloads/Nepali-Sign-Language-Recognition/Nepali Sign Language Image Annotations (YOLOv8)/train/images/3fd5befb-20231212_150424.jpg: corrupt JPEG restored and saved\n",
      "\u001b[34m\u001b[1mtrain: \u001b[0mWARNING ⚠️ /home/aashish/Downloads/Nepali-Sign-Language-Recognition/Nepali Sign Language Image Annotations (YOLOv8)/train/images/407360d6-20231212_141559.jpg: corrupt JPEG restored and saved\n",
      "\u001b[34m\u001b[1mtrain: \u001b[0mWARNING ⚠️ /home/aashish/Downloads/Nepali-Sign-Language-Recognition/Nepali Sign Language Image Annotations (YOLOv8)/train/images/40869d14-20231212_141740.jpg: corrupt JPEG restored and saved\n",
      "\u001b[34m\u001b[1mtrain: \u001b[0mWARNING ⚠️ /home/aashish/Downloads/Nepali-Sign-Language-Recognition/Nepali Sign Language Image Annotations (YOLOv8)/train/images/40d26151-20231203_133920.jpg: corrupt JPEG restored and saved\n",
      "\u001b[34m\u001b[1mtrain: \u001b[0mWARNING ⚠️ /home/aashish/Downloads/Nepali-Sign-Language-Recognition/Nepali Sign Language Image Annotations (YOLOv8)/train/images/410acfd9-20231204_141005.jpg: corrupt JPEG restored and saved\n",
      "\u001b[34m\u001b[1mtrain: \u001b[0mWARNING ⚠️ /home/aashish/Downloads/Nepali-Sign-Language-Recognition/Nepali Sign Language Image Annotations (YOLOv8)/train/images/416477e3-20231203_133338.jpg: corrupt JPEG restored and saved\n",
      "\u001b[34m\u001b[1mtrain: \u001b[0mWARNING ⚠️ /home/aashish/Downloads/Nepali-Sign-Language-Recognition/Nepali Sign Language Image Annotations (YOLOv8)/train/images/41663142-20231212_145405.jpg: corrupt JPEG restored and saved\n",
      "\u001b[34m\u001b[1mtrain: \u001b[0mWARNING ⚠️ /home/aashish/Downloads/Nepali-Sign-Language-Recognition/Nepali Sign Language Image Annotations (YOLOv8)/train/images/41e2cf8f-20231203_133616.jpg: corrupt JPEG restored and saved\n",
      "\u001b[34m\u001b[1mtrain: \u001b[0mWARNING ⚠️ /home/aashish/Downloads/Nepali-Sign-Language-Recognition/Nepali Sign Language Image Annotations (YOLOv8)/train/images/41e36f26-20231203_135022.jpg: corrupt JPEG restored and saved\n",
      "\u001b[34m\u001b[1mtrain: \u001b[0mWARNING ⚠️ /home/aashish/Downloads/Nepali-Sign-Language-Recognition/Nepali Sign Language Image Annotations (YOLOv8)/train/images/41efa39f-20231204_135328.jpg: corrupt JPEG restored and saved\n",
      "\u001b[34m\u001b[1mtrain: \u001b[0mWARNING ⚠️ /home/aashish/Downloads/Nepali-Sign-Language-Recognition/Nepali Sign Language Image Annotations (YOLOv8)/train/images/41f369fb-20231212_141610.jpg: corrupt JPEG restored and saved\n",
      "\u001b[34m\u001b[1mtrain: \u001b[0mWARNING ⚠️ /home/aashish/Downloads/Nepali-Sign-Language-Recognition/Nepali Sign Language Image Annotations (YOLOv8)/train/images/4211143b-20231203_133921.jpg: corrupt JPEG restored and saved\n",
      "\u001b[34m\u001b[1mtrain: \u001b[0mWARNING ⚠️ /home/aashish/Downloads/Nepali-Sign-Language-Recognition/Nepali Sign Language Image Annotations (YOLOv8)/train/images/42583d80-20231212_144146.jpg: corrupt JPEG restored and saved\n",
      "\u001b[34m\u001b[1mtrain: \u001b[0mWARNING ⚠️ /home/aashish/Downloads/Nepali-Sign-Language-Recognition/Nepali Sign Language Image Annotations (YOLOv8)/train/images/426d1039-20231212_142413.jpg: corrupt JPEG restored and saved\n",
      "\u001b[34m\u001b[1mtrain: \u001b[0mWARNING ⚠️ /home/aashish/Downloads/Nepali-Sign-Language-Recognition/Nepali Sign Language Image Annotations (YOLOv8)/train/images/42782e2d-20231203_131837.jpg: corrupt JPEG restored and saved\n",
      "\u001b[34m\u001b[1mtrain: \u001b[0mWARNING ⚠️ /home/aashish/Downloads/Nepali-Sign-Language-Recognition/Nepali Sign Language Image Annotations (YOLOv8)/train/images/42972679-20231203_130723.jpg: corrupt JPEG restored and saved\n",
      "\u001b[34m\u001b[1mtrain: \u001b[0mWARNING ⚠️ /home/aashish/Downloads/Nepali-Sign-Language-Recognition/Nepali Sign Language Image Annotations (YOLOv8)/train/images/42e923ee-20231212_1429470.jpg: corrupt JPEG restored and saved\n",
      "\u001b[34m\u001b[1mtrain: \u001b[0mWARNING ⚠️ /home/aashish/Downloads/Nepali-Sign-Language-Recognition/Nepali Sign Language Image Annotations (YOLOv8)/train/images/43279ca2-20231203_1323170.jpg: corrupt JPEG restored and saved\n",
      "\u001b[34m\u001b[1mtrain: \u001b[0mWARNING ⚠️ /home/aashish/Downloads/Nepali-Sign-Language-Recognition/Nepali Sign Language Image Annotations (YOLOv8)/train/images/438dae33-20231204_1406040.jpg: corrupt JPEG restored and saved\n",
      "\u001b[34m\u001b[1mtrain: \u001b[0mWARNING ⚠️ /home/aashish/Downloads/Nepali-Sign-Language-Recognition/Nepali Sign Language Image Annotations (YOLOv8)/train/images/43a15d6c-20231212_143809.jpg: corrupt JPEG restored and saved\n",
      "\u001b[34m\u001b[1mtrain: \u001b[0mWARNING ⚠️ /home/aashish/Downloads/Nepali-Sign-Language-Recognition/Nepali Sign Language Image Annotations (YOLOv8)/train/images/441e690a-20231212_143008.jpg: corrupt JPEG restored and saved\n",
      "\u001b[34m\u001b[1mtrain: \u001b[0mWARNING ⚠️ /home/aashish/Downloads/Nepali-Sign-Language-Recognition/Nepali Sign Language Image Annotations (YOLOv8)/train/images/446f280b-20231204_130753.jpg: corrupt JPEG restored and saved\n",
      "\u001b[34m\u001b[1mtrain: \u001b[0mWARNING ⚠️ /home/aashish/Downloads/Nepali-Sign-Language-Recognition/Nepali Sign Language Image Annotations (YOLOv8)/train/images/44aeee23-20231204_141140.jpg: corrupt JPEG restored and saved\n",
      "\u001b[34m\u001b[1mtrain: \u001b[0mWARNING ⚠️ /home/aashish/Downloads/Nepali-Sign-Language-Recognition/Nepali Sign Language Image Annotations (YOLOv8)/train/images/44bfb27a-20231203_1347420.jpg: corrupt JPEG restored and saved\n",
      "\u001b[34m\u001b[1mtrain: \u001b[0mWARNING ⚠️ /home/aashish/Downloads/Nepali-Sign-Language-Recognition/Nepali Sign Language Image Annotations (YOLOv8)/train/images/44f18d9a-20231212_1422380.jpg: corrupt JPEG restored and saved\n",
      "\u001b[34m\u001b[1mtrain: \u001b[0mWARNING ⚠️ /home/aashish/Downloads/Nepali-Sign-Language-Recognition/Nepali Sign Language Image Annotations (YOLOv8)/train/images/4543feb8-20231203_134934.jpg: corrupt JPEG restored and saved\n",
      "\u001b[34m\u001b[1mtrain: \u001b[0mWARNING ⚠️ /home/aashish/Downloads/Nepali-Sign-Language-Recognition/Nepali Sign Language Image Annotations (YOLOv8)/train/images/459335b2-20231203_1324350.jpg: corrupt JPEG restored and saved\n",
      "\u001b[34m\u001b[1mtrain: \u001b[0mWARNING ⚠️ /home/aashish/Downloads/Nepali-Sign-Language-Recognition/Nepali Sign Language Image Annotations (YOLOv8)/train/images/45f3bde5-20231203_125903.jpg: corrupt JPEG restored and saved\n",
      "\u001b[34m\u001b[1mtrain: \u001b[0mWARNING ⚠️ /home/aashish/Downloads/Nepali-Sign-Language-Recognition/Nepali Sign Language Image Annotations (YOLOv8)/train/images/4617e5b9-20231212_1502410.jpg: corrupt JPEG restored and saved\n",
      "\u001b[34m\u001b[1mtrain: \u001b[0mWARNING ⚠️ /home/aashish/Downloads/Nepali-Sign-Language-Recognition/Nepali Sign Language Image Annotations (YOLOv8)/train/images/4663c856-20231212_143236.jpg: corrupt JPEG restored and saved\n",
      "\u001b[34m\u001b[1mtrain: \u001b[0mWARNING ⚠️ /home/aashish/Downloads/Nepali-Sign-Language-Recognition/Nepali Sign Language Image Annotations (YOLOv8)/train/images/46cb5d3e-20231204_1402380.jpg: corrupt JPEG restored and saved\n",
      "\u001b[34m\u001b[1mtrain: \u001b[0mWARNING ⚠️ /home/aashish/Downloads/Nepali-Sign-Language-Recognition/Nepali Sign Language Image Annotations (YOLOv8)/train/images/46e12b67-20231203_132641.jpg: corrupt JPEG restored and saved\n",
      "\u001b[34m\u001b[1mtrain: \u001b[0mWARNING ⚠️ /home/aashish/Downloads/Nepali-Sign-Language-Recognition/Nepali Sign Language Image Annotations (YOLOv8)/train/images/46f31e68-20231212_1352570.jpg: corrupt JPEG restored and saved\n",
      "\u001b[34m\u001b[1mtrain: \u001b[0mWARNING ⚠️ /home/aashish/Downloads/Nepali-Sign-Language-Recognition/Nepali Sign Language Image Annotations (YOLOv8)/train/images/4782d536-20231203_134450.jpg: corrupt JPEG restored and saved\n",
      "\u001b[34m\u001b[1mtrain: \u001b[0mWARNING ⚠️ /home/aashish/Downloads/Nepali-Sign-Language-Recognition/Nepali Sign Language Image Annotations (YOLOv8)/train/images/483390e1-20231203_133807.jpg: corrupt JPEG restored and saved\n",
      "\u001b[34m\u001b[1mtrain: \u001b[0mWARNING ⚠️ /home/aashish/Downloads/Nepali-Sign-Language-Recognition/Nepali Sign Language Image Annotations (YOLOv8)/train/images/483a31ef-20231204_142115.jpg: corrupt JPEG restored and saved\n",
      "\u001b[34m\u001b[1mtrain: \u001b[0mWARNING ⚠️ /home/aashish/Downloads/Nepali-Sign-Language-Recognition/Nepali Sign Language Image Annotations (YOLOv8)/train/images/486360f2-20231203_125316.jpg: corrupt JPEG restored and saved\n",
      "\u001b[34m\u001b[1mtrain: \u001b[0mWARNING ⚠️ /home/aashish/Downloads/Nepali-Sign-Language-Recognition/Nepali Sign Language Image Annotations (YOLOv8)/train/images/4886cc04-20231203_134942.jpg: corrupt JPEG restored and saved\n",
      "\u001b[34m\u001b[1mtrain: \u001b[0mWARNING ⚠️ /home/aashish/Downloads/Nepali-Sign-Language-Recognition/Nepali Sign Language Image Annotations (YOLOv8)/train/images/4916a5e5-20231204_140705.jpg: corrupt JPEG restored and saved\n",
      "\u001b[34m\u001b[1mtrain: \u001b[0mWARNING ⚠️ /home/aashish/Downloads/Nepali-Sign-Language-Recognition/Nepali Sign Language Image Annotations (YOLOv8)/train/images/495f79dc-20231203_133131.jpg: corrupt JPEG restored and saved\n",
      "\u001b[34m\u001b[1mtrain: \u001b[0mWARNING ⚠️ /home/aashish/Downloads/Nepali-Sign-Language-Recognition/Nepali Sign Language Image Annotations (YOLOv8)/train/images/496ff6ea-20231204_141907.jpg: corrupt JPEG restored and saved\n",
      "\u001b[34m\u001b[1mtrain: \u001b[0mWARNING ⚠️ /home/aashish/Downloads/Nepali-Sign-Language-Recognition/Nepali Sign Language Image Annotations (YOLOv8)/train/images/4a02c941-20231203_133339.jpg: corrupt JPEG restored and saved\n",
      "\u001b[34m\u001b[1mtrain: \u001b[0mWARNING ⚠️ /home/aashish/Downloads/Nepali-Sign-Language-Recognition/Nepali Sign Language Image Annotations (YOLOv8)/train/images/4a16cd91-20231204_1413460.jpg: corrupt JPEG restored and saved\n",
      "\u001b[34m\u001b[1mtrain: \u001b[0mWARNING ⚠️ /home/aashish/Downloads/Nepali-Sign-Language-Recognition/Nepali Sign Language Image Annotations (YOLOv8)/train/images/4aabbf3b-20231212_143359.jpg: corrupt JPEG restored and saved\n",
      "\u001b[34m\u001b[1mtrain: \u001b[0mWARNING ⚠️ /home/aashish/Downloads/Nepali-Sign-Language-Recognition/Nepali Sign Language Image Annotations (YOLOv8)/train/images/4b53e722-20231204_143530.jpg: corrupt JPEG restored and saved\n",
      "\u001b[34m\u001b[1mtrain: \u001b[0mWARNING ⚠️ /home/aashish/Downloads/Nepali-Sign-Language-Recognition/Nepali Sign Language Image Annotations (YOLOv8)/train/images/4b74f3fa-20231203_132630.jpg: corrupt JPEG restored and saved\n",
      "\u001b[34m\u001b[1mtrain: \u001b[0mWARNING ⚠️ /home/aashish/Downloads/Nepali-Sign-Language-Recognition/Nepali Sign Language Image Annotations (YOLOv8)/train/images/4b8dea30-20231204_131338.jpg: corrupt JPEG restored and saved\n",
      "\u001b[34m\u001b[1mtrain: \u001b[0mWARNING ⚠️ /home/aashish/Downloads/Nepali-Sign-Language-Recognition/Nepali Sign Language Image Annotations (YOLOv8)/train/images/4bfa3c24-20231203_125125.jpg: corrupt JPEG restored and saved\n",
      "\u001b[34m\u001b[1mtrain: \u001b[0mWARNING ⚠️ /home/aashish/Downloads/Nepali-Sign-Language-Recognition/Nepali Sign Language Image Annotations (YOLOv8)/train/images/4c0ca3b6-20231204_143537.jpg: corrupt JPEG restored and saved\n",
      "\u001b[34m\u001b[1mtrain: \u001b[0mWARNING ⚠️ /home/aashish/Downloads/Nepali-Sign-Language-Recognition/Nepali Sign Language Image Annotations (YOLOv8)/train/images/4c33c9ab-20231203_131722.jpg: corrupt JPEG restored and saved\n",
      "\u001b[34m\u001b[1mtrain: \u001b[0mWARNING ⚠️ /home/aashish/Downloads/Nepali-Sign-Language-Recognition/Nepali Sign Language Image Annotations (YOLOv8)/train/images/4c71df5f-20231203_125053.jpg: corrupt JPEG restored and saved\n",
      "\u001b[34m\u001b[1mtrain: \u001b[0mWARNING ⚠️ /home/aashish/Downloads/Nepali-Sign-Language-Recognition/Nepali Sign Language Image Annotations (YOLOv8)/train/images/4ca46acf-20231212_1421060.jpg: corrupt JPEG restored and saved\n",
      "\u001b[34m\u001b[1mtrain: \u001b[0mWARNING ⚠️ /home/aashish/Downloads/Nepali-Sign-Language-Recognition/Nepali Sign Language Image Annotations (YOLOv8)/train/images/4cbfe2b8-20231203_131711.jpg: corrupt JPEG restored and saved\n",
      "\u001b[34m\u001b[1mtrain: \u001b[0mWARNING ⚠️ /home/aashish/Downloads/Nepali-Sign-Language-Recognition/Nepali Sign Language Image Annotations (YOLOv8)/train/images/4ce371da-20231204_142147.jpg: corrupt JPEG restored and saved\n",
      "\u001b[34m\u001b[1mtrain: \u001b[0mWARNING ⚠️ /home/aashish/Downloads/Nepali-Sign-Language-Recognition/Nepali Sign Language Image Annotations (YOLOv8)/train/images/4ce8a8c8-20231204_142808.jpg: corrupt JPEG restored and saved\n",
      "\u001b[34m\u001b[1mtrain: \u001b[0mWARNING ⚠️ /home/aashish/Downloads/Nepali-Sign-Language-Recognition/Nepali Sign Language Image Annotations (YOLOv8)/train/images/4d028db0-20231212_145353.jpg: corrupt JPEG restored and saved\n",
      "\u001b[34m\u001b[1mtrain: \u001b[0mWARNING ⚠️ /home/aashish/Downloads/Nepali-Sign-Language-Recognition/Nepali Sign Language Image Annotations (YOLOv8)/train/images/4d526318-20231204_142706.jpg: corrupt JPEG restored and saved\n",
      "\u001b[34m\u001b[1mtrain: \u001b[0mWARNING ⚠️ /home/aashish/Downloads/Nepali-Sign-Language-Recognition/Nepali Sign Language Image Annotations (YOLOv8)/train/images/4d5fc17e-20231204_143125.jpg: corrupt JPEG restored and saved\n",
      "\u001b[34m\u001b[1mtrain: \u001b[0mWARNING ⚠️ /home/aashish/Downloads/Nepali-Sign-Language-Recognition/Nepali Sign Language Image Annotations (YOLOv8)/train/images/4d794c81-20231203_132244.jpg: corrupt JPEG restored and saved\n",
      "\u001b[34m\u001b[1mtrain: \u001b[0mWARNING ⚠️ /home/aashish/Downloads/Nepali-Sign-Language-Recognition/Nepali Sign Language Image Annotations (YOLOv8)/train/images/4dc76c96-20231203_132815.jpg: corrupt JPEG restored and saved\n",
      "\u001b[34m\u001b[1mtrain: \u001b[0mWARNING ⚠️ /home/aashish/Downloads/Nepali-Sign-Language-Recognition/Nepali Sign Language Image Annotations (YOLOv8)/train/images/4defce41-20231203_131432.jpg: corrupt JPEG restored and saved\n",
      "\u001b[34m\u001b[1mtrain: \u001b[0mWARNING ⚠️ /home/aashish/Downloads/Nepali-Sign-Language-Recognition/Nepali Sign Language Image Annotations (YOLOv8)/train/images/4df655ee-20231204_142319.jpg: corrupt JPEG restored and saved\n",
      "\u001b[34m\u001b[1mtrain: \u001b[0mWARNING ⚠️ /home/aashish/Downloads/Nepali-Sign-Language-Recognition/Nepali Sign Language Image Annotations (YOLOv8)/train/images/4e215fca-20231203_1327250.jpg: corrupt JPEG restored and saved\n",
      "\u001b[34m\u001b[1mtrain: \u001b[0mWARNING ⚠️ /home/aashish/Downloads/Nepali-Sign-Language-Recognition/Nepali Sign Language Image Annotations (YOLOv8)/train/images/4e326186-20231212_1352320.jpg: corrupt JPEG restored and saved\n",
      "\u001b[34m\u001b[1mtrain: \u001b[0mWARNING ⚠️ /home/aashish/Downloads/Nepali-Sign-Language-Recognition/Nepali Sign Language Image Annotations (YOLOv8)/train/images/4e9ed752-20231204_142653.jpg: corrupt JPEG restored and saved\n",
      "\u001b[34m\u001b[1mtrain: \u001b[0mWARNING ⚠️ /home/aashish/Downloads/Nepali-Sign-Language-Recognition/Nepali Sign Language Image Annotations (YOLOv8)/train/images/4ee72518-20231212_145750.jpg: corrupt JPEG restored and saved\n",
      "\u001b[34m\u001b[1mtrain: \u001b[0mWARNING ⚠️ /home/aashish/Downloads/Nepali-Sign-Language-Recognition/Nepali Sign Language Image Annotations (YOLOv8)/train/images/4f064de8-20231204_1431090.jpg: corrupt JPEG restored and saved\n",
      "\u001b[34m\u001b[1mtrain: \u001b[0mWARNING ⚠️ /home/aashish/Downloads/Nepali-Sign-Language-Recognition/Nepali Sign Language Image Annotations (YOLOv8)/train/images/4f2e2802-20231212_143131.jpg: corrupt JPEG restored and saved\n",
      "\u001b[34m\u001b[1mtrain: \u001b[0mWARNING ⚠️ /home/aashish/Downloads/Nepali-Sign-Language-Recognition/Nepali Sign Language Image Annotations (YOLOv8)/train/images/4f46abc4-20231203_124848.jpg: corrupt JPEG restored and saved\n",
      "\u001b[34m\u001b[1mtrain: \u001b[0mWARNING ⚠️ /home/aashish/Downloads/Nepali-Sign-Language-Recognition/Nepali Sign Language Image Annotations (YOLOv8)/train/images/4f75b0d9-20231212_1448370.jpg: corrupt JPEG restored and saved\n",
      "\u001b[34m\u001b[1mtrain: \u001b[0mWARNING ⚠️ /home/aashish/Downloads/Nepali-Sign-Language-Recognition/Nepali Sign Language Image Annotations (YOLOv8)/train/images/4f760b2c-20231203_132830.jpg: corrupt JPEG restored and saved\n",
      "\u001b[34m\u001b[1mtrain: \u001b[0mWARNING ⚠️ /home/aashish/Downloads/Nepali-Sign-Language-Recognition/Nepali Sign Language Image Annotations (YOLOv8)/train/images/4fc221c2-20231203_135300.jpg: corrupt JPEG restored and saved\n",
      "\u001b[34m\u001b[1mtrain: \u001b[0mWARNING ⚠️ /home/aashish/Downloads/Nepali-Sign-Language-Recognition/Nepali Sign Language Image Annotations (YOLOv8)/train/images/4fd7005a-20231204_1418440.jpg: corrupt JPEG restored and saved\n",
      "\u001b[34m\u001b[1mtrain: \u001b[0mWARNING ⚠️ /home/aashish/Downloads/Nepali-Sign-Language-Recognition/Nepali Sign Language Image Annotations (YOLOv8)/train/images/5025ed0f-20231203_132703.jpg: corrupt JPEG restored and saved\n",
      "\u001b[34m\u001b[1mtrain: \u001b[0mWARNING ⚠️ /home/aashish/Downloads/Nepali-Sign-Language-Recognition/Nepali Sign Language Image Annotations (YOLOv8)/train/images/5040fccb-20231204_141115.jpg: corrupt JPEG restored and saved\n",
      "\u001b[34m\u001b[1mtrain: \u001b[0mWARNING ⚠️ /home/aashish/Downloads/Nepali-Sign-Language-Recognition/Nepali Sign Language Image Annotations (YOLOv8)/train/images/507a5097-20231204_142411.jpg: corrupt JPEG restored and saved\n",
      "\u001b[34m\u001b[1mtrain: \u001b[0mWARNING ⚠️ /home/aashish/Downloads/Nepali-Sign-Language-Recognition/Nepali Sign Language Image Annotations (YOLOv8)/train/images/50960eae-20231204_1311570.jpg: corrupt JPEG restored and saved\n",
      "\u001b[34m\u001b[1mtrain: \u001b[0mWARNING ⚠️ /home/aashish/Downloads/Nepali-Sign-Language-Recognition/Nepali Sign Language Image Annotations (YOLOv8)/train/images/50a6089f-20231204_143544.jpg: corrupt JPEG restored and saved\n",
      "\u001b[34m\u001b[1mtrain: \u001b[0mWARNING ⚠️ /home/aashish/Downloads/Nepali-Sign-Language-Recognition/Nepali Sign Language Image Annotations (YOLOv8)/train/images/5109fd1f-20231212_1423490.jpg: corrupt JPEG restored and saved\n",
      "\u001b[34m\u001b[1mtrain: \u001b[0mWARNING ⚠️ /home/aashish/Downloads/Nepali-Sign-Language-Recognition/Nepali Sign Language Image Annotations (YOLOv8)/train/images/51de0fdb-20231203_133420.jpg: corrupt JPEG restored and saved\n",
      "\u001b[34m\u001b[1mtrain: \u001b[0mWARNING ⚠️ /home/aashish/Downloads/Nepali-Sign-Language-Recognition/Nepali Sign Language Image Annotations (YOLOv8)/train/images/525212f8-20231203_1252170.jpg: corrupt JPEG restored and saved\n",
      "\u001b[34m\u001b[1mtrain: \u001b[0mWARNING ⚠️ /home/aashish/Downloads/Nepali-Sign-Language-Recognition/Nepali Sign Language Image Annotations (YOLOv8)/train/images/52b59c4a-20231204_131427.jpg: corrupt JPEG restored and saved\n",
      "\u001b[34m\u001b[1mtrain: \u001b[0mWARNING ⚠️ /home/aashish/Downloads/Nepali-Sign-Language-Recognition/Nepali Sign Language Image Annotations (YOLOv8)/train/images/52bd2a14-20231203_133026.jpg: corrupt JPEG restored and saved\n",
      "\u001b[34m\u001b[1mtrain: \u001b[0mWARNING ⚠️ /home/aashish/Downloads/Nepali-Sign-Language-Recognition/Nepali Sign Language Image Annotations (YOLOv8)/train/images/52fd17e6-20231212_145047.jpg: corrupt JPEG restored and saved\n",
      "\u001b[34m\u001b[1mtrain: \u001b[0mWARNING ⚠️ /home/aashish/Downloads/Nepali-Sign-Language-Recognition/Nepali Sign Language Image Annotations (YOLOv8)/train/images/53033793-20231203_133001.jpg: corrupt JPEG restored and saved\n",
      "\u001b[34m\u001b[1mtrain: \u001b[0mWARNING ⚠️ /home/aashish/Downloads/Nepali-Sign-Language-Recognition/Nepali Sign Language Image Annotations (YOLOv8)/train/images/531488b0-20231204_131213.jpg: corrupt JPEG restored and saved\n",
      "\u001b[34m\u001b[1mtrain: \u001b[0mWARNING ⚠️ /home/aashish/Downloads/Nepali-Sign-Language-Recognition/Nepali Sign Language Image Annotations (YOLOv8)/train/images/53227fa9-20231212_142246.jpg: corrupt JPEG restored and saved\n",
      "\u001b[34m\u001b[1mtrain: \u001b[0mWARNING ⚠️ /home/aashish/Downloads/Nepali-Sign-Language-Recognition/Nepali Sign Language Image Annotations (YOLOv8)/train/images/535877ec-20231212_142147.jpg: corrupt JPEG restored and saved\n",
      "\u001b[34m\u001b[1mtrain: \u001b[0mWARNING ⚠️ /home/aashish/Downloads/Nepali-Sign-Language-Recognition/Nepali Sign Language Image Annotations (YOLOv8)/train/images/537bdaea-20231203_132537.jpg: corrupt JPEG restored and saved\n",
      "\u001b[34m\u001b[1mtrain: \u001b[0mWARNING ⚠️ /home/aashish/Downloads/Nepali-Sign-Language-Recognition/Nepali Sign Language Image Annotations (YOLOv8)/train/images/538076c2-20231203_131322.jpg: corrupt JPEG restored and saved\n",
      "\u001b[34m\u001b[1mtrain: \u001b[0mWARNING ⚠️ /home/aashish/Downloads/Nepali-Sign-Language-Recognition/Nepali Sign Language Image Annotations (YOLOv8)/train/images/53816bad-20231212_142036.jpg: corrupt JPEG restored and saved\n",
      "\u001b[34m\u001b[1mtrain: \u001b[0mWARNING ⚠️ /home/aashish/Downloads/Nepali-Sign-Language-Recognition/Nepali Sign Language Image Annotations (YOLOv8)/train/images/5399b88a-20231204_1309270.jpg: corrupt JPEG restored and saved\n",
      "\u001b[34m\u001b[1mtrain: \u001b[0mWARNING ⚠️ /home/aashish/Downloads/Nepali-Sign-Language-Recognition/Nepali Sign Language Image Annotations (YOLOv8)/train/images/53c94e1e-20231212_150242.jpg: corrupt JPEG restored and saved\n",
      "\u001b[34m\u001b[1mtrain: \u001b[0mWARNING ⚠️ /home/aashish/Downloads/Nepali-Sign-Language-Recognition/Nepali Sign Language Image Annotations (YOLOv8)/train/images/54320110-20231204_130743.jpg: corrupt JPEG restored and saved\n",
      "\u001b[34m\u001b[1mtrain: \u001b[0mWARNING ⚠️ /home/aashish/Downloads/Nepali-Sign-Language-Recognition/Nepali Sign Language Image Annotations (YOLOv8)/train/images/54320ef5-20231204_1411500.jpg: corrupt JPEG restored and saved\n",
      "\u001b[34m\u001b[1mtrain: \u001b[0mWARNING ⚠️ /home/aashish/Downloads/Nepali-Sign-Language-Recognition/Nepali Sign Language Image Annotations (YOLOv8)/train/images/54443cd7-20231212_145641.jpg: corrupt JPEG restored and saved\n",
      "\u001b[34m\u001b[1mtrain: \u001b[0mWARNING ⚠️ /home/aashish/Downloads/Nepali-Sign-Language-Recognition/Nepali Sign Language Image Annotations (YOLOv8)/train/images/560d58f3-20231212_145439.jpg: corrupt JPEG restored and saved\n",
      "\u001b[34m\u001b[1mtrain: \u001b[0mWARNING ⚠️ /home/aashish/Downloads/Nepali-Sign-Language-Recognition/Nepali Sign Language Image Annotations (YOLOv8)/train/images/561147fc-20231204_143521.jpg: corrupt JPEG restored and saved\n",
      "\u001b[34m\u001b[1mtrain: \u001b[0mWARNING ⚠️ /home/aashish/Downloads/Nepali-Sign-Language-Recognition/Nepali Sign Language Image Annotations (YOLOv8)/train/images/561613a4-20231204_1307100.jpg: corrupt JPEG restored and saved\n",
      "\u001b[34m\u001b[1mtrain: \u001b[0mWARNING ⚠️ /home/aashish/Downloads/Nepali-Sign-Language-Recognition/Nepali Sign Language Image Annotations (YOLOv8)/train/images/5650c502-20231212_144957.jpg: corrupt JPEG restored and saved\n",
      "\u001b[34m\u001b[1mtrain: \u001b[0mWARNING ⚠️ /home/aashish/Downloads/Nepali-Sign-Language-Recognition/Nepali Sign Language Image Annotations (YOLOv8)/train/images/5661c17e-20231203_1345130.jpg: corrupt JPEG restored and saved\n",
      "\u001b[34m\u001b[1mtrain: \u001b[0mWARNING ⚠️ /home/aashish/Downloads/Nepali-Sign-Language-Recognition/Nepali Sign Language Image Annotations (YOLOv8)/train/images/574ed5f7-20231204_131600.jpg: corrupt JPEG restored and saved\n",
      "\u001b[34m\u001b[1mtrain: \u001b[0mWARNING ⚠️ /home/aashish/Downloads/Nepali-Sign-Language-Recognition/Nepali Sign Language Image Annotations (YOLOv8)/train/images/57602fdf-20231204_135605.jpg: corrupt JPEG restored and saved\n",
      "\u001b[34m\u001b[1mtrain: \u001b[0mWARNING ⚠️ /home/aashish/Downloads/Nepali-Sign-Language-Recognition/Nepali Sign Language Image Annotations (YOLOv8)/train/images/57996357-20231203_134935.jpg: corrupt JPEG restored and saved\n",
      "\u001b[34m\u001b[1mtrain: \u001b[0mWARNING ⚠️ /home/aashish/Downloads/Nepali-Sign-Language-Recognition/Nepali Sign Language Image Annotations (YOLOv8)/train/images/57bf64fd-20231212_144926.jpg: corrupt JPEG restored and saved\n",
      "\u001b[34m\u001b[1mtrain: \u001b[0mWARNING ⚠️ /home/aashish/Downloads/Nepali-Sign-Language-Recognition/Nepali Sign Language Image Annotations (YOLOv8)/train/images/57cb6a2e-20231212_1439070.jpg: corrupt JPEG restored and saved\n",
      "\u001b[34m\u001b[1mtrain: \u001b[0mWARNING ⚠️ /home/aashish/Downloads/Nepali-Sign-Language-Recognition/Nepali Sign Language Image Annotations (YOLOv8)/train/images/57d2e52c-20231203_131616.jpg: corrupt JPEG restored and saved\n",
      "\u001b[34m\u001b[1mtrain: \u001b[0mWARNING ⚠️ /home/aashish/Downloads/Nepali-Sign-Language-Recognition/Nepali Sign Language Image Annotations (YOLOv8)/train/images/58231f38-20231204_142723.jpg: corrupt JPEG restored and saved\n",
      "\u001b[34m\u001b[1mtrain: \u001b[0mWARNING ⚠️ /home/aashish/Downloads/Nepali-Sign-Language-Recognition/Nepali Sign Language Image Annotations (YOLOv8)/train/images/585ed856-20231212_142504.jpg: corrupt JPEG restored and saved\n",
      "\u001b[34m\u001b[1mtrain: \u001b[0mWARNING ⚠️ /home/aashish/Downloads/Nepali-Sign-Language-Recognition/Nepali Sign Language Image Annotations (YOLOv8)/train/images/587658d5-20231212_144737.jpg: corrupt JPEG restored and saved\n",
      "\u001b[34m\u001b[1mtrain: \u001b[0mWARNING ⚠️ /home/aashish/Downloads/Nepali-Sign-Language-Recognition/Nepali Sign Language Image Annotations (YOLOv8)/train/images/587d86e4-20231212_145503.jpg: corrupt JPEG restored and saved\n",
      "\u001b[34m\u001b[1mtrain: \u001b[0mWARNING ⚠️ /home/aashish/Downloads/Nepali-Sign-Language-Recognition/Nepali Sign Language Image Annotations (YOLOv8)/train/images/589dfe97-20231204_131008.jpg: corrupt JPEG restored and saved\n",
      "\u001b[34m\u001b[1mtrain: \u001b[0mWARNING ⚠️ /home/aashish/Downloads/Nepali-Sign-Language-Recognition/Nepali Sign Language Image Annotations (YOLOv8)/train/images/58b0d498-20231203_131434.jpg: corrupt JPEG restored and saved\n",
      "\u001b[34m\u001b[1mtrain: \u001b[0mWARNING ⚠️ /home/aashish/Downloads/Nepali-Sign-Language-Recognition/Nepali Sign Language Image Annotations (YOLOv8)/train/images/58bbfc15-20231212_134741.jpg: corrupt JPEG restored and saved\n",
      "\u001b[34m\u001b[1mtrain: \u001b[0mWARNING ⚠️ /home/aashish/Downloads/Nepali-Sign-Language-Recognition/Nepali Sign Language Image Annotations (YOLOv8)/train/images/58d86a50-20231203_130427.jpg: corrupt JPEG restored and saved\n",
      "\u001b[34m\u001b[1mtrain: \u001b[0mWARNING ⚠️ /home/aashish/Downloads/Nepali-Sign-Language-Recognition/Nepali Sign Language Image Annotations (YOLOv8)/train/images/59cb5171-20231204_135248.jpg: corrupt JPEG restored and saved\n",
      "\u001b[34m\u001b[1mtrain: \u001b[0mWARNING ⚠️ /home/aashish/Downloads/Nepali-Sign-Language-Recognition/Nepali Sign Language Image Annotations (YOLOv8)/train/images/59d73757-20231212_142355.jpg: corrupt JPEG restored and saved\n",
      "\u001b[34m\u001b[1mtrain: \u001b[0mWARNING ⚠️ /home/aashish/Downloads/Nepali-Sign-Language-Recognition/Nepali Sign Language Image Annotations (YOLOv8)/train/images/59ec6fd4-20231204_131742.jpg: corrupt JPEG restored and saved\n",
      "\u001b[34m\u001b[1mtrain: \u001b[0mWARNING ⚠️ /home/aashish/Downloads/Nepali-Sign-Language-Recognition/Nepali Sign Language Image Annotations (YOLOv8)/train/images/5a4ba0b9-20231212_144715.jpg: corrupt JPEG restored and saved\n",
      "\u001b[34m\u001b[1mtrain: \u001b[0mWARNING ⚠️ /home/aashish/Downloads/Nepali-Sign-Language-Recognition/Nepali Sign Language Image Annotations (YOLOv8)/train/images/5a5f5a94-20231212_142020.jpg: corrupt JPEG restored and saved\n",
      "\u001b[34m\u001b[1mtrain: \u001b[0mWARNING ⚠️ /home/aashish/Downloads/Nepali-Sign-Language-Recognition/Nepali Sign Language Image Annotations (YOLOv8)/train/images/5a84ba7b-20231204_1431250.jpg: corrupt JPEG restored and saved\n",
      "\u001b[34m\u001b[1mtrain: \u001b[0mWARNING ⚠️ /home/aashish/Downloads/Nepali-Sign-Language-Recognition/Nepali Sign Language Image Annotations (YOLOv8)/train/images/5abd42fb-20231204_135629.jpg: corrupt JPEG restored and saved\n",
      "\u001b[34m\u001b[1mtrain: \u001b[0mWARNING ⚠️ /home/aashish/Downloads/Nepali-Sign-Language-Recognition/Nepali Sign Language Image Annotations (YOLOv8)/train/images/5ad1a47b-20231212_145735.jpg: corrupt JPEG restored and saved\n",
      "\u001b[34m\u001b[1mtrain: \u001b[0mWARNING ⚠️ /home/aashish/Downloads/Nepali-Sign-Language-Recognition/Nepali Sign Language Image Annotations (YOLOv8)/train/images/5ae6b53d-20231204_142302.jpg: corrupt JPEG restored and saved\n",
      "\u001b[34m\u001b[1mtrain: \u001b[0mWARNING ⚠️ /home/aashish/Downloads/Nepali-Sign-Language-Recognition/Nepali Sign Language Image Annotations (YOLOv8)/train/images/5b0e5c7d-20231204_130928.jpg: corrupt JPEG restored and saved\n",
      "\u001b[34m\u001b[1mtrain: \u001b[0mWARNING ⚠️ /home/aashish/Downloads/Nepali-Sign-Language-Recognition/Nepali Sign Language Image Annotations (YOLOv8)/train/images/5b32fa65-20231204_142858.jpg: corrupt JPEG restored and saved\n",
      "\u001b[34m\u001b[1mtrain: \u001b[0mWARNING ⚠️ /home/aashish/Downloads/Nepali-Sign-Language-Recognition/Nepali Sign Language Image Annotations (YOLOv8)/train/images/5b4692a0-20231212_150359.jpg: corrupt JPEG restored and saved\n",
      "\u001b[34m\u001b[1mtrain: \u001b[0mWARNING ⚠️ /home/aashish/Downloads/Nepali-Sign-Language-Recognition/Nepali Sign Language Image Annotations (YOLOv8)/train/images/5b7dfa72-20231212_144005.jpg: corrupt JPEG restored and saved\n",
      "\u001b[34m\u001b[1mtrain: \u001b[0mWARNING ⚠️ /home/aashish/Downloads/Nepali-Sign-Language-Recognition/Nepali Sign Language Image Annotations (YOLOv8)/train/images/5b82224d-20231203_125000.jpg: corrupt JPEG restored and saved\n",
      "\u001b[34m\u001b[1mtrain: \u001b[0mWARNING ⚠️ /home/aashish/Downloads/Nepali-Sign-Language-Recognition/Nepali Sign Language Image Annotations (YOLOv8)/train/images/5b907fb2-20231212_142324.jpg: corrupt JPEG restored and saved\n",
      "\u001b[34m\u001b[1mtrain: \u001b[0mWARNING ⚠️ /home/aashish/Downloads/Nepali-Sign-Language-Recognition/Nepali Sign Language Image Annotations (YOLOv8)/train/images/5bd62b62-20231203_134940.jpg: corrupt JPEG restored and saved\n",
      "\u001b[34m\u001b[1mtrain: \u001b[0mWARNING ⚠️ /home/aashish/Downloads/Nepali-Sign-Language-Recognition/Nepali Sign Language Image Annotations (YOLOv8)/train/images/5bdffea9-20231203_1349200.jpg: corrupt JPEG restored and saved\n",
      "\u001b[34m\u001b[1mtrain: \u001b[0mWARNING ⚠️ /home/aashish/Downloads/Nepali-Sign-Language-Recognition/Nepali Sign Language Image Annotations (YOLOv8)/train/images/5c028188-20231203_130102.jpg: corrupt JPEG restored and saved\n",
      "\u001b[34m\u001b[1mtrain: \u001b[0mWARNING ⚠️ /home/aashish/Downloads/Nepali-Sign-Language-Recognition/Nepali Sign Language Image Annotations (YOLOv8)/train/images/5c07c266-20231212_135232.jpg: corrupt JPEG restored and saved\n",
      "\u001b[34m\u001b[1mtrain: \u001b[0mWARNING ⚠️ /home/aashish/Downloads/Nepali-Sign-Language-Recognition/Nepali Sign Language Image Annotations (YOLOv8)/train/images/5c0e4870-20231204_141907.jpg: corrupt JPEG restored and saved\n",
      "\u001b[34m\u001b[1mtrain: \u001b[0mWARNING ⚠️ /home/aashish/Downloads/Nepali-Sign-Language-Recognition/Nepali Sign Language Image Annotations (YOLOv8)/train/images/5c208a66-20231212_145129.jpg: corrupt JPEG restored and saved\n",
      "\u001b[34m\u001b[1mtrain: \u001b[0mWARNING ⚠️ /home/aashish/Downloads/Nepali-Sign-Language-Recognition/Nepali Sign Language Image Annotations (YOLOv8)/train/images/5cce7cea-20231203_1313220.jpg: corrupt JPEG restored and saved\n",
      "\u001b[34m\u001b[1mtrain: \u001b[0mWARNING ⚠️ /home/aashish/Downloads/Nepali-Sign-Language-Recognition/Nepali Sign Language Image Annotations (YOLOv8)/train/images/5cd701e3-20231204_142707.jpg: corrupt JPEG restored and saved\n",
      "\u001b[34m\u001b[1mtrain: \u001b[0mWARNING ⚠️ /home/aashish/Downloads/Nepali-Sign-Language-Recognition/Nepali Sign Language Image Annotations (YOLOv8)/train/images/5d0692ef-20231203_134522.jpg: corrupt JPEG restored and saved\n",
      "\u001b[34m\u001b[1mtrain: \u001b[0mWARNING ⚠️ /home/aashish/Downloads/Nepali-Sign-Language-Recognition/Nepali Sign Language Image Annotations (YOLOv8)/train/images/5d0a3db6-20231204_140830.jpg: corrupt JPEG restored and saved\n",
      "\u001b[34m\u001b[1mtrain: \u001b[0mWARNING ⚠️ /home/aashish/Downloads/Nepali-Sign-Language-Recognition/Nepali Sign Language Image Annotations (YOLOv8)/train/images/5d14187e-20231212_144025.jpg: corrupt JPEG restored and saved\n",
      "\u001b[34m\u001b[1mtrain: \u001b[0mWARNING ⚠️ /home/aashish/Downloads/Nepali-Sign-Language-Recognition/Nepali Sign Language Image Annotations (YOLOv8)/train/images/5dffb089-20231204_142758.jpg: corrupt JPEG restored and saved\n",
      "\u001b[34m\u001b[1mtrain: \u001b[0mWARNING ⚠️ /home/aashish/Downloads/Nepali-Sign-Language-Recognition/Nepali Sign Language Image Annotations (YOLOv8)/train/images/5e6a351d-20231212_142636.jpg: corrupt JPEG restored and saved\n",
      "\u001b[34m\u001b[1mtrain: \u001b[0mWARNING ⚠️ /home/aashish/Downloads/Nepali-Sign-Language-Recognition/Nepali Sign Language Image Annotations (YOLOv8)/train/images/5e8d3575-20231204_143542.jpg: corrupt JPEG restored and saved\n",
      "\u001b[34m\u001b[1mtrain: \u001b[0mWARNING ⚠️ /home/aashish/Downloads/Nepali-Sign-Language-Recognition/Nepali Sign Language Image Annotations (YOLOv8)/train/images/605f8770-20231212_1421570.jpg: corrupt JPEG restored and saved\n",
      "\u001b[34m\u001b[1mtrain: \u001b[0mWARNING ⚠️ /home/aashish/Downloads/Nepali-Sign-Language-Recognition/Nepali Sign Language Image Annotations (YOLOv8)/train/images/60741a36-20231204_1418530.jpg: corrupt JPEG restored and saved\n",
      "\u001b[34m\u001b[1mtrain: \u001b[0mWARNING ⚠️ /home/aashish/Downloads/Nepali-Sign-Language-Recognition/Nepali Sign Language Image Annotations (YOLOv8)/train/images/6126d0de-20231204_140314.jpg: corrupt JPEG restored and saved\n",
      "\u001b[34m\u001b[1mtrain: \u001b[0mWARNING ⚠️ /home/aashish/Downloads/Nepali-Sign-Language-Recognition/Nepali Sign Language Image Annotations (YOLOv8)/train/images/61748998-20231204_1402300.jpg: corrupt JPEG restored and saved\n",
      "\u001b[34m\u001b[1mtrain: \u001b[0mWARNING ⚠️ /home/aashish/Downloads/Nepali-Sign-Language-Recognition/Nepali Sign Language Image Annotations (YOLOv8)/train/images/61b1d02a-20231212_1427330.jpg: corrupt JPEG restored and saved\n",
      "\u001b[34m\u001b[1mtrain: \u001b[0mWARNING ⚠️ /home/aashish/Downloads/Nepali-Sign-Language-Recognition/Nepali Sign Language Image Annotations (YOLOv8)/train/images/61b2cf85-20231203_1328210.jpg: corrupt JPEG restored and saved\n",
      "\u001b[34m\u001b[1mtrain: \u001b[0mWARNING ⚠️ /home/aashish/Downloads/Nepali-Sign-Language-Recognition/Nepali Sign Language Image Annotations (YOLOv8)/train/images/61c80bd4-20231203_130214.jpg: corrupt JPEG restored and saved\n",
      "\u001b[34m\u001b[1mtrain: \u001b[0mWARNING ⚠️ /home/aashish/Downloads/Nepali-Sign-Language-Recognition/Nepali Sign Language Image Annotations (YOLOv8)/train/images/628b0397-20231204_140102.jpg: corrupt JPEG restored and saved\n",
      "\u001b[34m\u001b[1mtrain: \u001b[0mWARNING ⚠️ /home/aashish/Downloads/Nepali-Sign-Language-Recognition/Nepali Sign Language Image Annotations (YOLOv8)/train/images/62a0a2a3-20231203_132606.jpg: corrupt JPEG restored and saved\n",
      "\u001b[34m\u001b[1mtrain: \u001b[0mWARNING ⚠️ /home/aashish/Downloads/Nepali-Sign-Language-Recognition/Nepali Sign Language Image Annotations (YOLOv8)/train/images/62b7a067-20231212_1504330.jpg: corrupt JPEG restored and saved\n",
      "\u001b[34m\u001b[1mtrain: \u001b[0mWARNING ⚠️ /home/aashish/Downloads/Nepali-Sign-Language-Recognition/Nepali Sign Language Image Annotations (YOLOv8)/train/images/638269a4-20231203_132250.jpg: corrupt JPEG restored and saved\n",
      "\u001b[34m\u001b[1mtrain: \u001b[0mWARNING ⚠️ /home/aashish/Downloads/Nepali-Sign-Language-Recognition/Nepali Sign Language Image Annotations (YOLOv8)/train/images/63a4ed18-20231212_144816.jpg: corrupt JPEG restored and saved\n",
      "\u001b[34m\u001b[1mtrain: \u001b[0mWARNING ⚠️ /home/aashish/Downloads/Nepali-Sign-Language-Recognition/Nepali Sign Language Image Annotations (YOLOv8)/train/images/63e0526f-20231203_134744.jpg: corrupt JPEG restored and saved\n",
      "\u001b[34m\u001b[1mtrain: \u001b[0mWARNING ⚠️ /home/aashish/Downloads/Nepali-Sign-Language-Recognition/Nepali Sign Language Image Annotations (YOLOv8)/train/images/63e95bc3-20231204_140241.jpg: corrupt JPEG restored and saved\n",
      "\u001b[34m\u001b[1mtrain: \u001b[0mWARNING ⚠️ /home/aashish/Downloads/Nepali-Sign-Language-Recognition/Nepali Sign Language Image Annotations (YOLOv8)/train/images/6421a062-20231203_134719.jpg: corrupt JPEG restored and saved\n",
      "\u001b[34m\u001b[1mtrain: \u001b[0mWARNING ⚠️ /home/aashish/Downloads/Nepali-Sign-Language-Recognition/Nepali Sign Language Image Annotations (YOLOv8)/train/images/644c1e84-20231212_142635.jpg: corrupt JPEG restored and saved\n",
      "\u001b[34m\u001b[1mtrain: \u001b[0mWARNING ⚠️ /home/aashish/Downloads/Nepali-Sign-Language-Recognition/Nepali Sign Language Image Annotations (YOLOv8)/train/images/647c5c1b-20231203_1346570.jpg: corrupt JPEG restored and saved\n",
      "\u001b[34m\u001b[1mtrain: \u001b[0mWARNING ⚠️ /home/aashish/Downloads/Nepali-Sign-Language-Recognition/Nepali Sign Language Image Annotations (YOLOv8)/train/images/64da6a11-20231204_140542.jpg: corrupt JPEG restored and saved\n",
      "\u001b[34m\u001b[1mtrain: \u001b[0mWARNING ⚠️ /home/aashish/Downloads/Nepali-Sign-Language-Recognition/Nepali Sign Language Image Annotations (YOLOv8)/train/images/65496a8b-20231203_124904.jpg: corrupt JPEG restored and saved\n",
      "\u001b[34m\u001b[1mtrain: \u001b[0mWARNING ⚠️ /home/aashish/Downloads/Nepali-Sign-Language-Recognition/Nepali Sign Language Image Annotations (YOLOv8)/train/images/6549f526-20231203_1323420.jpg: corrupt JPEG restored and saved\n",
      "\u001b[34m\u001b[1mtrain: \u001b[0mWARNING ⚠️ /home/aashish/Downloads/Nepali-Sign-Language-Recognition/Nepali Sign Language Image Annotations (YOLOv8)/train/images/6567e71a-20231204_140739.jpg: corrupt JPEG restored and saved\n",
      "\u001b[34m\u001b[1mtrain: \u001b[0mWARNING ⚠️ /home/aashish/Downloads/Nepali-Sign-Language-Recognition/Nepali Sign Language Image Annotations (YOLOv8)/train/images/657182aa-20231212_143009.jpg: corrupt JPEG restored and saved\n",
      "\u001b[34m\u001b[1mtrain: \u001b[0mWARNING ⚠️ /home/aashish/Downloads/Nepali-Sign-Language-Recognition/Nepali Sign Language Image Annotations (YOLOv8)/train/images/657dc741-20231204_135350.jpg: corrupt JPEG restored and saved\n",
      "\u001b[34m\u001b[1mtrain: \u001b[0mWARNING ⚠️ /home/aashish/Downloads/Nepali-Sign-Language-Recognition/Nepali Sign Language Image Annotations (YOLOv8)/train/images/66159e7f-20231212_142854.jpg: corrupt JPEG restored and saved\n",
      "\u001b[34m\u001b[1mtrain: \u001b[0mWARNING ⚠️ /home/aashish/Downloads/Nepali-Sign-Language-Recognition/Nepali Sign Language Image Annotations (YOLOv8)/train/images/66538db3-20231212_141741.jpg: corrupt JPEG restored and saved\n",
      "\u001b[34m\u001b[1mtrain: \u001b[0mWARNING ⚠️ /home/aashish/Downloads/Nepali-Sign-Language-Recognition/Nepali Sign Language Image Annotations (YOLOv8)/train/images/66866bd0-20231212_1501330.jpg: corrupt JPEG restored and saved\n",
      "\u001b[34m\u001b[1mtrain: \u001b[0mWARNING ⚠️ /home/aashish/Downloads/Nepali-Sign-Language-Recognition/Nepali Sign Language Image Annotations (YOLOv8)/train/images/66be4ac9-20231212_1348460.jpg: corrupt JPEG restored and saved\n",
      "\u001b[34m\u001b[1mtrain: \u001b[0mWARNING ⚠️ /home/aashish/Downloads/Nepali-Sign-Language-Recognition/Nepali Sign Language Image Annotations (YOLOv8)/train/images/66c58b0b-20231212_150412.jpg: corrupt JPEG restored and saved\n",
      "\u001b[34m\u001b[1mtrain: \u001b[0mWARNING ⚠️ /home/aashish/Downloads/Nepali-Sign-Language-Recognition/Nepali Sign Language Image Annotations (YOLOv8)/train/images/66da1e4c-20231212_1454400.jpg: corrupt JPEG restored and saved\n",
      "\u001b[34m\u001b[1mtrain: \u001b[0mWARNING ⚠️ /home/aashish/Downloads/Nepali-Sign-Language-Recognition/Nepali Sign Language Image Annotations (YOLOv8)/train/images/673b5ac1-20231212_141722.jpg: corrupt JPEG restored and saved\n",
      "\u001b[34m\u001b[1mtrain: \u001b[0mWARNING ⚠️ /home/aashish/Downloads/Nepali-Sign-Language-Recognition/Nepali Sign Language Image Annotations (YOLOv8)/train/images/67985a84-20231203_134939.jpg: corrupt JPEG restored and saved\n",
      "\u001b[34m\u001b[1mtrain: \u001b[0mWARNING ⚠️ /home/aashish/Downloads/Nepali-Sign-Language-Recognition/Nepali Sign Language Image Annotations (YOLOv8)/train/images/67b735f8-20231203_131723.jpg: corrupt JPEG restored and saved\n",
      "\u001b[34m\u001b[1mtrain: \u001b[0mWARNING ⚠️ /home/aashish/Downloads/Nepali-Sign-Language-Recognition/Nepali Sign Language Image Annotations (YOLOv8)/train/images/68fa0e9a-20231203_133607.jpg: corrupt JPEG restored and saved\n",
      "\u001b[34m\u001b[1mtrain: \u001b[0mWARNING ⚠️ /home/aashish/Downloads/Nepali-Sign-Language-Recognition/Nepali Sign Language Image Annotations (YOLOv8)/train/images/690ccfaa-20231204_135456.jpg: corrupt JPEG restored and saved\n",
      "\u001b[34m\u001b[1mtrain: \u001b[0mWARNING ⚠️ /home/aashish/Downloads/Nepali-Sign-Language-Recognition/Nepali Sign Language Image Annotations (YOLOv8)/train/images/690e60b9-20231203_133431.jpg: corrupt JPEG restored and saved\n",
      "\u001b[34m\u001b[1mtrain: \u001b[0mWARNING ⚠️ /home/aashish/Downloads/Nepali-Sign-Language-Recognition/Nepali Sign Language Image Annotations (YOLOv8)/train/images/696300c6-20231212_1420480.jpg: corrupt JPEG restored and saved\n",
      "\u001b[34m\u001b[1mtrain: \u001b[0mWARNING ⚠️ /home/aashish/Downloads/Nepali-Sign-Language-Recognition/Nepali Sign Language Image Annotations (YOLOv8)/train/images/6a2521bb-20231203_132903.jpg: corrupt JPEG restored and saved\n",
      "\u001b[34m\u001b[1mtrain: \u001b[0mWARNING ⚠️ /home/aashish/Downloads/Nepali-Sign-Language-Recognition/Nepali Sign Language Image Annotations (YOLOv8)/train/images/6a8039ed-20231212_145232.jpg: corrupt JPEG restored and saved\n",
      "\u001b[34m\u001b[1mtrain: \u001b[0mWARNING ⚠️ /home/aashish/Downloads/Nepali-Sign-Language-Recognition/Nepali Sign Language Image Annotations (YOLOv8)/train/images/6ab45570-20231203_131347.jpg: corrupt JPEG restored and saved\n",
      "\u001b[34m\u001b[1mtrain: \u001b[0mWARNING ⚠️ /home/aashish/Downloads/Nepali-Sign-Language-Recognition/Nepali Sign Language Image Annotations (YOLOv8)/train/images/6b2471f4-20231204_140931.jpg: corrupt JPEG restored and saved\n",
      "\u001b[34m\u001b[1mtrain: \u001b[0mWARNING ⚠️ /home/aashish/Downloads/Nepali-Sign-Language-Recognition/Nepali Sign Language Image Annotations (YOLOv8)/train/images/6b4076e8-20231203_132722.jpg: corrupt JPEG restored and saved\n",
      "\u001b[34m\u001b[1mtrain: \u001b[0mWARNING ⚠️ /home/aashish/Downloads/Nepali-Sign-Language-Recognition/Nepali Sign Language Image Annotations (YOLOv8)/train/images/6b537f6a-20231212_1449140.jpg: corrupt JPEG restored and saved\n",
      "\u001b[34m\u001b[1mtrain: \u001b[0mWARNING ⚠️ /home/aashish/Downloads/Nepali-Sign-Language-Recognition/Nepali Sign Language Image Annotations (YOLOv8)/train/images/6b7df60c-20231204_1314590.jpg: corrupt JPEG restored and saved\n",
      "\u001b[34m\u001b[1mtrain: \u001b[0mWARNING ⚠️ /home/aashish/Downloads/Nepali-Sign-Language-Recognition/Nepali Sign Language Image Annotations (YOLOv8)/train/images/6b9ac05b-20231212_144236.jpg: corrupt JPEG restored and saved\n",
      "\u001b[34m\u001b[1mtrain: \u001b[0mWARNING ⚠️ /home/aashish/Downloads/Nepali-Sign-Language-Recognition/Nepali Sign Language Image Annotations (YOLOv8)/train/images/6bbb626c-20231212_1504470.jpg: corrupt JPEG restored and saved\n",
      "\u001b[34m\u001b[1mtrain: \u001b[0mWARNING ⚠️ /home/aashish/Downloads/Nepali-Sign-Language-Recognition/Nepali Sign Language Image Annotations (YOLOv8)/train/images/6c17ef9b-20231204_141345.jpg: corrupt JPEG restored and saved\n",
      "\u001b[34m\u001b[1mtrain: \u001b[0mWARNING ⚠️ /home/aashish/Downloads/Nepali-Sign-Language-Recognition/Nepali Sign Language Image Annotations (YOLOv8)/train/images/6cad0b14-20231203_124712.jpg: corrupt JPEG restored and saved\n",
      "\u001b[34m\u001b[1mtrain: \u001b[0mWARNING ⚠️ /home/aashish/Downloads/Nepali-Sign-Language-Recognition/Nepali Sign Language Image Annotations (YOLOv8)/train/images/6ccea65b-20231212_150257.jpg: corrupt JPEG restored and saved\n",
      "\u001b[34m\u001b[1mtrain: \u001b[0mWARNING ⚠️ /home/aashish/Downloads/Nepali-Sign-Language-Recognition/Nepali Sign Language Image Annotations (YOLOv8)/train/images/6d0af79e-20231212_145614.jpg: corrupt JPEG restored and saved\n",
      "\u001b[34m\u001b[1mtrain: \u001b[0mWARNING ⚠️ /home/aashish/Downloads/Nepali-Sign-Language-Recognition/Nepali Sign Language Image Annotations (YOLOv8)/train/images/6d655a1f-20231204_141259.jpg: corrupt JPEG restored and saved\n",
      "\u001b[34m\u001b[1mtrain: \u001b[0mWARNING ⚠️ /home/aashish/Downloads/Nepali-Sign-Language-Recognition/Nepali Sign Language Image Annotations (YOLOv8)/train/images/6e50924d-20231203_132538.jpg: corrupt JPEG restored and saved\n",
      "\u001b[34m\u001b[1mtrain: \u001b[0mWARNING ⚠️ /home/aashish/Downloads/Nepali-Sign-Language-Recognition/Nepali Sign Language Image Annotations (YOLOv8)/train/images/6e681e54-20231212_144051.jpg: corrupt JPEG restored and saved\n",
      "\u001b[34m\u001b[1mtrain: \u001b[0mWARNING ⚠️ /home/aashish/Downloads/Nepali-Sign-Language-Recognition/Nepali Sign Language Image Annotations (YOLOv8)/train/images/6e7833cb-20231212_144759.jpg: corrupt JPEG restored and saved\n",
      "\u001b[34m\u001b[1mtrain: \u001b[0mWARNING ⚠️ /home/aashish/Downloads/Nepali-Sign-Language-Recognition/Nepali Sign Language Image Annotations (YOLOv8)/train/images/6e923900-20231212_1447380.jpg: corrupt JPEG restored and saved\n",
      "\u001b[34m\u001b[1mtrain: \u001b[0mWARNING ⚠️ /home/aashish/Downloads/Nepali-Sign-Language-Recognition/Nepali Sign Language Image Annotations (YOLOv8)/train/images/6ecfbca8-20231203_125015.jpg: corrupt JPEG restored and saved\n",
      "\u001b[34m\u001b[1mtrain: \u001b[0mWARNING ⚠️ /home/aashish/Downloads/Nepali-Sign-Language-Recognition/Nepali Sign Language Image Annotations (YOLOv8)/train/images/6edfab19-20231203_133440.jpg: corrupt JPEG restored and saved\n",
      "\u001b[34m\u001b[1mtrain: \u001b[0mWARNING ⚠️ /home/aashish/Downloads/Nepali-Sign-Language-Recognition/Nepali Sign Language Image Annotations (YOLOv8)/train/images/6ee4976c-20231204_131518.jpg: corrupt JPEG restored and saved\n",
      "\u001b[34m\u001b[1mtrain: \u001b[0mWARNING ⚠️ /home/aashish/Downloads/Nepali-Sign-Language-Recognition/Nepali Sign Language Image Annotations (YOLOv8)/train/images/6f579a29-20231203_132013.jpg: corrupt JPEG restored and saved\n",
      "\u001b[34m\u001b[1mtrain: \u001b[0mWARNING ⚠️ /home/aashish/Downloads/Nepali-Sign-Language-Recognition/Nepali Sign Language Image Annotations (YOLOv8)/train/images/6facedc6-20231212_1415470.jpg: corrupt JPEG restored and saved\n",
      "\u001b[34m\u001b[1mtrain: \u001b[0mWARNING ⚠️ /home/aashish/Downloads/Nepali-Sign-Language-Recognition/Nepali Sign Language Image Annotations (YOLOv8)/train/images/6fc29335-20231203_135021.jpg: corrupt JPEG restored and saved\n",
      "\u001b[34m\u001b[1mtrain: \u001b[0mWARNING ⚠️ /home/aashish/Downloads/Nepali-Sign-Language-Recognition/Nepali Sign Language Image Annotations (YOLOv8)/train/images/6fddf469-20231203_130045.jpg: corrupt JPEG restored and saved\n",
      "\u001b[34m\u001b[1mtrain: \u001b[0mWARNING ⚠️ /home/aashish/Downloads/Nepali-Sign-Language-Recognition/Nepali Sign Language Image Annotations (YOLOv8)/train/images/6fdfcb49-20231212_144429.jpg: corrupt JPEG restored and saved\n",
      "\u001b[34m\u001b[1mtrain: \u001b[0mWARNING ⚠️ /home/aashish/Downloads/Nepali-Sign-Language-Recognition/Nepali Sign Language Image Annotations (YOLOv8)/train/images/70071f7e-20231204_141924.jpg: corrupt JPEG restored and saved\n",
      "\u001b[34m\u001b[1mtrain: \u001b[0mWARNING ⚠️ /home/aashish/Downloads/Nepali-Sign-Language-Recognition/Nepali Sign Language Image Annotations (YOLOv8)/train/images/701755ae-20231204_1412570.jpg: corrupt JPEG restored and saved\n",
      "\u001b[34m\u001b[1mtrain: \u001b[0mWARNING ⚠️ /home/aashish/Downloads/Nepali-Sign-Language-Recognition/Nepali Sign Language Image Annotations (YOLOv8)/train/images/7040d0ff-20231212_134855.jpg: corrupt JPEG restored and saved\n",
      "\u001b[34m\u001b[1mtrain: \u001b[0mWARNING ⚠️ /home/aashish/Downloads/Nepali-Sign-Language-Recognition/Nepali Sign Language Image Annotations (YOLOv8)/train/images/704d1a65-20231203_132524.jpg: corrupt JPEG restored and saved\n",
      "\u001b[34m\u001b[1mtrain: \u001b[0mWARNING ⚠️ /home/aashish/Downloads/Nepali-Sign-Language-Recognition/Nepali Sign Language Image Annotations (YOLOv8)/train/images/706c709e-20231212_142733.jpg: corrupt JPEG restored and saved\n",
      "\u001b[34m\u001b[1mtrain: \u001b[0mWARNING ⚠️ /home/aashish/Downloads/Nepali-Sign-Language-Recognition/Nepali Sign Language Image Annotations (YOLOv8)/train/images/7082121d-20231203_1251460.jpg: corrupt JPEG restored and saved\n",
      "\u001b[34m\u001b[1mtrain: \u001b[0mWARNING ⚠️ /home/aashish/Downloads/Nepali-Sign-Language-Recognition/Nepali Sign Language Image Annotations (YOLOv8)/train/images/70c13dcb-20231212_1456580.jpg: corrupt JPEG restored and saved\n",
      "\u001b[34m\u001b[1mtrain: \u001b[0mWARNING ⚠️ /home/aashish/Downloads/Nepali-Sign-Language-Recognition/Nepali Sign Language Image Annotations (YOLOv8)/train/images/711c5e06-20231204_141104.jpg: corrupt JPEG restored and saved\n",
      "\u001b[34m\u001b[1mtrain: \u001b[0mWARNING ⚠️ /home/aashish/Downloads/Nepali-Sign-Language-Recognition/Nepali Sign Language Image Annotations (YOLOv8)/train/images/7192f8d4-20231204_143451.jpg: corrupt JPEG restored and saved\n",
      "\u001b[34m\u001b[1mtrain: \u001b[0mWARNING ⚠️ /home/aashish/Downloads/Nepali-Sign-Language-Recognition/Nepali Sign Language Image Annotations (YOLOv8)/train/images/719e8d7a-20231212_145152.jpg: corrupt JPEG restored and saved\n",
      "\u001b[34m\u001b[1mtrain: \u001b[0mWARNING ⚠️ /home/aashish/Downloads/Nepali-Sign-Language-Recognition/Nepali Sign Language Image Annotations (YOLOv8)/train/images/71f7438b-20231212_150153.jpg: corrupt JPEG restored and saved\n",
      "\u001b[34m\u001b[1mtrain: \u001b[0mWARNING ⚠️ /home/aashish/Downloads/Nepali-Sign-Language-Recognition/Nepali Sign Language Image Annotations (YOLOv8)/train/images/72216a4e-20231203_133848.jpg: corrupt JPEG restored and saved\n",
      "\u001b[34m\u001b[1mtrain: \u001b[0mWARNING ⚠️ /home/aashish/Downloads/Nepali-Sign-Language-Recognition/Nepali Sign Language Image Annotations (YOLOv8)/train/images/724fc2cf-20231203_132839.jpg: corrupt JPEG restored and saved\n",
      "\u001b[34m\u001b[1mtrain: \u001b[0mWARNING ⚠️ /home/aashish/Downloads/Nepali-Sign-Language-Recognition/Nepali Sign Language Image Annotations (YOLOv8)/train/images/7292b1b1-20231204_141105.jpg: corrupt JPEG restored and saved\n",
      "\u001b[34m\u001b[1mtrain: \u001b[0mWARNING ⚠️ /home/aashish/Downloads/Nepali-Sign-Language-Recognition/Nepali Sign Language Image Annotations (YOLOv8)/train/images/72fb07c5-20231204_140930.jpg: corrupt JPEG restored and saved\n",
      "\u001b[34m\u001b[1mtrain: \u001b[0mWARNING ⚠️ /home/aashish/Downloads/Nepali-Sign-Language-Recognition/Nepali Sign Language Image Annotations (YOLOv8)/train/images/743b7f81-20231204_140901.jpg: corrupt JPEG restored and saved\n",
      "\u001b[34m\u001b[1mtrain: \u001b[0mWARNING ⚠️ /home/aashish/Downloads/Nepali-Sign-Language-Recognition/Nepali Sign Language Image Annotations (YOLOv8)/train/images/74ad4e5f-20231204_142907.jpg: corrupt JPEG restored and saved\n",
      "\u001b[34m\u001b[1mtrain: \u001b[0mWARNING ⚠️ /home/aashish/Downloads/Nepali-Sign-Language-Recognition/Nepali Sign Language Image Annotations (YOLOv8)/train/images/74c55a33-20231212_1442200.jpg: corrupt JPEG restored and saved\n",
      "\u001b[34m\u001b[1mtrain: \u001b[0mWARNING ⚠️ /home/aashish/Downloads/Nepali-Sign-Language-Recognition/Nepali Sign Language Image Annotations (YOLOv8)/train/images/74d73c17-20231204_142713.jpg: corrupt JPEG restored and saved\n",
      "\u001b[34m\u001b[1mtrain: \u001b[0mWARNING ⚠️ /home/aashish/Downloads/Nepali-Sign-Language-Recognition/Nepali Sign Language Image Annotations (YOLOv8)/train/images/7500b519-20231204_143037.jpg: corrupt JPEG restored and saved\n",
      "\u001b[34m\u001b[1mtrain: \u001b[0mWARNING ⚠️ /home/aashish/Downloads/Nepali-Sign-Language-Recognition/Nepali Sign Language Image Annotations (YOLOv8)/train/images/75904067-20231203_132341.jpg: corrupt JPEG restored and saved\n",
      "\u001b[34m\u001b[1mtrain: \u001b[0mWARNING ⚠️ /home/aashish/Downloads/Nepali-Sign-Language-Recognition/Nepali Sign Language Image Annotations (YOLOv8)/train/images/75a42d05-20231204_1403290.jpg: corrupt JPEG restored and saved\n",
      "\u001b[34m\u001b[1mtrain: \u001b[0mWARNING ⚠️ /home/aashish/Downloads/Nepali-Sign-Language-Recognition/Nepali Sign Language Image Annotations (YOLOv8)/train/images/75c3407c-20231212_142047.jpg: corrupt JPEG restored and saved\n",
      "\u001b[34m\u001b[1mtrain: \u001b[0mWARNING ⚠️ /home/aashish/Downloads/Nepali-Sign-Language-Recognition/Nepali Sign Language Image Annotations (YOLOv8)/train/images/76361075-20231212_1432000.jpg: corrupt JPEG restored and saved\n",
      "\u001b[34m\u001b[1mtrain: \u001b[0mWARNING ⚠️ /home/aashish/Downloads/Nepali-Sign-Language-Recognition/Nepali Sign Language Image Annotations (YOLOv8)/train/images/765d8852-20231204_130730.jpg: corrupt JPEG restored and saved\n",
      "\u001b[34m\u001b[1mtrain: \u001b[0mWARNING ⚠️ /home/aashish/Downloads/Nepali-Sign-Language-Recognition/Nepali Sign Language Image Annotations (YOLOv8)/train/images/7672510f-20231204_143211.jpg: corrupt JPEG restored and saved\n",
      "\u001b[34m\u001b[1mtrain: \u001b[0mWARNING ⚠️ /home/aashish/Downloads/Nepali-Sign-Language-Recognition/Nepali Sign Language Image Annotations (YOLOv8)/train/images/76885b14-20231203_131838.jpg: corrupt JPEG restored and saved\n",
      "\u001b[34m\u001b[1mtrain: \u001b[0mWARNING ⚠️ /home/aashish/Downloads/Nepali-Sign-Language-Recognition/Nepali Sign Language Image Annotations (YOLOv8)/train/images/771fc36c-20231212_150258.jpg: corrupt JPEG restored and saved\n",
      "\u001b[34m\u001b[1mtrain: \u001b[0mWARNING ⚠️ /home/aashish/Downloads/Nepali-Sign-Language-Recognition/Nepali Sign Language Image Annotations (YOLOv8)/train/images/773a02ff-20231204_142705.jpg: corrupt JPEG restored and saved\n",
      "\u001b[34m\u001b[1mtrain: \u001b[0mWARNING ⚠️ /home/aashish/Downloads/Nepali-Sign-Language-Recognition/Nepali Sign Language Image Annotations (YOLOv8)/train/images/77b7dc27-20231203_132237.jpg: corrupt JPEG restored and saved\n",
      "\u001b[34m\u001b[1mtrain: \u001b[0mWARNING ⚠️ /home/aashish/Downloads/Nepali-Sign-Language-Recognition/Nepali Sign Language Image Annotations (YOLOv8)/train/images/77f54c76-20231212_1448260.jpg: corrupt JPEG restored and saved\n",
      "\u001b[34m\u001b[1mtrain: \u001b[0mWARNING ⚠️ /home/aashish/Downloads/Nepali-Sign-Language-Recognition/Nepali Sign Language Image Annotations (YOLOv8)/train/images/781f0339-20231204_143327.jpg: corrupt JPEG restored and saved\n",
      "\u001b[34m\u001b[1mtrain: \u001b[0mWARNING ⚠️ /home/aashish/Downloads/Nepali-Sign-Language-Recognition/Nepali Sign Language Image Annotations (YOLOv8)/train/images/782fa6c2-20231212_142653.jpg: corrupt JPEG restored and saved\n",
      "\u001b[34m\u001b[1mtrain: \u001b[0mWARNING ⚠️ /home/aashish/Downloads/Nepali-Sign-Language-Recognition/Nepali Sign Language Image Annotations (YOLOv8)/train/images/7861e4b0-20231203_133344.jpg: corrupt JPEG restored and saved\n",
      "\u001b[34m\u001b[1mtrain: \u001b[0mWARNING ⚠️ /home/aashish/Downloads/Nepali-Sign-Language-Recognition/Nepali Sign Language Image Annotations (YOLOv8)/train/images/78878f14-20231212_1455020.jpg: corrupt JPEG restored and saved\n",
      "\u001b[34m\u001b[1mtrain: \u001b[0mWARNING ⚠️ /home/aashish/Downloads/Nepali-Sign-Language-Recognition/Nepali Sign Language Image Annotations (YOLOv8)/train/images/78cd84da-20231212_1440050.jpg: corrupt JPEG restored and saved\n",
      "\u001b[34m\u001b[1mtrain: \u001b[0mWARNING ⚠️ /home/aashish/Downloads/Nepali-Sign-Language-Recognition/Nepali Sign Language Image Annotations (YOLOv8)/train/images/78e40b31-20231212_150518.jpg: corrupt JPEG restored and saved\n",
      "\u001b[34m\u001b[1mtrain: \u001b[0mWARNING ⚠️ /home/aashish/Downloads/Nepali-Sign-Language-Recognition/Nepali Sign Language Image Annotations (YOLOv8)/train/images/792f4c57-20231203_132818.jpg: corrupt JPEG restored and saved\n",
      "\u001b[34m\u001b[1mtrain: \u001b[0mWARNING ⚠️ /home/aashish/Downloads/Nepali-Sign-Language-Recognition/Nepali Sign Language Image Annotations (YOLOv8)/train/images/796e0cc0-20231204_143454.jpg: corrupt JPEG restored and saved\n",
      "\u001b[34m\u001b[1mtrain: \u001b[0mWARNING ⚠️ /home/aashish/Downloads/Nepali-Sign-Language-Recognition/Nepali Sign Language Image Annotations (YOLOv8)/train/images/7991a709-20231203_132817.jpg: corrupt JPEG restored and saved\n",
      "\u001b[34m\u001b[1mtrain: \u001b[0mWARNING ⚠️ /home/aashish/Downloads/Nepali-Sign-Language-Recognition/Nepali Sign Language Image Annotations (YOLOv8)/train/images/79d1352b-20231212_1458470.jpg: corrupt JPEG restored and saved\n",
      "\u001b[34m\u001b[1mtrain: \u001b[0mWARNING ⚠️ /home/aashish/Downloads/Nepali-Sign-Language-Recognition/Nepali Sign Language Image Annotations (YOLOv8)/train/images/79f56a5e-20231204_141507.jpg: corrupt JPEG restored and saved\n",
      "\u001b[34m\u001b[1mtrain: \u001b[0mWARNING ⚠️ /home/aashish/Downloads/Nepali-Sign-Language-Recognition/Nepali Sign Language Image Annotations (YOLOv8)/train/images/7a3e7a9c-20231203_1247390.jpg: corrupt JPEG restored and saved\n",
      "\u001b[34m\u001b[1mtrain: \u001b[0mWARNING ⚠️ /home/aashish/Downloads/Nepali-Sign-Language-Recognition/Nepali Sign Language Image Annotations (YOLOv8)/train/images/7a8f5b30-20231204_142502.jpg: corrupt JPEG restored and saved\n",
      "\u001b[34m\u001b[1mtrain: \u001b[0mWARNING ⚠️ /home/aashish/Downloads/Nepali-Sign-Language-Recognition/Nepali Sign Language Image Annotations (YOLOv8)/train/images/7abd5f3e-20231204_142309.jpg: corrupt JPEG restored and saved\n",
      "\u001b[34m\u001b[1mtrain: \u001b[0mWARNING ⚠️ /home/aashish/Downloads/Nepali-Sign-Language-Recognition/Nepali Sign Language Image Annotations (YOLOv8)/train/images/7ac9b9be-20231212_142906.jpg: corrupt JPEG restored and saved\n",
      "\u001b[34m\u001b[1mtrain: \u001b[0mWARNING ⚠️ /home/aashish/Downloads/Nepali-Sign-Language-Recognition/Nepali Sign Language Image Annotations (YOLOv8)/train/images/7ad9b0c3-20231203_1328300.jpg: corrupt JPEG restored and saved\n",
      "\u001b[34m\u001b[1mtrain: \u001b[0mWARNING ⚠️ /home/aashish/Downloads/Nepali-Sign-Language-Recognition/Nepali Sign Language Image Annotations (YOLOv8)/train/images/7aebcc48-20231212_1420100.jpg: corrupt JPEG restored and saved\n",
      "\u001b[34m\u001b[1mtrain: \u001b[0mWARNING ⚠️ /home/aashish/Downloads/Nepali-Sign-Language-Recognition/Nepali Sign Language Image Annotations (YOLOv8)/train/images/7b196963-20231212_145048.jpg: corrupt JPEG restored and saved\n",
      "\u001b[34m\u001b[1mtrain: \u001b[0mWARNING ⚠️ /home/aashish/Downloads/Nepali-Sign-Language-Recognition/Nepali Sign Language Image Annotations (YOLOv8)/train/images/7b87220f-20231203_134658.jpg: corrupt JPEG restored and saved\n",
      "\u001b[34m\u001b[1mtrain: \u001b[0mWARNING ⚠️ /home/aashish/Downloads/Nepali-Sign-Language-Recognition/Nepali Sign Language Image Annotations (YOLOv8)/train/images/7c186ddb-20231204_130905.jpg: corrupt JPEG restored and saved\n",
      "\u001b[34m\u001b[1mtrain: \u001b[0mWARNING ⚠️ /home/aashish/Downloads/Nepali-Sign-Language-Recognition/Nepali Sign Language Image Annotations (YOLOv8)/train/images/7cf9d465-20231203_132838.jpg: corrupt JPEG restored and saved\n",
      "\u001b[34m\u001b[1mtrain: \u001b[0mWARNING ⚠️ /home/aashish/Downloads/Nepali-Sign-Language-Recognition/Nepali Sign Language Image Annotations (YOLOv8)/train/images/7d3cbab6-20231204_140551.jpg: corrupt JPEG restored and saved\n",
      "\u001b[34m\u001b[1mtrain: \u001b[0mWARNING ⚠️ /home/aashish/Downloads/Nepali-Sign-Language-Recognition/Nepali Sign Language Image Annotations (YOLOv8)/train/images/7d49170d-20231204_142012.jpg: corrupt JPEG restored and saved\n",
      "\u001b[34m\u001b[1mtrain: \u001b[0mWARNING ⚠️ /home/aashish/Downloads/Nepali-Sign-Language-Recognition/Nepali Sign Language Image Annotations (YOLOv8)/train/images/7d6d9805-20231204_142836.jpg: corrupt JPEG restored and saved\n",
      "\u001b[34m\u001b[1mtrain: \u001b[0mWARNING ⚠️ /home/aashish/Downloads/Nepali-Sign-Language-Recognition/Nepali Sign Language Image Annotations (YOLOv8)/train/images/7d8ebc11-20231212_142528.jpg: corrupt JPEG restored and saved\n",
      "\u001b[34m\u001b[1mtrain: \u001b[0mWARNING ⚠️ /home/aashish/Downloads/Nepali-Sign-Language-Recognition/Nepali Sign Language Image Annotations (YOLOv8)/train/images/7dc19638-20231203_133540.jpg: corrupt JPEG restored and saved\n",
      "\u001b[34m\u001b[1mtrain: \u001b[0mWARNING ⚠️ /home/aashish/Downloads/Nepali-Sign-Language-Recognition/Nepali Sign Language Image Annotations (YOLOv8)/train/images/7de1698e-20231203_130047.jpg: corrupt JPEG restored and saved\n",
      "\u001b[34m\u001b[1mtrain: \u001b[0mWARNING ⚠️ /home/aashish/Downloads/Nepali-Sign-Language-Recognition/Nepali Sign Language Image Annotations (YOLOv8)/train/images/7e73d69f-20231203_132327.jpg: corrupt JPEG restored and saved\n",
      "\u001b[34m\u001b[1mtrain: \u001b[0mWARNING ⚠️ /home/aashish/Downloads/Nepali-Sign-Language-Recognition/Nepali Sign Language Image Annotations (YOLOv8)/train/images/7e9d9bbb-20231212_1442560.jpg: corrupt JPEG restored and saved\n",
      "\u001b[34m\u001b[1mtrain: \u001b[0mWARNING ⚠️ /home/aashish/Downloads/Nepali-Sign-Language-Recognition/Nepali Sign Language Image Annotations (YOLOv8)/train/images/7ea0ccf1-20231203_134721.jpg: corrupt JPEG restored and saved\n",
      "\u001b[34m\u001b[1mtrain: \u001b[0mWARNING ⚠️ /home/aashish/Downloads/Nepali-Sign-Language-Recognition/Nepali Sign Language Image Annotations (YOLOv8)/train/images/7efb5c80-20231212_150423.jpg: corrupt JPEG restored and saved\n",
      "\u001b[34m\u001b[1mtrain: \u001b[0mWARNING ⚠️ /home/aashish/Downloads/Nepali-Sign-Language-Recognition/Nepali Sign Language Image Annotations (YOLOv8)/train/images/7f10d003-20231212_1453400.jpg: corrupt JPEG restored and saved\n",
      "\u001b[34m\u001b[1mtrain: \u001b[0mWARNING ⚠️ /home/aashish/Downloads/Nepali-Sign-Language-Recognition/Nepali Sign Language Image Annotations (YOLOv8)/train/images/7f9989e5-20231212_1348461.jpg: corrupt JPEG restored and saved\n",
      "\u001b[34m\u001b[1mtrain: \u001b[0mWARNING ⚠️ /home/aashish/Downloads/Nepali-Sign-Language-Recognition/Nepali Sign Language Image Annotations (YOLOv8)/train/images/8022c8e3-20231203_125733.jpg: corrupt JPEG restored and saved\n",
      "\u001b[34m\u001b[1mtrain: \u001b[0mWARNING ⚠️ /home/aashish/Downloads/Nepali-Sign-Language-Recognition/Nepali Sign Language Image Annotations (YOLOv8)/train/images/802925c0-20231203_135035.jpg: corrupt JPEG restored and saved\n",
      "\u001b[34m\u001b[1mtrain: \u001b[0mWARNING ⚠️ /home/aashish/Downloads/Nepali-Sign-Language-Recognition/Nepali Sign Language Image Annotations (YOLOv8)/train/images/80675a8a-20231204_141151.jpg: corrupt JPEG restored and saved\n",
      "\u001b[34m\u001b[1mtrain: \u001b[0mWARNING ⚠️ /home/aashish/Downloads/Nepali-Sign-Language-Recognition/Nepali Sign Language Image Annotations (YOLOv8)/train/images/80983206-20231203_130401.jpg: corrupt JPEG restored and saved\n",
      "\u001b[34m\u001b[1mtrain: \u001b[0mWARNING ⚠️ /home/aashish/Downloads/Nepali-Sign-Language-Recognition/Nepali Sign Language Image Annotations (YOLOv8)/train/images/809e208c-20231203_133649.jpg: corrupt JPEG restored and saved\n",
      "\u001b[34m\u001b[1mtrain: \u001b[0mWARNING ⚠️ /home/aashish/Downloads/Nepali-Sign-Language-Recognition/Nepali Sign Language Image Annotations (YOLOv8)/train/images/80c88fef-20231212_1459590.jpg: corrupt JPEG restored and saved\n",
      "\u001b[34m\u001b[1mtrain: \u001b[0mWARNING ⚠️ /home/aashish/Downloads/Nepali-Sign-Language-Recognition/Nepali Sign Language Image Annotations (YOLOv8)/train/images/80f86acb-20231203_1251070.jpg: corrupt JPEG restored and saved\n",
      "\u001b[34m\u001b[1mtrain: \u001b[0mWARNING ⚠️ /home/aashish/Downloads/Nepali-Sign-Language-Recognition/Nepali Sign Language Image Annotations (YOLOv8)/train/images/816d1ed4-20231204_141334.jpg: corrupt JPEG restored and saved\n",
      "\u001b[34m\u001b[1mtrain: \u001b[0mWARNING ⚠️ /home/aashish/Downloads/Nepali-Sign-Language-Recognition/Nepali Sign Language Image Annotations (YOLOv8)/train/images/8173643d-20231212_1421300.jpg: corrupt JPEG restored and saved\n",
      "\u001b[34m\u001b[1mtrain: \u001b[0mWARNING ⚠️ /home/aashish/Downloads/Nepali-Sign-Language-Recognition/Nepali Sign Language Image Annotations (YOLOv8)/train/images/817ddcef-20231212_142208.jpg: corrupt JPEG restored and saved\n",
      "\u001b[34m\u001b[1mtrain: \u001b[0mWARNING ⚠️ /home/aashish/Downloads/Nepali-Sign-Language-Recognition/Nepali Sign Language Image Annotations (YOLOv8)/train/images/81967bef-20231204_141855.jpg: corrupt JPEG restored and saved\n",
      "\u001b[34m\u001b[1mtrain: \u001b[0mWARNING ⚠️ /home/aashish/Downloads/Nepali-Sign-Language-Recognition/Nepali Sign Language Image Annotations (YOLOv8)/train/images/81b265d4-20231204_135824.jpg: corrupt JPEG restored and saved\n",
      "\u001b[34m\u001b[1mtrain: \u001b[0mWARNING ⚠️ /home/aashish/Downloads/Nepali-Sign-Language-Recognition/Nepali Sign Language Image Annotations (YOLOv8)/train/images/81dc1b90-20231212_142157.jpg: corrupt JPEG restored and saved\n",
      "\u001b[34m\u001b[1mtrain: \u001b[0mWARNING ⚠️ /home/aashish/Downloads/Nepali-Sign-Language-Recognition/Nepali Sign Language Image Annotations (YOLOv8)/train/images/82157f0b-20231203_134936.jpg: corrupt JPEG restored and saved\n",
      "\u001b[34m\u001b[1mtrain: \u001b[0mWARNING ⚠️ /home/aashish/Downloads/Nepali-Sign-Language-Recognition/Nepali Sign Language Image Annotations (YOLOv8)/train/images/8223bc47-20231212_1425390.jpg: corrupt JPEG restored and saved\n",
      "\u001b[34m\u001b[1mtrain: \u001b[0mWARNING ⚠️ /home/aashish/Downloads/Nepali-Sign-Language-Recognition/Nepali Sign Language Image Annotations (YOLOv8)/train/images/82d616c8-20231204_143145.jpg: corrupt JPEG restored and saved\n",
      "\u001b[34m\u001b[1mtrain: \u001b[0mWARNING ⚠️ /home/aashish/Downloads/Nepali-Sign-Language-Recognition/Nepali Sign Language Image Annotations (YOLOv8)/train/images/82ff0085-20231204_143404.jpg: corrupt JPEG restored and saved\n",
      "\u001b[34m\u001b[1mtrain: \u001b[0mWARNING ⚠️ /home/aashish/Downloads/Nepali-Sign-Language-Recognition/Nepali Sign Language Image Annotations (YOLOv8)/train/images/8310bfe5-20231204_140728.jpg: corrupt JPEG restored and saved\n",
      "\u001b[34m\u001b[1mtrain: \u001b[0mWARNING ⚠️ /home/aashish/Downloads/Nepali-Sign-Language-Recognition/Nepali Sign Language Image Annotations (YOLOv8)/train/images/834a2807-20231203_132021.jpg: corrupt JPEG restored and saved\n",
      "\u001b[34m\u001b[1mtrain: \u001b[0mWARNING ⚠️ /home/aashish/Downloads/Nepali-Sign-Language-Recognition/Nepali Sign Language Image Annotations (YOLOv8)/train/images/8357fb81-20231204_143124.jpg: corrupt JPEG restored and saved\n",
      "\u001b[34m\u001b[1mtrain: \u001b[0mWARNING ⚠️ /home/aashish/Downloads/Nepali-Sign-Language-Recognition/Nepali Sign Language Image Annotations (YOLOv8)/train/images/839f7c1d-20231204_1408530.jpg: corrupt JPEG restored and saved\n",
      "\u001b[34m\u001b[1mtrain: \u001b[0mWARNING ⚠️ /home/aashish/Downloads/Nepali-Sign-Language-Recognition/Nepali Sign Language Image Annotations (YOLOv8)/train/images/83a2f2b3-20231204_140330.jpg: corrupt JPEG restored and saved\n",
      "\u001b[34m\u001b[1mtrain: \u001b[0mWARNING ⚠️ /home/aashish/Downloads/Nepali-Sign-Language-Recognition/Nepali Sign Language Image Annotations (YOLOv8)/train/images/83a44fe9-20231203_133441.jpg: corrupt JPEG restored and saved\n",
      "\u001b[34m\u001b[1mtrain: \u001b[0mWARNING ⚠️ /home/aashish/Downloads/Nepali-Sign-Language-Recognition/Nepali Sign Language Image Annotations (YOLOv8)/train/images/83ffbd04-20231212_144858.jpg: corrupt JPEG restored and saved\n",
      "\u001b[34m\u001b[1mtrain: \u001b[0mWARNING ⚠️ /home/aashish/Downloads/Nepali-Sign-Language-Recognition/Nepali Sign Language Image Annotations (YOLOv8)/train/images/8423cbbe-20231212_145414.jpg: corrupt JPEG restored and saved\n",
      "\u001b[34m\u001b[1mtrain: \u001b[0mWARNING ⚠️ /home/aashish/Downloads/Nepali-Sign-Language-Recognition/Nepali Sign Language Image Annotations (YOLOv8)/train/images/843968b9-20231212_145846.jpg: corrupt JPEG restored and saved\n",
      "\u001b[34m\u001b[1mtrain: \u001b[0mWARNING ⚠️ /home/aashish/Downloads/Nepali-Sign-Language-Recognition/Nepali Sign Language Image Annotations (YOLOv8)/train/images/8473a32a-20231203_132106.jpg: corrupt JPEG restored and saved\n",
      "\u001b[34m\u001b[1mtrain: \u001b[0mWARNING ⚠️ /home/aashish/Downloads/Nepali-Sign-Language-Recognition/Nepali Sign Language Image Annotations (YOLOv8)/train/images/84a8917a-20231204_140804.jpg: corrupt JPEG restored and saved\n",
      "\u001b[34m\u001b[1mtrain: \u001b[0mWARNING ⚠️ /home/aashish/Downloads/Nepali-Sign-Language-Recognition/Nepali Sign Language Image Annotations (YOLOv8)/train/images/84ba5e24-20231203_1259340.jpg: corrupt JPEG restored and saved\n",
      "\u001b[34m\u001b[1mtrain: \u001b[0mWARNING ⚠️ /home/aashish/Downloads/Nepali-Sign-Language-Recognition/Nepali Sign Language Image Annotations (YOLOv8)/train/images/853c0e40-20231212_1459110.jpg: corrupt JPEG restored and saved\n",
      "\u001b[34m\u001b[1mtrain: \u001b[0mWARNING ⚠️ /home/aashish/Downloads/Nepali-Sign-Language-Recognition/Nepali Sign Language Image Annotations (YOLOv8)/train/images/85550a5c-20231204_1430000.jpg: corrupt JPEG restored and saved\n",
      "\u001b[34m\u001b[1mtrain: \u001b[0mWARNING ⚠️ /home/aashish/Downloads/Nepali-Sign-Language-Recognition/Nepali Sign Language Image Annotations (YOLOv8)/train/images/868469af-20231204_140339.jpg: corrupt JPEG restored and saved\n",
      "\u001b[34m\u001b[1mtrain: \u001b[0mWARNING ⚠️ /home/aashish/Downloads/Nepali-Sign-Language-Recognition/Nepali Sign Language Image Annotations (YOLOv8)/train/images/86a80b79-20231212_141723.jpg: corrupt JPEG restored and saved\n",
      "\u001b[34m\u001b[1mtrain: \u001b[0mWARNING ⚠️ /home/aashish/Downloads/Nepali-Sign-Language-Recognition/Nepali Sign Language Image Annotations (YOLOv8)/train/images/86a900e0-20231212_1457220.jpg: corrupt JPEG restored and saved\n",
      "\u001b[34m\u001b[1mtrain: \u001b[0mWARNING ⚠️ /home/aashish/Downloads/Nepali-Sign-Language-Recognition/Nepali Sign Language Image Annotations (YOLOv8)/train/images/86ad739c-20231204_131601.jpg: corrupt JPEG restored and saved\n",
      "\u001b[34m\u001b[1mtrain: \u001b[0mWARNING ⚠️ /home/aashish/Downloads/Nepali-Sign-Language-Recognition/Nepali Sign Language Image Annotations (YOLOv8)/train/images/86d9044b-20231212_142839.jpg: corrupt JPEG restored and saved\n",
      "\u001b[34m\u001b[1mtrain: \u001b[0mWARNING ⚠️ /home/aashish/Downloads/Nepali-Sign-Language-Recognition/Nepali Sign Language Image Annotations (YOLOv8)/train/images/870afaec-20231203_130955.jpg: corrupt JPEG restored and saved\n",
      "\u001b[34m\u001b[1mtrain: \u001b[0mWARNING ⚠️ /home/aashish/Downloads/Nepali-Sign-Language-Recognition/Nepali Sign Language Image Annotations (YOLOv8)/train/images/87a4bb96-20231203_131320.jpg: corrupt JPEG restored and saved\n",
      "\u001b[34m\u001b[1mtrain: \u001b[0mWARNING ⚠️ /home/aashish/Downloads/Nepali-Sign-Language-Recognition/Nepali Sign Language Image Annotations (YOLOv8)/train/images/88126a06-20231204_140854.jpg: corrupt JPEG restored and saved\n",
      "\u001b[34m\u001b[1mtrain: \u001b[0mWARNING ⚠️ /home/aashish/Downloads/Nepali-Sign-Language-Recognition/Nepali Sign Language Image Annotations (YOLOv8)/train/images/8843373d-20231203_131324.jpg: corrupt JPEG restored and saved\n",
      "\u001b[34m\u001b[1mtrain: \u001b[0mWARNING ⚠️ /home/aashish/Downloads/Nepali-Sign-Language-Recognition/Nepali Sign Language Image Annotations (YOLOv8)/train/images/88c29c0c-20231203_1318070.jpg: corrupt JPEG restored and saved\n",
      "\u001b[34m\u001b[1mtrain: \u001b[0mWARNING ⚠️ /home/aashish/Downloads/Nepali-Sign-Language-Recognition/Nepali Sign Language Image Annotations (YOLOv8)/train/images/89a63cd4-20231204_1434050.jpg: corrupt JPEG restored and saved\n",
      "\u001b[34m\u001b[1mtrain: \u001b[0mWARNING ⚠️ /home/aashish/Downloads/Nepali-Sign-Language-Recognition/Nepali Sign Language Image Annotations (YOLOv8)/train/images/89ced8fd-20231204_142806.jpg: corrupt JPEG restored and saved\n",
      "\u001b[34m\u001b[1mtrain: \u001b[0mWARNING ⚠️ /home/aashish/Downloads/Nepali-Sign-Language-Recognition/Nepali Sign Language Image Annotations (YOLOv8)/train/images/89f0f72d-20231203_133501.jpg: corrupt JPEG restored and saved\n",
      "\u001b[34m\u001b[1mtrain: \u001b[0mWARNING ⚠️ /home/aashish/Downloads/Nepali-Sign-Language-Recognition/Nepali Sign Language Image Annotations (YOLOv8)/train/images/8a3218e1-20231212_142001.jpg: corrupt JPEG restored and saved\n",
      "\u001b[34m\u001b[1mtrain: \u001b[0mWARNING ⚠️ /home/aashish/Downloads/Nepali-Sign-Language-Recognition/Nepali Sign Language Image Annotations (YOLOv8)/train/images/8a9ce4b4-20231203_132238.jpg: corrupt JPEG restored and saved\n",
      "\u001b[34m\u001b[1mtrain: \u001b[0mWARNING ⚠️ /home/aashish/Downloads/Nepali-Sign-Language-Recognition/Nepali Sign Language Image Annotations (YOLOv8)/train/images/8ab2e761-20231203_131923.jpg: corrupt JPEG restored and saved\n",
      "\u001b[34m\u001b[1mtrain: \u001b[0mWARNING ⚠️ /home/aashish/Downloads/Nepali-Sign-Language-Recognition/Nepali Sign Language Image Annotations (YOLOv8)/train/images/8ae6272d-20231203_130402.jpg: corrupt JPEG restored and saved\n",
      "\u001b[34m\u001b[1mtrain: \u001b[0mWARNING ⚠️ /home/aashish/Downloads/Nepali-Sign-Language-Recognition/Nepali Sign Language Image Annotations (YOLOv8)/train/images/8b2c7d1f-20231204_140859.jpg: corrupt JPEG restored and saved\n",
      "\u001b[34m\u001b[1mtrain: \u001b[0mWARNING ⚠️ /home/aashish/Downloads/Nepali-Sign-Language-Recognition/Nepali Sign Language Image Annotations (YOLOv8)/train/images/8b326d8c-20231203_1322330.jpg: corrupt JPEG restored and saved\n",
      "\u001b[34m\u001b[1mtrain: \u001b[0mWARNING ⚠️ /home/aashish/Downloads/Nepali-Sign-Language-Recognition/Nepali Sign Language Image Annotations (YOLOv8)/train/images/8b359129-20231203_133053.jpg: corrupt JPEG restored and saved\n",
      "\u001b[34m\u001b[1mtrain: \u001b[0mWARNING ⚠️ /home/aashish/Downloads/Nepali-Sign-Language-Recognition/Nepali Sign Language Image Annotations (YOLOv8)/train/images/8b833c59-20231203_125137.jpg: corrupt JPEG restored and saved\n",
      "\u001b[34m\u001b[1mtrain: \u001b[0mWARNING ⚠️ /home/aashish/Downloads/Nepali-Sign-Language-Recognition/Nepali Sign Language Image Annotations (YOLOv8)/train/images/8bbe5f13-20231212_144738.jpg: corrupt JPEG restored and saved\n",
      "\u001b[34m\u001b[1mtrain: \u001b[0mWARNING ⚠️ /home/aashish/Downloads/Nepali-Sign-Language-Recognition/Nepali Sign Language Image Annotations (YOLOv8)/train/images/8bf41832-20231204_140239.jpg: corrupt JPEG restored and saved\n",
      "\u001b[34m\u001b[1mtrain: \u001b[0mWARNING ⚠️ /home/aashish/Downloads/Nepali-Sign-Language-Recognition/Nepali Sign Language Image Annotations (YOLOv8)/train/images/8bfb9821-20231212_150056.jpg: corrupt JPEG restored and saved\n",
      "\u001b[34m\u001b[1mtrain: \u001b[0mWARNING ⚠️ /home/aashish/Downloads/Nepali-Sign-Language-Recognition/Nepali Sign Language Image Annotations (YOLOv8)/train/images/8c4a749e-20231204_143154.jpg: corrupt JPEG restored and saved\n",
      "\u001b[34m\u001b[1mtrain: \u001b[0mWARNING ⚠️ /home/aashish/Downloads/Nepali-Sign-Language-Recognition/Nepali Sign Language Image Annotations (YOLOv8)/train/images/8c4c5d56-20231212_145945.jpg: corrupt JPEG restored and saved\n",
      "\u001b[34m\u001b[1mtrain: \u001b[0mWARNING ⚠️ /home/aashish/Downloads/Nepali-Sign-Language-Recognition/Nepali Sign Language Image Annotations (YOLOv8)/train/images/8c9e1b98-20231212_143430.jpg: corrupt JPEG restored and saved\n",
      "\u001b[34m\u001b[1mtrain: \u001b[0mWARNING ⚠️ /home/aashish/Downloads/Nepali-Sign-Language-Recognition/Nepali Sign Language Image Annotations (YOLOv8)/train/images/8cbdcd10-20231203_131826.jpg: corrupt JPEG restored and saved\n",
      "\u001b[34m\u001b[1mtrain: \u001b[0mWARNING ⚠️ /home/aashish/Downloads/Nepali-Sign-Language-Recognition/Nepali Sign Language Image Annotations (YOLOv8)/train/images/8cc85778-20231204_141440.jpg: corrupt JPEG restored and saved\n",
      "\u001b[34m\u001b[1mtrain: \u001b[0mWARNING ⚠️ /home/aashish/Downloads/Nepali-Sign-Language-Recognition/Nepali Sign Language Image Annotations (YOLOv8)/train/images/8cc9d3bd-20231204_141103.jpg: corrupt JPEG restored and saved\n",
      "\u001b[34m\u001b[1mtrain: \u001b[0mWARNING ⚠️ /home/aashish/Downloads/Nepali-Sign-Language-Recognition/Nepali Sign Language Image Annotations (YOLOv8)/train/images/8d04a62c-20231204_140853.jpg: corrupt JPEG restored and saved\n",
      "\u001b[34m\u001b[1mtrain: \u001b[0mWARNING ⚠️ /home/aashish/Downloads/Nepali-Sign-Language-Recognition/Nepali Sign Language Image Annotations (YOLOv8)/train/images/8d3245c6-20231203_134640.jpg: corrupt JPEG restored and saved\n",
      "\u001b[34m\u001b[1mtrain: \u001b[0mWARNING ⚠️ /home/aashish/Downloads/Nepali-Sign-Language-Recognition/Nepali Sign Language Image Annotations (YOLOv8)/train/images/8df826a9-20231204_142400.jpg: corrupt JPEG restored and saved\n",
      "\u001b[34m\u001b[1mtrain: \u001b[0mWARNING ⚠️ /home/aashish/Downloads/Nepali-Sign-Language-Recognition/Nepali Sign Language Image Annotations (YOLOv8)/train/images/8e1d5b01-20231203_132451.jpg: corrupt JPEG restored and saved\n",
      "\u001b[34m\u001b[1mtrain: \u001b[0mWARNING ⚠️ /home/aashish/Downloads/Nepali-Sign-Language-Recognition/Nepali Sign Language Image Annotations (YOLOv8)/train/images/8e2f534e-20231204_140730.jpg: corrupt JPEG restored and saved\n",
      "\u001b[34m\u001b[1mtrain: \u001b[0mWARNING ⚠️ /home/aashish/Downloads/Nepali-Sign-Language-Recognition/Nepali Sign Language Image Annotations (YOLOv8)/train/images/8e80cb9e-20231204_142133.jpg: corrupt JPEG restored and saved\n",
      "\u001b[34m\u001b[1mtrain: \u001b[0mWARNING ⚠️ /home/aashish/Downloads/Nepali-Sign-Language-Recognition/Nepali Sign Language Image Annotations (YOLOv8)/train/images/8ee62c06-20231212_141742.jpg: corrupt JPEG restored and saved\n",
      "\u001b[34m\u001b[1mtrain: \u001b[0mWARNING ⚠️ /home/aashish/Downloads/Nepali-Sign-Language-Recognition/Nepali Sign Language Image Annotations (YOLOv8)/train/images/8f1b09ef-20231203_135247.jpg: corrupt JPEG restored and saved\n",
      "\u001b[34m\u001b[1mtrain: \u001b[0mWARNING ⚠️ /home/aashish/Downloads/Nepali-Sign-Language-Recognition/Nepali Sign Language Image Annotations (YOLOv8)/train/images/8f2824b9-20231204_142112.jpg: corrupt JPEG restored and saved\n",
      "\u001b[34m\u001b[1mtrain: \u001b[0mWARNING ⚠️ /home/aashish/Downloads/Nepali-Sign-Language-Recognition/Nepali Sign Language Image Annotations (YOLOv8)/train/images/8f6a43c4-20231212_145658.jpg: corrupt JPEG restored and saved\n",
      "\u001b[34m\u001b[1mtrain: \u001b[0mWARNING ⚠️ /home/aashish/Downloads/Nepali-Sign-Language-Recognition/Nepali Sign Language Image Annotations (YOLOv8)/train/images/8f72aa5a-20231204_140841.jpg: corrupt JPEG restored and saved\n",
      "\u001b[34m\u001b[1mtrain: \u001b[0mWARNING ⚠️ /home/aashish/Downloads/Nepali-Sign-Language-Recognition/Nepali Sign Language Image Annotations (YOLOv8)/train/images/8f7fe22f-20231203_1316070.jpg: corrupt JPEG restored and saved\n",
      "\u001b[34m\u001b[1mtrain: \u001b[0mWARNING ⚠️ /home/aashish/Downloads/Nepali-Sign-Language-Recognition/Nepali Sign Language Image Annotations (YOLOv8)/train/images/8f943a85-20231204_1310070.jpg: corrupt JPEG restored and saved\n",
      "\u001b[34m\u001b[1mtrain: \u001b[0mWARNING ⚠️ /home/aashish/Downloads/Nepali-Sign-Language-Recognition/Nepali Sign Language Image Annotations (YOLOv8)/train/images/8febd564-20231203_133108.jpg: corrupt JPEG restored and saved\n",
      "\u001b[34m\u001b[1mtrain: \u001b[0mWARNING ⚠️ /home/aashish/Downloads/Nepali-Sign-Language-Recognition/Nepali Sign Language Image Annotations (YOLOv8)/train/images/9006705e-20231204_142950.jpg: corrupt JPEG restored and saved\n",
      "\u001b[34m\u001b[1mtrain: \u001b[0mWARNING ⚠️ /home/aashish/Downloads/Nepali-Sign-Language-Recognition/Nepali Sign Language Image Annotations (YOLOv8)/train/images/905afe81-20231212_142935.jpg: corrupt JPEG restored and saved\n",
      "\u001b[34m\u001b[1mtrain: \u001b[0mWARNING ⚠️ /home/aashish/Downloads/Nepali-Sign-Language-Recognition/Nepali Sign Language Image Annotations (YOLOv8)/train/images/909070c8-20231212_143237.jpg: corrupt JPEG restored and saved\n",
      "\u001b[34m\u001b[1mtrain: \u001b[0mWARNING ⚠️ /home/aashish/Downloads/Nepali-Sign-Language-Recognition/Nepali Sign Language Image Annotations (YOLOv8)/train/images/91071f68-20231212_134958.jpg: corrupt JPEG restored and saved\n",
      "\u001b[34m\u001b[1mtrain: \u001b[0mWARNING ⚠️ /home/aashish/Downloads/Nepali-Sign-Language-Recognition/Nepali Sign Language Image Annotations (YOLOv8)/train/images/910d5f73-20231203_132012.jpg: corrupt JPEG restored and saved\n",
      "\u001b[34m\u001b[1mtrain: \u001b[0mWARNING ⚠️ /home/aashish/Downloads/Nepali-Sign-Language-Recognition/Nepali Sign Language Image Annotations (YOLOv8)/train/images/91962f11-20231203_131416.jpg: corrupt JPEG restored and saved\n",
      "\u001b[34m\u001b[1mtrain: \u001b[0mWARNING ⚠️ /home/aashish/Downloads/Nepali-Sign-Language-Recognition/Nepali Sign Language Image Annotations (YOLOv8)/train/images/925846ca-20231204_142412.jpg: corrupt JPEG restored and saved\n",
      "\u001b[34m\u001b[1mtrain: \u001b[0mWARNING ⚠️ /home/aashish/Downloads/Nepali-Sign-Language-Recognition/Nepali Sign Language Image Annotations (YOLOv8)/train/images/9262a279-20231204_130711.jpg: corrupt JPEG restored and saved\n",
      "\u001b[34m\u001b[1mtrain: \u001b[0mWARNING ⚠️ /home/aashish/Downloads/Nepali-Sign-Language-Recognition/Nepali Sign Language Image Annotations (YOLOv8)/train/images/92a4574c-20231212_1453150.jpg: corrupt JPEG restored and saved\n",
      "\u001b[34m\u001b[1mtrain: \u001b[0mWARNING ⚠️ /home/aashish/Downloads/Nepali-Sign-Language-Recognition/Nepali Sign Language Image Annotations (YOLOv8)/train/images/92a67cb7-20231212_1450360.jpg: corrupt JPEG restored and saved\n",
      "\u001b[34m\u001b[1mtrain: \u001b[0mWARNING ⚠️ /home/aashish/Downloads/Nepali-Sign-Language-Recognition/Nepali Sign Language Image Annotations (YOLOv8)/train/images/92eacd47-20231212_142325.jpg: corrupt JPEG restored and saved\n",
      "\u001b[34m\u001b[1mtrain: \u001b[0mWARNING ⚠️ /home/aashish/Downloads/Nepali-Sign-Language-Recognition/Nepali Sign Language Image Annotations (YOLOv8)/train/images/93128d12-20231203_1250251.jpg: corrupt JPEG restored and saved\n",
      "\u001b[34m\u001b[1mtrain: \u001b[0mWARNING ⚠️ /home/aashish/Downloads/Nepali-Sign-Language-Recognition/Nepali Sign Language Image Annotations (YOLOv8)/train/images/931509fc-20231203_133020.jpg: corrupt JPEG restored and saved\n",
      "\u001b[34m\u001b[1mtrain: \u001b[0mWARNING ⚠️ /home/aashish/Downloads/Nepali-Sign-Language-Recognition/Nepali Sign Language Image Annotations (YOLOv8)/train/images/9346601a-20231204_1406260.jpg: corrupt JPEG restored and saved\n",
      "\u001b[34m\u001b[1mtrain: \u001b[0mWARNING ⚠️ /home/aashish/Downloads/Nepali-Sign-Language-Recognition/Nepali Sign Language Image Annotations (YOLOv8)/train/images/93f0ba5f-20231204_140925.jpg: corrupt JPEG restored and saved\n",
      "\u001b[34m\u001b[1mtrain: \u001b[0mWARNING ⚠️ /home/aashish/Downloads/Nepali-Sign-Language-Recognition/Nepali Sign Language Image Annotations (YOLOv8)/train/images/94114fed-20231204_131036.jpg: corrupt JPEG restored and saved\n",
      "\u001b[34m\u001b[1mtrain: \u001b[0mWARNING ⚠️ /home/aashish/Downloads/Nepali-Sign-Language-Recognition/Nepali Sign Language Image Annotations (YOLOv8)/train/images/94697d74-20231204_141451.jpg: corrupt JPEG restored and saved\n",
      "\u001b[34m\u001b[1mtrain: \u001b[0mWARNING ⚠️ /home/aashish/Downloads/Nepali-Sign-Language-Recognition/Nepali Sign Language Image Annotations (YOLOv8)/train/images/94917484-20231203_125400.jpg: corrupt JPEG restored and saved\n",
      "\u001b[34m\u001b[1mtrain: \u001b[0mWARNING ⚠️ /home/aashish/Downloads/Nepali-Sign-Language-Recognition/Nepali Sign Language Image Annotations (YOLOv8)/train/images/94981536-20231204_142724.jpg: corrupt JPEG restored and saved\n",
      "\u001b[34m\u001b[1mtrain: \u001b[0mWARNING ⚠️ /home/aashish/Downloads/Nepali-Sign-Language-Recognition/Nepali Sign Language Image Annotations (YOLOv8)/train/images/94ea2a58-20231203_1257330.jpg: corrupt JPEG restored and saved\n",
      "\u001b[34m\u001b[1mtrain: \u001b[0mWARNING ⚠️ /home/aashish/Downloads/Nepali-Sign-Language-Recognition/Nepali Sign Language Image Annotations (YOLOv8)/train/images/95371560-20231204_131807.jpg: corrupt JPEG restored and saved\n",
      "\u001b[34m\u001b[1mtrain: \u001b[0mWARNING ⚠️ /home/aashish/Downloads/Nepali-Sign-Language-Recognition/Nepali Sign Language Image Annotations (YOLOv8)/train/images/953ed1ce-20231203_1250420.jpg: corrupt JPEG restored and saved\n",
      "\u001b[34m\u001b[1mtrain: \u001b[0mWARNING ⚠️ /home/aashish/Downloads/Nepali-Sign-Language-Recognition/Nepali Sign Language Image Annotations (YOLOv8)/train/images/9564c833-20231204_140328.jpg: corrupt JPEG restored and saved\n",
      "\u001b[34m\u001b[1mtrain: \u001b[0mWARNING ⚠️ /home/aashish/Downloads/Nepali-Sign-Language-Recognition/Nepali Sign Language Image Annotations (YOLOv8)/train/images/95e65384-20231203_130953.jpg: corrupt JPEG restored and saved\n",
      "\u001b[34m\u001b[1mtrain: \u001b[0mWARNING ⚠️ /home/aashish/Downloads/Nepali-Sign-Language-Recognition/Nepali Sign Language Image Annotations (YOLOv8)/train/images/963eb577-20231204_140701.jpg: corrupt JPEG restored and saved\n",
      "\u001b[34m\u001b[1mtrain: \u001b[0mWARNING ⚠️ /home/aashish/Downloads/Nepali-Sign-Language-Recognition/Nepali Sign Language Image Annotations (YOLOv8)/train/images/96a19452-20231204_142230.jpg: corrupt JPEG restored and saved\n",
      "\u001b[34m\u001b[1mtrain: \u001b[0mWARNING ⚠️ /home/aashish/Downloads/Nepali-Sign-Language-Recognition/Nepali Sign Language Image Annotations (YOLOv8)/train/images/96e200ce-20231204_140824.jpg: corrupt JPEG restored and saved\n",
      "\u001b[34m\u001b[1mtrain: \u001b[0mWARNING ⚠️ /home/aashish/Downloads/Nepali-Sign-Language-Recognition/Nepali Sign Language Image Annotations (YOLOv8)/train/images/9716ef43-20231203_134709.jpg: corrupt JPEG restored and saved\n",
      "\u001b[34m\u001b[1mtrain: \u001b[0mWARNING ⚠️ /home/aashish/Downloads/Nepali-Sign-Language-Recognition/Nepali Sign Language Image Annotations (YOLOv8)/train/images/971e29d1-20231212_150531.jpg: corrupt JPEG restored and saved\n",
      "\u001b[34m\u001b[1mtrain: \u001b[0mWARNING ⚠️ /home/aashish/Downloads/Nepali-Sign-Language-Recognition/Nepali Sign Language Image Annotations (YOLOv8)/train/images/9726d493-20231203_133500.jpg: corrupt JPEG restored and saved\n",
      "\u001b[34m\u001b[1mtrain: \u001b[0mWARNING ⚠️ /home/aashish/Downloads/Nepali-Sign-Language-Recognition/Nepali Sign Language Image Annotations (YOLOv8)/train/images/977e33a2-20231203_1347090.jpg: corrupt JPEG restored and saved\n",
      "\u001b[34m\u001b[1mtrain: \u001b[0mWARNING ⚠️ /home/aashish/Downloads/Nepali-Sign-Language-Recognition/Nepali Sign Language Image Annotations (YOLOv8)/train/images/97890177-20231203_125840.jpg: corrupt JPEG restored and saved\n",
      "\u001b[34m\u001b[1mtrain: \u001b[0mWARNING ⚠️ /home/aashish/Downloads/Nepali-Sign-Language-Recognition/Nepali Sign Language Image Annotations (YOLOv8)/train/images/97e626b7-20231203_132426.jpg: corrupt JPEG restored and saved\n",
      "\u001b[34m\u001b[1mtrain: \u001b[0mWARNING ⚠️ /home/aashish/Downloads/Nepali-Sign-Language-Recognition/Nepali Sign Language Image Annotations (YOLOv8)/train/images/9801c275-20231204_143210.jpg: corrupt JPEG restored and saved\n",
      "\u001b[34m\u001b[1mtrain: \u001b[0mWARNING ⚠️ /home/aashish/Downloads/Nepali-Sign-Language-Recognition/Nepali Sign Language Image Annotations (YOLOv8)/train/images/980405d2-20231212_145139.jpg: corrupt JPEG restored and saved\n",
      "\u001b[34m\u001b[1mtrain: \u001b[0mWARNING ⚠️ /home/aashish/Downloads/Nepali-Sign-Language-Recognition/Nepali Sign Language Image Annotations (YOLOv8)/train/images/982c4dba-20231204_140230.jpg: corrupt JPEG restored and saved\n",
      "\u001b[34m\u001b[1mtrain: \u001b[0mWARNING ⚠️ /home/aashish/Downloads/Nepali-Sign-Language-Recognition/Nepali Sign Language Image Annotations (YOLOv8)/train/images/984b78ed-20231212_142517.jpg: corrupt JPEG restored and saved\n",
      "\u001b[34m\u001b[1mtrain: \u001b[0mWARNING ⚠️ /home/aashish/Downloads/Nepali-Sign-Language-Recognition/Nepali Sign Language Image Annotations (YOLOv8)/train/images/9856be81-20231204_1407250.jpg: corrupt JPEG restored and saved\n",
      "\u001b[34m\u001b[1mtrain: \u001b[0mWARNING ⚠️ /home/aashish/Downloads/Nepali-Sign-Language-Recognition/Nepali Sign Language Image Annotations (YOLOv8)/train/images/9859a569-20231203_134715.jpg: corrupt JPEG restored and saved\n",
      "\u001b[34m\u001b[1mtrain: \u001b[0mWARNING ⚠️ /home/aashish/Downloads/Nepali-Sign-Language-Recognition/Nepali Sign Language Image Annotations (YOLOv8)/train/images/985ff4bc-20231212_141754.jpg: corrupt JPEG restored and saved\n",
      "\u001b[34m\u001b[1mtrain: \u001b[0mWARNING ⚠️ /home/aashish/Downloads/Nepali-Sign-Language-Recognition/Nepali Sign Language Image Annotations (YOLOv8)/train/images/986bcaf3-20231203_132905.jpg: corrupt JPEG restored and saved\n",
      "\u001b[34m\u001b[1mtrain: \u001b[0mWARNING ⚠️ /home/aashish/Downloads/Nepali-Sign-Language-Recognition/Nepali Sign Language Image Annotations (YOLOv8)/train/images/988cb303-20231203_133729.jpg: corrupt JPEG restored and saved\n",
      "\u001b[34m\u001b[1mtrain: \u001b[0mWARNING ⚠️ /home/aashish/Downloads/Nepali-Sign-Language-Recognition/Nepali Sign Language Image Annotations (YOLOv8)/train/images/98944e35-20231203_125314.jpg: corrupt JPEG restored and saved\n",
      "\u001b[34m\u001b[1mtrain: \u001b[0mWARNING ⚠️ /home/aashish/Downloads/Nepali-Sign-Language-Recognition/Nepali Sign Language Image Annotations (YOLOv8)/train/images/98fabd3d-20231204_135347.jpg: corrupt JPEG restored and saved\n",
      "\u001b[34m\u001b[1mtrain: \u001b[0mWARNING ⚠️ /home/aashish/Downloads/Nepali-Sign-Language-Recognition/Nepali Sign Language Image Annotations (YOLOv8)/train/images/9915a79d-20231203_1332040.jpg: corrupt JPEG restored and saved\n",
      "\u001b[34m\u001b[1mtrain: \u001b[0mWARNING ⚠️ /home/aashish/Downloads/Nepali-Sign-Language-Recognition/Nepali Sign Language Image Annotations (YOLOv8)/train/images/99255acb-20231212_144800.jpg: corrupt JPEG restored and saved\n",
      "\u001b[34m\u001b[1mtrain: \u001b[0mWARNING ⚠️ /home/aashish/Downloads/Nepali-Sign-Language-Recognition/Nepali Sign Language Image Annotations (YOLOv8)/train/images/994a9feb-20231203_125816.jpg: corrupt JPEG restored and saved\n",
      "\u001b[34m\u001b[1mtrain: \u001b[0mWARNING ⚠️ /home/aashish/Downloads/Nepali-Sign-Language-Recognition/Nepali Sign Language Image Annotations (YOLOv8)/train/images/99638a2d-20231203_130517.jpg: corrupt JPEG restored and saved\n",
      "\u001b[34m\u001b[1mtrain: \u001b[0mWARNING ⚠️ /home/aashish/Downloads/Nepali-Sign-Language-Recognition/Nepali Sign Language Image Annotations (YOLOv8)/train/images/99a097f5-20231212_150346.jpg: corrupt JPEG restored and saved\n",
      "\u001b[34m\u001b[1mtrain: \u001b[0mWARNING ⚠️ /home/aashish/Downloads/Nepali-Sign-Language-Recognition/Nepali Sign Language Image Annotations (YOLOv8)/train/images/99b14e88-20231204_130918.jpg: corrupt JPEG restored and saved\n",
      "\u001b[34m\u001b[1mtrain: \u001b[0mWARNING ⚠️ /home/aashish/Downloads/Nepali-Sign-Language-Recognition/Nepali Sign Language Image Annotations (YOLOv8)/train/images/9a3ad6e0-20231203_1251550.jpg: corrupt JPEG restored and saved\n",
      "\u001b[34m\u001b[1mtrain: \u001b[0mWARNING ⚠️ /home/aashish/Downloads/Nepali-Sign-Language-Recognition/Nepali Sign Language Image Annotations (YOLOv8)/train/images/9a7c22a0-20231204_142421.jpg: corrupt JPEG restored and saved\n",
      "\u001b[34m\u001b[1mtrain: \u001b[0mWARNING ⚠️ /home/aashish/Downloads/Nepali-Sign-Language-Recognition/Nepali Sign Language Image Annotations (YOLOv8)/train/images/9a9b761c-20231212_1350420.jpg: corrupt JPEG restored and saved\n",
      "\u001b[34m\u001b[1mtrain: \u001b[0mWARNING ⚠️ /home/aashish/Downloads/Nepali-Sign-Language-Recognition/Nepali Sign Language Image Annotations (YOLOv8)/train/images/9aaead0f-20231204_143514.jpg: corrupt JPEG restored and saved\n",
      "\u001b[34m\u001b[1mtrain: \u001b[0mWARNING ⚠️ /home/aashish/Downloads/Nepali-Sign-Language-Recognition/Nepali Sign Language Image Annotations (YOLOv8)/train/images/9ac685c7-20231212_144344.jpg: corrupt JPEG restored and saved\n",
      "\u001b[34m\u001b[1mtrain: \u001b[0mWARNING ⚠️ /home/aashish/Downloads/Nepali-Sign-Language-Recognition/Nepali Sign Language Image Annotations (YOLOv8)/train/images/9b1ddce9-20231203_125912.jpg: corrupt JPEG restored and saved\n",
      "\u001b[34m\u001b[1mtrain: \u001b[0mWARNING ⚠️ /home/aashish/Downloads/Nepali-Sign-Language-Recognition/Nepali Sign Language Image Annotations (YOLOv8)/train/images/9b3c4635-20231204_1405520.jpg: corrupt JPEG restored and saved\n",
      "\u001b[34m\u001b[1mtrain: \u001b[0mWARNING ⚠️ /home/aashish/Downloads/Nepali-Sign-Language-Recognition/Nepali Sign Language Image Annotations (YOLOv8)/train/images/9b5aef28-20231203_134911.jpg: corrupt JPEG restored and saved\n",
      "\u001b[34m\u001b[1mtrain: \u001b[0mWARNING ⚠️ /home/aashish/Downloads/Nepali-Sign-Language-Recognition/Nepali Sign Language Image Annotations (YOLOv8)/train/images/9bcc8bcc-20231212_142819.jpg: corrupt JPEG restored and saved\n",
      "\u001b[34m\u001b[1mtrain: \u001b[0mWARNING ⚠️ /home/aashish/Downloads/Nepali-Sign-Language-Recognition/Nepali Sign Language Image Annotations (YOLOv8)/train/images/9bd12db1-20231212_142654.jpg: corrupt JPEG restored and saved\n",
      "\u001b[34m\u001b[1mtrain: \u001b[0mWARNING ⚠️ /home/aashish/Downloads/Nepali-Sign-Language-Recognition/Nepali Sign Language Image Annotations (YOLOv8)/train/images/9bd7d477-20231212_142056.jpg: corrupt JPEG restored and saved\n",
      "\u001b[34m\u001b[1mtrain: \u001b[0mWARNING ⚠️ /home/aashish/Downloads/Nepali-Sign-Language-Recognition/Nepali Sign Language Image Annotations (YOLOv8)/train/images/9c54e783-20231203_1318260.jpg: corrupt JPEG restored and saved\n",
      "\u001b[34m\u001b[1mtrain: \u001b[0mWARNING ⚠️ /home/aashish/Downloads/Nepali-Sign-Language-Recognition/Nepali Sign Language Image Annotations (YOLOv8)/train/images/9c83504b-20231212_141844.jpg: corrupt JPEG restored and saved\n",
      "\u001b[34m\u001b[1mtrain: \u001b[0mWARNING ⚠️ /home/aashish/Downloads/Nepali-Sign-Language-Recognition/Nepali Sign Language Image Annotations (YOLOv8)/train/images/9c86f477-20231204_141029.jpg: corrupt JPEG restored and saved\n",
      "\u001b[34m\u001b[1mtrain: \u001b[0mWARNING ⚠️ /home/aashish/Downloads/Nepali-Sign-Language-Recognition/Nepali Sign Language Image Annotations (YOLOv8)/train/images/9c969e20-20231212_143832.jpg: corrupt JPEG restored and saved\n",
      "\u001b[34m\u001b[1mtrain: \u001b[0mWARNING ⚠️ /home/aashish/Downloads/Nepali-Sign-Language-Recognition/Nepali Sign Language Image Annotations (YOLOv8)/train/images/9cbbe4a8-20231203_1320500.jpg: corrupt JPEG restored and saved\n",
      "\u001b[34m\u001b[1mtrain: \u001b[0mWARNING ⚠️ /home/aashish/Downloads/Nepali-Sign-Language-Recognition/Nepali Sign Language Image Annotations (YOLOv8)/train/images/9cc01cc4-20231204_135455.jpg: corrupt JPEG restored and saved\n",
      "\u001b[34m\u001b[1mtrain: \u001b[0mWARNING ⚠️ /home/aashish/Downloads/Nepali-Sign-Language-Recognition/Nepali Sign Language Image Annotations (YOLOv8)/train/images/9d5d2d1d-20231204_141348.jpg: corrupt JPEG restored and saved\n",
      "\u001b[34m\u001b[1mtrain: \u001b[0mWARNING ⚠️ /home/aashish/Downloads/Nepali-Sign-Language-Recognition/Nepali Sign Language Image Annotations (YOLOv8)/train/images/9d963c80-20231212_142225.jpg: corrupt JPEG restored and saved\n",
      "\u001b[34m\u001b[1mtrain: \u001b[0mWARNING ⚠️ /home/aashish/Downloads/Nepali-Sign-Language-Recognition/Nepali Sign Language Image Annotations (YOLOv8)/train/images/9dd469e7-20231204_1305390.jpg: corrupt JPEG restored and saved\n",
      "\u001b[34m\u001b[1mtrain: \u001b[0mWARNING ⚠️ /home/aashish/Downloads/Nepali-Sign-Language-Recognition/Nepali Sign Language Image Annotations (YOLOv8)/train/images/9e302910-20231204_130710.jpg: corrupt JPEG restored and saved\n",
      "\u001b[34m\u001b[1mtrain: \u001b[0mWARNING ⚠️ /home/aashish/Downloads/Nepali-Sign-Language-Recognition/Nepali Sign Language Image Annotations (YOLOv8)/train/images/9eb707d8-20231203_132821.jpg: corrupt JPEG restored and saved\n",
      "\u001b[34m\u001b[1mtrain: \u001b[0mWARNING ⚠️ /home/aashish/Downloads/Nepali-Sign-Language-Recognition/Nepali Sign Language Image Annotations (YOLOv8)/train/images/9edcaad6-20231204_1316450.jpg: corrupt JPEG restored and saved\n",
      "\u001b[34m\u001b[1mtrain: \u001b[0mWARNING ⚠️ /home/aashish/Downloads/Nepali-Sign-Language-Recognition/Nepali Sign Language Image Annotations (YOLOv8)/train/images/9ef39933-20231212_1446300.jpg: corrupt JPEG restored and saved\n",
      "\u001b[34m\u001b[1mtrain: \u001b[0mWARNING ⚠️ /home/aashish/Downloads/Nepali-Sign-Language-Recognition/Nepali Sign Language Image Annotations (YOLOv8)/train/images/9f07a39f-20231204_140240.jpg: corrupt JPEG restored and saved\n",
      "\u001b[34m\u001b[1mtrain: \u001b[0mWARNING ⚠️ /home/aashish/Downloads/Nepali-Sign-Language-Recognition/Nepali Sign Language Image Annotations (YOLOv8)/train/images/9f409391-20231203_130252.jpg: corrupt JPEG restored and saved\n",
      "\u001b[34m\u001b[1mtrain: \u001b[0mWARNING ⚠️ /home/aashish/Downloads/Nepali-Sign-Language-Recognition/Nepali Sign Language Image Annotations (YOLOv8)/train/images/9f72bb55-20231204_140951.jpg: corrupt JPEG restored and saved\n",
      "\u001b[34m\u001b[1mtrain: \u001b[0mWARNING ⚠️ /home/aashish/Downloads/Nepali-Sign-Language-Recognition/Nepali Sign Language Image Annotations (YOLOv8)/train/images/9f76a8e7-20231203_134837.jpg: corrupt JPEG restored and saved\n",
      "\u001b[34m\u001b[1mtrain: \u001b[0mWARNING ⚠️ /home/aashish/Downloads/Nepali-Sign-Language-Recognition/Nepali Sign Language Image Annotations (YOLOv8)/train/images/9f8ed29f-20231204_140312.jpg: corrupt JPEG restored and saved\n",
      "\u001b[34m\u001b[1mtrain: \u001b[0mWARNING ⚠️ /home/aashish/Downloads/Nepali-Sign-Language-Recognition/Nepali Sign Language Image Annotations (YOLOv8)/train/images/a042b4ad-20231212_142105.jpg: corrupt JPEG restored and saved\n",
      "\u001b[34m\u001b[1mtrain: \u001b[0mWARNING ⚠️ /home/aashish/Downloads/Nepali-Sign-Language-Recognition/Nepali Sign Language Image Annotations (YOLOv8)/train/images/a081016a-20231212_143132.jpg: corrupt JPEG restored and saved\n",
      "\u001b[34m\u001b[1mtrain: \u001b[0mWARNING ⚠️ /home/aashish/Downloads/Nepali-Sign-Language-Recognition/Nepali Sign Language Image Annotations (YOLOv8)/train/images/a1680448-20231204_143348.jpg: corrupt JPEG restored and saved\n",
      "\u001b[34m\u001b[1mtrain: \u001b[0mWARNING ⚠️ /home/aashish/Downloads/Nepali-Sign-Language-Recognition/Nepali Sign Language Image Annotations (YOLOv8)/train/images/a1e8aa42-20231204_140950.jpg: corrupt JPEG restored and saved\n",
      "\u001b[34m\u001b[1mtrain: \u001b[0mWARNING ⚠️ /home/aashish/Downloads/Nepali-Sign-Language-Recognition/Nepali Sign Language Image Annotations (YOLOv8)/train/images/a2b7fe7b-20231204_141113.jpg: corrupt JPEG restored and saved\n",
      "\u001b[34m\u001b[1mtrain: \u001b[0mWARNING ⚠️ /home/aashish/Downloads/Nepali-Sign-Language-Recognition/Nepali Sign Language Image Annotations (YOLOv8)/train/images/a4126416-20231212_145233.jpg: corrupt JPEG restored and saved\n",
      "\u001b[34m\u001b[1mtrain: \u001b[0mWARNING ⚠️ /home/aashish/Downloads/Nepali-Sign-Language-Recognition/Nepali Sign Language Image Annotations (YOLOv8)/train/images/a473d335-20231212_1453030.jpg: corrupt JPEG restored and saved\n",
      "\u001b[34m\u001b[1mtrain: \u001b[0mWARNING ⚠️ /home/aashish/Downloads/Nepali-Sign-Language-Recognition/Nepali Sign Language Image Annotations (YOLOv8)/train/images/a4c6bc12-20231212_150259.jpg: corrupt JPEG restored and saved\n",
      "\u001b[34m\u001b[1mtrain: \u001b[0mWARNING ⚠️ /home/aashish/Downloads/Nepali-Sign-Language-Recognition/Nepali Sign Language Image Annotations (YOLOv8)/train/images/a4ffbe9a-20231204_140829.jpg: corrupt JPEG restored and saved\n",
      "\u001b[34m\u001b[1mtrain: \u001b[0mWARNING ⚠️ /home/aashish/Downloads/Nepali-Sign-Language-Recognition/Nepali Sign Language Image Annotations (YOLOv8)/train/images/a504b7f2-20231204_142726.jpg: corrupt JPEG restored and saved\n",
      "\u001b[34m\u001b[1mtrain: \u001b[0mWARNING ⚠️ /home/aashish/Downloads/Nepali-Sign-Language-Recognition/Nepali Sign Language Image Annotations (YOLOv8)/train/images/a5235981-20231203_132107.jpg: corrupt JPEG restored and saved\n",
      "\u001b[34m\u001b[1mtrain: \u001b[0mWARNING ⚠️ /home/aashish/Downloads/Nepali-Sign-Language-Recognition/Nepali Sign Language Image Annotations (YOLOv8)/train/images/a5328032-20231212_144105.jpg: corrupt JPEG restored and saved\n",
      "\u001b[34m\u001b[1mtrain: \u001b[0mWARNING ⚠️ /home/aashish/Downloads/Nepali-Sign-Language-Recognition/Nepali Sign Language Image Annotations (YOLOv8)/train/images/a540fe7a-20231203_1321070.jpg: corrupt JPEG restored and saved\n",
      "\u001b[34m\u001b[1mtrain: \u001b[0mWARNING ⚠️ /home/aashish/Downloads/Nepali-Sign-Language-Recognition/Nepali Sign Language Image Annotations (YOLOv8)/train/images/a56d1fca-20231204_143417.jpg: corrupt JPEG restored and saved\n",
      "\u001b[34m\u001b[1mtrain: \u001b[0mWARNING ⚠️ /home/aashish/Downloads/Nepali-Sign-Language-Recognition/Nepali Sign Language Image Annotations (YOLOv8)/train/images/a5749657-20231203_134503.jpg: corrupt JPEG restored and saved\n",
      "\u001b[34m\u001b[1mtrain: \u001b[0mWARNING ⚠️ /home/aashish/Downloads/Nepali-Sign-Language-Recognition/Nepali Sign Language Image Annotations (YOLOv8)/train/images/a5ae7acc-20231203_1314050.jpg: corrupt JPEG restored and saved\n",
      "\u001b[34m\u001b[1mtrain: \u001b[0mWARNING ⚠️ /home/aashish/Downloads/Nepali-Sign-Language-Recognition/Nepali Sign Language Image Annotations (YOLOv8)/train/images/a612dbc5-20231203_132844.jpg: corrupt JPEG restored and saved\n",
      "\u001b[34m\u001b[1mtrain: \u001b[0mWARNING ⚠️ /home/aashish/Downloads/Nepali-Sign-Language-Recognition/Nepali Sign Language Image Annotations (YOLOv8)/train/images/a620288d-20231204_142127.jpg: corrupt JPEG restored and saved\n",
      "\u001b[34m\u001b[1mtrain: \u001b[0mWARNING ⚠️ /home/aashish/Downloads/Nepali-Sign-Language-Recognition/Nepali Sign Language Image Annotations (YOLOv8)/train/images/a63d267d-20231212_143453.jpg: corrupt JPEG restored and saved\n",
      "\u001b[34m\u001b[1mtrain: \u001b[0mWARNING ⚠️ /home/aashish/Downloads/Nepali-Sign-Language-Recognition/Nepali Sign Language Image Annotations (YOLOv8)/train/images/a6ba38ca-20231212_143902.jpg: corrupt JPEG restored and saved\n",
      "\u001b[34m\u001b[1mtrain: \u001b[0mWARNING ⚠️ /home/aashish/Downloads/Nepali-Sign-Language-Recognition/Nepali Sign Language Image Annotations (YOLOv8)/train/images/a6ef1cef-20231204_141143.jpg: corrupt JPEG restored and saved\n",
      "\u001b[34m\u001b[1mtrain: \u001b[0mWARNING ⚠️ /home/aashish/Downloads/Nepali-Sign-Language-Recognition/Nepali Sign Language Image Annotations (YOLOv8)/train/images/a71d5ff2-20231212_1502260.jpg: corrupt JPEG restored and saved\n",
      "\u001b[34m\u001b[1mtrain: \u001b[0mWARNING ⚠️ /home/aashish/Downloads/Nepali-Sign-Language-Recognition/Nepali Sign Language Image Annotations (YOLOv8)/train/images/a73f2991-20231212_1429050.jpg: corrupt JPEG restored and saved\n",
      "\u001b[34m\u001b[1mtrain: \u001b[0mWARNING ⚠️ /home/aashish/Downloads/Nepali-Sign-Language-Recognition/Nepali Sign Language Image Annotations (YOLOv8)/train/images/a7487963-20231212_144801.jpg: corrupt JPEG restored and saved\n",
      "\u001b[34m\u001b[1mtrain: \u001b[0mWARNING ⚠️ /home/aashish/Downloads/Nepali-Sign-Language-Recognition/Nepali Sign Language Image Annotations (YOLOv8)/train/images/a760a8a1-20231212_135042.jpg: corrupt JPEG restored and saved\n",
      "\u001b[34m\u001b[1mtrain: \u001b[0mWARNING ⚠️ /home/aashish/Downloads/Nepali-Sign-Language-Recognition/Nepali Sign Language Image Annotations (YOLOv8)/train/images/a760bb61-20231204_141424.jpg: corrupt JPEG restored and saved\n",
      "\u001b[34m\u001b[1mtrain: \u001b[0mWARNING ⚠️ /home/aashish/Downloads/Nepali-Sign-Language-Recognition/Nepali Sign Language Image Annotations (YOLOv8)/train/images/a77de353-20231204_141331.jpg: corrupt JPEG restored and saved\n",
      "\u001b[34m\u001b[1mtrain: \u001b[0mWARNING ⚠️ /home/aashish/Downloads/Nepali-Sign-Language-Recognition/Nepali Sign Language Image Annotations (YOLOv8)/train/images/a7cc9539-20231212_135211.jpg: corrupt JPEG restored and saved\n",
      "\u001b[34m\u001b[1mtrain: \u001b[0mWARNING ⚠️ /home/aashish/Downloads/Nepali-Sign-Language-Recognition/Nepali Sign Language Image Annotations (YOLOv8)/train/images/a82e8525-20231203_130211.jpg: corrupt JPEG restored and saved\n",
      "\u001b[34m\u001b[1mtrain: \u001b[0mWARNING ⚠️ /home/aashish/Downloads/Nepali-Sign-Language-Recognition/Nepali Sign Language Image Annotations (YOLOv8)/train/images/a8ae6de5-20231203_132929.jpg: corrupt JPEG restored and saved\n",
      "\u001b[34m\u001b[1mtrain: \u001b[0mWARNING ⚠️ /home/aashish/Downloads/Nepali-Sign-Language-Recognition/Nepali Sign Language Image Annotations (YOLOv8)/train/images/a8f7caf0-20231212_144235.jpg: corrupt JPEG restored and saved\n",
      "\u001b[34m\u001b[1mtrain: \u001b[0mWARNING ⚠️ /home/aashish/Downloads/Nepali-Sign-Language-Recognition/Nepali Sign Language Image Annotations (YOLOv8)/train/images/a8fc2dc1-20231203_125821.jpg: corrupt JPEG restored and saved\n",
      "\u001b[34m\u001b[1mtrain: \u001b[0mWARNING ⚠️ /home/aashish/Downloads/Nepali-Sign-Language-Recognition/Nepali Sign Language Image Annotations (YOLOv8)/train/images/a9280bda-20231204_1423180.jpg: corrupt JPEG restored and saved\n",
      "\u001b[34m\u001b[1mtrain: \u001b[0mWARNING ⚠️ /home/aashish/Downloads/Nepali-Sign-Language-Recognition/Nepali Sign Language Image Annotations (YOLOv8)/train/images/a98201e3-20231203_135245.jpg: corrupt JPEG restored and saved\n",
      "\u001b[34m\u001b[1mtrain: \u001b[0mWARNING ⚠️ /home/aashish/Downloads/Nepali-Sign-Language-Recognition/Nepali Sign Language Image Annotations (YOLOv8)/train/images/a986207a-20231203_133606.jpg: corrupt JPEG restored and saved\n",
      "\u001b[34m\u001b[1mtrain: \u001b[0mWARNING ⚠️ /home/aashish/Downloads/Nepali-Sign-Language-Recognition/Nepali Sign Language Image Annotations (YOLOv8)/train/images/a9944241-20231204_141223.jpg: corrupt JPEG restored and saved\n",
      "\u001b[34m\u001b[1mtrain: \u001b[0mWARNING ⚠️ /home/aashish/Downloads/Nepali-Sign-Language-Recognition/Nepali Sign Language Image Annotations (YOLOv8)/train/images/a9d60653-20231203_134743.jpg: corrupt JPEG restored and saved\n",
      "\u001b[34m\u001b[1mtrain: \u001b[0mWARNING ⚠️ /home/aashish/Downloads/Nepali-Sign-Language-Recognition/Nepali Sign Language Image Annotations (YOLOv8)/train/images/a9ebda35-20231204_143224.jpg: corrupt JPEG restored and saved\n",
      "\u001b[34m\u001b[1mtrain: \u001b[0mWARNING ⚠️ /home/aashish/Downloads/Nepali-Sign-Language-Recognition/Nepali Sign Language Image Annotations (YOLOv8)/train/images/a9eebf51-20231212_145453.jpg: corrupt JPEG restored and saved\n",
      "\u001b[34m\u001b[1mtrain: \u001b[0mWARNING ⚠️ /home/aashish/Downloads/Nepali-Sign-Language-Recognition/Nepali Sign Language Image Annotations (YOLOv8)/train/images/aa8264e4-20231212_145035.jpg: corrupt JPEG restored and saved\n",
      "\u001b[34m\u001b[1mtrain: \u001b[0mWARNING ⚠️ /home/aashish/Downloads/Nepali-Sign-Language-Recognition/Nepali Sign Language Image Annotations (YOLOv8)/train/images/aad0c764-20231204_140740.jpg: corrupt JPEG restored and saved\n",
      "\u001b[34m\u001b[1mtrain: \u001b[0mWARNING ⚠️ /home/aashish/Downloads/Nepali-Sign-Language-Recognition/Nepali Sign Language Image Annotations (YOLOv8)/train/images/aadb4bb8-20231204_130752.jpg: corrupt JPEG restored and saved\n",
      "\u001b[34m\u001b[1mtrain: \u001b[0mWARNING ⚠️ /home/aashish/Downloads/Nepali-Sign-Language-Recognition/Nepali Sign Language Image Annotations (YOLOv8)/train/images/ab291295-20231204_142908.jpg: corrupt JPEG restored and saved\n",
      "\u001b[34m\u001b[1mtrain: \u001b[0mWARNING ⚠️ /home/aashish/Downloads/Nepali-Sign-Language-Recognition/Nepali Sign Language Image Annotations (YOLOv8)/train/images/ab6bf737-20231212_1422460.jpg: corrupt JPEG restored and saved\n",
      "\u001b[34m\u001b[1mtrain: \u001b[0mWARNING ⚠️ /home/aashish/Downloads/Nepali-Sign-Language-Recognition/Nepali Sign Language Image Annotations (YOLOv8)/train/images/ab7c43d4-20231212_145514.jpg: corrupt JPEG restored and saved\n",
      "\u001b[34m\u001b[1mtrain: \u001b[0mWARNING ⚠️ /home/aashish/Downloads/Nepali-Sign-Language-Recognition/Nepali Sign Language Image Annotations (YOLOv8)/train/images/ac03a5d7-20231204_141436.jpg: corrupt JPEG restored and saved\n",
      "\u001b[34m\u001b[1mtrain: \u001b[0mWARNING ⚠️ /home/aashish/Downloads/Nepali-Sign-Language-Recognition/Nepali Sign Language Image Annotations (YOLOv8)/train/images/ac0fcdb5-20231203_125145.jpg: corrupt JPEG restored and saved\n",
      "\u001b[34m\u001b[1mtrain: \u001b[0mWARNING ⚠️ /home/aashish/Downloads/Nepali-Sign-Language-Recognition/Nepali Sign Language Image Annotations (YOLOv8)/train/images/ac564186-20231204_130540.jpg: corrupt JPEG restored and saved\n",
      "\u001b[34m\u001b[1mtrain: \u001b[0mWARNING ⚠️ /home/aashish/Downloads/Nepali-Sign-Language-Recognition/Nepali Sign Language Image Annotations (YOLOv8)/train/images/acb71e49-20231204_140510.jpg: corrupt JPEG restored and saved\n",
      "\u001b[34m\u001b[1mtrain: \u001b[0mWARNING ⚠️ /home/aashish/Downloads/Nepali-Sign-Language-Recognition/Nepali Sign Language Image Annotations (YOLOv8)/train/images/acd9564a-20231203_132723.jpg: corrupt JPEG restored and saved\n",
      "\u001b[34m\u001b[1mtrain: \u001b[0mWARNING ⚠️ /home/aashish/Downloads/Nepali-Sign-Language-Recognition/Nepali Sign Language Image Annotations (YOLOv8)/train/images/acf8ce11-20231212_134939.jpg: corrupt JPEG restored and saved\n",
      "\u001b[34m\u001b[1mtrain: \u001b[0mWARNING ⚠️ /home/aashish/Downloads/Nepali-Sign-Language-Recognition/Nepali Sign Language Image Annotations (YOLOv8)/train/images/acfe3f61-20231203_133946.jpg: corrupt JPEG restored and saved\n",
      "\u001b[34m\u001b[1mtrain: \u001b[0mWARNING ⚠️ /home/aashish/Downloads/Nepali-Sign-Language-Recognition/Nepali Sign Language Image Annotations (YOLOv8)/train/images/ad292767-20231212_142010.jpg: corrupt JPEG restored and saved\n",
      "\u001b[34m\u001b[1mtrain: \u001b[0mWARNING ⚠️ /home/aashish/Downloads/Nepali-Sign-Language-Recognition/Nepali Sign Language Image Annotations (YOLOv8)/train/images/ad3bb430-20231203_133618.jpg: corrupt JPEG restored and saved\n",
      "\u001b[34m\u001b[1mtrain: \u001b[0mWARNING ⚠️ /home/aashish/Downloads/Nepali-Sign-Language-Recognition/Nepali Sign Language Image Annotations (YOLOv8)/train/images/ad4fe300-20231204_141257.jpg: corrupt JPEG restored and saved\n",
      "\u001b[34m\u001b[1mtrain: \u001b[0mWARNING ⚠️ /home/aashish/Downloads/Nepali-Sign-Language-Recognition/Nepali Sign Language Image Annotations (YOLOv8)/train/images/ad57b32a-20231204_141837.jpg: corrupt JPEG restored and saved\n",
      "\u001b[34m\u001b[1mtrain: \u001b[0mWARNING ⚠️ /home/aashish/Downloads/Nepali-Sign-Language-Recognition/Nepali Sign Language Image Annotations (YOLOv8)/train/images/adc0c03b-20231204_1315180.jpg: corrupt JPEG restored and saved\n",
      "\u001b[34m\u001b[1mtrain: \u001b[0mWARNING ⚠️ /home/aashish/Downloads/Nepali-Sign-Language-Recognition/Nepali Sign Language Image Annotations (YOLOv8)/train/images/ae20e998-20231203_1259030.jpg: corrupt JPEG restored and saved\n",
      "\u001b[34m\u001b[1mtrain: \u001b[0mWARNING ⚠️ /home/aashish/Downloads/Nepali-Sign-Language-Recognition/Nepali Sign Language Image Annotations (YOLOv8)/train/images/ae2b169d-20231212_1500220.jpg: corrupt JPEG restored and saved\n",
      "\u001b[34m\u001b[1mtrain: \u001b[0mWARNING ⚠️ /home/aashish/Downloads/Nepali-Sign-Language-Recognition/Nepali Sign Language Image Annotations (YOLOv8)/train/images/ae68e43c-20231212_143414.jpg: corrupt JPEG restored and saved\n",
      "\u001b[34m\u001b[1mtrain: \u001b[0mWARNING ⚠️ /home/aashish/Downloads/Nepali-Sign-Language-Recognition/Nepali Sign Language Image Annotations (YOLOv8)/train/images/ae76f198-20231204_131007.jpg: corrupt JPEG restored and saved\n",
      "\u001b[34m\u001b[1mtrain: \u001b[0mWARNING ⚠️ /home/aashish/Downloads/Nepali-Sign-Language-Recognition/Nepali Sign Language Image Annotations (YOLOv8)/train/images/aea91974-20231204_141241.jpg: corrupt JPEG restored and saved\n",
      "\u001b[34m\u001b[1mtrain: \u001b[0mWARNING ⚠️ /home/aashish/Downloads/Nepali-Sign-Language-Recognition/Nepali Sign Language Image Annotations (YOLOv8)/train/images/aeb7d131-20231204_143552.jpg: corrupt JPEG restored and saved\n",
      "\u001b[34m\u001b[1mtrain: \u001b[0mWARNING ⚠️ /home/aashish/Downloads/Nepali-Sign-Language-Recognition/Nepali Sign Language Image Annotations (YOLOv8)/train/images/aed7b1b9-20231204_131237.jpg: corrupt JPEG restored and saved\n",
      "\u001b[34m\u001b[1mtrain: \u001b[0mWARNING ⚠️ /home/aashish/Downloads/Nepali-Sign-Language-Recognition/Nepali Sign Language Image Annotations (YOLOv8)/train/images/aee67af8-20231212_1350110.jpg: corrupt JPEG restored and saved\n",
      "\u001b[34m\u001b[1mtrain: \u001b[0mWARNING ⚠️ /home/aashish/Downloads/Nepali-Sign-Language-Recognition/Nepali Sign Language Image Annotations (YOLOv8)/train/images/aefdfbca-20231204_140242.jpg: corrupt JPEG restored and saved\n",
      "\u001b[34m\u001b[1mtrain: \u001b[0mWARNING ⚠️ /home/aashish/Downloads/Nepali-Sign-Language-Recognition/Nepali Sign Language Image Annotations (YOLOv8)/train/images/af9c06d0-20231203_130725.jpg: corrupt JPEG restored and saved\n",
      "\u001b[34m\u001b[1mtrain: \u001b[0mWARNING ⚠️ /home/aashish/Downloads/Nepali-Sign-Language-Recognition/Nepali Sign Language Image Annotations (YOLOv8)/train/images/aff43485-20231212_143119.jpg: corrupt JPEG restored and saved\n",
      "\u001b[34m\u001b[1mtrain: \u001b[0mWARNING ⚠️ /home/aashish/Downloads/Nepali-Sign-Language-Recognition/Nepali Sign Language Image Annotations (YOLOv8)/train/images/b03f9853-20231203_133206.jpg: corrupt JPEG restored and saved\n",
      "\u001b[34m\u001b[1mtrain: \u001b[0mWARNING ⚠️ /home/aashish/Downloads/Nepali-Sign-Language-Recognition/Nepali Sign Language Image Annotations (YOLOv8)/train/images/b07c0ae3-20231212_1501120.jpg: corrupt JPEG restored and saved\n",
      "\u001b[34m\u001b[1mtrain: \u001b[0mWARNING ⚠️ /home/aashish/Downloads/Nepali-Sign-Language-Recognition/Nepali Sign Language Image Annotations (YOLOv8)/train/images/b0943bd5-20231203_132803.jpg: corrupt JPEG restored and saved\n",
      "\u001b[34m\u001b[1mtrain: \u001b[0mWARNING ⚠️ /home/aashish/Downloads/Nepali-Sign-Language-Recognition/Nepali Sign Language Image Annotations (YOLOv8)/train/images/b0b10a13-20231203_1250150.jpg: corrupt JPEG restored and saved\n",
      "\u001b[34m\u001b[1mtrain: \u001b[0mWARNING ⚠️ /home/aashish/Downloads/Nepali-Sign-Language-Recognition/Nepali Sign Language Image Annotations (YOLOv8)/train/images/b0cfe9b3-20231203_130450.jpg: corrupt JPEG restored and saved\n",
      "\u001b[34m\u001b[1mtrain: \u001b[0mWARNING ⚠️ /home/aashish/Downloads/Nepali-Sign-Language-Recognition/Nepali Sign Language Image Annotations (YOLOv8)/train/images/b0d181a4-20231204_142301.jpg: corrupt JPEG restored and saved\n",
      "\u001b[34m\u001b[1mtrain: \u001b[0mWARNING ⚠️ /home/aashish/Downloads/Nepali-Sign-Language-Recognition/Nepali Sign Language Image Annotations (YOLOv8)/train/images/b0e859e5-20231204_135249.jpg: corrupt JPEG restored and saved\n",
      "\u001b[34m\u001b[1mtrain: \u001b[0mWARNING ⚠️ /home/aashish/Downloads/Nepali-Sign-Language-Recognition/Nepali Sign Language Image Annotations (YOLOv8)/train/images/b10a9c89-20231203_133204.jpg: corrupt JPEG restored and saved\n",
      "\u001b[34m\u001b[1mtrain: \u001b[0mWARNING ⚠️ /home/aashish/Downloads/Nepali-Sign-Language-Recognition/Nepali Sign Language Image Annotations (YOLOv8)/train/images/b179b550-20231203_125313.jpg: corrupt JPEG restored and saved\n",
      "\u001b[34m\u001b[1mtrain: \u001b[0mWARNING ⚠️ /home/aashish/Downloads/Nepali-Sign-Language-Recognition/Nepali Sign Language Image Annotations (YOLOv8)/train/images/b1b7833b-20231203_132602.jpg: corrupt JPEG restored and saved\n",
      "\u001b[34m\u001b[1mtrain: \u001b[0mWARNING ⚠️ /home/aashish/Downloads/Nepali-Sign-Language-Recognition/Nepali Sign Language Image Annotations (YOLOv8)/train/images/b1ffc000-20231212_1420010.jpg: corrupt JPEG restored and saved\n",
      "\u001b[34m\u001b[1mtrain: \u001b[0mWARNING ⚠️ /home/aashish/Downloads/Nepali-Sign-Language-Recognition/Nepali Sign Language Image Annotations (YOLOv8)/train/images/b2540602-20231203_133711.jpg: corrupt JPEG restored and saved\n",
      "\u001b[34m\u001b[1mtrain: \u001b[0mWARNING ⚠️ /home/aashish/Downloads/Nepali-Sign-Language-Recognition/Nepali Sign Language Image Annotations (YOLOv8)/train/images/b2ba09ae-20231203_134909.jpg: corrupt JPEG restored and saved\n",
      "\u001b[34m\u001b[1mtrain: \u001b[0mWARNING ⚠️ /home/aashish/Downloads/Nepali-Sign-Language-Recognition/Nepali Sign Language Image Annotations (YOLOv8)/train/images/b2fc226a-20231203_125248.jpg: corrupt JPEG restored and saved\n",
      "\u001b[34m\u001b[1mtrain: \u001b[0mWARNING ⚠️ /home/aashish/Downloads/Nepali-Sign-Language-Recognition/Nepali Sign Language Image Annotations (YOLOv8)/train/images/b31b8d0d-20231203_133052.jpg: corrupt JPEG restored and saved\n",
      "\u001b[34m\u001b[1mtrain: \u001b[0mWARNING ⚠️ /home/aashish/Downloads/Nepali-Sign-Language-Recognition/Nepali Sign Language Image Annotations (YOLOv8)/train/images/b31f2b22-20231212_150457.jpg: corrupt JPEG restored and saved\n",
      "\u001b[34m\u001b[1mtrain: \u001b[0mWARNING ⚠️ /home/aashish/Downloads/Nepali-Sign-Language-Recognition/Nepali Sign Language Image Annotations (YOLOv8)/train/images/b36fb6ec-20231212_1430080.jpg: corrupt JPEG restored and saved\n",
      "\u001b[34m\u001b[1mtrain: \u001b[0mWARNING ⚠️ /home/aashish/Downloads/Nepali-Sign-Language-Recognition/Nepali Sign Language Image Annotations (YOLOv8)/train/images/b450c65d-20231204_143036.jpg: corrupt JPEG restored and saved\n",
      "\u001b[34m\u001b[1mtrain: \u001b[0mWARNING ⚠️ /home/aashish/Downloads/Nepali-Sign-Language-Recognition/Nepali Sign Language Image Annotations (YOLOv8)/train/images/b54841da-20231212_145201.jpg: corrupt JPEG restored and saved\n",
      "\u001b[34m\u001b[1mtrain: \u001b[0mWARNING ⚠️ /home/aashish/Downloads/Nepali-Sign-Language-Recognition/Nepali Sign Language Image Annotations (YOLOv8)/train/images/b55fe45b-20231212_1445490.jpg: corrupt JPEG restored and saved\n",
      "\u001b[34m\u001b[1mtrain: \u001b[0mWARNING ⚠️ /home/aashish/Downloads/Nepali-Sign-Language-Recognition/Nepali Sign Language Image Annotations (YOLOv8)/train/images/b597434d-20231203_133636.jpg: corrupt JPEG restored and saved\n",
      "\u001b[34m\u001b[1mtrain: \u001b[0mWARNING ⚠️ /home/aashish/Downloads/Nepali-Sign-Language-Recognition/Nepali Sign Language Image Annotations (YOLOv8)/train/images/b5c3c141-20231204_140741.jpg: corrupt JPEG restored and saved\n",
      "\u001b[34m\u001b[1mtrain: \u001b[0mWARNING ⚠️ /home/aashish/Downloads/Nepali-Sign-Language-Recognition/Nepali Sign Language Image Annotations (YOLOv8)/train/images/b6a4be36-20231212_1438310.jpg: corrupt JPEG restored and saved\n",
      "\u001b[34m\u001b[1mtrain: \u001b[0mWARNING ⚠️ /home/aashish/Downloads/Nepali-Sign-Language-Recognition/Nepali Sign Language Image Annotations (YOLOv8)/train/images/b74fdea0-20231204_1312230.jpg: corrupt JPEG restored and saved\n",
      "\u001b[34m\u001b[1mtrain: \u001b[0mWARNING ⚠️ /home/aashish/Downloads/Nepali-Sign-Language-Recognition/Nepali Sign Language Image Annotations (YOLOv8)/train/images/b7594b1d-20231203_131948.jpg: corrupt JPEG restored and saved\n",
      "\u001b[34m\u001b[1mtrain: \u001b[0mWARNING ⚠️ /home/aashish/Downloads/Nepali-Sign-Language-Recognition/Nepali Sign Language Image Annotations (YOLOv8)/train/images/b831004a-20231204_143406.jpg: corrupt JPEG restored and saved\n",
      "\u001b[34m\u001b[1mtrain: \u001b[0mWARNING ⚠️ /home/aashish/Downloads/Nepali-Sign-Language-Recognition/Nepali Sign Language Image Annotations (YOLOv8)/train/images/b89a7096-20231212_1443440.jpg: corrupt JPEG restored and saved\n",
      "\u001b[34m\u001b[1mtrain: \u001b[0mWARNING ⚠️ /home/aashish/Downloads/Nepali-Sign-Language-Recognition/Nepali Sign Language Image Annotations (YOLOv8)/train/images/b8a1e5c9-20231203_132947.jpg: corrupt JPEG restored and saved\n",
      "\u001b[34m\u001b[1mtrain: \u001b[0mWARNING ⚠️ /home/aashish/Downloads/Nepali-Sign-Language-Recognition/Nepali Sign Language Image Annotations (YOLOv8)/train/images/b8e7eec8-20231203_133205.jpg: corrupt JPEG restored and saved\n",
      "\u001b[34m\u001b[1mtrain: \u001b[0mWARNING ⚠️ /home/aashish/Downloads/Nepali-Sign-Language-Recognition/Nepali Sign Language Image Annotations (YOLOv8)/train/images/b97c9a7c-20231204_143430.jpg: corrupt JPEG restored and saved\n",
      "\u001b[34m\u001b[1mtrain: \u001b[0mWARNING ⚠️ /home/aashish/Downloads/Nepali-Sign-Language-Recognition/Nepali Sign Language Image Annotations (YOLOv8)/train/images/b97d5fe3-20231204_143000.jpg: corrupt JPEG restored and saved\n",
      "\u001b[34m\u001b[1mtrain: \u001b[0mWARNING ⚠️ /home/aashish/Downloads/Nepali-Sign-Language-Recognition/Nepali Sign Language Image Annotations (YOLOv8)/train/images/b9dc54ca-20231203_125627.jpg: corrupt JPEG restored and saved\n",
      "\u001b[34m\u001b[1mtrain: \u001b[0mWARNING ⚠️ /home/aashish/Downloads/Nepali-Sign-Language-Recognition/Nepali Sign Language Image Annotations (YOLOv8)/train/images/bacdbac3-20231212_134740.jpg: corrupt JPEG restored and saved\n",
      "\u001b[34m\u001b[1mtrain: \u001b[0mWARNING ⚠️ /home/aashish/Downloads/Nepali-Sign-Language-Recognition/Nepali Sign Language Image Annotations (YOLOv8)/train/images/badbca68-20231212_1352130.jpg: corrupt JPEG restored and saved\n",
      "\u001b[34m\u001b[1mtrain: \u001b[0mWARNING ⚠️ /home/aashish/Downloads/Nepali-Sign-Language-Recognition/Nepali Sign Language Image Annotations (YOLOv8)/train/images/bb16da79-20231212_134731.jpg: corrupt JPEG restored and saved\n",
      "\u001b[34m\u001b[1mtrain: \u001b[0mWARNING ⚠️ /home/aashish/Downloads/Nepali-Sign-Language-Recognition/Nepali Sign Language Image Annotations (YOLOv8)/train/images/bb22806e-20231204_140543.jpg: corrupt JPEG restored and saved\n",
      "\u001b[34m\u001b[1mtrain: \u001b[0mWARNING ⚠️ /home/aashish/Downloads/Nepali-Sign-Language-Recognition/Nepali Sign Language Image Annotations (YOLOv8)/train/images/bbbf1a5f-20231204_1409500.jpg: corrupt JPEG restored and saved\n",
      "\u001b[34m\u001b[1mtrain: \u001b[0mWARNING ⚠️ /home/aashish/Downloads/Nepali-Sign-Language-Recognition/Nepali Sign Language Image Annotations (YOLOv8)/train/images/bc05dd22-20231212_145415.jpg: corrupt JPEG restored and saved\n",
      "\u001b[34m\u001b[1mtrain: \u001b[0mWARNING ⚠️ /home/aashish/Downloads/Nepali-Sign-Language-Recognition/Nepali Sign Language Image Annotations (YOLOv8)/train/images/bc43a186-20231203_134733.jpg: corrupt JPEG restored and saved\n",
      "\u001b[34m\u001b[1mtrain: \u001b[0mWARNING ⚠️ /home/aashish/Downloads/Nepali-Sign-Language-Recognition/Nepali Sign Language Image Annotations (YOLOv8)/train/images/bd16f6c9-20231203_134546.jpg: corrupt JPEG restored and saved\n",
      "\u001b[34m\u001b[1mtrain: \u001b[0mWARNING ⚠️ /home/aashish/Downloads/Nepali-Sign-Language-Recognition/Nepali Sign Language Image Annotations (YOLOv8)/train/images/bd33d4ca-20231204_140627.jpg: corrupt JPEG restored and saved\n",
      "\u001b[34m\u001b[1mtrain: \u001b[0mWARNING ⚠️ /home/aashish/Downloads/Nepali-Sign-Language-Recognition/Nepali Sign Language Image Annotations (YOLOv8)/train/images/bd901405-20231203_134821.jpg: corrupt JPEG restored and saved\n",
      "\u001b[34m\u001b[1mtrain: \u001b[0mWARNING ⚠️ /home/aashish/Downloads/Nepali-Sign-Language-Recognition/Nepali Sign Language Image Annotations (YOLOv8)/train/images/bd9a1c2c-20231204_143156.jpg: corrupt JPEG restored and saved\n",
      "\u001b[34m\u001b[1mtrain: \u001b[0mWARNING ⚠️ /home/aashish/Downloads/Nepali-Sign-Language-Recognition/Nepali Sign Language Image Annotations (YOLOv8)/train/images/bdb747e1-20231204_131337.jpg: corrupt JPEG restored and saved\n",
      "\u001b[34m\u001b[1mtrain: \u001b[0mWARNING ⚠️ /home/aashish/Downloads/Nepali-Sign-Language-Recognition/Nepali Sign Language Image Annotations (YOLOv8)/train/images/bdc15e20-20231204_142301.jpg: corrupt JPEG restored and saved\n",
      "\u001b[34m\u001b[1mtrain: \u001b[0mWARNING ⚠️ /home/aashish/Downloads/Nepali-Sign-Language-Recognition/Nepali Sign Language Image Annotations (YOLOv8)/train/images/bddaec74-20231204_140725.jpg: corrupt JPEG restored and saved\n",
      "\u001b[34m\u001b[1mtrain: \u001b[0mWARNING ⚠️ /home/aashish/Downloads/Nepali-Sign-Language-Recognition/Nepali Sign Language Image Annotations (YOLOv8)/train/images/bea59b0d-20231212_145900.jpg: corrupt JPEG restored and saved\n",
      "\u001b[34m\u001b[1mtrain: \u001b[0mWARNING ⚠️ /home/aashish/Downloads/Nepali-Sign-Language-Recognition/Nepali Sign Language Image Annotations (YOLOv8)/train/images/bee2ff4d-20231203_133846.jpg: corrupt JPEG restored and saved\n",
      "\u001b[34m\u001b[1mtrain: \u001b[0mWARNING ⚠️ /home/aashish/Downloads/Nepali-Sign-Language-Recognition/Nepali Sign Language Image Annotations (YOLOv8)/train/images/beeaf0bc-20231203_132223.jpg: corrupt JPEG restored and saved\n",
      "\u001b[34m\u001b[1mtrain: \u001b[0mWARNING ⚠️ /home/aashish/Downloads/Nepali-Sign-Language-Recognition/Nepali Sign Language Image Annotations (YOLOv8)/train/images/bf64c311-20231212_150431.jpg: corrupt JPEG restored and saved\n",
      "\u001b[34m\u001b[1mtrain: \u001b[0mWARNING ⚠️ /home/aashish/Downloads/Nepali-Sign-Language-Recognition/Nepali Sign Language Image Annotations (YOLOv8)/train/images/bfdc383a-20231203_132020.jpg: corrupt JPEG restored and saved\n",
      "\u001b[34m\u001b[1mtrain: \u001b[0mWARNING ⚠️ /home/aashish/Downloads/Nepali-Sign-Language-Recognition/Nepali Sign Language Image Annotations (YOLOv8)/train/images/bfe638a6-20231204_142210.jpg: corrupt JPEG restored and saved\n",
      "\u001b[34m\u001b[1mtrain: \u001b[0mWARNING ⚠️ /home/aashish/Downloads/Nepali-Sign-Language-Recognition/Nepali Sign Language Image Annotations (YOLOv8)/train/images/c04d24a3-20231212_144219.jpg: corrupt JPEG restored and saved\n",
      "\u001b[34m\u001b[1mtrain: \u001b[0mWARNING ⚠️ /home/aashish/Downloads/Nepali-Sign-Language-Recognition/Nepali Sign Language Image Annotations (YOLOv8)/train/images/c0829d9d-20231212_145627.jpg: corrupt JPEG restored and saved\n",
      "\u001b[34m\u001b[1mtrain: \u001b[0mWARNING ⚠️ /home/aashish/Downloads/Nepali-Sign-Language-Recognition/Nepali Sign Language Image Annotations (YOLOv8)/train/images/c0874a62-20231204_130408.jpg: corrupt JPEG restored and saved\n",
      "\u001b[34m\u001b[1mtrain: \u001b[0mWARNING ⚠️ /home/aashish/Downloads/Nepali-Sign-Language-Recognition/Nepali Sign Language Image Annotations (YOLOv8)/train/images/c08d4217-20231204_1414520.jpg: corrupt JPEG restored and saved\n",
      "\u001b[34m\u001b[1mtrain: \u001b[0mWARNING ⚠️ /home/aashish/Downloads/Nepali-Sign-Language-Recognition/Nepali Sign Language Image Annotations (YOLOv8)/train/images/c08f12c0-20231212_142749.jpg: corrupt JPEG restored and saved\n",
      "\u001b[34m\u001b[1mtrain: \u001b[0mWARNING ⚠️ /home/aashish/Downloads/Nepali-Sign-Language-Recognition/Nepali Sign Language Image Annotations (YOLOv8)/train/images/c095712b-20231203_133647.jpg: corrupt JPEG restored and saved\n",
      "\u001b[34m\u001b[1mtrain: \u001b[0mWARNING ⚠️ /home/aashish/Downloads/Nepali-Sign-Language-Recognition/Nepali Sign Language Image Annotations (YOLOv8)/train/images/c0c081c2-20231212_142416.jpg: corrupt JPEG restored and saved\n",
      "\u001b[34m\u001b[1mtrain: \u001b[0mWARNING ⚠️ /home/aashish/Downloads/Nepali-Sign-Language-Recognition/Nepali Sign Language Image Annotations (YOLOv8)/train/images/c0ceac5a-20231203_132543.jpg: corrupt JPEG restored and saved\n",
      "\u001b[34m\u001b[1mtrain: \u001b[0mWARNING ⚠️ /home/aashish/Downloads/Nepali-Sign-Language-Recognition/Nepali Sign Language Image Annotations (YOLOv8)/train/images/c0d27843-20231203_1306200.jpg: corrupt JPEG restored and saved\n",
      "\u001b[34m\u001b[1mtrain: \u001b[0mWARNING ⚠️ /home/aashish/Downloads/Nepali-Sign-Language-Recognition/Nepali Sign Language Image Annotations (YOLOv8)/train/images/c0d3dee0-20231204_140452.jpg: corrupt JPEG restored and saved\n",
      "\u001b[34m\u001b[1mtrain: \u001b[0mWARNING ⚠️ /home/aashish/Downloads/Nepali-Sign-Language-Recognition/Nepali Sign Language Image Annotations (YOLOv8)/train/images/c1b612b3-20231204_131027.jpg: corrupt JPEG restored and saved\n",
      "\u001b[34m\u001b[1mtrain: \u001b[0mWARNING ⚠️ /home/aashish/Downloads/Nepali-Sign-Language-Recognition/Nepali Sign Language Image Annotations (YOLOv8)/train/images/c1f09913-20231204_1418490.jpg: corrupt JPEG restored and saved\n",
      "\u001b[34m\u001b[1mtrain: \u001b[0mWARNING ⚠️ /home/aashish/Downloads/Nepali-Sign-Language-Recognition/Nepali Sign Language Image Annotations (YOLOv8)/train/images/c20d5408-20231203_125911.jpg: corrupt JPEG restored and saved\n",
      "\u001b[34m\u001b[1mtrain: \u001b[0mWARNING ⚠️ /home/aashish/Downloads/Nepali-Sign-Language-Recognition/Nepali Sign Language Image Annotations (YOLOv8)/train/images/c243f647-20231204_131157.jpg: corrupt JPEG restored and saved\n",
      "\u001b[34m\u001b[1mtrain: \u001b[0mWARNING ⚠️ /home/aashish/Downloads/Nepali-Sign-Language-Recognition/Nepali Sign Language Image Annotations (YOLOv8)/train/images/c2a0575d-20231204_143052.jpg: corrupt JPEG restored and saved\n",
      "\u001b[34m\u001b[1mtrain: \u001b[0mWARNING ⚠️ /home/aashish/Downloads/Nepali-Sign-Language-Recognition/Nepali Sign Language Image Annotations (YOLOv8)/train/images/c34fc545-20231204_135904.jpg: corrupt JPEG restored and saved\n",
      "\u001b[34m\u001b[1mtrain: \u001b[0mWARNING ⚠️ /home/aashish/Downloads/Nepali-Sign-Language-Recognition/Nepali Sign Language Image Annotations (YOLOv8)/train/images/c386c868-20231203_1353290.jpg: corrupt JPEG restored and saved\n",
      "\u001b[34m\u001b[1mtrain: \u001b[0mWARNING ⚠️ /home/aashish/Downloads/Nepali-Sign-Language-Recognition/Nepali Sign Language Image Annotations (YOLOv8)/train/images/c3b39673-20231204_131449.jpg: corrupt JPEG restored and saved\n",
      "\u001b[34m\u001b[1mtrain: \u001b[0mWARNING ⚠️ /home/aashish/Downloads/Nepali-Sign-Language-Recognition/Nepali Sign Language Image Annotations (YOLOv8)/train/images/c3c28e89-20231212_144357.jpg: corrupt JPEG restored and saved\n",
      "\u001b[34m\u001b[1mtrain: \u001b[0mWARNING ⚠️ /home/aashish/Downloads/Nepali-Sign-Language-Recognition/Nepali Sign Language Image Annotations (YOLOv8)/train/images/c3cc2eeb-20231212_142937.jpg: corrupt JPEG restored and saved\n",
      "\u001b[34m\u001b[1mtrain: \u001b[0mWARNING ⚠️ /home/aashish/Downloads/Nepali-Sign-Language-Recognition/Nepali Sign Language Image Annotations (YOLOv8)/train/images/c3cea4ac-20231212_1443300.jpg: corrupt JPEG restored and saved\n",
      "\u001b[34m\u001b[1mtrain: \u001b[0mWARNING ⚠️ /home/aashish/Downloads/Nepali-Sign-Language-Recognition/Nepali Sign Language Image Annotations (YOLOv8)/train/images/c3e4360b-20231204_1429080.jpg: corrupt JPEG restored and saved\n",
      "\u001b[34m\u001b[1mtrain: \u001b[0mWARNING ⚠️ /home/aashish/Downloads/Nepali-Sign-Language-Recognition/Nepali Sign Language Image Annotations (YOLOv8)/train/images/c4caca5c-20231203_1328040.jpg: corrupt JPEG restored and saved\n",
      "\u001b[34m\u001b[1mtrain: \u001b[0mWARNING ⚠️ /home/aashish/Downloads/Nepali-Sign-Language-Recognition/Nepali Sign Language Image Annotations (YOLOv8)/train/images/c5663c17-20231203_1328390.jpg: corrupt JPEG restored and saved\n",
      "\u001b[34m\u001b[1mtrain: \u001b[0mWARNING ⚠️ /home/aashish/Downloads/Nepali-Sign-Language-Recognition/Nepali Sign Language Image Annotations (YOLOv8)/train/images/c574395a-20231204_140552.jpg: corrupt JPEG restored and saved\n",
      "\u001b[34m\u001b[1mtrain: \u001b[0mWARNING ⚠️ /home/aashish/Downloads/Nepali-Sign-Language-Recognition/Nepali Sign Language Image Annotations (YOLOv8)/train/images/c59523d0-20231203_131343.jpg: corrupt JPEG restored and saved\n",
      "\u001b[34m\u001b[1mtrain: \u001b[0mWARNING ⚠️ /home/aashish/Downloads/Nepali-Sign-Language-Recognition/Nepali Sign Language Image Annotations (YOLOv8)/train/images/c5a698b6-20231212_144026.jpg: corrupt JPEG restored and saved\n",
      "\u001b[34m\u001b[1mtrain: \u001b[0mWARNING ⚠️ /home/aashish/Downloads/Nepali-Sign-Language-Recognition/Nepali Sign Language Image Annotations (YOLOv8)/train/images/c61748e6-20231212_150458.jpg: corrupt JPEG restored and saved\n",
      "\u001b[34m\u001b[1mtrain: \u001b[0mWARNING ⚠️ /home/aashish/Downloads/Nepali-Sign-Language-Recognition/Nepali Sign Language Image Annotations (YOLOv8)/train/images/c6195d06-20231203_130030.jpg: corrupt JPEG restored and saved\n",
      "\u001b[34m\u001b[1mtrain: \u001b[0mWARNING ⚠️ /home/aashish/Downloads/Nepali-Sign-Language-Recognition/Nepali Sign Language Image Annotations (YOLOv8)/train/images/c63531c4-20231204_1311190.jpg: corrupt JPEG restored and saved\n",
      "\u001b[34m\u001b[1mtrain: \u001b[0mWARNING ⚠️ /home/aashish/Downloads/Nepali-Sign-Language-Recognition/Nepali Sign Language Image Annotations (YOLOv8)/train/images/c642d8ec-20231203_134637.jpg: corrupt JPEG restored and saved\n",
      "\u001b[34m\u001b[1mtrain: \u001b[0mWARNING ⚠️ /home/aashish/Downloads/Nepali-Sign-Language-Recognition/Nepali Sign Language Image Annotations (YOLOv8)/train/images/c65e3078-20231203_133257.jpg: corrupt JPEG restored and saved\n",
      "\u001b[34m\u001b[1mtrain: \u001b[0mWARNING ⚠️ /home/aashish/Downloads/Nepali-Sign-Language-Recognition/Nepali Sign Language Image Annotations (YOLOv8)/train/images/c6a2be8e-20231204_1307140.jpg: corrupt JPEG restored and saved\n",
      "\u001b[34m\u001b[1mtrain: \u001b[0mWARNING ⚠️ /home/aashish/Downloads/Nepali-Sign-Language-Recognition/Nepali Sign Language Image Annotations (YOLOv8)/train/images/c6e32a74-20231203_131337.jpg: corrupt JPEG restored and saved\n",
      "\u001b[34m\u001b[1mtrain: \u001b[0mWARNING ⚠️ /home/aashish/Downloads/Nepali-Sign-Language-Recognition/Nepali Sign Language Image Annotations (YOLOv8)/train/images/c6fcccbe-20231203_125735.jpg: corrupt JPEG restored and saved\n",
      "\u001b[34m\u001b[1mtrain: \u001b[0mWARNING ⚠️ /home/aashish/Downloads/Nepali-Sign-Language-Recognition/Nepali Sign Language Image Annotations (YOLOv8)/train/images/c72f0566-20231204_130549.jpg: corrupt JPEG restored and saved\n",
      "\u001b[34m\u001b[1mtrain: \u001b[0mWARNING ⚠️ /home/aashish/Downloads/Nepali-Sign-Language-Recognition/Nepali Sign Language Image Annotations (YOLOv8)/train/images/c7c8e859-20231212_143734.jpg: corrupt JPEG restored and saved\n",
      "\u001b[34m\u001b[1mtrain: \u001b[0mWARNING ⚠️ /home/aashish/Downloads/Nepali-Sign-Language-Recognition/Nepali Sign Language Image Annotations (YOLOv8)/train/images/c7e151aa-20231203_135036.jpg: corrupt JPEG restored and saved\n",
      "\u001b[34m\u001b[1mtrain: \u001b[0mWARNING ⚠️ /home/aashish/Downloads/Nepali-Sign-Language-Recognition/Nepali Sign Language Image Annotations (YOLOv8)/train/images/c7e7b7ee-20231204_143513.jpg: corrupt JPEG restored and saved\n",
      "\u001b[34m\u001b[1mtrain: \u001b[0mWARNING ⚠️ /home/aashish/Downloads/Nepali-Sign-Language-Recognition/Nepali Sign Language Image Annotations (YOLOv8)/train/images/c8ad5ac4-20231203_130158.jpg: corrupt JPEG restored and saved\n",
      "\u001b[34m\u001b[1mtrain: \u001b[0mWARNING ⚠️ /home/aashish/Downloads/Nepali-Sign-Language-Recognition/Nepali Sign Language Image Annotations (YOLOv8)/train/images/c8dd038d-20231203_1320120.jpg: corrupt JPEG restored and saved\n",
      "\u001b[34m\u001b[1mtrain: \u001b[0mWARNING ⚠️ /home/aashish/Downloads/Nepali-Sign-Language-Recognition/Nepali Sign Language Image Annotations (YOLOv8)/train/images/c8ed3d66-20231212_1420360.jpg: corrupt JPEG restored and saved\n",
      "\u001b[34m\u001b[1mtrain: \u001b[0mWARNING ⚠️ /home/aashish/Downloads/Nepali-Sign-Language-Recognition/Nepali Sign Language Image Annotations (YOLOv8)/train/images/c9167f55-20231203_133022.jpg: corrupt JPEG restored and saved\n",
      "\u001b[34m\u001b[1mtrain: \u001b[0mWARNING ⚠️ /home/aashish/Downloads/Nepali-Sign-Language-Recognition/Nepali Sign Language Image Annotations (YOLOv8)/train/images/c95175d5-20231212_142557.jpg: corrupt JPEG restored and saved\n",
      "\u001b[34m\u001b[1mtrain: \u001b[0mWARNING ⚠️ /home/aashish/Downloads/Nepali-Sign-Language-Recognition/Nepali Sign Language Image Annotations (YOLOv8)/train/images/c9e00459-20231204_130713.jpg: corrupt JPEG restored and saved\n",
      "\u001b[34m\u001b[1mtrain: \u001b[0mWARNING ⚠️ /home/aashish/Downloads/Nepali-Sign-Language-Recognition/Nepali Sign Language Image Annotations (YOLOv8)/train/images/c9f8e576-20231203_125126.jpg: corrupt JPEG restored and saved\n",
      "\u001b[34m\u001b[1mtrain: \u001b[0mWARNING ⚠️ /home/aashish/Downloads/Nepali-Sign-Language-Recognition/Nepali Sign Language Image Annotations (YOLOv8)/train/images/ca7fadb8-20231212_144900.jpg: corrupt JPEG restored and saved\n",
      "\u001b[34m\u001b[1mtrain: \u001b[0mWARNING ⚠️ /home/aashish/Downloads/Nepali-Sign-Language-Recognition/Nepali Sign Language Image Annotations (YOLOv8)/train/images/ca97a294-20231204_131310.jpg: corrupt JPEG restored and saved\n",
      "\u001b[34m\u001b[1mtrain: \u001b[0mWARNING ⚠️ /home/aashish/Downloads/Nepali-Sign-Language-Recognition/Nepali Sign Language Image Annotations (YOLOv8)/train/images/cac0677b-20231203_1249580.jpg: corrupt JPEG restored and saved\n",
      "\u001b[34m\u001b[1mtrain: \u001b[0mWARNING ⚠️ /home/aashish/Downloads/Nepali-Sign-Language-Recognition/Nepali Sign Language Image Annotations (YOLOv8)/train/images/cb070362-20231203_132232.jpg: corrupt JPEG restored and saved\n",
      "\u001b[34m\u001b[1mtrain: \u001b[0mWARNING ⚠️ /home/aashish/Downloads/Nepali-Sign-Language-Recognition/Nepali Sign Language Image Annotations (YOLOv8)/train/images/cb3735b1-20231203_132447.jpg: corrupt JPEG restored and saved\n",
      "\u001b[34m\u001b[1mtrain: \u001b[0mWARNING ⚠️ /home/aashish/Downloads/Nepali-Sign-Language-Recognition/Nepali Sign Language Image Annotations (YOLOv8)/train/images/cb3d3baf-20231203_125359.jpg: corrupt JPEG restored and saved\n",
      "\u001b[34m\u001b[1mtrain: \u001b[0mWARNING ⚠️ /home/aashish/Downloads/Nepali-Sign-Language-Recognition/Nepali Sign Language Image Annotations (YOLOv8)/train/images/cb49c537-20231212_144936.jpg: corrupt JPEG restored and saved\n",
      "\u001b[34m\u001b[1mtrain: \u001b[0mWARNING ⚠️ /home/aashish/Downloads/Nepali-Sign-Language-Recognition/Nepali Sign Language Image Annotations (YOLOv8)/train/images/cb4d4ad1-20231203_133217.jpg: corrupt JPEG restored and saved\n",
      "\u001b[34m\u001b[1mtrain: \u001b[0mWARNING ⚠️ /home/aashish/Downloads/Nepali-Sign-Language-Recognition/Nepali Sign Language Image Annotations (YOLOv8)/train/images/cb5dc514-20231203_134752.jpg: corrupt JPEG restored and saved\n",
      "\u001b[34m\u001b[1mtrain: \u001b[0mWARNING ⚠️ /home/aashish/Downloads/Nepali-Sign-Language-Recognition/Nepali Sign Language Image Annotations (YOLOv8)/train/images/cb7ccfc4-20231212_150152.jpg: corrupt JPEG restored and saved\n",
      "\u001b[34m\u001b[1mtrain: \u001b[0mWARNING ⚠️ /home/aashish/Downloads/Nepali-Sign-Language-Recognition/Nepali Sign Language Image Annotations (YOLOv8)/train/images/cbacf6b3-20231212_141624.jpg: corrupt JPEG restored and saved\n",
      "\u001b[34m\u001b[1mtrain: \u001b[0mWARNING ⚠️ /home/aashish/Downloads/Nepali-Sign-Language-Recognition/Nepali Sign Language Image Annotations (YOLOv8)/train/images/cbb17586-20231212_134709.jpg: corrupt JPEG restored and saved\n",
      "\u001b[34m\u001b[1mtrain: \u001b[0mWARNING ⚠️ /home/aashish/Downloads/Nepali-Sign-Language-Recognition/Nepali Sign Language Image Annotations (YOLOv8)/train/images/cbd37357-20231204_140840.jpg: corrupt JPEG restored and saved\n",
      "\u001b[34m\u001b[1mtrain: \u001b[0mWARNING ⚠️ /home/aashish/Downloads/Nepali-Sign-Language-Recognition/Nepali Sign Language Image Annotations (YOLOv8)/train/images/cbe6bdf3-20231212_144024.jpg: corrupt JPEG restored and saved\n",
      "\u001b[34m\u001b[1mtrain: \u001b[0mWARNING ⚠️ /home/aashish/Downloads/Nepali-Sign-Language-Recognition/Nepali Sign Language Image Annotations (YOLOv8)/train/images/cc451e02-20231212_142623.jpg: corrupt JPEG restored and saved\n",
      "\u001b[34m\u001b[1mtrain: \u001b[0mWARNING ⚠️ /home/aashish/Downloads/Nepali-Sign-Language-Recognition/Nepali Sign Language Image Annotations (YOLOv8)/train/images/cc7d1a49-20231204_140704.jpg: corrupt JPEG restored and saved\n",
      "\u001b[34m\u001b[1mtrain: \u001b[0mWARNING ⚠️ /home/aashish/Downloads/Nepali-Sign-Language-Recognition/Nepali Sign Language Image Annotations (YOLOv8)/train/images/cc7e5773-20231203_1302520.jpg: corrupt JPEG restored and saved\n",
      "\u001b[34m\u001b[1mtrain: \u001b[0mWARNING ⚠️ /home/aashish/Downloads/Nepali-Sign-Language-Recognition/Nepali Sign Language Image Annotations (YOLOv8)/train/images/ccc3e459-20231203_131443.jpg: corrupt JPEG restored and saved\n",
      "\u001b[34m\u001b[1mtrain: \u001b[0mWARNING ⚠️ /home/aashish/Downloads/Nepali-Sign-Language-Recognition/Nepali Sign Language Image Annotations (YOLOv8)/train/images/cce272f2-20231212_1442360.jpg: corrupt JPEG restored and saved\n",
      "\u001b[34m\u001b[1mtrain: \u001b[0mWARNING ⚠️ /home/aashish/Downloads/Nepali-Sign-Language-Recognition/Nepali Sign Language Image Annotations (YOLOv8)/train/images/cce9ae7c-20231204_131117.jpg: corrupt JPEG restored and saved\n",
      "\u001b[34m\u001b[1mtrain: \u001b[0mWARNING ⚠️ /home/aashish/Downloads/Nepali-Sign-Language-Recognition/Nepali Sign Language Image Annotations (YOLOv8)/train/images/ccf03fe5-20231203_1314310.jpg: corrupt JPEG restored and saved\n",
      "\u001b[34m\u001b[1mtrain: \u001b[0mWARNING ⚠️ /home/aashish/Downloads/Nepali-Sign-Language-Recognition/Nepali Sign Language Image Annotations (YOLOv8)/train/images/ccf4fdc8-20231212_150347.jpg: corrupt JPEG restored and saved\n",
      "\u001b[34m\u001b[1mtrain: \u001b[0mWARNING ⚠️ /home/aashish/Downloads/Nepali-Sign-Language-Recognition/Nepali Sign Language Image Annotations (YOLOv8)/train/images/cd01d4fa-20231212_142905.jpg: corrupt JPEG restored and saved\n",
      "\u001b[34m\u001b[1mtrain: \u001b[0mWARNING ⚠️ /home/aashish/Downloads/Nepali-Sign-Language-Recognition/Nepali Sign Language Image Annotations (YOLOv8)/train/images/cd14a2dd-20231204_131808.jpg: corrupt JPEG restored and saved\n",
      "\u001b[34m\u001b[1mtrain: \u001b[0mWARNING ⚠️ /home/aashish/Downloads/Nepali-Sign-Language-Recognition/Nepali Sign Language Image Annotations (YOLOv8)/train/images/cd198400-20231212_142417.jpg: corrupt JPEG restored and saved\n",
      "\u001b[34m\u001b[1mtrain: \u001b[0mWARNING ⚠️ /home/aashish/Downloads/Nepali-Sign-Language-Recognition/Nepali Sign Language Image Annotations (YOLOv8)/train/images/cd6639df-20231212_142011.jpg: corrupt JPEG restored and saved\n",
      "\u001b[34m\u001b[1mtrain: \u001b[0mWARNING ⚠️ /home/aashish/Downloads/Nepali-Sign-Language-Recognition/Nepali Sign Language Image Annotations (YOLOv8)/train/images/cda3dee2-20231203_133503.jpg: corrupt JPEG restored and saved\n",
      "\u001b[34m\u001b[1mtrain: \u001b[0mWARNING ⚠️ /home/aashish/Downloads/Nepali-Sign-Language-Recognition/Nepali Sign Language Image Annotations (YOLOv8)/train/images/cdccf50f-20231204_142503.jpg: corrupt JPEG restored and saved\n",
      "\u001b[34m\u001b[1mtrain: \u001b[0mWARNING ⚠️ /home/aashish/Downloads/Nepali-Sign-Language-Recognition/Nepali Sign Language Image Annotations (YOLOv8)/train/images/cdec0f0d-20231212_150057.jpg: corrupt JPEG restored and saved\n",
      "\u001b[34m\u001b[1mtrain: \u001b[0mWARNING ⚠️ /home/aashish/Downloads/Nepali-Sign-Language-Recognition/Nepali Sign Language Image Annotations (YOLOv8)/train/images/ce73721e-20231212_1459000.jpg: corrupt JPEG restored and saved\n",
      "\u001b[34m\u001b[1mtrain: \u001b[0mWARNING ⚠️ /home/aashish/Downloads/Nepali-Sign-Language-Recognition/Nepali Sign Language Image Annotations (YOLOv8)/train/images/cefee4e9-20231203_1252310.jpg: corrupt JPEG restored and saved\n",
      "\u001b[34m\u001b[1mtrain: \u001b[0mWARNING ⚠️ /home/aashish/Downloads/Nepali-Sign-Language-Recognition/Nepali Sign Language Image Annotations (YOLOv8)/train/images/cf29646a-20231203_134451.jpg: corrupt JPEG restored and saved\n",
      "\u001b[34m\u001b[1mtrain: \u001b[0mWARNING ⚠️ /home/aashish/Downloads/Nepali-Sign-Language-Recognition/Nepali Sign Language Image Annotations (YOLOv8)/train/images/cf2f3c04-20231212_1348560.jpg: corrupt JPEG restored and saved\n",
      "\u001b[34m\u001b[1mtrain: \u001b[0mWARNING ⚠️ /home/aashish/Downloads/Nepali-Sign-Language-Recognition/Nepali Sign Language Image Annotations (YOLOv8)/train/images/cf675ecf-20231204_140435.jpg: corrupt JPEG restored and saved\n",
      "\u001b[34m\u001b[1mtrain: \u001b[0mWARNING ⚠️ /home/aashish/Downloads/Nepali-Sign-Language-Recognition/Nepali Sign Language Image Annotations (YOLOv8)/train/images/cf829d00-20231203_130014.jpg: corrupt JPEG restored and saved\n",
      "\u001b[34m\u001b[1mtrain: \u001b[0mWARNING ⚠️ /home/aashish/Downloads/Nepali-Sign-Language-Recognition/Nepali Sign Language Image Annotations (YOLOv8)/train/images/cf88c244-20231204_1427190.jpg: corrupt JPEG restored and saved\n",
      "\u001b[34m\u001b[1mtrain: \u001b[0mWARNING ⚠️ /home/aashish/Downloads/Nepali-Sign-Language-Recognition/Nepali Sign Language Image Annotations (YOLOv8)/train/images/cf9dc00a-20231212_143831.jpg: corrupt JPEG restored and saved\n",
      "\u001b[34m\u001b[1mtrain: \u001b[0mWARNING ⚠️ /home/aashish/Downloads/Nepali-Sign-Language-Recognition/Nepali Sign Language Image Annotations (YOLOv8)/train/images/cfa385f8-20231203_132425.jpg: corrupt JPEG restored and saved\n",
      "\u001b[34m\u001b[1mtrain: \u001b[0mWARNING ⚠️ /home/aashish/Downloads/Nepali-Sign-Language-Recognition/Nepali Sign Language Image Annotations (YOLOv8)/train/images/cfabc0eb-20231204_131511.jpg: corrupt JPEG restored and saved\n",
      "\u001b[34m\u001b[1mtrain: \u001b[0mWARNING ⚠️ /home/aashish/Downloads/Nepali-Sign-Language-Recognition/Nepali Sign Language Image Annotations (YOLOv8)/train/images/cfc9ae9c-20231204_143551.jpg: corrupt JPEG restored and saved\n",
      "\u001b[34m\u001b[1mtrain: \u001b[0mWARNING ⚠️ /home/aashish/Downloads/Nepali-Sign-Language-Recognition/Nepali Sign Language Image Annotations (YOLOv8)/train/images/cfd03ec9-20231203_1329420.jpg: corrupt JPEG restored and saved\n",
      "\u001b[34m\u001b[1mtrain: \u001b[0mWARNING ⚠️ /home/aashish/Downloads/Nepali-Sign-Language-Recognition/Nepali Sign Language Image Annotations (YOLOv8)/train/images/d0368609-20231203_125107.jpg: corrupt JPEG restored and saved\n",
      "\u001b[34m\u001b[1mtrain: \u001b[0mWARNING ⚠️ /home/aashish/Downloads/Nepali-Sign-Language-Recognition/Nepali Sign Language Image Annotations (YOLOv8)/train/images/d042145f-20231203_133204.jpg: corrupt JPEG restored and saved\n",
      "\u001b[34m\u001b[1mtrain: \u001b[0mWARNING ⚠️ /home/aashish/Downloads/Nepali-Sign-Language-Recognition/Nepali Sign Language Image Annotations (YOLOv8)/train/images/d04dd0b2-20231203_132041.jpg: corrupt JPEG restored and saved\n",
      "\u001b[34m\u001b[1mtrain: \u001b[0mWARNING ⚠️ /home/aashish/Downloads/Nepali-Sign-Language-Recognition/Nepali Sign Language Image Annotations (YOLOv8)/train/images/d05d927d-20231212_1458280.jpg: corrupt JPEG restored and saved\n",
      "\u001b[34m\u001b[1mtrain: \u001b[0mWARNING ⚠️ /home/aashish/Downloads/Nepali-Sign-Language-Recognition/Nepali Sign Language Image Annotations (YOLOv8)/train/images/d07360cf-20231203_132930.jpg: corrupt JPEG restored and saved\n",
      "\u001b[34m\u001b[1mtrain: \u001b[0mWARNING ⚠️ /home/aashish/Downloads/Nepali-Sign-Language-Recognition/Nepali Sign Language Image Annotations (YOLOv8)/train/images/d10ec28d-20231212_145513.jpg: corrupt JPEG restored and saved\n",
      "\u001b[34m\u001b[1mtrain: \u001b[0mWARNING ⚠️ /home/aashish/Downloads/Nepali-Sign-Language-Recognition/Nepali Sign Language Image Annotations (YOLOv8)/train/images/d1148711-20231204_140822.jpg: corrupt JPEG restored and saved\n",
      "\u001b[34m\u001b[1mtrain: \u001b[0mWARNING ⚠️ /home/aashish/Downloads/Nepali-Sign-Language-Recognition/Nepali Sign Language Image Annotations (YOLOv8)/train/images/d12c5668-20231212_1347300.jpg: corrupt JPEG restored and saved\n",
      "\u001b[34m\u001b[1mtrain: \u001b[0mWARNING ⚠️ /home/aashish/Downloads/Nepali-Sign-Language-Recognition/Nepali Sign Language Image Annotations (YOLOv8)/train/images/d1447426-20231203_131917.jpg: corrupt JPEG restored and saved\n",
      "\u001b[34m\u001b[1mtrain: \u001b[0mWARNING ⚠️ /home/aashish/Downloads/Nepali-Sign-Language-Recognition/Nepali Sign Language Image Annotations (YOLOv8)/train/images/d17bf2a1-20231212_142801.jpg: corrupt JPEG restored and saved\n",
      "\u001b[34m\u001b[1mtrain: \u001b[0mWARNING ⚠️ /home/aashish/Downloads/Nepali-Sign-Language-Recognition/Nepali Sign Language Image Annotations (YOLOv8)/train/images/d19c0ac2-20231204_141848.jpg: corrupt JPEG restored and saved\n",
      "\u001b[34m\u001b[1mtrain: \u001b[0mWARNING ⚠️ /home/aashish/Downloads/Nepali-Sign-Language-Recognition/Nepali Sign Language Image Annotations (YOLOv8)/train/images/d237a795-20231203_130159.jpg: corrupt JPEG restored and saved\n",
      "\u001b[34m\u001b[1mtrain: \u001b[0mWARNING ⚠️ /home/aashish/Downloads/Nepali-Sign-Language-Recognition/Nepali Sign Language Image Annotations (YOLOv8)/train/images/d23e26b1-20231204_140227.jpg: corrupt JPEG restored and saved\n",
      "\u001b[34m\u001b[1mtrain: \u001b[0mWARNING ⚠️ /home/aashish/Downloads/Nepali-Sign-Language-Recognition/Nepali Sign Language Image Annotations (YOLOv8)/train/images/d2e6b011-20231212_142840.jpg: corrupt JPEG restored and saved\n",
      "\u001b[34m\u001b[1mtrain: \u001b[0mWARNING ⚠️ /home/aashish/Downloads/Nepali-Sign-Language-Recognition/Nepali Sign Language Image Annotations (YOLOv8)/train/images/d328bae3-20231212_135212.jpg: corrupt JPEG restored and saved\n",
      "\u001b[34m\u001b[1mtrain: \u001b[0mWARNING ⚠️ /home/aashish/Downloads/Nepali-Sign-Language-Recognition/Nepali Sign Language Image Annotations (YOLOv8)/train/images/d339de6d-20231212_145440.jpg: corrupt JPEG restored and saved\n",
      "\u001b[34m\u001b[1mtrain: \u001b[0mWARNING ⚠️ /home/aashish/Downloads/Nepali-Sign-Language-Recognition/Nepali Sign Language Image Annotations (YOLOv8)/train/images/d37c78e5-20231204_142315.jpg: corrupt JPEG restored and saved\n",
      "\u001b[34m\u001b[1mtrain: \u001b[0mWARNING ⚠️ /home/aashish/Downloads/Nepali-Sign-Language-Recognition/Nepali Sign Language Image Annotations (YOLOv8)/train/images/d398d5fa-20231203_124837.jpg: corrupt JPEG restored and saved\n",
      "\u001b[34m\u001b[1mtrain: \u001b[0mWARNING ⚠️ /home/aashish/Downloads/Nepali-Sign-Language-Recognition/Nepali Sign Language Image Annotations (YOLOv8)/train/images/d3a22675-20231203_131242.jpg: corrupt JPEG restored and saved\n",
      "\u001b[34m\u001b[1mtrain: \u001b[0mWARNING ⚠️ /home/aashish/Downloads/Nepali-Sign-Language-Recognition/Nepali Sign Language Image Annotations (YOLOv8)/train/images/d3a98224-20231212_145736.jpg: corrupt JPEG restored and saved\n",
      "\u001b[34m\u001b[1mtrain: \u001b[0mWARNING ⚠️ /home/aashish/Downloads/Nepali-Sign-Language-Recognition/Nepali Sign Language Image Annotations (YOLOv8)/train/images/d404b9c4-20231203_135034.jpg: corrupt JPEG restored and saved\n",
      "\u001b[34m\u001b[1mtrain: \u001b[0mWARNING ⚠️ /home/aashish/Downloads/Nepali-Sign-Language-Recognition/Nepali Sign Language Image Annotations (YOLOv8)/train/images/d42d7be0-20231203_132837.jpg: corrupt JPEG restored and saved\n",
      "\u001b[34m\u001b[1mtrain: \u001b[0mWARNING ⚠️ /home/aashish/Downloads/Nepali-Sign-Language-Recognition/Nepali Sign Language Image Annotations (YOLOv8)/train/images/d441026a-20231204_141201.jpg: corrupt JPEG restored and saved\n",
      "\u001b[34m\u001b[1mtrain: \u001b[0mWARNING ⚠️ /home/aashish/Downloads/Nepali-Sign-Language-Recognition/Nepali Sign Language Image Annotations (YOLOv8)/train/images/d444b528-20231212_145602.jpg: corrupt JPEG restored and saved\n",
      "\u001b[34m\u001b[1mtrain: \u001b[0mWARNING ⚠️ /home/aashish/Downloads/Nepali-Sign-Language-Recognition/Nepali Sign Language Image Annotations (YOLOv8)/train/images/d45630bc-20231203_1258390.jpg: corrupt JPEG restored and saved\n",
      "\u001b[34m\u001b[1mtrain: \u001b[0mWARNING ⚠️ /home/aashish/Downloads/Nepali-Sign-Language-Recognition/Nepali Sign Language Image Annotations (YOLOv8)/train/images/d472134a-20231203_1349090.jpg: corrupt JPEG restored and saved\n",
      "\u001b[34m\u001b[1mtrain: \u001b[0mWARNING ⚠️ /home/aashish/Downloads/Nepali-Sign-Language-Recognition/Nepali Sign Language Image Annotations (YOLOv8)/train/images/d4b588de-20231203_133737.jpg: corrupt JPEG restored and saved\n",
      "\u001b[34m\u001b[1mtrain: \u001b[0mWARNING ⚠️ /home/aashish/Downloads/Nepali-Sign-Language-Recognition/Nepali Sign Language Image Annotations (YOLOv8)/train/images/d5465552-20231203_1323280.jpg: corrupt JPEG restored and saved\n",
      "\u001b[34m\u001b[1mtrain: \u001b[0mWARNING ⚠️ /home/aashish/Downloads/Nepali-Sign-Language-Recognition/Nepali Sign Language Image Annotations (YOLOv8)/train/images/d5774b0d-20231204_142856.jpg: corrupt JPEG restored and saved\n",
      "\u001b[34m\u001b[1mtrain: \u001b[0mWARNING ⚠️ /home/aashish/Downloads/Nepali-Sign-Language-Recognition/Nepali Sign Language Image Annotations (YOLOv8)/train/images/d57b493a-20231203_132242.jpg: corrupt JPEG restored and saved\n",
      "\u001b[34m\u001b[1mtrain: \u001b[0mWARNING ⚠️ /home/aashish/Downloads/Nepali-Sign-Language-Recognition/Nepali Sign Language Image Annotations (YOLOv8)/train/images/d59003e7-20231212_142048.jpg: corrupt JPEG restored and saved\n",
      "\u001b[34m\u001b[1mtrain: \u001b[0mWARNING ⚠️ /home/aashish/Downloads/Nepali-Sign-Language-Recognition/Nepali Sign Language Image Annotations (YOLOv8)/train/images/d59c1f85-20231203_133947.jpg: corrupt JPEG restored and saved\n",
      "\u001b[34m\u001b[1mtrain: \u001b[0mWARNING ⚠️ /home/aashish/Downloads/Nepali-Sign-Language-Recognition/Nepali Sign Language Image Annotations (YOLOv8)/train/images/d5b52b8f-20231204_140508.jpg: corrupt JPEG restored and saved\n",
      "\u001b[34m\u001b[1mtrain: \u001b[0mWARNING ⚠️ /home/aashish/Downloads/Nepali-Sign-Language-Recognition/Nepali Sign Language Image Annotations (YOLOv8)/train/images/d5bc0532-20231203_133617.jpg: corrupt JPEG restored and saved\n",
      "\u001b[34m\u001b[1mtrain: \u001b[0mWARNING ⚠️ /home/aashish/Downloads/Nepali-Sign-Language-Recognition/Nepali Sign Language Image Annotations (YOLOv8)/train/images/d5dd4ac8-20231204_135309.jpg: corrupt JPEG restored and saved\n",
      "\u001b[34m\u001b[1mtrain: \u001b[0mWARNING ⚠️ /home/aashish/Downloads/Nepali-Sign-Language-Recognition/Nepali Sign Language Image Annotations (YOLOv8)/train/images/d61d4fbe-20231203_131817.jpg: corrupt JPEG restored and saved\n",
      "\u001b[34m\u001b[1mtrain: \u001b[0mWARNING ⚠️ /home/aashish/Downloads/Nepali-Sign-Language-Recognition/Nepali Sign Language Image Annotations (YOLOv8)/train/images/d7451490-20231204_141906.jpg: corrupt JPEG restored and saved\n",
      "\u001b[34m\u001b[1mtrain: \u001b[0mWARNING ⚠️ /home/aashish/Downloads/Nepali-Sign-Language-Recognition/Nepali Sign Language Image Annotations (YOLOv8)/train/images/d7be3403-20231204_143326.jpg: corrupt JPEG restored and saved\n",
      "\u001b[34m\u001b[1mtrain: \u001b[0mWARNING ⚠️ /home/aashish/Downloads/Nepali-Sign-Language-Recognition/Nepali Sign Language Image Annotations (YOLOv8)/train/images/d7da40f2-20231212_143442.jpg: corrupt JPEG restored and saved\n",
      "\u001b[34m\u001b[1mtrain: \u001b[0mWARNING ⚠️ /home/aashish/Downloads/Nepali-Sign-Language-Recognition/Nepali Sign Language Image Annotations (YOLOv8)/train/images/d7e26eb4-20231204_140615.jpg: corrupt JPEG restored and saved\n",
      "\u001b[34m\u001b[1mtrain: \u001b[0mWARNING ⚠️ /home/aashish/Downloads/Nepali-Sign-Language-Recognition/Nepali Sign Language Image Annotations (YOLOv8)/train/images/d7f85c57-20231212_142759.jpg: corrupt JPEG restored and saved\n",
      "\u001b[34m\u001b[1mtrain: \u001b[0mWARNING ⚠️ /home/aashish/Downloads/Nepali-Sign-Language-Recognition/Nepali Sign Language Image Annotations (YOLOv8)/train/images/d81e954b-20231204_140831.jpg: corrupt JPEG restored and saved\n",
      "\u001b[34m\u001b[1mtrain: \u001b[0mWARNING ⚠️ /home/aashish/Downloads/Nepali-Sign-Language-Recognition/Nepali Sign Language Image Annotations (YOLOv8)/train/images/d83ef99d-20231203_1259120.jpg: corrupt JPEG restored and saved\n",
      "\u001b[34m\u001b[1mtrain: \u001b[0mWARNING ⚠️ /home/aashish/Downloads/Nepali-Sign-Language-Recognition/Nepali Sign Language Image Annotations (YOLOv8)/train/images/d890cf50-20231204_130406.jpg: corrupt JPEG restored and saved\n",
      "\u001b[34m\u001b[1mtrain: \u001b[0mWARNING ⚠️ /home/aashish/Downloads/Nepali-Sign-Language-Recognition/Nepali Sign Language Image Annotations (YOLOv8)/train/images/d895d1d5-20231203_132215.jpg: corrupt JPEG restored and saved\n",
      "\u001b[34m\u001b[1mtrain: \u001b[0mWARNING ⚠️ /home/aashish/Downloads/Nepali-Sign-Language-Recognition/Nepali Sign Language Image Annotations (YOLOv8)/train/images/d9192fa7-20231204_131625.jpg: corrupt JPEG restored and saved\n",
      "\u001b[34m\u001b[1mtrain: \u001b[0mWARNING ⚠️ /home/aashish/Downloads/Nepali-Sign-Language-Recognition/Nepali Sign Language Image Annotations (YOLOv8)/train/images/d9499079-20231212_135256.jpg: corrupt JPEG restored and saved\n",
      "\u001b[34m\u001b[1mtrain: \u001b[0mWARNING ⚠️ /home/aashish/Downloads/Nepali-Sign-Language-Recognition/Nepali Sign Language Image Annotations (YOLOv8)/train/images/d9533df1-20231212_142354.jpg: corrupt JPEG restored and saved\n",
      "\u001b[34m\u001b[1mtrain: \u001b[0mWARNING ⚠️ /home/aashish/Downloads/Nepali-Sign-Language-Recognition/Nepali Sign Language Image Annotations (YOLOv8)/train/images/d9cd3ebc-20231203_133806.jpg: corrupt JPEG restored and saved\n",
      "\u001b[34m\u001b[1mtrain: \u001b[0mWARNING ⚠️ /home/aashish/Downloads/Nepali-Sign-Language-Recognition/Nepali Sign Language Image Annotations (YOLOv8)/train/images/da0bbfd9-20231204_143531.jpg: corrupt JPEG restored and saved\n",
      "\u001b[34m\u001b[1mtrain: \u001b[0mWARNING ⚠️ /home/aashish/Downloads/Nepali-Sign-Language-Recognition/Nepali Sign Language Image Annotations (YOLOv8)/train/images/da197a00-20231204_1408040.jpg: corrupt JPEG restored and saved\n",
      "\u001b[34m\u001b[1mtrain: \u001b[0mWARNING ⚠️ /home/aashish/Downloads/Nepali-Sign-Language-Recognition/Nepali Sign Language Image Annotations (YOLOv8)/train/images/da8ad06c-20231203_132103.jpg: corrupt JPEG restored and saved\n",
      "\u001b[34m\u001b[1mtrain: \u001b[0mWARNING ⚠️ /home/aashish/Downloads/Nepali-Sign-Language-Recognition/Nepali Sign Language Image Annotations (YOLOv8)/train/images/daa94003-20231203_1345230.jpg: corrupt JPEG restored and saved\n",
      "\u001b[34m\u001b[1mtrain: \u001b[0mWARNING ⚠️ /home/aashish/Downloads/Nepali-Sign-Language-Recognition/Nepali Sign Language Image Annotations (YOLOv8)/train/images/dadc6592-20231203_131203.jpg: corrupt JPEG restored and saved\n",
      "\u001b[34m\u001b[1mtrain: \u001b[0mWARNING ⚠️ /home/aashish/Downloads/Nepali-Sign-Language-Recognition/Nepali Sign Language Image Annotations (YOLOv8)/train/images/daead2d4-20231203_1252490.jpg: corrupt JPEG restored and saved\n",
      "\u001b[34m\u001b[1mtrain: \u001b[0mWARNING ⚠️ /home/aashish/Downloads/Nepali-Sign-Language-Recognition/Nepali Sign Language Image Annotations (YOLOv8)/train/images/daf7fd22-20231204_130539.jpg: corrupt JPEG restored and saved\n",
      "\u001b[34m\u001b[1mtrain: \u001b[0mWARNING ⚠️ /home/aashish/Downloads/Nepali-Sign-Language-Recognition/Nepali Sign Language Image Annotations (YOLOv8)/train/images/db29ad0e-20231204_142252.jpg: corrupt JPEG restored and saved\n",
      "\u001b[34m\u001b[1mtrain: \u001b[0mWARNING ⚠️ /home/aashish/Downloads/Nepali-Sign-Language-Recognition/Nepali Sign Language Image Annotations (YOLOv8)/train/images/db9995d9-20231203_132049.jpg: corrupt JPEG restored and saved\n",
      "\u001b[34m\u001b[1mtrain: \u001b[0mWARNING ⚠️ /home/aashish/Downloads/Nepali-Sign-Language-Recognition/Nepali Sign Language Image Annotations (YOLOv8)/train/images/dbd25214-20231204_143339.jpg: corrupt JPEG restored and saved\n",
      "\u001b[34m\u001b[1mtrain: \u001b[0mWARNING ⚠️ /home/aashish/Downloads/Nepali-Sign-Language-Recognition/Nepali Sign Language Image Annotations (YOLOv8)/train/images/dc5e529d-20231204_143023.jpg: corrupt JPEG restored and saved\n",
      "\u001b[34m\u001b[1mtrain: \u001b[0mWARNING ⚠️ /home/aashish/Downloads/Nepali-Sign-Language-Recognition/Nepali Sign Language Image Annotations (YOLOv8)/train/images/dc7238a5-20231203_124759.jpg: corrupt JPEG restored and saved\n",
      "\u001b[34m\u001b[1mtrain: \u001b[0mWARNING ⚠️ /home/aashish/Downloads/Nepali-Sign-Language-Recognition/Nepali Sign Language Image Annotations (YOLOv8)/train/images/dcc0c578-20231212_145827.jpg: corrupt JPEG restored and saved\n",
      "\u001b[34m\u001b[1mtrain: \u001b[0mWARNING ⚠️ /home/aashish/Downloads/Nepali-Sign-Language-Recognition/Nepali Sign Language Image Annotations (YOLOv8)/train/images/dd4b1f91-20231203_125844.jpg: corrupt JPEG restored and saved\n",
      "\u001b[34m\u001b[1mtrain: \u001b[0mWARNING ⚠️ /home/aashish/Downloads/Nepali-Sign-Language-Recognition/Nepali Sign Language Image Annotations (YOLOv8)/train/images/ddf301d1-20231212_142148.jpg: corrupt JPEG restored and saved\n",
      "\u001b[34m\u001b[1mtrain: \u001b[0mWARNING ⚠️ /home/aashish/Downloads/Nepali-Sign-Language-Recognition/Nepali Sign Language Image Annotations (YOLOv8)/train/images/de32d8c8-20231212_143342.jpg: corrupt JPEG restored and saved\n",
      "\u001b[34m\u001b[1mtrain: \u001b[0mWARNING ⚠️ /home/aashish/Downloads/Nepali-Sign-Language-Recognition/Nepali Sign Language Image Annotations (YOLOv8)/train/images/de335d9e-20231212_1349390.jpg: corrupt JPEG restored and saved\n",
      "\u001b[34m\u001b[1mtrain: \u001b[0mWARNING ⚠️ /home/aashish/Downloads/Nepali-Sign-Language-Recognition/Nepali Sign Language Image Annotations (YOLOv8)/train/images/de445f3d-20231204_1309050.jpg: corrupt JPEG restored and saved\n",
      "\u001b[34m\u001b[1mtrain: \u001b[0mWARNING ⚠️ /home/aashish/Downloads/Nepali-Sign-Language-Recognition/Nepali Sign Language Image Annotations (YOLOv8)/train/images/de5946da-20231203_1250140.jpg: corrupt JPEG restored and saved\n",
      "\u001b[34m\u001b[1mtrain: \u001b[0mWARNING ⚠️ /home/aashish/Downloads/Nepali-Sign-Language-Recognition/Nepali Sign Language Image Annotations (YOLOv8)/train/images/de66bd78-20231212_142518.jpg: corrupt JPEG restored and saved\n",
      "\u001b[34m\u001b[1mtrain: \u001b[0mWARNING ⚠️ /home/aashish/Downloads/Nepali-Sign-Language-Recognition/Nepali Sign Language Image Annotations (YOLOv8)/train/images/de6d0cfb-20231204_135914.jpg: corrupt JPEG restored and saved\n",
      "\u001b[34m\u001b[1mtrain: \u001b[0mWARNING ⚠️ /home/aashish/Downloads/Nepali-Sign-Language-Recognition/Nepali Sign Language Image Annotations (YOLOv8)/train/images/df83f66e-20231203_131328.jpg: corrupt JPEG restored and saved\n",
      "\u001b[34m\u001b[1mtrain: \u001b[0mWARNING ⚠️ /home/aashish/Downloads/Nepali-Sign-Language-Recognition/Nepali Sign Language Image Annotations (YOLOv8)/train/images/dfc6f4cb-20231204_1432110.jpg: corrupt JPEG restored and saved\n",
      "\u001b[34m\u001b[1mtrain: \u001b[0mWARNING ⚠️ /home/aashish/Downloads/Nepali-Sign-Language-Recognition/Nepali Sign Language Image Annotations (YOLOv8)/train/images/dfe10784-20231204_1428520.jpg: corrupt JPEG restored and saved\n",
      "\u001b[34m\u001b[1mtrain: \u001b[0mWARNING ⚠️ /home/aashish/Downloads/Nepali-Sign-Language-Recognition/Nepali Sign Language Image Annotations (YOLOv8)/train/images/dff27c75-20231204_1315100.jpg: corrupt JPEG restored and saved\n",
      "\u001b[34m\u001b[1mtrain: \u001b[0mWARNING ⚠️ /home/aashish/Downloads/Nepali-Sign-Language-Recognition/Nepali Sign Language Image Annotations (YOLOv8)/train/images/dffbd3b5-20231204_1310350.jpg: corrupt JPEG restored and saved\n",
      "\u001b[34m\u001b[1mtrain: \u001b[0mWARNING ⚠️ /home/aashish/Downloads/Nepali-Sign-Language-Recognition/Nepali Sign Language Image Annotations (YOLOv8)/train/images/e00c9550-20231203_125146.jpg: corrupt JPEG restored and saved\n",
      "\u001b[34m\u001b[1mtrain: \u001b[0mWARNING ⚠️ /home/aashish/Downloads/Nepali-Sign-Language-Recognition/Nepali Sign Language Image Annotations (YOLOv8)/train/images/e010ca58-20231204_130742.jpg: corrupt JPEG restored and saved\n",
      "\u001b[34m\u001b[1mtrain: \u001b[0mWARNING ⚠️ /home/aashish/Downloads/Nepali-Sign-Language-Recognition/Nepali Sign Language Image Annotations (YOLOv8)/train/images/e0625acd-20231212_150225.jpg: corrupt JPEG restored and saved\n",
      "\u001b[34m\u001b[1mtrain: \u001b[0mWARNING ⚠️ /home/aashish/Downloads/Nepali-Sign-Language-Recognition/Nepali Sign Language Image Annotations (YOLOv8)/train/images/e06f506b-20231212_1429150.jpg: corrupt JPEG restored and saved\n",
      "\u001b[34m\u001b[1mtrain: \u001b[0mWARNING ⚠️ /home/aashish/Downloads/Nepali-Sign-Language-Recognition/Nepali Sign Language Image Annotations (YOLOv8)/train/images/e0825073-20231212_141755.jpg: corrupt JPEG restored and saved\n",
      "\u001b[34m\u001b[1mtrain: \u001b[0mWARNING ⚠️ /home/aashish/Downloads/Nepali-Sign-Language-Recognition/Nepali Sign Language Image Annotations (YOLOv8)/train/images/e0cccf55-20231212_145502.jpg: corrupt JPEG restored and saved\n",
      "\u001b[34m\u001b[1mtrain: \u001b[0mWARNING ⚠️ /home/aashish/Downloads/Nepali-Sign-Language-Recognition/Nepali Sign Language Image Annotations (YOLOv8)/train/images/e0de339e-20231203_130538.jpg: corrupt JPEG restored and saved\n",
      "\u001b[34m\u001b[1mtrain: \u001b[0mWARNING ⚠️ /home/aashish/Downloads/Nepali-Sign-Language-Recognition/Nepali Sign Language Image Annotations (YOLOv8)/train/images/e0e01acd-20231204_1403400.jpg: corrupt JPEG restored and saved\n",
      "\u001b[34m\u001b[1mtrain: \u001b[0mWARNING ⚠️ /home/aashish/Downloads/Nepali-Sign-Language-Recognition/Nepali Sign Language Image Annotations (YOLOv8)/train/images/e0f81300-20231204_140759.jpg: corrupt JPEG restored and saved\n",
      "\u001b[34m\u001b[1mtrain: \u001b[0mWARNING ⚠️ /home/aashish/Downloads/Nepali-Sign-Language-Recognition/Nepali Sign Language Image Annotations (YOLOv8)/train/images/e13d885d-20231204_1418360.jpg: corrupt JPEG restored and saved\n",
      "\u001b[34m\u001b[1mtrain: \u001b[0mWARNING ⚠️ /home/aashish/Downloads/Nepali-Sign-Language-Recognition/Nepali Sign Language Image Annotations (YOLOv8)/train/images/e177e647-20231204_142130.jpg: corrupt JPEG restored and saved\n",
      "\u001b[34m\u001b[1mtrain: \u001b[0mWARNING ⚠️ /home/aashish/Downloads/Nepali-Sign-Language-Recognition/Nepali Sign Language Image Annotations (YOLOv8)/train/images/e184479c-20231212_143306.jpg: corrupt JPEG restored and saved\n",
      "\u001b[34m\u001b[1mtrain: \u001b[0mWARNING ⚠️ /home/aashish/Downloads/Nepali-Sign-Language-Recognition/Nepali Sign Language Image Annotations (YOLOv8)/train/images/e1b620fb-20231204_142851.jpg: corrupt JPEG restored and saved\n",
      "\u001b[34m\u001b[1mtrain: \u001b[0mWARNING ⚠️ /home/aashish/Downloads/Nepali-Sign-Language-Recognition/Nepali Sign Language Image Annotations (YOLOv8)/train/images/e1c922dc-20231212_1453520.jpg: corrupt JPEG restored and saved\n",
      "\u001b[34m\u001b[1mtrain: \u001b[0mWARNING ⚠️ /home/aashish/Downloads/Nepali-Sign-Language-Recognition/Nepali Sign Language Image Annotations (YOLOv8)/train/images/e267aa59-20231212_134957.jpg: corrupt JPEG restored and saved\n",
      "\u001b[34m\u001b[1mtrain: \u001b[0mWARNING ⚠️ /home/aashish/Downloads/Nepali-Sign-Language-Recognition/Nepali Sign Language Image Annotations (YOLOv8)/train/images/e27b1bb6-20231203_130118.jpg: corrupt JPEG restored and saved\n",
      "\u001b[34m\u001b[1mtrain: \u001b[0mWARNING ⚠️ /home/aashish/Downloads/Nepali-Sign-Language-Recognition/Nepali Sign Language Image Annotations (YOLOv8)/train/images/e28a6ac4-20231212_1423370.jpg: corrupt JPEG restored and saved\n",
      "\u001b[34m\u001b[1mtrain: \u001b[0mWARNING ⚠️ /home/aashish/Downloads/Nepali-Sign-Language-Recognition/Nepali Sign Language Image Annotations (YOLOv8)/train/images/e2b4ff77-20231204_142254.jpg: corrupt JPEG restored and saved\n",
      "\u001b[34m\u001b[1mtrain: \u001b[0mWARNING ⚠️ /home/aashish/Downloads/Nepali-Sign-Language-Recognition/Nepali Sign Language Image Annotations (YOLOv8)/train/images/e30e60c9-20231204_131105.jpg: corrupt JPEG restored and saved\n",
      "\u001b[34m\u001b[1mtrain: \u001b[0mWARNING ⚠️ /home/aashish/Downloads/Nepali-Sign-Language-Recognition/Nepali Sign Language Image Annotations (YOLOv8)/train/images/e38c6cd5-20231203_132741.jpg: corrupt JPEG restored and saved\n",
      "\u001b[34m\u001b[1mtrain: \u001b[0mWARNING ⚠️ /home/aashish/Downloads/Nepali-Sign-Language-Recognition/Nepali Sign Language Image Annotations (YOLOv8)/train/images/e3f90562-20231203_132116.jpg: corrupt JPEG restored and saved\n",
      "\u001b[34m\u001b[1mtrain: \u001b[0mWARNING ⚠️ /home/aashish/Downloads/Nepali-Sign-Language-Recognition/Nepali Sign Language Image Annotations (YOLOv8)/train/images/e400848b-20231204_141453.jpg: corrupt JPEG restored and saved\n",
      "\u001b[34m\u001b[1mtrain: \u001b[0mWARNING ⚠️ /home/aashish/Downloads/Nepali-Sign-Language-Recognition/Nepali Sign Language Image Annotations (YOLOv8)/train/images/e429ee81-20231204_141303.jpg: corrupt JPEG restored and saved\n",
      "\u001b[34m\u001b[1mtrain: \u001b[0mWARNING ⚠️ /home/aashish/Downloads/Nepali-Sign-Language-Recognition/Nepali Sign Language Image Annotations (YOLOv8)/train/images/e43586d3-20231204_141114.jpg: corrupt JPEG restored and saved\n",
      "\u001b[34m\u001b[1mtrain: \u001b[0mWARNING ⚠️ /home/aashish/Downloads/Nepali-Sign-Language-Recognition/Nepali Sign Language Image Annotations (YOLOv8)/train/images/e4725c25-20231203_125249.jpg: corrupt JPEG restored and saved\n",
      "\u001b[34m\u001b[1mtrain: \u001b[0mWARNING ⚠️ /home/aashish/Downloads/Nepali-Sign-Language-Recognition/Nepali Sign Language Image Annotations (YOLOv8)/train/images/e48b4e82-20231212_150008.jpg: corrupt JPEG restored and saved\n",
      "\u001b[34m\u001b[1mtrain: \u001b[0mWARNING ⚠️ /home/aashish/Downloads/Nepali-Sign-Language-Recognition/Nepali Sign Language Image Annotations (YOLOv8)/train/images/e4c0baef-20231212_150112.jpg: corrupt JPEG restored and saved\n",
      "\u001b[34m\u001b[1mtrain: \u001b[0mWARNING ⚠️ /home/aashish/Downloads/Nepali-Sign-Language-Recognition/Nepali Sign Language Image Annotations (YOLOv8)/train/images/e4e78771-20231203_131944.jpg: corrupt JPEG restored and saved\n",
      "\u001b[34m\u001b[1mtrain: \u001b[0mWARNING ⚠️ /home/aashish/Downloads/Nepali-Sign-Language-Recognition/Nepali Sign Language Image Annotations (YOLOv8)/train/images/e5349af2-20231212_144553.jpg: corrupt JPEG restored and saved\n",
      "\u001b[34m\u001b[1mtrain: \u001b[0mWARNING ⚠️ /home/aashish/Downloads/Nepali-Sign-Language-Recognition/Nepali Sign Language Image Annotations (YOLOv8)/train/images/e54bdb49-20231203_125217.jpg: corrupt JPEG restored and saved\n",
      "\u001b[34m\u001b[1mtrain: \u001b[0mWARNING ⚠️ /home/aashish/Downloads/Nepali-Sign-Language-Recognition/Nepali Sign Language Image Annotations (YOLOv8)/train/images/e58fd306-20231203_131918.jpg: corrupt JPEG restored and saved\n",
      "\u001b[34m\u001b[1mtrain: \u001b[0mWARNING ⚠️ /home/aashish/Downloads/Nepali-Sign-Language-Recognition/Nepali Sign Language Image Annotations (YOLOv8)/train/images/e59749ff-20231204_142211.jpg: corrupt JPEG restored and saved\n",
      "\u001b[34m\u001b[1mtrain: \u001b[0mWARNING ⚠️ /home/aashish/Downloads/Nepali-Sign-Language-Recognition/Nepali Sign Language Image Annotations (YOLOv8)/train/images/e5f64df1-20231203_131311.jpg: corrupt JPEG restored and saved\n",
      "\u001b[34m\u001b[1mtrain: \u001b[0mWARNING ⚠️ /home/aashish/Downloads/Nepali-Sign-Language-Recognition/Nepali Sign Language Image Annotations (YOLOv8)/train/images/e5fb43ae-20231204_140821.jpg: corrupt JPEG restored and saved\n",
      "\u001b[34m\u001b[1mtrain: \u001b[0mWARNING ⚠️ /home/aashish/Downloads/Nepali-Sign-Language-Recognition/Nepali Sign Language Image Annotations (YOLOv8)/train/images/e60eba48-20231204_143416.jpg: corrupt JPEG restored and saved\n",
      "\u001b[34m\u001b[1mtrain: \u001b[0mWARNING ⚠️ /home/aashish/Downloads/Nepali-Sign-Language-Recognition/Nepali Sign Language Image Annotations (YOLOv8)/train/images/e64bfde8-20231212_145722.jpg: corrupt JPEG restored and saved\n",
      "\u001b[34m\u001b[1mtrain: \u001b[0mWARNING ⚠️ /home/aashish/Downloads/Nepali-Sign-Language-Recognition/Nepali Sign Language Image Annotations (YOLOv8)/train/images/e693f4fa-20231203_1301180.jpg: corrupt JPEG restored and saved\n",
      "\u001b[34m\u001b[1mtrain: \u001b[0mWARNING ⚠️ /home/aashish/Downloads/Nepali-Sign-Language-Recognition/Nepali Sign Language Image Annotations (YOLOv8)/train/images/e69dead4-20231203_124824.jpg: corrupt JPEG restored and saved\n",
      "\u001b[34m\u001b[1mtrain: \u001b[0mWARNING ⚠️ /home/aashish/Downloads/Nepali-Sign-Language-Recognition/Nepali Sign Language Image Annotations (YOLOv8)/train/images/e6c48af0-20231203_135330.jpg: corrupt JPEG restored and saved\n",
      "\u001b[34m\u001b[1mtrain: \u001b[0mWARNING ⚠️ /home/aashish/Downloads/Nepali-Sign-Language-Recognition/Nepali Sign Language Image Annotations (YOLOv8)/train/images/e70fe039-20231212_1419180.jpg: corrupt JPEG restored and saved\n",
      "\u001b[34m\u001b[1mtrain: \u001b[0mWARNING ⚠️ /home/aashish/Downloads/Nepali-Sign-Language-Recognition/Nepali Sign Language Image Annotations (YOLOv8)/train/images/e770fd8d-20231204_135559.jpg: corrupt JPEG restored and saved\n",
      "\u001b[34m\u001b[1mtrain: \u001b[0mWARNING ⚠️ /home/aashish/Downloads/Nepali-Sign-Language-Recognition/Nepali Sign Language Image Annotations (YOLOv8)/train/images/e77a7ec6-20231203_134932.jpg: corrupt JPEG restored and saved\n",
      "\u001b[34m\u001b[1mtrain: \u001b[0mWARNING ⚠️ /home/aashish/Downloads/Nepali-Sign-Language-Recognition/Nepali Sign Language Image Annotations (YOLOv8)/train/images/e7b77a23-20231203_132430.jpg: corrupt JPEG restored and saved\n",
      "\u001b[34m\u001b[1mtrain: \u001b[0mWARNING ⚠️ /home/aashish/Downloads/Nepali-Sign-Language-Recognition/Nepali Sign Language Image Annotations (YOLOv8)/train/images/e7d778aa-20231204_140220.jpg: corrupt JPEG restored and saved\n",
      "\u001b[34m\u001b[1mtrain: \u001b[0mWARNING ⚠️ /home/aashish/Downloads/Nepali-Sign-Language-Recognition/Nepali Sign Language Image Annotations (YOLOv8)/train/images/e8698d3f-20231212_143149.jpg: corrupt JPEG restored and saved\n",
      "\u001b[34m\u001b[1mtrain: \u001b[0mWARNING ⚠️ /home/aashish/Downloads/Nepali-Sign-Language-Recognition/Nepali Sign Language Image Annotations (YOLOv8)/train/images/e87a61d6-20231204_140703.jpg: corrupt JPEG restored and saved\n",
      "\u001b[34m\u001b[1mtrain: \u001b[0mWARNING ⚠️ /home/aashish/Downloads/Nepali-Sign-Language-Recognition/Nepali Sign Language Image Annotations (YOLOv8)/train/images/e8d74494-20231204_140315.jpg: corrupt JPEG restored and saved\n",
      "\u001b[34m\u001b[1mtrain: \u001b[0mWARNING ⚠️ /home/aashish/Downloads/Nepali-Sign-Language-Recognition/Nepali Sign Language Image Annotations (YOLOv8)/train/images/e8eefd59-20231204_140549.jpg: corrupt JPEG restored and saved\n",
      "\u001b[34m\u001b[1mtrain: \u001b[0mWARNING ⚠️ /home/aashish/Downloads/Nepali-Sign-Language-Recognition/Nepali Sign Language Image Annotations (YOLOv8)/train/images/e92e0f61-20231212_145127.jpg: corrupt JPEG restored and saved\n",
      "\u001b[34m\u001b[1mtrain: \u001b[0mWARNING ⚠️ /home/aashish/Downloads/Nepali-Sign-Language-Recognition/Nepali Sign Language Image Annotations (YOLOv8)/train/images/e92fb57b-20231212_134742.jpg: corrupt JPEG restored and saved\n",
      "\u001b[34m\u001b[1mtrain: \u001b[0mWARNING ⚠️ /home/aashish/Downloads/Nepali-Sign-Language-Recognition/Nepali Sign Language Image Annotations (YOLOv8)/train/images/e93a38d2-20231212_144724.jpg: corrupt JPEG restored and saved\n",
      "\u001b[34m\u001b[1mtrain: \u001b[0mWARNING ⚠️ /home/aashish/Downloads/Nepali-Sign-Language-Recognition/Nepali Sign Language Image Annotations (YOLOv8)/train/images/e9419386-20231203_133109.jpg: corrupt JPEG restored and saved\n",
      "\u001b[34m\u001b[1mtrain: \u001b[0mWARNING ⚠️ /home/aashish/Downloads/Nepali-Sign-Language-Recognition/Nepali Sign Language Image Annotations (YOLOv8)/train/images/e9797b52-20231203_132251.jpg: corrupt JPEG restored and saved\n",
      "\u001b[34m\u001b[1mtrain: \u001b[0mWARNING ⚠️ /home/aashish/Downloads/Nepali-Sign-Language-Recognition/Nepali Sign Language Image Annotations (YOLOv8)/train/images/e9c97c3e-20231204_1305490.jpg: corrupt JPEG restored and saved\n",
      "\u001b[34m\u001b[1mtrain: \u001b[0mWARNING ⚠️ /home/aashish/Downloads/Nepali-Sign-Language-Recognition/Nepali Sign Language Image Annotations (YOLOv8)/train/images/e9d83b53-20231212_1425270.jpg: corrupt JPEG restored and saved\n",
      "\u001b[34m\u001b[1mtrain: \u001b[0mWARNING ⚠️ /home/aashish/Downloads/Nepali-Sign-Language-Recognition/Nepali Sign Language Image Annotations (YOLOv8)/train/images/ea1f94f2-20231204_142318.jpg: corrupt JPEG restored and saved\n",
      "\u001b[34m\u001b[1mtrain: \u001b[0mWARNING ⚠️ /home/aashish/Downloads/Nepali-Sign-Language-Recognition/Nepali Sign Language Image Annotations (YOLOv8)/train/images/ea825716-20231212_135011.jpg: corrupt JPEG restored and saved\n",
      "\u001b[34m\u001b[1mtrain: \u001b[0mWARNING ⚠️ /home/aashish/Downloads/Nepali-Sign-Language-Recognition/Nepali Sign Language Image Annotations (YOLOv8)/train/images/ea9bdb73-20231203_131303.jpg: corrupt JPEG restored and saved\n",
      "\u001b[34m\u001b[1mtrain: \u001b[0mWARNING ⚠️ /home/aashish/Downloads/Nepali-Sign-Language-Recognition/Nepali Sign Language Image Annotations (YOLOv8)/train/images/eb198ece-20231203_132342.jpg: corrupt JPEG restored and saved\n",
      "\u001b[34m\u001b[1mtrain: \u001b[0mWARNING ⚠️ /home/aashish/Downloads/Nepali-Sign-Language-Recognition/Nepali Sign Language Image Annotations (YOLOv8)/train/images/eb37144d-20231204_140726.jpg: corrupt JPEG restored and saved\n",
      "\u001b[34m\u001b[1mtrain: \u001b[0mWARNING ⚠️ /home/aashish/Downloads/Nepali-Sign-Language-Recognition/Nepali Sign Language Image Annotations (YOLOv8)/train/images/eb3fd768-20231203_125042.jpg: corrupt JPEG restored and saved\n",
      "\u001b[34m\u001b[1mtrain: \u001b[0mWARNING ⚠️ /home/aashish/Downloads/Nepali-Sign-Language-Recognition/Nepali Sign Language Image Annotations (YOLOv8)/train/images/eb6909f5-20231203_130103.jpg: corrupt JPEG restored and saved\n",
      "\u001b[34m\u001b[1mtrain: \u001b[0mWARNING ⚠️ /home/aashish/Downloads/Nepali-Sign-Language-Recognition/Nepali Sign Language Image Annotations (YOLOv8)/train/images/eb739041-20231203_133051.jpg: corrupt JPEG restored and saved\n",
      "\u001b[34m\u001b[1mtrain: \u001b[0mWARNING ⚠️ /home/aashish/Downloads/Nepali-Sign-Language-Recognition/Nepali Sign Language Image Annotations (YOLOv8)/train/images/eb87699a-20231212_142106.jpg: corrupt JPEG restored and saved\n",
      "\u001b[34m\u001b[1mtrain: \u001b[0mWARNING ⚠️ /home/aashish/Downloads/Nepali-Sign-Language-Recognition/Nepali Sign Language Image Annotations (YOLOv8)/train/images/eb8b170e-20231212_1454520.jpg: corrupt JPEG restored and saved\n",
      "\u001b[34m\u001b[1mtrain: \u001b[0mWARNING ⚠️ /home/aashish/Downloads/Nepali-Sign-Language-Recognition/Nepali Sign Language Image Annotations (YOLOv8)/train/images/eb96ce42-20231212_142948.jpg: corrupt JPEG restored and saved\n",
      "\u001b[34m\u001b[1mtrain: \u001b[0mWARNING ⚠️ /home/aashish/Downloads/Nepali-Sign-Language-Recognition/Nepali Sign Language Image Annotations (YOLOv8)/train/images/ec17829a-20231204_143108.jpg: corrupt JPEG restored and saved\n",
      "\u001b[34m\u001b[1mtrain: \u001b[0mWARNING ⚠️ /home/aashish/Downloads/Nepali-Sign-Language-Recognition/Nepali Sign Language Image Annotations (YOLOv8)/train/images/ed82a1ef-20231212_144956.jpg: corrupt JPEG restored and saved\n",
      "\u001b[34m\u001b[1mtrain: \u001b[0mWARNING ⚠️ /home/aashish/Downloads/Nepali-Sign-Language-Recognition/Nepali Sign Language Image Annotations (YOLOv8)/train/images/ed988948-20231212_142259.jpg: corrupt JPEG restored and saved\n",
      "\u001b[34m\u001b[1mtrain: \u001b[0mWARNING ⚠️ /home/aashish/Downloads/Nepali-Sign-Language-Recognition/Nepali Sign Language Image Annotations (YOLOv8)/train/images/edbb142b-20231204_1435140.jpg: corrupt JPEG restored and saved\n",
      "\u001b[34m\u001b[1mtrain: \u001b[0mWARNING ⚠️ /home/aashish/Downloads/Nepali-Sign-Language-Recognition/Nepali Sign Language Image Annotations (YOLOv8)/train/images/edcaf295-20231203_131634.jpg: corrupt JPEG restored and saved\n",
      "\u001b[34m\u001b[1mtrain: \u001b[0mWARNING ⚠️ /home/aashish/Downloads/Nepali-Sign-Language-Recognition/Nepali Sign Language Image Annotations (YOLOv8)/train/images/ede01a34-20231212_144616.jpg: corrupt JPEG restored and saved\n",
      "\u001b[34m\u001b[1mtrain: \u001b[0mWARNING ⚠️ /home/aashish/Downloads/Nepali-Sign-Language-Recognition/Nepali Sign Language Image Annotations (YOLOv8)/train/images/ee07ffc6-20231203_131650.jpg: corrupt JPEG restored and saved\n",
      "\u001b[34m\u001b[1mtrain: \u001b[0mWARNING ⚠️ /home/aashish/Downloads/Nepali-Sign-Language-Recognition/Nepali Sign Language Image Annotations (YOLOv8)/train/images/ee7a77fd-20231203_125519.jpg: corrupt JPEG restored and saved\n",
      "\u001b[34m\u001b[1mtrain: \u001b[0mWARNING ⚠️ /home/aashish/Downloads/Nepali-Sign-Language-Recognition/Nepali Sign Language Image Annotations (YOLOv8)/train/images/eefd267c-20231203_1336380.jpg: corrupt JPEG restored and saved\n",
      "\u001b[34m\u001b[1mtrain: \u001b[0mWARNING ⚠️ /home/aashish/Downloads/Nepali-Sign-Language-Recognition/Nepali Sign Language Image Annotations (YOLOv8)/train/images/ef141e47-20231204_1408400.jpg: corrupt JPEG restored and saved\n",
      "\u001b[34m\u001b[1mtrain: \u001b[0mWARNING ⚠️ /home/aashish/Downloads/Nepali-Sign-Language-Recognition/Nepali Sign Language Image Annotations (YOLOv8)/train/images/ef38fe5e-20231204_141102.jpg: corrupt JPEG restored and saved\n",
      "\u001b[34m\u001b[1mtrain: \u001b[0mWARNING ⚠️ /home/aashish/Downloads/Nepali-Sign-Language-Recognition/Nepali Sign Language Image Annotations (YOLOv8)/train/images/eff9a85c-20231212_142527.jpg: corrupt JPEG restored and saved\n",
      "\u001b[34m\u001b[1mtrain: \u001b[0mWARNING ⚠️ /home/aashish/Downloads/Nepali-Sign-Language-Recognition/Nepali Sign Language Image Annotations (YOLOv8)/train/images/f137321a-20231204_1429320.jpg: corrupt JPEG restored and saved\n",
      "\u001b[34m\u001b[1mtrain: \u001b[0mWARNING ⚠️ /home/aashish/Downloads/Nepali-Sign-Language-Recognition/Nepali Sign Language Image Annotations (YOLOv8)/train/images/f13ca1e4-20231203_132931.jpg: corrupt JPEG restored and saved\n",
      "\u001b[34m\u001b[1mtrain: \u001b[0mWARNING ⚠️ /home/aashish/Downloads/Nepali-Sign-Language-Recognition/Nepali Sign Language Image Annotations (YOLOv8)/train/images/f1d27410-20231203_125124.jpg: corrupt JPEG restored and saved\n",
      "\u001b[34m\u001b[1mtrain: \u001b[0mWARNING ⚠️ /home/aashish/Downloads/Nepali-Sign-Language-Recognition/Nepali Sign Language Image Annotations (YOLOv8)/train/images/f2915cf8-20231204_141425.jpg: corrupt JPEG restored and saved\n",
      "\u001b[34m\u001b[1mtrain: \u001b[0mWARNING ⚠️ /home/aashish/Downloads/Nepali-Sign-Language-Recognition/Nepali Sign Language Image Annotations (YOLOv8)/train/images/f34504b3-20231212_141918.jpg: corrupt JPEG restored and saved\n",
      "\u001b[34m\u001b[1mtrain: \u001b[0mWARNING ⚠️ /home/aashish/Downloads/Nepali-Sign-Language-Recognition/Nepali Sign Language Image Annotations (YOLOv8)/train/images/f3584d2e-20231204_1402490.jpg: corrupt JPEG restored and saved\n",
      "\u001b[34m\u001b[1mtrain: \u001b[0mWARNING ⚠️ /home/aashish/Downloads/Nepali-Sign-Language-Recognition/Nepali Sign Language Image Annotations (YOLOv8)/train/images/f37d086c-20231204_135310.jpg: corrupt JPEG restored and saved\n",
      "\u001b[34m\u001b[1mtrain: \u001b[0mWARNING ⚠️ /home/aashish/Downloads/Nepali-Sign-Language-Recognition/Nepali Sign Language Image Annotations (YOLOv8)/train/images/f39aba52-20231204_131519.jpg: corrupt JPEG restored and saved\n",
      "\u001b[34m\u001b[1mtrain: \u001b[0mWARNING ⚠️ /home/aashish/Downloads/Nepali-Sign-Language-Recognition/Nepali Sign Language Image Annotations (YOLOv8)/train/images/f3e4092a-20231212_143148.jpg: corrupt JPEG restored and saved\n",
      "\u001b[34m\u001b[1mtrain: \u001b[0mWARNING ⚠️ /home/aashish/Downloads/Nepali-Sign-Language-Recognition/Nepali Sign Language Image Annotations (YOLOv8)/train/images/f402ec70-20231204_135340.jpg: corrupt JPEG restored and saved\n",
      "\u001b[34m\u001b[1mtrain: \u001b[0mWARNING ⚠️ /home/aashish/Downloads/Nepali-Sign-Language-Recognition/Nepali Sign Language Image Annotations (YOLOv8)/train/images/f4147bf2-20231204_142652.jpg: corrupt JPEG restored and saved\n",
      "\u001b[34m\u001b[1mtrain: \u001b[0mWARNING ⚠️ /home/aashish/Downloads/Nepali-Sign-Language-Recognition/Nepali Sign Language Image Annotations (YOLOv8)/train/images/f4387e70-20231212_1434000.jpg: corrupt JPEG restored and saved\n",
      "\u001b[34m\u001b[1mtrain: \u001b[0mWARNING ⚠️ /home/aashish/Downloads/Nepali-Sign-Language-Recognition/Nepali Sign Language Image Annotations (YOLOv8)/train/images/f43ad3c8-20231212_1440500.jpg: corrupt JPEG restored and saved\n",
      "\u001b[34m\u001b[1mtrain: \u001b[0mWARNING ⚠️ /home/aashish/Downloads/Nepali-Sign-Language-Recognition/Nepali Sign Language Image Annotations (YOLOv8)/train/images/f4474d6c-20231204_131858.jpg: corrupt JPEG restored and saved\n",
      "\u001b[34m\u001b[1mtrain: \u001b[0mWARNING ⚠️ /home/aashish/Downloads/Nepali-Sign-Language-Recognition/Nepali Sign Language Image Annotations (YOLOv8)/train/images/f4ec0792-20231212_135012.jpg: corrupt JPEG restored and saved\n",
      "\u001b[34m\u001b[1mtrain: \u001b[0mWARNING ⚠️ /home/aashish/Downloads/Nepali-Sign-Language-Recognition/Nepali Sign Language Image Annotations (YOLOv8)/train/images/f551b868-20231212_145250.jpg: corrupt JPEG restored and saved\n",
      "\u001b[34m\u001b[1mtrain: \u001b[0mWARNING ⚠️ /home/aashish/Downloads/Nepali-Sign-Language-Recognition/Nepali Sign Language Image Annotations (YOLOv8)/train/images/f574b8e2-20231204_131616.jpg: corrupt JPEG restored and saved\n",
      "\u001b[34m\u001b[1mtrain: \u001b[0mWARNING ⚠️ /home/aashish/Downloads/Nepali-Sign-Language-Recognition/Nepali Sign Language Image Annotations (YOLOv8)/train/images/f59d0a90-20231212_143159.jpg: corrupt JPEG restored and saved\n",
      "\u001b[34m\u001b[1mtrain: \u001b[0mWARNING ⚠️ /home/aashish/Downloads/Nepali-Sign-Language-Recognition/Nepali Sign Language Image Annotations (YOLOv8)/train/images/f5eaf008-20231212_1429580.jpg: corrupt JPEG restored and saved\n",
      "\u001b[34m\u001b[1mtrain: \u001b[0mWARNING ⚠️ /home/aashish/Downloads/Nepali-Sign-Language-Recognition/Nepali Sign Language Image Annotations (YOLOv8)/train/images/f67f11f4-20231212_145317.jpg: corrupt JPEG restored and saved\n",
      "\u001b[34m\u001b[1mtrain: \u001b[0mWARNING ⚠️ /home/aashish/Downloads/Nepali-Sign-Language-Recognition/Nepali Sign Language Image Annotations (YOLOv8)/train/images/f6a01de5-20231212_144815.jpg: corrupt JPEG restored and saved\n",
      "\u001b[34m\u001b[1mtrain: \u001b[0mWARNING ⚠️ /home/aashish/Downloads/Nepali-Sign-Language-Recognition/Nepali Sign Language Image Annotations (YOLOv8)/train/images/f6b39141-20231212_143020.jpg: corrupt JPEG restored and saved\n",
      "\u001b[34m\u001b[1mtrain: \u001b[0mWARNING ⚠️ /home/aashish/Downloads/Nepali-Sign-Language-Recognition/Nepali Sign Language Image Annotations (YOLOv8)/train/images/f71aeda7-20231204_142212.jpg: corrupt JPEG restored and saved\n",
      "\u001b[34m\u001b[1mtrain: \u001b[0mWARNING ⚠️ /home/aashish/Downloads/Nepali-Sign-Language-Recognition/Nepali Sign Language Image Annotations (YOLOv8)/train/images/f73c6e92-20231212_1437340.jpg: corrupt JPEG restored and saved\n",
      "\u001b[34m\u001b[1mtrain: \u001b[0mWARNING ⚠️ /home/aashish/Downloads/Nepali-Sign-Language-Recognition/Nepali Sign Language Image Annotations (YOLOv8)/train/images/f776d6df-20231204_141400.jpg: corrupt JPEG restored and saved\n",
      "\u001b[34m\u001b[1mtrain: \u001b[0mWARNING ⚠️ /home/aashish/Downloads/Nepali-Sign-Language-Recognition/Nepali Sign Language Image Annotations (YOLOv8)/train/images/f793dffa-20231204_140832.jpg: corrupt JPEG restored and saved\n",
      "\u001b[34m\u001b[1mtrain: \u001b[0mWARNING ⚠️ /home/aashish/Downloads/Nepali-Sign-Language-Recognition/Nepali Sign Language Image Annotations (YOLOv8)/train/images/f7aa443d-20231212_145828.jpg: corrupt JPEG restored and saved\n",
      "\u001b[34m\u001b[1mtrain: \u001b[0mWARNING ⚠️ /home/aashish/Downloads/Nepali-Sign-Language-Recognition/Nepali Sign Language Image Annotations (YOLOv8)/train/images/f7afefbb-20231203_131440.jpg: corrupt JPEG restored and saved\n",
      "\u001b[34m\u001b[1mtrain: \u001b[0mWARNING ⚠️ /home/aashish/Downloads/Nepali-Sign-Language-Recognition/Nepali Sign Language Image Annotations (YOLOv8)/train/images/f7f9e36d-20231212_145911.jpg: corrupt JPEG restored and saved\n",
      "\u001b[34m\u001b[1mtrain: \u001b[0mWARNING ⚠️ /home/aashish/Downloads/Nepali-Sign-Language-Recognition/Nepali Sign Language Image Annotations (YOLOv8)/train/images/f856e322-20231203_1258160.jpg: corrupt JPEG restored and saved\n",
      "\u001b[34m\u001b[1mtrain: \u001b[0mWARNING ⚠️ /home/aashish/Downloads/Nepali-Sign-Language-Recognition/Nepali Sign Language Image Annotations (YOLOv8)/train/images/f87e39aa-20231203_132900.jpg: corrupt JPEG restored and saved\n",
      "\u001b[34m\u001b[1mtrain: \u001b[0mWARNING ⚠️ /home/aashish/Downloads/Nepali-Sign-Language-Recognition/Nepali Sign Language Image Annotations (YOLOv8)/train/images/f882dd34-20231203_1335400.jpg: corrupt JPEG restored and saved\n",
      "\u001b[34m\u001b[1mtrain: \u001b[0mWARNING ⚠️ /home/aashish/Downloads/Nepali-Sign-Language-Recognition/Nepali Sign Language Image Annotations (YOLOv8)/train/images/f8e0469d-20231203_125459.jpg: corrupt JPEG restored and saved\n",
      "\u001b[34m\u001b[1mtrain: \u001b[0mWARNING ⚠️ /home/aashish/Downloads/Nepali-Sign-Language-Recognition/Nepali Sign Language Image Annotations (YOLOv8)/train/images/f8eacc6c-20231212_142021.jpg: corrupt JPEG restored and saved\n",
      "\u001b[34m\u001b[1mtrain: \u001b[0mWARNING ⚠️ /home/aashish/Downloads/Nepali-Sign-Language-Recognition/Nepali Sign Language Image Annotations (YOLOv8)/train/images/f8ee7d29-20231203_1247280.jpg: corrupt JPEG restored and saved\n",
      "\u001b[34m\u001b[1mtrain: \u001b[0mWARNING ⚠️ /home/aashish/Downloads/Nepali-Sign-Language-Recognition/Nepali Sign Language Image Annotations (YOLOv8)/train/images/f9160168-20231204_1429460.jpg: corrupt JPEG restored and saved\n",
      "\u001b[34m\u001b[1mtrain: \u001b[0mWARNING ⚠️ /home/aashish/Downloads/Nepali-Sign-Language-Recognition/Nepali Sign Language Image Annotations (YOLOv8)/train/images/f932e1e1-20231212_145721.jpg: corrupt JPEG restored and saved\n",
      "\u001b[34m\u001b[1mtrain: \u001b[0mWARNING ⚠️ /home/aashish/Downloads/Nepali-Sign-Language-Recognition/Nepali Sign Language Image Annotations (YOLOv8)/train/images/f95d9b8f-20231203_125154.jpg: corrupt JPEG restored and saved\n",
      "\u001b[34m\u001b[1mtrain: \u001b[0mWARNING ⚠️ /home/aashish/Downloads/Nepali-Sign-Language-Recognition/Nepali Sign Language Image Annotations (YOLOv8)/train/images/f95e3c48-20231204_140229.jpg: corrupt JPEG restored and saved\n",
      "\u001b[34m\u001b[1mtrain: \u001b[0mWARNING ⚠️ /home/aashish/Downloads/Nepali-Sign-Language-Recognition/Nepali Sign Language Image Annotations (YOLOv8)/train/images/f96bd43e-20231204_140231.jpg: corrupt JPEG restored and saved\n",
      "\u001b[34m\u001b[1mtrain: \u001b[0mWARNING ⚠️ /home/aashish/Downloads/Nepali-Sign-Language-Recognition/Nepali Sign Language Image Annotations (YOLOv8)/train/images/f9b618a4-20231204_135841.jpg: corrupt JPEG restored and saved\n",
      "\u001b[34m\u001b[1mtrain: \u001b[0mWARNING ⚠️ /home/aashish/Downloads/Nepali-Sign-Language-Recognition/Nepali Sign Language Image Annotations (YOLOv8)/train/images/f9c922e9-20231204_142933.jpg: corrupt JPEG restored and saved\n",
      "\u001b[34m\u001b[1mtrain: \u001b[0mWARNING ⚠️ /home/aashish/Downloads/Nepali-Sign-Language-Recognition/Nepali Sign Language Image Annotations (YOLOv8)/train/images/f9faeaa9-20231204_1433270.jpg: corrupt JPEG restored and saved\n",
      "\u001b[34m\u001b[1mtrain: \u001b[0mWARNING ⚠️ /home/aashish/Downloads/Nepali-Sign-Language-Recognition/Nepali Sign Language Image Annotations (YOLOv8)/train/images/fa0ab9cf-20231204_141028.jpg: corrupt JPEG restored and saved\n",
      "\u001b[34m\u001b[1mtrain: \u001b[0mWARNING ⚠️ /home/aashish/Downloads/Nepali-Sign-Language-Recognition/Nepali Sign Language Image Annotations (YOLOv8)/train/images/fa975375-20231204_140103.jpg: corrupt JPEG restored and saved\n",
      "\u001b[34m\u001b[1mtrain: \u001b[0mWARNING ⚠️ /home/aashish/Downloads/Nepali-Sign-Language-Recognition/Nepali Sign Language Image Annotations (YOLOv8)/train/images/faa5fa5b-20231204_143456.jpg: corrupt JPEG restored and saved\n",
      "\u001b[34m\u001b[1mtrain: \u001b[0mWARNING ⚠️ /home/aashish/Downloads/Nepali-Sign-Language-Recognition/Nepali Sign Language Image Annotations (YOLOv8)/train/images/fab609e9-20231212_143441.jpg: corrupt JPEG restored and saved\n",
      "\u001b[34m\u001b[1mtrain: \u001b[0mWARNING ⚠️ /home/aashish/Downloads/Nepali-Sign-Language-Recognition/Nepali Sign Language Image Annotations (YOLOv8)/train/images/fabce40b-20231203_124656.jpg: corrupt JPEG restored and saved\n",
      "\u001b[34m\u001b[1mtrain: \u001b[0mWARNING ⚠️ /home/aashish/Downloads/Nepali-Sign-Language-Recognition/Nepali Sign Language Image Annotations (YOLOv8)/train/images/faf27a31-20231204_135613.jpg: corrupt JPEG restored and saved\n",
      "\u001b[34m\u001b[1mtrain: \u001b[0mWARNING ⚠️ /home/aashish/Downloads/Nepali-Sign-Language-Recognition/Nepali Sign Language Image Annotations (YOLOv8)/train/images/fb13898e-20231203_125839.jpg: corrupt JPEG restored and saved\n",
      "\u001b[34m\u001b[1mtrain: \u001b[0mWARNING ⚠️ /home/aashish/Downloads/Nepali-Sign-Language-Recognition/Nepali Sign Language Image Annotations (YOLOv8)/train/images/fb1c08df-20231204_142654.jpg: corrupt JPEG restored and saved\n",
      "\u001b[34m\u001b[1mtrain: \u001b[0mWARNING ⚠️ /home/aashish/Downloads/Nepali-Sign-Language-Recognition/Nepali Sign Language Image Annotations (YOLOv8)/train/images/fba8b407-20231204_142949.jpg: corrupt JPEG restored and saved\n",
      "\u001b[34m\u001b[1mtrain: \u001b[0mWARNING ⚠️ /home/aashish/Downloads/Nepali-Sign-Language-Recognition/Nepali Sign Language Image Annotations (YOLOv8)/train/images/fbaedb70-20231204_131403.jpg: corrupt JPEG restored and saved\n",
      "\u001b[34m\u001b[1mtrain: \u001b[0mWARNING ⚠️ /home/aashish/Downloads/Nepali-Sign-Language-Recognition/Nepali Sign Language Image Annotations (YOLOv8)/train/images/fc71f405-20231212_144925.jpg: corrupt JPEG restored and saved\n",
      "\u001b[34m\u001b[1mtrain: \u001b[0mWARNING ⚠️ /home/aashish/Downloads/Nepali-Sign-Language-Recognition/Nepali Sign Language Image Annotations (YOLOv8)/train/images/fcbd9365-20231204_1356290.jpg: corrupt JPEG restored and saved\n",
      "\u001b[34m\u001b[1mtrain: \u001b[0mWARNING ⚠️ /home/aashish/Downloads/Nepali-Sign-Language-Recognition/Nepali Sign Language Image Annotations (YOLOv8)/train/images/fcca3b9c-20231203_134636.jpg: corrupt JPEG restored and saved\n",
      "\u001b[34m\u001b[1mtrain: \u001b[0mWARNING ⚠️ /home/aashish/Downloads/Nepali-Sign-Language-Recognition/Nepali Sign Language Image Annotations (YOLOv8)/train/images/fd19759b-20231203_1313200.jpg: corrupt JPEG restored and saved\n",
      "\u001b[34m\u001b[1mtrain: \u001b[0mWARNING ⚠️ /home/aashish/Downloads/Nepali-Sign-Language-Recognition/Nepali Sign Language Image Annotations (YOLOv8)/train/images/fd24a870-20231204_1314480.jpg: corrupt JPEG restored and saved\n",
      "\u001b[34m\u001b[1mtrain: \u001b[0mWARNING ⚠️ /home/aashish/Downloads/Nepali-Sign-Language-Recognition/Nepali Sign Language Image Annotations (YOLOv8)/train/images/fd79afb0-20231212_1416230.jpg: corrupt JPEG restored and saved\n",
      "\u001b[34m\u001b[1mtrain: \u001b[0mWARNING ⚠️ /home/aashish/Downloads/Nepali-Sign-Language-Recognition/Nepali Sign Language Image Annotations (YOLOv8)/train/images/fdb730cb-20231204_143442.jpg: corrupt JPEG restored and saved\n",
      "\u001b[34m\u001b[1mtrain: \u001b[0mWARNING ⚠️ /home/aashish/Downloads/Nepali-Sign-Language-Recognition/Nepali Sign Language Image Annotations (YOLOv8)/train/images/fdf826a0-20231203_131651.jpg: corrupt JPEG restored and saved\n",
      "\u001b[34m\u001b[1mtrain: \u001b[0mWARNING ⚠️ /home/aashish/Downloads/Nepali-Sign-Language-Recognition/Nepali Sign Language Image Annotations (YOLOv8)/train/images/fe05d6e6-20231203_132656.jpg: corrupt JPEG restored and saved\n",
      "\u001b[34m\u001b[1mtrain: \u001b[0mWARNING ⚠️ /home/aashish/Downloads/Nepali-Sign-Language-Recognition/Nepali Sign Language Image Annotations (YOLOv8)/train/images/fe36322d-20231203_130251.jpg: corrupt JPEG restored and saved\n",
      "\u001b[34m\u001b[1mtrain: \u001b[0mWARNING ⚠️ /home/aashish/Downloads/Nepali-Sign-Language-Recognition/Nepali Sign Language Image Annotations (YOLOv8)/train/images/fe57ccd3-20231212_143429.jpg: corrupt JPEG restored and saved\n",
      "\u001b[34m\u001b[1mtrain: \u001b[0mWARNING ⚠️ /home/aashish/Downloads/Nepali-Sign-Language-Recognition/Nepali Sign Language Image Annotations (YOLOv8)/train/images/febe6ac7-20231203_132959.jpg: corrupt JPEG restored and saved\n",
      "\u001b[34m\u001b[1mtrain: \u001b[0mWARNING ⚠️ /home/aashish/Downloads/Nepali-Sign-Language-Recognition/Nepali Sign Language Image Annotations (YOLOv8)/train/images/fec1a86e-20231203_131615.jpg: corrupt JPEG restored and saved\n",
      "\u001b[34m\u001b[1mtrain: \u001b[0mWARNING ⚠️ /home/aashish/Downloads/Nepali-Sign-Language-Recognition/Nepali Sign Language Image Annotations (YOLOv8)/train/images/ff16164f-20231203_131743.jpg: corrupt JPEG restored and saved\n",
      "\u001b[34m\u001b[1mtrain: \u001b[0mWARNING ⚠️ /home/aashish/Downloads/Nepali-Sign-Language-Recognition/Nepali Sign Language Image Annotations (YOLOv8)/train/images/ff2396f0-20231204_141125.jpg: corrupt JPEG restored and saved\n",
      "\u001b[34m\u001b[1mtrain: \u001b[0mWARNING ⚠️ /home/aashish/Downloads/Nepali-Sign-Language-Recognition/Nepali Sign Language Image Annotations (YOLOv8)/train/images/ff905bca-20231203_135200.jpg: corrupt JPEG restored and saved\n"
     ]
    },
    {
     "name": "stderr",
     "output_type": "stream",
     "text": [
      "\n",
      "\u001b[34m\u001b[1mval: \u001b[0mScanning /home/aashish/Downloads/Nepali-Sign-Language-Recognition/Nepali Si\u001b[0m"
     ]
    },
    {
     "name": "stdout",
     "output_type": "stream",
     "text": [
      "\u001b[34m\u001b[1mval: \u001b[0mWARNING ⚠️ /home/aashish/Downloads/Nepali-Sign-Language-Recognition/Nepali Sign Language Image Annotations (YOLOv8)/val/images/0012eea5-20231204_1435310.jpg: corrupt JPEG restored and saved\n",
      "\u001b[34m\u001b[1mval: \u001b[0mWARNING ⚠️ /home/aashish/Downloads/Nepali-Sign-Language-Recognition/Nepali Sign Language Image Annotations (YOLOv8)/val/images/004b3dfd-20231203_133129.jpg: corrupt JPEG restored and saved\n",
      "\u001b[34m\u001b[1mval: \u001b[0mWARNING ⚠️ /home/aashish/Downloads/Nepali-Sign-Language-Recognition/Nepali Sign Language Image Annotations (YOLOv8)/val/images/0172afe2-20231212_1457500.jpg: corrupt JPEG restored and saved\n",
      "\u001b[34m\u001b[1mval: \u001b[0mWARNING ⚠️ /home/aashish/Downloads/Nepali-Sign-Language-Recognition/Nepali Sign Language Image Annotations (YOLOv8)/val/images/02ed5c83-20231212_143903.jpg: corrupt JPEG restored and saved\n",
      "\u001b[34m\u001b[1mval: \u001b[0mWARNING ⚠️ /home/aashish/Downloads/Nepali-Sign-Language-Recognition/Nepali Sign Language Image Annotations (YOLOv8)/val/images/0427bdbf-20231204_142353.jpg: corrupt JPEG restored and saved\n",
      "\u001b[34m\u001b[1mval: \u001b[0mWARNING ⚠️ /home/aashish/Downloads/Nepali-Sign-Language-Recognition/Nepali Sign Language Image Annotations (YOLOv8)/val/images/047fa4fa-20231204_142131.jpg: corrupt JPEG restored and saved\n",
      "\u001b[34m\u001b[1mval: \u001b[0mWARNING ⚠️ /home/aashish/Downloads/Nepali-Sign-Language-Recognition/Nepali Sign Language Image Annotations (YOLOv8)/val/images/04cad1e5-20231204_140604.jpg: corrupt JPEG restored and saved\n",
      "\u001b[34m\u001b[1mval: \u001b[0mWARNING ⚠️ /home/aashish/Downloads/Nepali-Sign-Language-Recognition/Nepali Sign Language Image Annotations (YOLOv8)/val/images/087cf39c-20231212_1504570.jpg: corrupt JPEG restored and saved\n",
      "\u001b[34m\u001b[1mval: \u001b[0mWARNING ⚠️ /home/aashish/Downloads/Nepali-Sign-Language-Recognition/Nepali Sign Language Image Annotations (YOLOv8)/val/images/0972bfa0-20231203_131241.jpg: corrupt JPEG restored and saved\n",
      "\u001b[34m\u001b[1mval: \u001b[0mWARNING ⚠️ /home/aashish/Downloads/Nepali-Sign-Language-Recognition/Nepali Sign Language Image Annotations (YOLOv8)/val/images/0b576f4b-20231203_1347530.jpg: corrupt JPEG restored and saved\n",
      "\u001b[34m\u001b[1mval: \u001b[0mWARNING ⚠️ /home/aashish/Downloads/Nepali-Sign-Language-Recognition/Nepali Sign Language Image Annotations (YOLOv8)/val/images/0d25e2fb-20231212_1455140.jpg: corrupt JPEG restored and saved\n",
      "\u001b[34m\u001b[1mval: \u001b[0mWARNING ⚠️ /home/aashish/Downloads/Nepali-Sign-Language-Recognition/Nepali Sign Language Image Annotations (YOLOv8)/val/images/0d8c7dde-20231203_1320220.jpg: corrupt JPEG restored and saved\n",
      "\u001b[34m\u001b[1mval: \u001b[0mWARNING ⚠️ /home/aashish/Downloads/Nepali-Sign-Language-Recognition/Nepali Sign Language Image Annotations (YOLOv8)/val/images/0f38a612-20231204_1424000.jpg: corrupt JPEG restored and saved\n",
      "\u001b[34m\u001b[1mval: \u001b[0mWARNING ⚠️ /home/aashish/Downloads/Nepali-Sign-Language-Recognition/Nepali Sign Language Image Annotations (YOLOv8)/val/images/1019eb8a-20231212_141611.jpg: corrupt JPEG restored and saved\n",
      "\u001b[34m\u001b[1mval: \u001b[0mWARNING ⚠️ /home/aashish/Downloads/Nepali-Sign-Language-Recognition/Nepali Sign Language Image Annotations (YOLOv8)/val/images/103cfa10-20231203_125817.jpg: corrupt JPEG restored and saved\n",
      "\u001b[34m\u001b[1mval: \u001b[0mWARNING ⚠️ /home/aashish/Downloads/Nepali-Sign-Language-Recognition/Nepali Sign Language Image Annotations (YOLOv8)/val/images/10e9ba01-20231203_132102.jpg: corrupt JPEG restored and saved\n",
      "\u001b[34m\u001b[1mval: \u001b[0mWARNING ⚠️ /home/aashish/Downloads/Nepali-Sign-Language-Recognition/Nepali Sign Language Image Annotations (YOLOv8)/val/images/13381f8a-20231203_132846.jpg: corrupt JPEG restored and saved\n",
      "\u001b[34m\u001b[1mval: \u001b[0mWARNING ⚠️ /home/aashish/Downloads/Nepali-Sign-Language-Recognition/Nepali Sign Language Image Annotations (YOLOv8)/val/images/16fbb059-20231212_1451510.jpg: corrupt JPEG restored and saved\n",
      "\u001b[34m\u001b[1mval: \u001b[0mWARNING ⚠️ /home/aashish/Downloads/Nepali-Sign-Language-Recognition/Nepali Sign Language Image Annotations (YOLOv8)/val/images/1b82be74-20231203_130404.jpg: corrupt JPEG restored and saved\n",
      "\u001b[34m\u001b[1mval: \u001b[0mWARNING ⚠️ /home/aashish/Downloads/Nepali-Sign-Language-Recognition/Nepali Sign Language Image Annotations (YOLOv8)/val/images/1cf09dae-20231204_130927.jpg: corrupt JPEG restored and saved\n",
      "\u001b[34m\u001b[1mval: \u001b[0mWARNING ⚠️ /home/aashish/Downloads/Nepali-Sign-Language-Recognition/Nepali Sign Language Image Annotations (YOLOv8)/val/images/1ea703ff-20231204_142946.jpg: corrupt JPEG restored and saved\n",
      "\u001b[34m\u001b[1mval: \u001b[0mWARNING ⚠️ /home/aashish/Downloads/Nepali-Sign-Language-Recognition/Nepali Sign Language Image Annotations (YOLOv8)/val/images/1f3ea45a-20231203_125934.jpg: corrupt JPEG restored and saved\n",
      "\u001b[34m\u001b[1mval: \u001b[0mWARNING ⚠️ /home/aashish/Downloads/Nepali-Sign-Language-Recognition/Nepali Sign Language Image Annotations (YOLOv8)/val/images/21bc43dc-20231204_1318180.jpg: corrupt JPEG restored and saved\n",
      "\u001b[34m\u001b[1mval: \u001b[0mWARNING ⚠️ /home/aashish/Downloads/Nepali-Sign-Language-Recognition/Nepali Sign Language Image Annotations (YOLOv8)/val/images/21c50078-20231204_140249.jpg: corrupt JPEG restored and saved\n",
      "\u001b[34m\u001b[1mval: \u001b[0mWARNING ⚠️ /home/aashish/Downloads/Nepali-Sign-Language-Recognition/Nepali Sign Language Image Annotations (YOLOv8)/val/images/243f8e07-20231203_132050.jpg: corrupt JPEG restored and saved\n",
      "\u001b[34m\u001b[1mval: \u001b[0mWARNING ⚠️ /home/aashish/Downloads/Nepali-Sign-Language-Recognition/Nepali Sign Language Image Annotations (YOLOv8)/val/images/2556b3be-20231203_1326310.jpg: corrupt JPEG restored and saved\n",
      "\u001b[34m\u001b[1mval: \u001b[0mWARNING ⚠️ /home/aashish/Downloads/Nepali-Sign-Language-Recognition/Nepali Sign Language Image Annotations (YOLOv8)/val/images/264ef93e-20231204_141836.jpg: corrupt JPEG restored and saved\n",
      "\u001b[34m\u001b[1mval: \u001b[0mWARNING ⚠️ /home/aashish/Downloads/Nepali-Sign-Language-Recognition/Nepali Sign Language Image Annotations (YOLOv8)/val/images/292b5aa8-20231212_1457140.jpg: corrupt JPEG restored and saved\n",
      "\u001b[34m\u001b[1mval: \u001b[0mWARNING ⚠️ /home/aashish/Downloads/Nepali-Sign-Language-Recognition/Nepali Sign Language Image Annotations (YOLOv8)/val/images/2bc0c714-20231212_134730.jpg: corrupt JPEG restored and saved\n",
      "\u001b[34m\u001b[1mval: \u001b[0mWARNING ⚠️ /home/aashish/Downloads/Nepali-Sign-Language-Recognition/Nepali Sign Language Image Annotations (YOLOv8)/val/images/2bd81baa-20231203_132222.jpg: corrupt JPEG restored and saved\n",
      "\u001b[34m\u001b[1mval: \u001b[0mWARNING ⚠️ /home/aashish/Downloads/Nepali-Sign-Language-Recognition/Nepali Sign Language Image Annotations (YOLOv8)/val/images/2bfb144d-20231203_124757.jpg: corrupt JPEG restored and saved\n",
      "\u001b[34m\u001b[1mval: \u001b[0mWARNING ⚠️ /home/aashish/Downloads/Nepali-Sign-Language-Recognition/Nepali Sign Language Image Annotations (YOLOv8)/val/images/2c236370-20231204_141224.jpg: corrupt JPEG restored and saved\n",
      "\u001b[34m\u001b[1mval: \u001b[0mWARNING ⚠️ /home/aashish/Downloads/Nepali-Sign-Language-Recognition/Nepali Sign Language Image Annotations (YOLOv8)/val/images/2d2adcdb-20231204_142300.jpg: corrupt JPEG restored and saved\n",
      "\u001b[34m\u001b[1mval: \u001b[0mWARNING ⚠️ /home/aashish/Downloads/Nepali-Sign-Language-Recognition/Nepali Sign Language Image Annotations (YOLOv8)/val/images/2d48194c-20231203_131936.jpg: corrupt JPEG restored and saved\n",
      "\u001b[34m\u001b[1mval: \u001b[0mWARNING ⚠️ /home/aashish/Downloads/Nepali-Sign-Language-Recognition/Nepali Sign Language Image Annotations (YOLOv8)/val/images/2f445e2e-20231204_135329.jpg: corrupt JPEG restored and saved\n",
      "\u001b[34m\u001b[1mval: \u001b[0mWARNING ⚠️ /home/aashish/Downloads/Nepali-Sign-Language-Recognition/Nepali Sign Language Image Annotations (YOLOv8)/val/images/2f7f9f45-20231212_1426440.jpg: corrupt JPEG restored and saved\n",
      "\u001b[34m\u001b[1mval: \u001b[0mWARNING ⚠️ /home/aashish/Downloads/Nepali-Sign-Language-Recognition/Nepali Sign Language Image Annotations (YOLOv8)/val/images/2fbd66e1-20231212_135043.jpg: corrupt JPEG restored and saved\n",
      "\u001b[34m\u001b[1mval: \u001b[0mWARNING ⚠️ /home/aashish/Downloads/Nepali-Sign-Language-Recognition/Nepali Sign Language Image Annotations (YOLOv8)/val/images/30f83323-20231212_145847.jpg: corrupt JPEG restored and saved\n",
      "\u001b[34m\u001b[1mval: \u001b[0mWARNING ⚠️ /home/aashish/Downloads/Nepali-Sign-Language-Recognition/Nepali Sign Language Image Annotations (YOLOv8)/val/images/3188b1f2-20231212_1415580.jpg: corrupt JPEG restored and saved\n",
      "\u001b[34m\u001b[1mval: \u001b[0mWARNING ⚠️ /home/aashish/Downloads/Nepali-Sign-Language-Recognition/Nepali Sign Language Image Annotations (YOLOv8)/val/images/3202cae7-20231203_132633.jpg: corrupt JPEG restored and saved\n",
      "\u001b[34m\u001b[1mval: \u001b[0mWARNING ⚠️ /home/aashish/Downloads/Nepali-Sign-Language-Recognition/Nepali Sign Language Image Annotations (YOLOv8)/val/images/329d236d-20231204_143035.jpg: corrupt JPEG restored and saved\n",
      "\u001b[34m\u001b[1mval: \u001b[0mWARNING ⚠️ /home/aashish/Downloads/Nepali-Sign-Language-Recognition/Nepali Sign Language Image Annotations (YOLOv8)/val/images/32a5c2a8-20231212_134856.jpg: corrupt JPEG restored and saved\n",
      "\u001b[34m\u001b[1mval: \u001b[0mWARNING ⚠️ /home/aashish/Downloads/Nepali-Sign-Language-Recognition/Nepali Sign Language Image Annotations (YOLOv8)/val/images/32f96b89-20231212_142158.jpg: corrupt JPEG restored and saved\n",
      "\u001b[34m\u001b[1mval: \u001b[0mWARNING ⚠️ /home/aashish/Downloads/Nepali-Sign-Language-Recognition/Nepali Sign Language Image Annotations (YOLOv8)/val/images/351c079d-20231212_145318.jpg: corrupt JPEG restored and saved\n",
      "\u001b[34m\u001b[1mval: \u001b[0mWARNING ⚠️ /home/aashish/Downloads/Nepali-Sign-Language-Recognition/Nepali Sign Language Image Annotations (YOLOv8)/val/images/35e34ef8-20231212_144518.jpg: corrupt JPEG restored and saved\n",
      "\u001b[34m\u001b[1mval: \u001b[0mWARNING ⚠️ /home/aashish/Downloads/Nepali-Sign-Language-Recognition/Nepali Sign Language Image Annotations (YOLOv8)/val/images/36f59d8e-20231212_1349080.jpg: corrupt JPEG restored and saved\n",
      "\u001b[34m\u001b[1mval: \u001b[0mWARNING ⚠️ /home/aashish/Downloads/Nepali-Sign-Language-Recognition/Nepali Sign Language Image Annotations (YOLOv8)/val/images/37a44136-20231212_144103.jpg: corrupt JPEG restored and saved\n",
      "\u001b[34m\u001b[1mval: \u001b[0mWARNING ⚠️ /home/aashish/Downloads/Nepali-Sign-Language-Recognition/Nepali Sign Language Image Annotations (YOLOv8)/val/images/37c2edc3-20231212_150413.jpg: corrupt JPEG restored and saved\n",
      "\u001b[34m\u001b[1mval: \u001b[0mWARNING ⚠️ /home/aashish/Downloads/Nepali-Sign-Language-Recognition/Nepali Sign Language Image Annotations (YOLOv8)/val/images/39062f27-20231204_1402280.jpg: corrupt JPEG restored and saved\n",
      "\u001b[34m\u001b[1mval: \u001b[0mWARNING ⚠️ /home/aashish/Downloads/Nepali-Sign-Language-Recognition/Nepali Sign Language Image Annotations (YOLOv8)/val/images/39e3eedf-20231204_142213.jpg: corrupt JPEG restored and saved\n",
      "\u001b[34m\u001b[1mval: \u001b[0mWARNING ⚠️ /home/aashish/Downloads/Nepali-Sign-Language-Recognition/Nepali Sign Language Image Annotations (YOLOv8)/val/images/3df3ec79-20231212_145714.jpg: corrupt JPEG restored and saved\n",
      "\u001b[34m\u001b[1mval: \u001b[0mWARNING ⚠️ /home/aashish/Downloads/Nepali-Sign-Language-Recognition/Nepali Sign Language Image Annotations (YOLOv8)/val/images/3e58887d-20231203_133021.jpg: corrupt JPEG restored and saved\n",
      "\u001b[34m\u001b[1mval: \u001b[0mWARNING ⚠️ /home/aashish/Downloads/Nepali-Sign-Language-Recognition/Nepali Sign Language Image Annotations (YOLOv8)/val/images/3e957555-20231203_124713.jpg: corrupt JPEG restored and saved\n",
      "\u001b[34m\u001b[1mval: \u001b[0mWARNING ⚠️ /home/aashish/Downloads/Nepali-Sign-Language-Recognition/Nepali Sign Language Image Annotations (YOLOv8)/val/images/3ed05cfe-20231212_144343.jpg: corrupt JPEG restored and saved\n",
      "\u001b[34m\u001b[1mval: \u001b[0mWARNING ⚠️ /home/aashish/Downloads/Nepali-Sign-Language-Recognition/Nepali Sign Language Image Annotations (YOLOv8)/val/images/3f8086f2-20231212_145413.jpg: corrupt JPEG restored and saved\n",
      "\u001b[34m\u001b[1mval: \u001b[0mWARNING ⚠️ /home/aashish/Downloads/Nepali-Sign-Language-Recognition/Nepali Sign Language Image Annotations (YOLOv8)/val/images/4061e08a-20231212_1450480.jpg: corrupt JPEG restored and saved\n",
      "\u001b[34m\u001b[1mval: \u001b[0mWARNING ⚠️ /home/aashish/Downloads/Nepali-Sign-Language-Recognition/Nepali Sign Language Image Annotations (YOLOv8)/val/images/4267cf33-20231212_141706.jpg: corrupt JPEG restored and saved\n",
      "\u001b[34m\u001b[1mval: \u001b[0mWARNING ⚠️ /home/aashish/Downloads/Nepali-Sign-Language-Recognition/Nepali Sign Language Image Annotations (YOLOv8)/val/images/437663de-20231212_144256.jpg: corrupt JPEG restored and saved\n",
      "\u001b[34m\u001b[1mval: \u001b[0mWARNING ⚠️ /home/aashish/Downloads/Nepali-Sign-Language-Recognition/Nepali Sign Language Image Annotations (YOLOv8)/val/images/437d2024-20231203_134941.jpg: corrupt JPEG restored and saved\n",
      "\u001b[34m\u001b[1mval: \u001b[0mWARNING ⚠️ /home/aashish/Downloads/Nepali-Sign-Language-Recognition/Nepali Sign Language Image Annotations (YOLOv8)/val/images/442f5a53-20231204_140801.jpg: corrupt JPEG restored and saved\n",
      "\u001b[34m\u001b[1mval: \u001b[0mWARNING ⚠️ /home/aashish/Downloads/Nepali-Sign-Language-Recognition/Nepali Sign Language Image Annotations (YOLOv8)/val/images/446f8474-20231203_135244.jpg: corrupt JPEG restored and saved\n",
      "\u001b[34m\u001b[1mval: \u001b[0mWARNING ⚠️ /home/aashish/Downloads/Nepali-Sign-Language-Recognition/Nepali Sign Language Image Annotations (YOLOv8)/val/images/45dc8a3a-20231212_143400.jpg: corrupt JPEG restored and saved\n",
      "\u001b[34m\u001b[1mval: \u001b[0mWARNING ⚠️ /home/aashish/Downloads/Nepali-Sign-Language-Recognition/Nepali Sign Language Image Annotations (YOLOv8)/val/images/46dc055d-20231203_130046.jpg: corrupt JPEG restored and saved\n",
      "\u001b[34m\u001b[1mval: \u001b[0mWARNING ⚠️ /home/aashish/Downloads/Nepali-Sign-Language-Recognition/Nepali Sign Language Image Annotations (YOLOv8)/val/images/473a62c2-20231204_140318.jpg: corrupt JPEG restored and saved\n",
      "\u001b[34m\u001b[1mval: \u001b[0mWARNING ⚠️ /home/aashish/Downloads/Nepali-Sign-Language-Recognition/Nepali Sign Language Image Annotations (YOLOv8)/val/images/47fbf185-20231212_134710.jpg: corrupt JPEG restored and saved\n",
      "\u001b[34m\u001b[1mval: \u001b[0mWARNING ⚠️ /home/aashish/Downloads/Nepali-Sign-Language-Recognition/Nepali Sign Language Image Annotations (YOLOv8)/val/images/4958db1b-20231203_130426.jpg: corrupt JPEG restored and saved\n",
      "\u001b[34m\u001b[1mval: \u001b[0mWARNING ⚠️ /home/aashish/Downloads/Nepali-Sign-Language-Recognition/Nepali Sign Language Image Annotations (YOLOv8)/val/images/4964a09d-20231204_1307430.jpg: corrupt JPEG restored and saved\n",
      "\u001b[34m\u001b[1mval: \u001b[0mWARNING ⚠️ /home/aashish/Downloads/Nepali-Sign-Language-Recognition/Nepali Sign Language Image Annotations (YOLOv8)/val/images/49a1a36f-20231204_142113.jpg: corrupt JPEG restored and saved\n",
      "\u001b[34m\u001b[1mval: \u001b[0mWARNING ⚠️ /home/aashish/Downloads/Nepali-Sign-Language-Recognition/Nepali Sign Language Image Annotations (YOLOv8)/val/images/4b1e8ffc-20231203_132831.jpg: corrupt JPEG restored and saved\n",
      "\u001b[34m\u001b[1mval: \u001b[0mWARNING ⚠️ /home/aashish/Downloads/Nepali-Sign-Language-Recognition/Nepali Sign Language Image Annotations (YOLOv8)/val/images/4d0eaa8e-20231212_145626.jpg: corrupt JPEG restored and saved\n",
      "\u001b[34m\u001b[1mval: \u001b[0mWARNING ⚠️ /home/aashish/Downloads/Nepali-Sign-Language-Recognition/Nepali Sign Language Image Annotations (YOLOv8)/val/images/4e1b7a80-20231203_1347320.jpg: corrupt JPEG restored and saved\n",
      "\u001b[34m\u001b[1mval: \u001b[0mWARNING ⚠️ /home/aashish/Downloads/Nepali-Sign-Language-Recognition/Nepali Sign Language Image Annotations (YOLOv8)/val/images/4e45bf49-20231204_131645.jpg: corrupt JPEG restored and saved\n",
      "\u001b[34m\u001b[1mval: \u001b[0mWARNING ⚠️ /home/aashish/Downloads/Nepali-Sign-Language-Recognition/Nepali Sign Language Image Annotations (YOLOv8)/val/images/4e79205e-20231203_1337200.jpg: corrupt JPEG restored and saved\n",
      "\u001b[34m\u001b[1mval: \u001b[0mWARNING ⚠️ /home/aashish/Downloads/Nepali-Sign-Language-Recognition/Nepali Sign Language Image Annotations (YOLOv8)/val/images/50c14622-20231212_1500570.jpg: corrupt JPEG restored and saved\n",
      "\u001b[34m\u001b[1mval: \u001b[0mWARNING ⚠️ /home/aashish/Downloads/Nepali-Sign-Language-Recognition/Nepali Sign Language Image Annotations (YOLOv8)/val/images/5585f756-20231204_1309180.jpg: corrupt JPEG restored and saved\n",
      "\u001b[34m\u001b[1mval: \u001b[0mWARNING ⚠️ /home/aashish/Downloads/Nepali-Sign-Language-Recognition/Nepali Sign Language Image Annotations (YOLOv8)/val/images/560d1c51-20231203_1252390.jpg: corrupt JPEG restored and saved\n",
      "\u001b[34m\u001b[1mval: \u001b[0mWARNING ⚠️ /home/aashish/Downloads/Nepali-Sign-Language-Recognition/Nepali Sign Language Image Annotations (YOLOv8)/val/images/57241590-20231212_143451.jpg: corrupt JPEG restored and saved\n",
      "\u001b[34m\u001b[1mval: \u001b[0mWARNING ⚠️ /home/aashish/Downloads/Nepali-Sign-Language-Recognition/Nepali Sign Language Image Annotations (YOLOv8)/val/images/5809a1b0-20231212_150132.jpg: corrupt JPEG restored and saved\n",
      "\u001b[34m\u001b[1mval: \u001b[0mWARNING ⚠️ /home/aashish/Downloads/Nepali-Sign-Language-Recognition/Nepali Sign Language Image Annotations (YOLOv8)/val/images/58a3f89d-20231204_131158.jpg: corrupt JPEG restored and saved\n",
      "\u001b[34m\u001b[1mval: \u001b[0mWARNING ⚠️ /home/aashish/Downloads/Nepali-Sign-Language-Recognition/Nepali Sign Language Image Annotations (YOLOv8)/val/images/5a3d68cf-20231204_135840.jpg: corrupt JPEG restored and saved\n",
      "\u001b[34m\u001b[1mval: \u001b[0mWARNING ⚠️ /home/aashish/Downloads/Nepali-Sign-Language-Recognition/Nepali Sign Language Image Annotations (YOLOv8)/val/images/5a6235b5-20231212_143307.jpg: corrupt JPEG restored and saved\n",
      "\u001b[34m\u001b[1mval: \u001b[0mWARNING ⚠️ /home/aashish/Downloads/Nepali-Sign-Language-Recognition/Nepali Sign Language Image Annotations (YOLOv8)/val/images/5a9c5a59-20231212_141709.jpg: corrupt JPEG restored and saved\n",
      "\u001b[34m\u001b[1mval: \u001b[0mWARNING ⚠️ /home/aashish/Downloads/Nepali-Sign-Language-Recognition/Nepali Sign Language Image Annotations (YOLOv8)/val/images/5b9250b4-20231204_143452.jpg: corrupt JPEG restored and saved\n",
      "\u001b[34m\u001b[1mval: \u001b[0mWARNING ⚠️ /home/aashish/Downloads/Nepali-Sign-Language-Recognition/Nepali Sign Language Image Annotations (YOLOv8)/val/images/5bcaa26b-20231212_141937.jpg: corrupt JPEG restored and saved\n",
      "\u001b[34m\u001b[1mval: \u001b[0mWARNING ⚠️ /home/aashish/Downloads/Nepali-Sign-Language-Recognition/Nepali Sign Language Image Annotations (YOLOv8)/val/images/5bd95b73-20231204_131729.jpg: corrupt JPEG restored and saved\n",
      "\u001b[34m\u001b[1mval: \u001b[0mWARNING ⚠️ /home/aashish/Downloads/Nepali-Sign-Language-Recognition/Nepali Sign Language Image Annotations (YOLOv8)/val/images/5c589f90-20231204_143303.jpg: corrupt JPEG restored and saved\n",
      "\u001b[34m\u001b[1mval: \u001b[0mWARNING ⚠️ /home/aashish/Downloads/Nepali-Sign-Language-Recognition/Nepali Sign Language Image Annotations (YOLOv8)/val/images/5c632980-20231204_141844.jpg: corrupt JPEG restored and saved\n",
      "\u001b[34m\u001b[1mval: \u001b[0mWARNING ⚠️ /home/aashish/Downloads/Nepali-Sign-Language-Recognition/Nepali Sign Language Image Annotations (YOLOv8)/val/images/5e6d1110-20231203_132657.jpg: corrupt JPEG restored and saved\n",
      "\u001b[34m\u001b[1mval: \u001b[0mWARNING ⚠️ /home/aashish/Downloads/Nepali-Sign-Language-Recognition/Nepali Sign Language Image Annotations (YOLOv8)/val/images/5f647aed-20231204_131500.jpg: corrupt JPEG restored and saved\n",
      "\u001b[34m\u001b[1mval: \u001b[0mWARNING ⚠️ /home/aashish/Downloads/Nepali-Sign-Language-Recognition/Nepali Sign Language Image Annotations (YOLOv8)/val/images/5f934c08-20231212_144837.jpg: corrupt JPEG restored and saved\n",
      "\u001b[34m\u001b[1mval: \u001b[0mWARNING ⚠️ /home/aashish/Downloads/Nepali-Sign-Language-Recognition/Nepali Sign Language Image Annotations (YOLOv8)/val/images/5fc9b2bc-20231204_141301.jpg: corrupt JPEG restored and saved\n",
      "\u001b[34m\u001b[1mval: \u001b[0mWARNING ⚠️ /home/aashish/Downloads/Nepali-Sign-Language-Recognition/Nepali Sign Language Image Annotations (YOLOv8)/val/images/60d4c804-20231212_134846.jpg: corrupt JPEG restored and saved\n",
      "\u001b[34m\u001b[1mval: \u001b[0mWARNING ⚠️ /home/aashish/Downloads/Nepali-Sign-Language-Recognition/Nepali Sign Language Image Annotations (YOLOv8)/val/images/616c69f6-20231204_142947.jpg: corrupt JPEG restored and saved\n",
      "\u001b[34m\u001b[1mval: \u001b[0mWARNING ⚠️ /home/aashish/Downloads/Nepali-Sign-Language-Recognition/Nepali Sign Language Image Annotations (YOLOv8)/val/images/61d56c4f-20231204_141244.jpg: corrupt JPEG restored and saved\n",
      "\u001b[34m\u001b[1mval: \u001b[0mWARNING ⚠️ /home/aashish/Downloads/Nepali-Sign-Language-Recognition/Nepali Sign Language Image Annotations (YOLOv8)/val/images/62e9fb22-20231203_134648.jpg: corrupt JPEG restored and saved\n",
      "\u001b[34m\u001b[1mval: \u001b[0mWARNING ⚠️ /home/aashish/Downloads/Nepali-Sign-Language-Recognition/Nepali Sign Language Image Annotations (YOLOv8)/val/images/63f6e559-20231212_142914.jpg: corrupt JPEG restored and saved\n",
      "\u001b[34m\u001b[1mval: \u001b[0mWARNING ⚠️ /home/aashish/Downloads/Nepali-Sign-Language-Recognition/Nepali Sign Language Image Annotations (YOLOv8)/val/images/640136c1-20231212_1426360.jpg: corrupt JPEG restored and saved\n",
      "\u001b[34m\u001b[1mval: \u001b[0mWARNING ⚠️ /home/aashish/Downloads/Nepali-Sign-Language-Recognition/Nepali Sign Language Image Annotations (YOLOv8)/val/images/641b1536-20231203_131606.jpg: corrupt JPEG restored and saved\n",
      "\u001b[34m\u001b[1mval: \u001b[0mWARNING ⚠️ /home/aashish/Downloads/Nepali-Sign-Language-Recognition/Nepali Sign Language Image Annotations (YOLOv8)/val/images/658658d1-20231204_1311050.jpg: corrupt JPEG restored and saved\n",
      "\u001b[34m\u001b[1mval: \u001b[0mWARNING ⚠️ /home/aashish/Downloads/Nepali-Sign-Language-Recognition/Nepali Sign Language Image Annotations (YOLOv8)/val/images/663293bc-20231203_132040.jpg: corrupt JPEG restored and saved\n",
      "\u001b[34m\u001b[1mval: \u001b[0mWARNING ⚠️ /home/aashish/Downloads/Nepali-Sign-Language-Recognition/Nepali Sign Language Image Annotations (YOLOv8)/val/images/67ccdc84-20231203_134921.jpg: corrupt JPEG restored and saved\n",
      "\u001b[34m\u001b[1mval: \u001b[0mWARNING ⚠️ /home/aashish/Downloads/Nepali-Sign-Language-Recognition/Nepali Sign Language Image Annotations (YOLOv8)/val/images/67d1341e-20231212_150241.jpg: corrupt JPEG restored and saved\n",
      "\u001b[34m\u001b[1mval: \u001b[0mWARNING ⚠️ /home/aashish/Downloads/Nepali-Sign-Language-Recognition/Nepali Sign Language Image Annotations (YOLOv8)/val/images/68aeabda-20231212_144552.jpg: corrupt JPEG restored and saved\n",
      "\u001b[34m\u001b[1mval: \u001b[0mWARNING ⚠️ /home/aashish/Downloads/Nepali-Sign-Language-Recognition/Nepali Sign Language Image Annotations (YOLOv8)/val/images/6a5cdbef-20231203_124740.jpg: corrupt JPEG restored and saved\n",
      "\u001b[34m\u001b[1mval: \u001b[0mWARNING ⚠️ /home/aashish/Downloads/Nepali-Sign-Language-Recognition/Nepali Sign Language Image Annotations (YOLOv8)/val/images/6c0a071a-20231203_135001.jpg: corrupt JPEG restored and saved\n",
      "\u001b[34m\u001b[1mval: \u001b[0mWARNING ⚠️ /home/aashish/Downloads/Nepali-Sign-Language-Recognition/Nepali Sign Language Image Annotations (YOLOv8)/val/images/6e3a1356-20231203_134708.jpg: corrupt JPEG restored and saved\n",
      "\u001b[34m\u001b[1mval: \u001b[0mWARNING ⚠️ /home/aashish/Downloads/Nepali-Sign-Language-Recognition/Nepali Sign Language Image Annotations (YOLOv8)/val/images/6f343c09-20231212_144716.jpg: corrupt JPEG restored and saved\n",
      "\u001b[34m\u001b[1mval: \u001b[0mWARNING ⚠️ /home/aashish/Downloads/Nepali-Sign-Language-Recognition/Nepali Sign Language Image Annotations (YOLOv8)/val/images/6fb73741-20231203_132019.jpg: corrupt JPEG restored and saved\n",
      "\u001b[34m\u001b[1mval: \u001b[0mWARNING ⚠️ /home/aashish/Downloads/Nepali-Sign-Language-Recognition/Nepali Sign Language Image Annotations (YOLOv8)/val/images/6fba1807-20231203_132233.jpg: corrupt JPEG restored and saved\n",
      "\u001b[34m\u001b[1mval: \u001b[0mWARNING ⚠️ /home/aashish/Downloads/Nepali-Sign-Language-Recognition/Nepali Sign Language Image Annotations (YOLOv8)/val/images/7042742c-20231204_140617.jpg: corrupt JPEG restored and saved\n",
      "\u001b[34m\u001b[1mval: \u001b[0mWARNING ⚠️ /home/aashish/Downloads/Nepali-Sign-Language-Recognition/Nepali Sign Language Image Annotations (YOLOv8)/val/images/70ae8404-20231204_142852.jpg: corrupt JPEG restored and saved\n",
      "\u001b[34m\u001b[1mval: \u001b[0mWARNING ⚠️ /home/aashish/Downloads/Nepali-Sign-Language-Recognition/Nepali Sign Language Image Annotations (YOLOv8)/val/images/752b22a7-20231204_1429490.jpg: corrupt JPEG restored and saved\n",
      "\u001b[34m\u001b[1mval: \u001b[0mWARNING ⚠️ /home/aashish/Downloads/Nepali-Sign-Language-Recognition/Nepali Sign Language Image Annotations (YOLOv8)/val/images/76df36a8-20231204_142800.jpg: corrupt JPEG restored and saved\n",
      "\u001b[34m\u001b[1mval: \u001b[0mWARNING ⚠️ /home/aashish/Downloads/Nepali-Sign-Language-Recognition/Nepali Sign Language Image Annotations (YOLOv8)/val/images/77d0b0d4-20231204_142459.jpg: corrupt JPEG restored and saved\n",
      "\u001b[34m\u001b[1mval: \u001b[0mWARNING ⚠️ /home/aashish/Downloads/Nepali-Sign-Language-Recognition/Nepali Sign Language Image Annotations (YOLOv8)/val/images/7956a09a-20231203_132355.jpg: corrupt JPEG restored and saved\n",
      "\u001b[34m\u001b[1mval: \u001b[0mWARNING ⚠️ /home/aashish/Downloads/Nepali-Sign-Language-Recognition/Nepali Sign Language Image Annotations (YOLOv8)/val/images/7a1592cd-20231203_125239.jpg: corrupt JPEG restored and saved\n",
      "\u001b[34m\u001b[1mval: \u001b[0mWARNING ⚠️ /home/aashish/Downloads/Nepali-Sign-Language-Recognition/Nepali Sign Language Image Annotations (YOLOv8)/val/images/7cc7e9e2-20231204_140251.jpg: corrupt JPEG restored and saved\n",
      "\u001b[34m\u001b[1mval: \u001b[0mWARNING ⚠️ /home/aashish/Downloads/Nepali-Sign-Language-Recognition/Nepali Sign Language Image Annotations (YOLOv8)/val/images/7df8ceba-20231203_133638.jpg: corrupt JPEG restored and saved\n",
      "\u001b[34m\u001b[1mval: \u001b[0mWARNING ⚠️ /home/aashish/Downloads/Nepali-Sign-Language-Recognition/Nepali Sign Language Image Annotations (YOLOv8)/val/images/7e66e735-20231212_144857.jpg: corrupt JPEG restored and saved\n",
      "\u001b[34m\u001b[1mval: \u001b[0mWARNING ⚠️ /home/aashish/Downloads/Nepali-Sign-Language-Recognition/Nepali Sign Language Image Annotations (YOLOv8)/val/images/7f57416e-20231212_144827.jpg: corrupt JPEG restored and saved\n",
      "\u001b[34m\u001b[1mval: \u001b[0mWARNING ⚠️ /home/aashish/Downloads/Nepali-Sign-Language-Recognition/Nepali Sign Language Image Annotations (YOLOv8)/val/images/80142005-20231212_142207.jpg: corrupt JPEG restored and saved\n",
      "\u001b[34m\u001b[1mval: \u001b[0mWARNING ⚠️ /home/aashish/Downloads/Nepali-Sign-Language-Recognition/Nepali Sign Language Image Annotations (YOLOv8)/val/images/810b76c7-20231212_150021.jpg: corrupt JPEG restored and saved\n",
      "\u001b[34m\u001b[1mval: \u001b[0mWARNING ⚠️ /home/aashish/Downloads/Nepali-Sign-Language-Recognition/Nepali Sign Language Image Annotations (YOLOv8)/val/images/81d59bc5-20231204_1419240.jpg: corrupt JPEG restored and saved\n",
      "\u001b[34m\u001b[1mval: \u001b[0mWARNING ⚠️ /home/aashish/Downloads/Nepali-Sign-Language-Recognition/Nepali Sign Language Image Annotations (YOLOv8)/val/images/81e79e55-20231212_142238.jpg: corrupt JPEG restored and saved\n",
      "\u001b[34m\u001b[1mval: \u001b[0mWARNING ⚠️ /home/aashish/Downloads/Nepali-Sign-Language-Recognition/Nepali Sign Language Image Annotations (YOLOv8)/val/images/8351d45f-20231203_134720.jpg: corrupt JPEG restored and saved\n",
      "\u001b[34m\u001b[1mval: \u001b[0mWARNING ⚠️ /home/aashish/Downloads/Nepali-Sign-Language-Recognition/Nepali Sign Language Image Annotations (YOLOv8)/val/images/83ade5d6-20231203_130449.jpg: corrupt JPEG restored and saved\n",
      "\u001b[34m\u001b[1mval: \u001b[0mWARNING ⚠️ /home/aashish/Downloads/Nepali-Sign-Language-Recognition/Nepali Sign Language Image Annotations (YOLOv8)/val/images/83cb480f-20231203_131204.jpg: corrupt JPEG restored and saved\n",
      "\u001b[34m\u001b[1mval: \u001b[0mWARNING ⚠️ /home/aashish/Downloads/Nepali-Sign-Language-Recognition/Nepali Sign Language Image Annotations (YOLOv8)/val/images/84ed196a-20231203_1254590.jpg: corrupt JPEG restored and saved\n",
      "\u001b[34m\u001b[1mval: \u001b[0mWARNING ⚠️ /home/aashish/Downloads/Nepali-Sign-Language-Recognition/Nepali Sign Language Image Annotations (YOLOv8)/val/images/85e01ff7-20231203_132117.jpg: corrupt JPEG restored and saved\n",
      "\u001b[34m\u001b[1mval: \u001b[0mWARNING ⚠️ /home/aashish/Downloads/Nepali-Sign-Language-Recognition/Nepali Sign Language Image Annotations (YOLOv8)/val/images/86c6c3c7-20231204_141437.jpg: corrupt JPEG restored and saved\n",
      "\u001b[34m\u001b[1mval: \u001b[0mWARNING ⚠️ /home/aashish/Downloads/Nepali-Sign-Language-Recognition/Nepali Sign Language Image Annotations (YOLOv8)/val/images/889ef8a8-20231203_125041.jpg: corrupt JPEG restored and saved\n",
      "\u001b[34m\u001b[1mval: \u001b[0mWARNING ⚠️ /home/aashish/Downloads/Nepali-Sign-Language-Recognition/Nepali Sign Language Image Annotations (YOLOv8)/val/images/896c507f-20231203_131805.jpg: corrupt JPEG restored and saved\n",
      "\u001b[34m\u001b[1mval: \u001b[0mWARNING ⚠️ /home/aashish/Downloads/Nepali-Sign-Language-Recognition/Nepali Sign Language Image Annotations (YOLOv8)/val/images/8a183c8d-20231212_141707.jpg: corrupt JPEG restored and saved\n",
      "\u001b[34m\u001b[1mval: \u001b[0mWARNING ⚠️ /home/aashish/Downloads/Nepali-Sign-Language-Recognition/Nepali Sign Language Image Annotations (YOLOv8)/val/images/8be9f921-20231204_141150.jpg: corrupt JPEG restored and saved\n",
      "\u001b[34m\u001b[1mval: \u001b[0mWARNING ⚠️ /home/aashish/Downloads/Nepali-Sign-Language-Recognition/Nepali Sign Language Image Annotations (YOLOv8)/val/images/8e1cac25-20231204_140434.jpg: corrupt JPEG restored and saved\n",
      "\u001b[34m\u001b[1mval: \u001b[0mWARNING ⚠️ /home/aashish/Downloads/Nepali-Sign-Language-Recognition/Nepali Sign Language Image Annotations (YOLOv8)/val/images/8f5c74a6-20231204_143445.jpg: corrupt JPEG restored and saved\n",
      "\u001b[34m\u001b[1mval: \u001b[0mWARNING ⚠️ /home/aashish/Downloads/Nepali-Sign-Language-Recognition/Nepali Sign Language Image Annotations (YOLOv8)/val/images/8fbaabe3-20231204_1406140.jpg: corrupt JPEG restored and saved\n",
      "\u001b[34m\u001b[1mval: \u001b[0mWARNING ⚠️ /home/aashish/Downloads/Nepali-Sign-Language-Recognition/Nepali Sign Language Image Annotations (YOLOv8)/val/images/8ffa6bd5-20231212_142224.jpg: corrupt JPEG restored and saved\n",
      "\u001b[34m\u001b[1mval: \u001b[0mWARNING ⚠️ /home/aashish/Downloads/Nepali-Sign-Language-Recognition/Nepali Sign Language Image Annotations (YOLOv8)/val/images/9092e621-20231203_124931.jpg: corrupt JPEG restored and saved\n",
      "\u001b[34m\u001b[1mval: \u001b[0mWARNING ⚠️ /home/aashish/Downloads/Nepali-Sign-Language-Recognition/Nepali Sign Language Image Annotations (YOLOv8)/val/images/90ba2630-20231203_131354.jpg: corrupt JPEG restored and saved\n",
      "\u001b[34m\u001b[1mval: \u001b[0mWARNING ⚠️ /home/aashish/Downloads/Nepali-Sign-Language-Recognition/Nepali Sign Language Image Annotations (YOLOv8)/val/images/90c1533f-20231203_1313420.jpg: corrupt JPEG restored and saved\n",
      "\u001b[34m\u001b[1mval: \u001b[0mWARNING ⚠️ /home/aashish/Downloads/Nepali-Sign-Language-Recognition/Nepali Sign Language Image Annotations (YOLOv8)/val/images/90eafe2d-20231212_145713.jpg: corrupt JPEG restored and saved\n",
      "\u001b[34m\u001b[1mval: \u001b[0mWARNING ⚠️ /home/aashish/Downloads/Nepali-Sign-Language-Recognition/Nepali Sign Language Image Annotations (YOLOv8)/val/images/9138dbf6-20231203_133238.jpg: corrupt JPEG restored and saved\n",
      "\u001b[34m\u001b[1mval: \u001b[0mWARNING ⚠️ /home/aashish/Downloads/Nepali-Sign-Language-Recognition/Nepali Sign Language Image Annotations (YOLOv8)/val/images/9170539a-20231204_1410050.jpg: corrupt JPEG restored and saved\n",
      "\u001b[34m\u001b[1mval: \u001b[0mWARNING ⚠️ /home/aashish/Downloads/Nepali-Sign-Language-Recognition/Nepali Sign Language Image Annotations (YOLOv8)/val/images/9253a078-20231204_142143.jpg: corrupt JPEG restored and saved\n",
      "\u001b[34m\u001b[1mval: \u001b[0mWARNING ⚠️ /home/aashish/Downloads/Nepali-Sign-Language-Recognition/Nepali Sign Language Image Annotations (YOLOv8)/val/images/93022460-20231204_143147.jpg: corrupt JPEG restored and saved\n",
      "\u001b[34m\u001b[1mval: \u001b[0mWARNING ⚠️ /home/aashish/Downloads/Nepali-Sign-Language-Recognition/Nepali Sign Language Image Annotations (YOLOv8)/val/images/9588f408-20231203_133130.jpg: corrupt JPEG restored and saved\n",
      "\u001b[34m\u001b[1mval: \u001b[0mWARNING ⚠️ /home/aashish/Downloads/Nepali-Sign-Language-Recognition/Nepali Sign Language Image Annotations (YOLOv8)/val/images/976926c2-20231203_131441.jpg: corrupt JPEG restored and saved\n",
      "\u001b[34m\u001b[1mval: \u001b[0mWARNING ⚠️ /home/aashish/Downloads/Nepali-Sign-Language-Recognition/Nepali Sign Language Image Annotations (YOLOv8)/val/images/97990156-20231203_125107.jpg: corrupt JPEG restored and saved\n",
      "\u001b[34m\u001b[1mval: \u001b[0mWARNING ⚠️ /home/aashish/Downloads/Nepali-Sign-Language-Recognition/Nepali Sign Language Image Annotations (YOLOv8)/val/images/97c779e0-20231203_1318180.jpg: corrupt JPEG restored and saved\n",
      "\u001b[34m\u001b[1mval: \u001b[0mWARNING ⚠️ /home/aashish/Downloads/Nepali-Sign-Language-Recognition/Nepali Sign Language Image Annotations (YOLOv8)/val/images/97d44353-20231204_135349.jpg: corrupt JPEG restored and saved\n",
      "\u001b[34m\u001b[1mval: \u001b[0mWARNING ⚠️ /home/aashish/Downloads/Nepali-Sign-Language-Recognition/Nepali Sign Language Image Annotations (YOLOv8)/val/images/99189027-20231212_150226.jpg: corrupt JPEG restored and saved\n",
      "\u001b[34m\u001b[1mval: \u001b[0mWARNING ⚠️ /home/aashish/Downloads/Nepali-Sign-Language-Recognition/Nepali Sign Language Image Annotations (YOLOv8)/val/images/9a328efd-20231203_132725.jpg: corrupt JPEG restored and saved\n",
      "\u001b[34m\u001b[1mval: \u001b[0mWARNING ⚠️ /home/aashish/Downloads/Nepali-Sign-Language-Recognition/Nepali Sign Language Image Annotations (YOLOv8)/val/images/9b1fdc17-20231203_125357.jpg: corrupt JPEG restored and saved\n",
      "\u001b[34m\u001b[1mval: \u001b[0mWARNING ⚠️ /home/aashish/Downloads/Nepali-Sign-Language-Recognition/Nepali Sign Language Image Annotations (YOLOv8)/val/images/9c1eaaab-20231204_131459.jpg: corrupt JPEG restored and saved\n",
      "\u001b[34m\u001b[1mval: \u001b[0mWARNING ⚠️ /home/aashish/Downloads/Nepali-Sign-Language-Recognition/Nepali Sign Language Image Annotations (YOLOv8)/val/images/9e2d9363-20231212_1428530.jpg: corrupt JPEG restored and saved\n",
      "\u001b[34m\u001b[1mval: \u001b[0mWARNING ⚠️ /home/aashish/Downloads/Nepali-Sign-Language-Recognition/Nepali Sign Language Image Annotations (YOLOv8)/val/images/9e45078e-20231212_142915.jpg: corrupt JPEG restored and saved\n",
      "\u001b[34m\u001b[1mval: \u001b[0mWARNING ⚠️ /home/aashish/Downloads/Nepali-Sign-Language-Recognition/Nepali Sign Language Image Annotations (YOLOv8)/val/images/9e8fd544-20231203_134753.jpg: corrupt JPEG restored and saved\n",
      "\u001b[34m\u001b[1mval: \u001b[0mWARNING ⚠️ /home/aashish/Downloads/Nepali-Sign-Language-Recognition/Nepali Sign Language Image Annotations (YOLOv8)/val/images/9fc1ad68-20231212_142947.jpg: corrupt JPEG restored and saved\n",
      "\u001b[34m\u001b[1mval: \u001b[0mWARNING ⚠️ /home/aashish/Downloads/Nepali-Sign-Language-Recognition/Nepali Sign Language Image Annotations (YOLOv8)/val/images/a0c62c3e-20231203_133650.jpg: corrupt JPEG restored and saved\n",
      "\u001b[34m\u001b[1mval: \u001b[0mWARNING ⚠️ /home/aashish/Downloads/Nepali-Sign-Language-Recognition/Nepali Sign Language Image Annotations (YOLOv8)/val/images/a1318373-20231203_133828.jpg: corrupt JPEG restored and saved\n",
      "\u001b[34m\u001b[1mval: \u001b[0mWARNING ⚠️ /home/aashish/Downloads/Nepali-Sign-Language-Recognition/Nepali Sign Language Image Annotations (YOLOv8)/val/images/a19f5c98-20231203_134959.jpg: corrupt JPEG restored and saved\n",
      "\u001b[34m\u001b[1mval: \u001b[0mWARNING ⚠️ /home/aashish/Downloads/Nepali-Sign-Language-Recognition/Nepali Sign Language Image Annotations (YOLOv8)/val/images/a200c55e-20231203_132943.jpg: corrupt JPEG restored and saved\n",
      "\u001b[34m\u001b[1mval: \u001b[0mWARNING ⚠️ /home/aashish/Downloads/Nepali-Sign-Language-Recognition/Nepali Sign Language Image Annotations (YOLOv8)/val/images/a28d2ebf-20231204_140603.jpg: corrupt JPEG restored and saved\n",
      "\u001b[34m\u001b[1mval: \u001b[0mWARNING ⚠️ /home/aashish/Downloads/Nepali-Sign-Language-Recognition/Nepali Sign Language Image Annotations (YOLOv8)/val/images/a2a1d778-20231203_130724.jpg: corrupt JPEG restored and saved\n",
      "\u001b[34m\u001b[1mval: \u001b[0mWARNING ⚠️ /home/aashish/Downloads/Nepali-Sign-Language-Recognition/Nepali Sign Language Image Annotations (YOLOv8)/val/images/a2e6a926-20231204_131223.jpg: corrupt JPEG restored and saved\n",
      "\u001b[34m\u001b[1mval: \u001b[0mWARNING ⚠️ /home/aashish/Downloads/Nepali-Sign-Language-Recognition/Nepali Sign Language Image Annotations (YOLOv8)/val/images/a3633bd1-20231212_1443580.jpg: corrupt JPEG restored and saved\n",
      "\u001b[34m\u001b[1mval: \u001b[0mWARNING ⚠️ /home/aashish/Downloads/Nepali-Sign-Language-Recognition/Nepali Sign Language Image Annotations (YOLOv8)/val/images/a4e73b8d-20231204_142138.jpg: corrupt JPEG restored and saved\n",
      "\u001b[34m\u001b[1mval: \u001b[0mWARNING ⚠️ /home/aashish/Downloads/Nepali-Sign-Language-Recognition/Nepali Sign Language Image Annotations (YOLOv8)/val/images/a5920ae7-20231212_144145.jpg: corrupt JPEG restored and saved\n",
      "\u001b[34m\u001b[1mval: \u001b[0mWARNING ⚠️ /home/aashish/Downloads/Nepali-Sign-Language-Recognition/Nepali Sign Language Image Annotations (YOLOv8)/val/images/a66f1a40-20231212_141910.jpg: corrupt JPEG restored and saved\n",
      "\u001b[34m\u001b[1mval: \u001b[0mWARNING ⚠️ /home/aashish/Downloads/Nepali-Sign-Language-Recognition/Nepali Sign Language Image Annotations (YOLOv8)/val/images/a7297b6e-20231212_1442550.jpg: corrupt JPEG restored and saved\n",
      "\u001b[34m\u001b[1mval: \u001b[0mWARNING ⚠️ /home/aashish/Downloads/Nepali-Sign-Language-Recognition/Nepali Sign Language Image Annotations (YOLOv8)/val/images/a814d666-20231204_142302.jpg: corrupt JPEG restored and saved\n",
      "\u001b[34m\u001b[1mval: \u001b[0mWARNING ⚠️ /home/aashish/Downloads/Nepali-Sign-Language-Recognition/Nepali Sign Language Image Annotations (YOLOv8)/val/images/a864dbb3-20231203_1321170.jpg: corrupt JPEG restored and saved\n",
      "\u001b[34m\u001b[1mval: \u001b[0mWARNING ⚠️ /home/aashish/Downloads/Nepali-Sign-Language-Recognition/Nepali Sign Language Image Annotations (YOLOv8)/val/images/aa4cee04-20231203_125400.jpg: corrupt JPEG restored and saved\n",
      "\u001b[34m\u001b[1mval: \u001b[0mWARNING ⚠️ /home/aashish/Downloads/Nepali-Sign-Language-Recognition/Nepali Sign Language Image Annotations (YOLOv8)/val/images/ac546c64-20231204_140616.jpg: corrupt JPEG restored and saved\n",
      "\u001b[34m\u001b[1mval: \u001b[0mWARNING ⚠️ /home/aashish/Downloads/Nepali-Sign-Language-Recognition/Nepali Sign Language Image Annotations (YOLOv8)/val/images/ac97d3d9-20231204_131626.jpg: corrupt JPEG restored and saved\n",
      "\u001b[34m\u001b[1mval: \u001b[0mWARNING ⚠️ /home/aashish/Downloads/Nepali-Sign-Language-Recognition/Nepali Sign Language Image Annotations (YOLOv8)/val/images/acc7ce78-20231203_124728.jpg: corrupt JPEG restored and saved\n",
      "\u001b[34m\u001b[1mval: \u001b[0mWARNING ⚠️ /home/aashish/Downloads/Nepali-Sign-Language-Recognition/Nepali Sign Language Image Annotations (YOLOv8)/val/images/ad4fcea4-20231203_125542.jpg: corrupt JPEG restored and saved\n",
      "\u001b[34m\u001b[1mval: \u001b[0mWARNING ⚠️ /home/aashish/Downloads/Nepali-Sign-Language-Recognition/Nepali Sign Language Image Annotations (YOLOv8)/val/images/adf09340-20231212_143305.jpg: corrupt JPEG restored and saved\n",
      "\u001b[34m\u001b[1mval: \u001b[0mWARNING ⚠️ /home/aashish/Downloads/Nepali-Sign-Language-Recognition/Nepali Sign Language Image Annotations (YOLOv8)/val/images/ae76c0b2-20231203_132239.jpg: corrupt JPEG restored and saved\n",
      "\u001b[34m\u001b[1mval: \u001b[0mWARNING ⚠️ /home/aashish/Downloads/Nepali-Sign-Language-Recognition/Nepali Sign Language Image Annotations (YOLOv8)/val/images/b096f4dc-20231203_131700.jpg: corrupt JPEG restored and saved\n",
      "\u001b[34m\u001b[1mval: \u001b[0mWARNING ⚠️ /home/aashish/Downloads/Nepali-Sign-Language-Recognition/Nepali Sign Language Image Annotations (YOLOv8)/val/images/b0e63ba7-20231203_125231.jpg: corrupt JPEG restored and saved\n",
      "\u001b[34m\u001b[1mval: \u001b[0mWARNING ⚠️ /home/aashish/Downloads/Nepali-Sign-Language-Recognition/Nepali Sign Language Image Annotations (YOLOv8)/val/images/b11483a2-20231203_125015.jpg: corrupt JPEG restored and saved\n",
      "\u001b[34m\u001b[1mval: \u001b[0mWARNING ⚠️ /home/aashish/Downloads/Nepali-Sign-Language-Recognition/Nepali Sign Language Image Annotations (YOLOv8)/val/images/b43d1800-20231204_141508.jpg: corrupt JPEG restored and saved\n",
      "\u001b[34m\u001b[1mval: \u001b[0mWARNING ⚠️ /home/aashish/Downloads/Nepali-Sign-Language-Recognition/Nepali Sign Language Image Annotations (YOLOv8)/val/images/b50b1d0e-20231204_141853.jpg: corrupt JPEG restored and saved\n",
      "\u001b[34m\u001b[1mval: \u001b[0mWARNING ⚠️ /home/aashish/Downloads/Nepali-Sign-Language-Recognition/Nepali Sign Language Image Annotations (YOLOv8)/val/images/b568c10e-20231203_125101.jpg: corrupt JPEG restored and saved\n",
      "\u001b[34m\u001b[1mval: \u001b[0mWARNING ⚠️ /home/aashish/Downloads/Nepali-Sign-Language-Recognition/Nepali Sign Language Image Annotations (YOLOv8)/val/images/b6def78f-20231203_125822.jpg: corrupt JPEG restored and saved\n",
      "\u001b[34m\u001b[1mval: \u001b[0mWARNING ⚠️ /home/aashish/Downloads/Nepali-Sign-Language-Recognition/Nepali Sign Language Image Annotations (YOLOv8)/val/images/b703cab6-20231212_1447050.jpg: corrupt JPEG restored and saved\n",
      "\u001b[34m\u001b[1mval: \u001b[0mWARNING ⚠️ /home/aashish/Downloads/Nepali-Sign-Language-Recognition/Nepali Sign Language Image Annotations (YOLOv8)/val/images/b8691129-20231204_1434060.jpg: corrupt JPEG restored and saved\n",
      "\u001b[34m\u001b[1mval: \u001b[0mWARNING ⚠️ /home/aashish/Downloads/Nepali-Sign-Language-Recognition/Nepali Sign Language Image Annotations (YOLOv8)/val/images/bb47dad8-20231203_130539.jpg: corrupt JPEG restored and saved\n",
      "\u001b[34m\u001b[1mval: \u001b[0mWARNING ⚠️ /home/aashish/Downloads/Nepali-Sign-Language-Recognition/Nepali Sign Language Image Annotations (YOLOv8)/val/images/bc1386ef-20231212_144704.jpg: corrupt JPEG restored and saved\n",
      "\u001b[34m\u001b[1mval: \u001b[0mWARNING ⚠️ /home/aashish/Downloads/Nepali-Sign-Language-Recognition/Nepali Sign Language Image Annotations (YOLOv8)/val/images/bc6516a2-20231212_141853.jpg: corrupt JPEG restored and saved\n",
      "\u001b[34m\u001b[1mval: \u001b[0mWARNING ⚠️ /home/aashish/Downloads/Nepali-Sign-Language-Recognition/Nepali Sign Language Image Annotations (YOLOv8)/val/images/bf04698e-20231212_1433430.jpg: corrupt JPEG restored and saved\n",
      "\u001b[34m\u001b[1mval: \u001b[0mWARNING ⚠️ /home/aashish/Downloads/Nepali-Sign-Language-Recognition/Nepali Sign Language Image Annotations (YOLOv8)/val/images/c06a3766-20231204_140348.jpg: corrupt JPEG restored and saved\n",
      "\u001b[34m\u001b[1mval: \u001b[0mWARNING ⚠️ /home/aashish/Downloads/Nepali-Sign-Language-Recognition/Nepali Sign Language Image Annotations (YOLOv8)/val/images/c163a3bb-20231212_144220.jpg: corrupt JPEG restored and saved\n",
      "\u001b[34m\u001b[1mval: \u001b[0mWARNING ⚠️ /home/aashish/Downloads/Nepali-Sign-Language-Recognition/Nepali Sign Language Image Annotations (YOLOv8)/val/images/c193ff59-20231212_145946.jpg: corrupt JPEG restored and saved\n",
      "\u001b[34m\u001b[1mval: \u001b[0mWARNING ⚠️ /home/aashish/Downloads/Nepali-Sign-Language-Recognition/Nepali Sign Language Image Annotations (YOLOv8)/val/images/c2ec6942-20231212_135020.jpg: corrupt JPEG restored and saved\n",
      "\u001b[34m\u001b[1mval: \u001b[0mWARNING ⚠️ /home/aashish/Downloads/Nepali-Sign-Language-Recognition/Nepali Sign Language Image Annotations (YOLOv8)/val/images/c2f2719e-20231212_142748.jpg: corrupt JPEG restored and saved\n",
      "\u001b[34m\u001b[1mval: \u001b[0mWARNING ⚠️ /home/aashish/Downloads/Nepali-Sign-Language-Recognition/Nepali Sign Language Image Annotations (YOLOv8)/val/images/c3016707-20231212_141935.jpg: corrupt JPEG restored and saved\n",
      "\u001b[34m\u001b[1mval: \u001b[0mWARNING ⚠️ /home/aashish/Downloads/Nepali-Sign-Language-Recognition/Nepali Sign Language Image Annotations (YOLOv8)/val/images/c4f8a64b-20231203_134742.jpg: corrupt JPEG restored and saved\n",
      "\u001b[34m\u001b[1mval: \u001b[0mWARNING ⚠️ /home/aashish/Downloads/Nepali-Sign-Language-Recognition/Nepali Sign Language Image Annotations (YOLOv8)/val/images/c537f43d-20231203_133429.jpg: corrupt JPEG restored and saved\n",
      "\u001b[34m\u001b[1mval: \u001b[0mWARNING ⚠️ /home/aashish/Downloads/Nepali-Sign-Language-Recognition/Nepali Sign Language Image Annotations (YOLOv8)/val/images/c53b4946-20231203_131430.jpg: corrupt JPEG restored and saved\n",
      "\u001b[34m\u001b[1mval: \u001b[0mWARNING ⚠️ /home/aashish/Downloads/Nepali-Sign-Language-Recognition/Nepali Sign Language Image Annotations (YOLOv8)/val/images/c549e8dc-20231203_135009.jpg: corrupt JPEG restored and saved\n",
      "\u001b[34m\u001b[1mval: \u001b[0mWARNING ⚠️ /home/aashish/Downloads/Nepali-Sign-Language-Recognition/Nepali Sign Language Image Annotations (YOLOv8)/val/images/c5cbba03-20231212_1438090.jpg: corrupt JPEG restored and saved\n",
      "\u001b[34m\u001b[1mval: \u001b[0mWARNING ⚠️ /home/aashish/Downloads/Nepali-Sign-Language-Recognition/Nepali Sign Language Image Annotations (YOLOv8)/val/images/c87d8029-20231204_1312130.jpg: corrupt JPEG restored and saved\n",
      "\u001b[34m\u001b[1mval: \u001b[0mWARNING ⚠️ /home/aashish/Downloads/Nepali-Sign-Language-Recognition/Nepali Sign Language Image Annotations (YOLOv8)/val/images/c8f1be1e-20231203_132317.jpg: corrupt JPEG restored and saved\n",
      "\u001b[34m\u001b[1mval: \u001b[0mWARNING ⚠️ /home/aashish/Downloads/Nepali-Sign-Language-Recognition/Nepali Sign Language Image Annotations (YOLOv8)/val/images/cc962ff5-20231203_134803.jpg: corrupt JPEG restored and saved\n",
      "\u001b[34m\u001b[1mval: \u001b[0mWARNING ⚠️ /home/aashish/Downloads/Nepali-Sign-Language-Recognition/Nepali Sign Language Image Annotations (YOLOv8)/val/images/ccd533fe-20231203_1322420.jpg: corrupt JPEG restored and saved\n",
      "\u001b[34m\u001b[1mval: \u001b[0mWARNING ⚠️ /home/aashish/Downloads/Nepali-Sign-Language-Recognition/Nepali Sign Language Image Annotations (YOLOv8)/val/images/cce0a35b-20231212_142645.jpg: corrupt JPEG restored and saved\n",
      "\u001b[34m\u001b[1mval: \u001b[0mWARNING ⚠️ /home/aashish/Downloads/Nepali-Sign-Language-Recognition/Nepali Sign Language Image Annotations (YOLOv8)/val/images/cd2bacf5-20231204_131104.jpg: corrupt JPEG restored and saved\n",
      "\u001b[34m\u001b[1mval: \u001b[0mWARNING ⚠️ /home/aashish/Downloads/Nepali-Sign-Language-Recognition/Nepali Sign Language Image Annotations (YOLOv8)/val/images/cde9e510-20231203_132221.jpg: corrupt JPEG restored and saved\n",
      "\u001b[34m\u001b[1mval: \u001b[0mWARNING ⚠️ /home/aashish/Downloads/Nepali-Sign-Language-Recognition/Nepali Sign Language Image Annotations (YOLOv8)/val/images/d09bffeb-20231212_135021.jpg: corrupt JPEG restored and saved\n",
      "\u001b[34m\u001b[1mval: \u001b[0mWARNING ⚠️ /home/aashish/Downloads/Nepali-Sign-Language-Recognition/Nepali Sign Language Image Annotations (YOLOv8)/val/images/d0a2523a-20231204_140619.jpg: corrupt JPEG restored and saved\n",
      "\u001b[34m\u001b[1mval: \u001b[0mWARNING ⚠️ /home/aashish/Downloads/Nepali-Sign-Language-Recognition/Nepali Sign Language Image Annotations (YOLOv8)/val/images/d0c3176e-20231203_133240.jpg: corrupt JPEG restored and saved\n",
      "\u001b[34m\u001b[1mval: \u001b[0mWARNING ⚠️ /home/aashish/Downloads/Nepali-Sign-Language-Recognition/Nepali Sign Language Image Annotations (YOLOv8)/val/images/d0d60b05-20231212_142538.jpg: corrupt JPEG restored and saved\n",
      "\u001b[34m\u001b[1mval: \u001b[0mWARNING ⚠️ /home/aashish/Downloads/Nepali-Sign-Language-Recognition/Nepali Sign Language Image Annotations (YOLOv8)/val/images/d163e21b-20231203_1326570.jpg: corrupt JPEG restored and saved\n",
      "\u001b[34m\u001b[1mval: \u001b[0mWARNING ⚠️ /home/aashish/Downloads/Nepali-Sign-Language-Recognition/Nepali Sign Language Image Annotations (YOLOv8)/val/images/d282afd8-20231212_142841.jpg: corrupt JPEG restored and saved\n",
      "\u001b[34m\u001b[1mval: \u001b[0mWARNING ⚠️ /home/aashish/Downloads/Nepali-Sign-Language-Recognition/Nepali Sign Language Image Annotations (YOLOv8)/val/images/d3e0f9b4-20231212_145604.jpg: corrupt JPEG restored and saved\n",
      "\u001b[34m\u001b[1mval: \u001b[0mWARNING ⚠️ /home/aashish/Downloads/Nepali-Sign-Language-Recognition/Nepali Sign Language Image Annotations (YOLOv8)/val/images/d44bc7ca-20231204_142229.jpg: corrupt JPEG restored and saved\n",
      "\u001b[34m\u001b[1mval: \u001b[0mWARNING ⚠️ /home/aashish/Downloads/Nepali-Sign-Language-Recognition/Nepali Sign Language Image Annotations (YOLOv8)/val/images/d473f305-20231204_1411270.jpg: corrupt JPEG restored and saved\n",
      "\u001b[34m\u001b[1mval: \u001b[0mWARNING ⚠️ /home/aashish/Downloads/Nepali-Sign-Language-Recognition/Nepali Sign Language Image Annotations (YOLOv8)/val/images/d7ea19ca-20231212_143117.jpg: corrupt JPEG restored and saved\n",
      "\u001b[34m\u001b[1mval: \u001b[0mWARNING ⚠️ /home/aashish/Downloads/Nepali-Sign-Language-Recognition/Nepali Sign Language Image Annotations (YOLOv8)/val/images/d83dd60c-20231203_1300140.jpg: corrupt JPEG restored and saved\n",
      "\u001b[34m\u001b[1mval: \u001b[0mWARNING ⚠️ /home/aashish/Downloads/Nepali-Sign-Language-Recognition/Nepali Sign Language Image Annotations (YOLOv8)/val/images/d8537c3f-20231212_135231.jpg: corrupt JPEG restored and saved\n",
      "\u001b[34m\u001b[1mval: \u001b[0mWARNING ⚠️ /home/aashish/Downloads/Nepali-Sign-Language-Recognition/Nepali Sign Language Image Annotations (YOLOv8)/val/images/d9a33671-20231204_1318580.jpg: corrupt JPEG restored and saved\n",
      "\u001b[34m\u001b[1mval: \u001b[0mWARNING ⚠️ /home/aashish/Downloads/Nepali-Sign-Language-Recognition/Nepali Sign Language Image Annotations (YOLOv8)/val/images/da2029e0-20231204_135630.jpg: corrupt JPEG restored and saved\n",
      "\u001b[34m\u001b[1mval: \u001b[0mWARNING ⚠️ /home/aashish/Downloads/Nepali-Sign-Language-Recognition/Nepali Sign Language Image Annotations (YOLOv8)/val/images/dbcb3b10-20231204_141849.jpg: corrupt JPEG restored and saved\n",
      "\u001b[34m\u001b[1mval: \u001b[0mWARNING ⚠️ /home/aashish/Downloads/Nepali-Sign-Language-Recognition/Nepali Sign Language Image Annotations (YOLOv8)/val/images/dbf17167-20231203_132332.jpg: corrupt JPEG restored and saved\n",
      "\u001b[34m\u001b[1mval: \u001b[0mWARNING ⚠️ /home/aashish/Downloads/Nepali-Sign-Language-Recognition/Nepali Sign Language Image Annotations (YOLOv8)/val/images/df4843c2-20231204_143230.jpg: corrupt JPEG restored and saved\n",
      "\u001b[34m\u001b[1mval: \u001b[0mWARNING ⚠️ /home/aashish/Downloads/Nepali-Sign-Language-Recognition/Nepali Sign Language Image Annotations (YOLOv8)/val/images/e28b375b-20231212_135257.jpg: corrupt JPEG restored and saved\n",
      "\u001b[34m\u001b[1mval: \u001b[0mWARNING ⚠️ /home/aashish/Downloads/Nepali-Sign-Language-Recognition/Nepali Sign Language Image Annotations (YOLOv8)/val/images/e2b8de1b-20231204_1313380.jpg: corrupt JPEG restored and saved\n",
      "\u001b[34m\u001b[1mval: \u001b[0mWARNING ⚠️ /home/aashish/Downloads/Nepali-Sign-Language-Recognition/Nepali Sign Language Image Annotations (YOLOv8)/val/images/e6a7bf22-20231212_142130.jpg: corrupt JPEG restored and saved\n",
      "\u001b[34m\u001b[1mval: \u001b[0mWARNING ⚠️ /home/aashish/Downloads/Nepali-Sign-Language-Recognition/Nepali Sign Language Image Annotations (YOLOv8)/val/images/e90b53fa-20231212_144653.jpg: corrupt JPEG restored and saved\n",
      "\u001b[34m\u001b[1mval: \u001b[0mWARNING ⚠️ /home/aashish/Downloads/Nepali-Sign-Language-Recognition/Nepali Sign Language Image Annotations (YOLOv8)/val/images/e995b5e2-20231212_1416110.jpg: corrupt JPEG restored and saved\n",
      "\u001b[34m\u001b[1mval: \u001b[0mWARNING ⚠️ /home/aashish/Downloads/Nepali-Sign-Language-Recognition/Nepali Sign Language Image Annotations (YOLOv8)/val/images/eaa6e612-20231203_132429.jpg: corrupt JPEG restored and saved\n",
      "\u001b[34m\u001b[1mval: \u001b[0mWARNING ⚠️ /home/aashish/Downloads/Nepali-Sign-Language-Recognition/Nepali Sign Language Image Annotations (YOLOv8)/val/images/eb922244-20231203_132309.jpg: corrupt JPEG restored and saved\n",
      "\u001b[34m\u001b[1mval: \u001b[0mWARNING ⚠️ /home/aashish/Downloads/Nepali-Sign-Language-Recognition/Nepali Sign Language Image Annotations (YOLOv8)/val/images/ecb0eab1-20231203_134959.jpg: corrupt JPEG restored and saved\n",
      "\u001b[34m\u001b[1mval: \u001b[0mWARNING ⚠️ /home/aashish/Downloads/Nepali-Sign-Language-Recognition/Nepali Sign Language Image Annotations (YOLOv8)/val/images/ed1768d2-20231204_143304.jpg: corrupt JPEG restored and saved\n",
      "\u001b[34m\u001b[1mval: \u001b[0mWARNING ⚠️ /home/aashish/Downloads/Nepali-Sign-Language-Recognition/Nepali Sign Language Image Annotations (YOLOv8)/val/images/edcf0390-20231204_143603.jpg: corrupt JPEG restored and saved\n",
      "\u001b[34m\u001b[1mval: \u001b[0mWARNING ⚠️ /home/aashish/Downloads/Nepali-Sign-Language-Recognition/Nepali Sign Language Image Annotations (YOLOv8)/val/images/ee228663-20231212_145603.jpg: corrupt JPEG restored and saved\n",
      "\u001b[34m\u001b[1mval: \u001b[0mWARNING ⚠️ /home/aashish/Downloads/Nepali-Sign-Language-Recognition/Nepali Sign Language Image Annotations (YOLOv8)/val/images/f0308dcf-20231204_140810.jpg: corrupt JPEG restored and saved\n",
      "\u001b[34m\u001b[1mval: \u001b[0mWARNING ⚠️ /home/aashish/Downloads/Nepali-Sign-Language-Recognition/Nepali Sign Language Image Annotations (YOLOv8)/val/images/f3e025bc-20231212_145901.jpg: corrupt JPEG restored and saved\n",
      "\u001b[34m\u001b[1mval: \u001b[0mWARNING ⚠️ /home/aashish/Downloads/Nepali-Sign-Language-Recognition/Nepali Sign Language Image Annotations (YOLOv8)/val/images/f4c5d0d5-20231203_125841.jpg: corrupt JPEG restored and saved\n",
      "\u001b[34m\u001b[1mval: \u001b[0mWARNING ⚠️ /home/aashish/Downloads/Nepali-Sign-Language-Recognition/Nepali Sign Language Image Annotations (YOLOv8)/val/images/f5556d1f-20231203_1301590.jpg: corrupt JPEG restored and saved\n",
      "\u001b[34m\u001b[1mval: \u001b[0mWARNING ⚠️ /home/aashish/Downloads/Nepali-Sign-Language-Recognition/Nepali Sign Language Image Annotations (YOLOv8)/val/images/f6a087e2-20231204_1435220.jpg: corrupt JPEG restored and saved\n",
      "\u001b[34m\u001b[1mval: \u001b[0mWARNING ⚠️ /home/aashish/Downloads/Nepali-Sign-Language-Recognition/Nepali Sign Language Image Annotations (YOLOv8)/val/images/f738269f-20231203_1316510.jpg: corrupt JPEG restored and saved\n",
      "\u001b[34m\u001b[1mval: \u001b[0mWARNING ⚠️ /home/aashish/Downloads/Nepali-Sign-Language-Recognition/Nepali Sign Language Image Annotations (YOLOv8)/val/images/f760feb1-20231204_131309.jpg: corrupt JPEG restored and saved\n",
      "\u001b[34m\u001b[1mval: \u001b[0mWARNING ⚠️ /home/aashish/Downloads/Nepali-Sign-Language-Recognition/Nepali Sign Language Image Annotations (YOLOv8)/val/images/f7801d60-20231204_140811.jpg: corrupt JPEG restored and saved\n",
      "\u001b[34m\u001b[1mval: \u001b[0mWARNING ⚠️ /home/aashish/Downloads/Nepali-Sign-Language-Recognition/Nepali Sign Language Image Annotations (YOLOv8)/val/images/f7c0c2bd-20231203_135301.jpg: corrupt JPEG restored and saved\n",
      "\u001b[34m\u001b[1mval: \u001b[0mWARNING ⚠️ /home/aashish/Downloads/Nepali-Sign-Language-Recognition/Nepali Sign Language Image Annotations (YOLOv8)/val/images/f928824e-20231204_143146.jpg: corrupt JPEG restored and saved\n",
      "\u001b[34m\u001b[1mval: \u001b[0mWARNING ⚠️ /home/aashish/Downloads/Nepali-Sign-Language-Recognition/Nepali Sign Language Image Annotations (YOLOv8)/val/images/f9a1e41a-20231203_124934.jpg: corrupt JPEG restored and saved\n",
      "\u001b[34m\u001b[1mval: \u001b[0mWARNING ⚠️ /home/aashish/Downloads/Nepali-Sign-Language-Recognition/Nepali Sign Language Image Annotations (YOLOv8)/val/images/fb4d107c-20231212_145128.jpg: corrupt JPEG restored and saved\n",
      "\u001b[34m\u001b[1mval: \u001b[0mWARNING ⚠️ /home/aashish/Downloads/Nepali-Sign-Language-Recognition/Nepali Sign Language Image Annotations (YOLOv8)/val/images/fbecde80-20231204_140924.jpg: corrupt JPEG restored and saved\n",
      "\u001b[34m\u001b[1mval: \u001b[0mWARNING ⚠️ /home/aashish/Downloads/Nepali-Sign-Language-Recognition/Nepali Sign Language Image Annotations (YOLOv8)/val/images/fca7bf5e-20231212_143749.jpg: corrupt JPEG restored and saved\n",
      "\u001b[34m\u001b[1mval: \u001b[0mWARNING ⚠️ /home/aashish/Downloads/Nepali-Sign-Language-Recognition/Nepali Sign Language Image Annotations (YOLOv8)/val/images/fefeb3b3-20231203_134808.jpg: corrupt JPEG restored and saved\n",
      "\u001b[34m\u001b[1mval: \u001b[0mWARNING ⚠️ /home/aashish/Downloads/Nepali-Sign-Language-Recognition/Nepali Sign Language Image Annotations (YOLOv8)/val/images/ffd489fa-20231204_142141.jpg: corrupt JPEG restored and saved\n"
     ]
    },
    {
     "name": "stderr",
     "output_type": "stream",
     "text": [
      "\n"
     ]
    },
    {
     "name": "stdout",
     "output_type": "stream",
     "text": [
      "Plotting labels to runs/detect/train/labels.jpg... \n",
      "\u001b[34m\u001b[1moptimizer:\u001b[0m SGD(lr=0.01, momentum=0.937) with parameter groups 57 weight(decay=0.0), 64 weight(decay=0.0005), 63 bias(decay=0.0)\n",
      "Image sizes 640 train, 640 val\n",
      "Using 8 dataloader workers\n",
      "Logging results to \u001b[1mruns/detect/train\u001b[0m\n",
      "Starting training for 50 epochs...\n",
      "\n",
      "      Epoch    GPU_mem   box_loss   cls_loss   dfl_loss  Instances       Size\n"
     ]
    },
    {
     "name": "stderr",
     "output_type": "stream",
     "text": [
      "       1/50      4.93G      1.752      4.741      2.182         50        640: 1\n",
      "                 Class     Images  Instances      Box(P          R      mAP50  m"
     ]
    },
    {
     "name": "stdout",
     "output_type": "stream",
     "text": [
      "                   all        360        360          0          0          0          0\n"
     ]
    },
    {
     "name": "stderr",
     "output_type": "stream",
     "text": [
      "\n"
     ]
    },
    {
     "name": "stdout",
     "output_type": "stream",
     "text": [
      "\n",
      "      Epoch    GPU_mem   box_loss   cls_loss   dfl_loss  Instances       Size\n"
     ]
    },
    {
     "name": "stderr",
     "output_type": "stream",
     "text": [
      "       2/50      4.63G       1.33      4.369      1.776         61        640: 1\n",
      "                 Class     Images  Instances      Box(P          R      mAP50  m\n"
     ]
    },
    {
     "name": "stdout",
     "output_type": "stream",
     "text": [
      "                   all        360        360     0.0266      0.562     0.0532     0.0214\n",
      "\n",
      "      Epoch    GPU_mem   box_loss   cls_loss   dfl_loss  Instances       Size\n"
     ]
    },
    {
     "name": "stderr",
     "output_type": "stream",
     "text": [
      "       3/50      4.62G      1.361      4.063      1.808         58        640: 1\n",
      "                 Class     Images  Instances      Box(P          R      mAP50  m"
     ]
    },
    {
     "name": "stdout",
     "output_type": "stream",
     "text": [
      "                   all        360        360     0.0886      0.356     0.0984     0.0452\n"
     ]
    },
    {
     "name": "stderr",
     "output_type": "stream",
     "text": [
      "\n"
     ]
    },
    {
     "name": "stdout",
     "output_type": "stream",
     "text": [
      "\n",
      "      Epoch    GPU_mem   box_loss   cls_loss   dfl_loss  Instances       Size\n"
     ]
    },
    {
     "name": "stderr",
     "output_type": "stream",
     "text": [
      "       4/50       4.6G      1.431      3.803      1.845         69        640: 1\n",
      "                 Class     Images  Instances      Box(P          R      mAP50  m\n"
     ]
    },
    {
     "name": "stdout",
     "output_type": "stream",
     "text": [
      "                   all        360        360      0.114      0.227     0.0634     0.0291\n",
      "\n",
      "      Epoch    GPU_mem   box_loss   cls_loss   dfl_loss  Instances       Size\n"
     ]
    },
    {
     "name": "stderr",
     "output_type": "stream",
     "text": [
      "       5/50      4.63G      1.393      3.566      1.784         72        640: 1\n",
      "                 Class     Images  Instances      Box(P          R      mAP50  m"
     ]
    },
    {
     "name": "stdout",
     "output_type": "stream",
     "text": [
      "                   all        360        360      0.132      0.449      0.187       0.11\n"
     ]
    },
    {
     "name": "stderr",
     "output_type": "stream",
     "text": [
      "\n"
     ]
    },
    {
     "name": "stdout",
     "output_type": "stream",
     "text": [
      "\n",
      "      Epoch    GPU_mem   box_loss   cls_loss   dfl_loss  Instances       Size\n"
     ]
    },
    {
     "name": "stderr",
     "output_type": "stream",
     "text": [
      "       6/50       4.6G      1.402      3.456       1.78         53        640: 1\n",
      "                 Class     Images  Instances      Box(P          R      mAP50  m\n"
     ]
    },
    {
     "name": "stdout",
     "output_type": "stream",
     "text": [
      "                   all        360        360      0.208      0.535      0.281      0.172\n",
      "\n",
      "      Epoch    GPU_mem   box_loss   cls_loss   dfl_loss  Instances       Size\n"
     ]
    },
    {
     "name": "stderr",
     "output_type": "stream",
     "text": [
      "       7/50      4.62G      1.358      3.292      1.729         65        640: 1\n",
      "                 Class     Images  Instances      Box(P          R      mAP50  m\n"
     ]
    },
    {
     "name": "stdout",
     "output_type": "stream",
     "text": [
      "                   all        360        360      0.277      0.433      0.329      0.203\n",
      "\n",
      "      Epoch    GPU_mem   box_loss   cls_loss   dfl_loss  Instances       Size\n"
     ]
    },
    {
     "name": "stderr",
     "output_type": "stream",
     "text": [
      "       8/50      4.63G      1.337      3.189      1.703         59        640: 1\n",
      "                 Class     Images  Instances      Box(P          R      mAP50  m"
     ]
    },
    {
     "name": "stdout",
     "output_type": "stream",
     "text": [
      "                   all        360        360      0.392      0.571      0.437      0.282\n"
     ]
    },
    {
     "name": "stderr",
     "output_type": "stream",
     "text": [
      "\n"
     ]
    },
    {
     "name": "stdout",
     "output_type": "stream",
     "text": [
      "\n",
      "      Epoch    GPU_mem   box_loss   cls_loss   dfl_loss  Instances       Size\n"
     ]
    },
    {
     "name": "stderr",
     "output_type": "stream",
     "text": [
      "       9/50      4.59G      1.315      3.075      1.676         54        640: 1\n",
      "                 Class     Images  Instances      Box(P          R      mAP50  m\n"
     ]
    },
    {
     "name": "stdout",
     "output_type": "stream",
     "text": [
      "                   all        360        360      0.248       0.54      0.366      0.201\n",
      "\n",
      "      Epoch    GPU_mem   box_loss   cls_loss   dfl_loss  Instances       Size\n"
     ]
    },
    {
     "name": "stderr",
     "output_type": "stream",
     "text": [
      "      10/50      4.63G      1.297      3.001      1.671         60        640: 1\n",
      "                 Class     Images  Instances      Box(P          R      mAP50  m\n"
     ]
    },
    {
     "name": "stdout",
     "output_type": "stream",
     "text": [
      "                   all        360        360      0.394      0.654      0.594       0.36\n",
      "\n",
      "      Epoch    GPU_mem   box_loss   cls_loss   dfl_loss  Instances       Size\n"
     ]
    },
    {
     "name": "stderr",
     "output_type": "stream",
     "text": [
      "      11/50      4.63G      1.252      2.882      1.629         46        640: 1\n",
      "                 Class     Images  Instances      Box(P          R      mAP50  m"
     ]
    },
    {
     "name": "stdout",
     "output_type": "stream",
     "text": [
      "                   all        360        360      0.456      0.659      0.626      0.439\n"
     ]
    },
    {
     "name": "stderr",
     "output_type": "stream",
     "text": [
      "\n"
     ]
    },
    {
     "name": "stdout",
     "output_type": "stream",
     "text": [
      "\n",
      "      Epoch    GPU_mem   box_loss   cls_loss   dfl_loss  Instances       Size\n"
     ]
    },
    {
     "name": "stderr",
     "output_type": "stream",
     "text": [
      "      12/50      4.63G      1.229      2.776      1.611         59        640: 1\n",
      "                 Class     Images  Instances      Box(P          R      mAP50  m"
     ]
    },
    {
     "name": "stdout",
     "output_type": "stream",
     "text": [
      "                   all        360        360      0.442      0.805      0.697      0.435\n"
     ]
    },
    {
     "name": "stderr",
     "output_type": "stream",
     "text": [
      "\n"
     ]
    },
    {
     "name": "stdout",
     "output_type": "stream",
     "text": [
      "\n",
      "      Epoch    GPU_mem   box_loss   cls_loss   dfl_loss  Instances       Size\n"
     ]
    },
    {
     "name": "stderr",
     "output_type": "stream",
     "text": [
      "      13/50      4.59G      1.231      2.694      1.611         58        640: 1\n",
      "                 Class     Images  Instances      Box(P          R      mAP50  m\n"
     ]
    },
    {
     "name": "stdout",
     "output_type": "stream",
     "text": [
      "                   all        360        360      0.624      0.743       0.77      0.578\n",
      "\n",
      "      Epoch    GPU_mem   box_loss   cls_loss   dfl_loss  Instances       Size\n"
     ]
    },
    {
     "name": "stderr",
     "output_type": "stream",
     "text": [
      "      14/50      4.63G      1.208      2.618      1.587         64        640: 1\n",
      "                 Class     Images  Instances      Box(P          R      mAP50  m\n"
     ]
    },
    {
     "name": "stdout",
     "output_type": "stream",
     "text": [
      "                   all        360        360      0.635       0.69      0.781      0.549\n",
      "\n",
      "      Epoch    GPU_mem   box_loss   cls_loss   dfl_loss  Instances       Size\n"
     ]
    },
    {
     "name": "stderr",
     "output_type": "stream",
     "text": [
      "      15/50      4.62G        1.2       2.58      1.579         63        640: 1\n",
      "                 Class     Images  Instances      Box(P          R      mAP50  m"
     ]
    },
    {
     "name": "stdout",
     "output_type": "stream",
     "text": [
      "                   all        360        360       0.58      0.812      0.808      0.537\n"
     ]
    },
    {
     "name": "stderr",
     "output_type": "stream",
     "text": [
      "\n"
     ]
    },
    {
     "name": "stdout",
     "output_type": "stream",
     "text": [
      "\n",
      "      Epoch    GPU_mem   box_loss   cls_loss   dfl_loss  Instances       Size\n"
     ]
    },
    {
     "name": "stderr",
     "output_type": "stream",
     "text": [
      "      16/50      4.63G      1.179      2.485      1.553         68        640: 1\n",
      "                 Class     Images  Instances      Box(P          R      mAP50  m\n"
     ]
    },
    {
     "name": "stdout",
     "output_type": "stream",
     "text": [
      "                   all        360        360      0.663      0.705      0.791      0.579\n",
      "\n",
      "      Epoch    GPU_mem   box_loss   cls_loss   dfl_loss  Instances       Size\n"
     ]
    },
    {
     "name": "stderr",
     "output_type": "stream",
     "text": [
      "      17/50      4.63G       1.15      2.402      1.538         59        640: 1\n",
      "                 Class     Images  Instances      Box(P          R      mAP50  m\n"
     ]
    },
    {
     "name": "stdout",
     "output_type": "stream",
     "text": [
      "                   all        360        360      0.724      0.762       0.86      0.657\n",
      "\n",
      "      Epoch    GPU_mem   box_loss   cls_loss   dfl_loss  Instances       Size\n"
     ]
    },
    {
     "name": "stderr",
     "output_type": "stream",
     "text": [
      "      18/50      4.63G      1.145      2.387      1.537         46        640: 1\n",
      "                 Class     Images  Instances      Box(P          R      mAP50  m\n"
     ]
    },
    {
     "name": "stdout",
     "output_type": "stream",
     "text": [
      "                   all        360        360      0.685      0.858      0.894      0.703\n",
      "\n",
      "      Epoch    GPU_mem   box_loss   cls_loss   dfl_loss  Instances       Size\n"
     ]
    },
    {
     "name": "stderr",
     "output_type": "stream",
     "text": [
      "      19/50      4.63G      1.141      2.317      1.534         62        640: 1\n",
      "                 Class     Images  Instances      Box(P          R      mAP50  m\n"
     ]
    },
    {
     "name": "stdout",
     "output_type": "stream",
     "text": [
      "                   all        360        360      0.773      0.875      0.932       0.72\n",
      "\n",
      "      Epoch    GPU_mem   box_loss   cls_loss   dfl_loss  Instances       Size\n"
     ]
    },
    {
     "name": "stderr",
     "output_type": "stream",
     "text": [
      "      20/50      4.59G       1.14      2.259      1.528         62        640: 1\n",
      "                 Class     Images  Instances      Box(P          R      mAP50  m"
     ]
    },
    {
     "name": "stdout",
     "output_type": "stream",
     "text": [
      "                   all        360        360      0.806      0.885      0.937      0.653\n"
     ]
    },
    {
     "name": "stderr",
     "output_type": "stream",
     "text": [
      "\n"
     ]
    },
    {
     "name": "stdout",
     "output_type": "stream",
     "text": [
      "\n",
      "      Epoch    GPU_mem   box_loss   cls_loss   dfl_loss  Instances       Size\n"
     ]
    },
    {
     "name": "stderr",
     "output_type": "stream",
     "text": [
      "      21/50      4.62G      1.111      2.185      1.497         52        640: 1\n",
      "                 Class     Images  Instances      Box(P          R      mAP50  m"
     ]
    },
    {
     "name": "stdout",
     "output_type": "stream",
     "text": [
      "                   all        360        360      0.817       0.88      0.955      0.744\n"
     ]
    },
    {
     "name": "stderr",
     "output_type": "stream",
     "text": [
      "\n"
     ]
    },
    {
     "name": "stdout",
     "output_type": "stream",
     "text": [
      "\n",
      "      Epoch    GPU_mem   box_loss   cls_loss   dfl_loss  Instances       Size\n"
     ]
    },
    {
     "name": "stderr",
     "output_type": "stream",
     "text": [
      "      22/50       4.6G      1.098      2.137      1.492         62        640: 1\n",
      "                 Class     Images  Instances      Box(P          R      mAP50  m"
     ]
    },
    {
     "name": "stdout",
     "output_type": "stream",
     "text": [
      "                   all        360        360      0.812      0.871      0.948       0.75\n"
     ]
    },
    {
     "name": "stderr",
     "output_type": "stream",
     "text": [
      "\n"
     ]
    },
    {
     "name": "stdout",
     "output_type": "stream",
     "text": [
      "\n",
      "      Epoch    GPU_mem   box_loss   cls_loss   dfl_loss  Instances       Size\n"
     ]
    },
    {
     "name": "stderr",
     "output_type": "stream",
     "text": [
      "      23/50      4.62G      1.087      2.115      1.485         74        640: 1\n",
      "                 Class     Images  Instances      Box(P          R      mAP50  m"
     ]
    },
    {
     "name": "stdout",
     "output_type": "stream",
     "text": [
      "                   all        360        360      0.778      0.869      0.921      0.687\n"
     ]
    },
    {
     "name": "stderr",
     "output_type": "stream",
     "text": [
      "\n"
     ]
    },
    {
     "name": "stdout",
     "output_type": "stream",
     "text": [
      "\n",
      "      Epoch    GPU_mem   box_loss   cls_loss   dfl_loss  Instances       Size\n"
     ]
    },
    {
     "name": "stderr",
     "output_type": "stream",
     "text": [
      "      24/50      4.59G      1.081      2.073      1.473         59        640: 1\n",
      "                 Class     Images  Instances      Box(P          R      mAP50  m"
     ]
    },
    {
     "name": "stdout",
     "output_type": "stream",
     "text": [
      "                   all        360        360      0.895      0.879      0.961       0.79\n"
     ]
    },
    {
     "name": "stderr",
     "output_type": "stream",
     "text": [
      "\n"
     ]
    },
    {
     "name": "stdout",
     "output_type": "stream",
     "text": [
      "\n",
      "      Epoch    GPU_mem   box_loss   cls_loss   dfl_loss  Instances       Size\n"
     ]
    },
    {
     "name": "stderr",
     "output_type": "stream",
     "text": [
      "      25/50      4.59G      1.069      2.035      1.471         66        640: 1\n",
      "                 Class     Images  Instances      Box(P          R      mAP50  m"
     ]
    },
    {
     "name": "stdout",
     "output_type": "stream",
     "text": [
      "                   all        360        360       0.85      0.847      0.943       0.77\n"
     ]
    },
    {
     "name": "stderr",
     "output_type": "stream",
     "text": [
      "\n"
     ]
    },
    {
     "name": "stdout",
     "output_type": "stream",
     "text": [
      "\n",
      "      Epoch    GPU_mem   box_loss   cls_loss   dfl_loss  Instances       Size\n"
     ]
    },
    {
     "name": "stderr",
     "output_type": "stream",
     "text": [
      "      26/50      4.59G      1.069      2.022      1.458         59        640: 1\n",
      "                 Class     Images  Instances      Box(P          R      mAP50  m"
     ]
    },
    {
     "name": "stdout",
     "output_type": "stream",
     "text": [
      "                   all        360        360       0.82      0.899      0.946      0.714\n"
     ]
    },
    {
     "name": "stderr",
     "output_type": "stream",
     "text": [
      "\n"
     ]
    },
    {
     "name": "stdout",
     "output_type": "stream",
     "text": [
      "\n",
      "      Epoch    GPU_mem   box_loss   cls_loss   dfl_loss  Instances       Size\n"
     ]
    },
    {
     "name": "stderr",
     "output_type": "stream",
     "text": [
      "      27/50      4.59G      1.036      1.937      1.452         54        640: 1\n",
      "                 Class     Images  Instances      Box(P          R      mAP50  m\n"
     ]
    },
    {
     "name": "stdout",
     "output_type": "stream",
     "text": [
      "                   all        360        360      0.895      0.883      0.974       0.79\n",
      "\n",
      "      Epoch    GPU_mem   box_loss   cls_loss   dfl_loss  Instances       Size\n"
     ]
    },
    {
     "name": "stderr",
     "output_type": "stream",
     "text": [
      "      28/50      4.63G      1.039      1.949      1.453         60        640: 1\n",
      "                 Class     Images  Instances      Box(P          R      mAP50  m"
     ]
    },
    {
     "name": "stdout",
     "output_type": "stream",
     "text": [
      "                   all        360        360      0.894      0.879       0.96      0.802\n"
     ]
    },
    {
     "name": "stderr",
     "output_type": "stream",
     "text": [
      "\n"
     ]
    },
    {
     "name": "stdout",
     "output_type": "stream",
     "text": [
      "\n",
      "      Epoch    GPU_mem   box_loss   cls_loss   dfl_loss  Instances       Size\n"
     ]
    },
    {
     "name": "stderr",
     "output_type": "stream",
     "text": [
      "      29/50      4.62G      1.044      1.911      1.449         56        640: 1\n",
      "                 Class     Images  Instances      Box(P          R      mAP50  m"
     ]
    },
    {
     "name": "stdout",
     "output_type": "stream",
     "text": [
      "                   all        360        360      0.901      0.912      0.977      0.813\n"
     ]
    },
    {
     "name": "stderr",
     "output_type": "stream",
     "text": [
      "\n"
     ]
    },
    {
     "name": "stdout",
     "output_type": "stream",
     "text": [
      "\n",
      "      Epoch    GPU_mem   box_loss   cls_loss   dfl_loss  Instances       Size\n"
     ]
    },
    {
     "name": "stderr",
     "output_type": "stream",
     "text": [
      "      30/50       4.6G      1.034      1.873      1.444         56        640: 1\n",
      "                 Class     Images  Instances      Box(P          R      mAP50  m"
     ]
    },
    {
     "name": "stdout",
     "output_type": "stream",
     "text": [
      "                   all        360        360      0.871      0.956      0.983      0.785\n"
     ]
    },
    {
     "name": "stderr",
     "output_type": "stream",
     "text": [
      "\n"
     ]
    },
    {
     "name": "stdout",
     "output_type": "stream",
     "text": [
      "\n",
      "      Epoch    GPU_mem   box_loss   cls_loss   dfl_loss  Instances       Size\n"
     ]
    },
    {
     "name": "stderr",
     "output_type": "stream",
     "text": [
      "      31/50      4.59G      1.006      1.809       1.42         65        640: 1\n",
      "                 Class     Images  Instances      Box(P          R      mAP50  m\n"
     ]
    },
    {
     "name": "stdout",
     "output_type": "stream",
     "text": [
      "                   all        360        360      0.893      0.921      0.977      0.808\n",
      "\n",
      "      Epoch    GPU_mem   box_loss   cls_loss   dfl_loss  Instances       Size\n"
     ]
    },
    {
     "name": "stderr",
     "output_type": "stream",
     "text": [
      "      32/50      4.63G       1.01       1.82      1.421         62        640: 1\n",
      "                 Class     Images  Instances      Box(P          R      mAP50  m"
     ]
    },
    {
     "name": "stdout",
     "output_type": "stream",
     "text": [
      "                   all        360        360      0.909      0.941      0.986      0.819\n"
     ]
    },
    {
     "name": "stderr",
     "output_type": "stream",
     "text": [
      "\n"
     ]
    },
    {
     "name": "stdout",
     "output_type": "stream",
     "text": [
      "\n",
      "      Epoch    GPU_mem   box_loss   cls_loss   dfl_loss  Instances       Size\n"
     ]
    },
    {
     "name": "stderr",
     "output_type": "stream",
     "text": [
      "      33/50      4.62G      1.009      1.794      1.415         61        640: 1\n",
      "                 Class     Images  Instances      Box(P          R      mAP50  m"
     ]
    },
    {
     "name": "stdout",
     "output_type": "stream",
     "text": [
      "                   all        360        360      0.932      0.947      0.988      0.814\n"
     ]
    },
    {
     "name": "stderr",
     "output_type": "stream",
     "text": [
      "\n"
     ]
    },
    {
     "name": "stdout",
     "output_type": "stream",
     "text": [
      "\n",
      "      Epoch    GPU_mem   box_loss   cls_loss   dfl_loss  Instances       Size\n"
     ]
    },
    {
     "name": "stderr",
     "output_type": "stream",
     "text": [
      "      34/50      4.63G      0.989      1.766       1.42         59        640: 1\n",
      "                 Class     Images  Instances      Box(P          R      mAP50  m"
     ]
    },
    {
     "name": "stdout",
     "output_type": "stream",
     "text": [
      "                   all        360        360       0.92      0.947      0.987      0.822\n"
     ]
    },
    {
     "name": "stderr",
     "output_type": "stream",
     "text": [
      "\n"
     ]
    },
    {
     "name": "stdout",
     "output_type": "stream",
     "text": [
      "\n",
      "      Epoch    GPU_mem   box_loss   cls_loss   dfl_loss  Instances       Size\n"
     ]
    },
    {
     "name": "stderr",
     "output_type": "stream",
     "text": [
      "      35/50      4.62G     0.9821      1.724      1.403         62        640: 1\n",
      "                 Class     Images  Instances      Box(P          R      mAP50  m"
     ]
    },
    {
     "name": "stdout",
     "output_type": "stream",
     "text": [
      "                   all        360        360      0.939      0.948      0.987      0.846\n"
     ]
    },
    {
     "name": "stderr",
     "output_type": "stream",
     "text": [
      "\n"
     ]
    },
    {
     "name": "stdout",
     "output_type": "stream",
     "text": [
      "\n",
      "      Epoch    GPU_mem   box_loss   cls_loss   dfl_loss  Instances       Size\n"
     ]
    },
    {
     "name": "stderr",
     "output_type": "stream",
     "text": [
      "      36/50       4.6G     0.9859      1.723      1.406         69        640: 1\n",
      "                 Class     Images  Instances      Box(P          R      mAP50  m"
     ]
    },
    {
     "name": "stdout",
     "output_type": "stream",
     "text": [
      "                   all        360        360      0.953      0.969      0.992        0.8\n"
     ]
    },
    {
     "name": "stderr",
     "output_type": "stream",
     "text": [
      "\n"
     ]
    },
    {
     "name": "stdout",
     "output_type": "stream",
     "text": [
      "\n",
      "      Epoch    GPU_mem   box_loss   cls_loss   dfl_loss  Instances       Size\n"
     ]
    },
    {
     "name": "stderr",
     "output_type": "stream",
     "text": [
      "      37/50      4.62G     0.9609      1.677      1.382         56        640: 1\n",
      "                 Class     Images  Instances      Box(P          R      mAP50  m\n"
     ]
    },
    {
     "name": "stdout",
     "output_type": "stream",
     "text": [
      "                   all        360        360       0.96      0.957      0.993      0.839\n",
      "\n",
      "      Epoch    GPU_mem   box_loss   cls_loss   dfl_loss  Instances       Size\n"
     ]
    },
    {
     "name": "stderr",
     "output_type": "stream",
     "text": [
      "      38/50      4.59G     0.9679      1.665      1.384         55        640: 1\n",
      "                 Class     Images  Instances      Box(P          R      mAP50  m"
     ]
    },
    {
     "name": "stdout",
     "output_type": "stream",
     "text": [
      "                   all        360        360      0.941      0.971      0.991      0.849\n"
     ]
    },
    {
     "name": "stderr",
     "output_type": "stream",
     "text": [
      "\n"
     ]
    },
    {
     "name": "stdout",
     "output_type": "stream",
     "text": [
      "\n",
      "      Epoch    GPU_mem   box_loss   cls_loss   dfl_loss  Instances       Size\n"
     ]
    },
    {
     "name": "stderr",
     "output_type": "stream",
     "text": [
      "      39/50      4.62G     0.9532      1.647      1.372         62        640: 1\n",
      "                 Class     Images  Instances      Box(P          R      mAP50  m"
     ]
    },
    {
     "name": "stdout",
     "output_type": "stream",
     "text": [
      "                   all        360        360      0.943      0.974      0.994      0.836\n"
     ]
    },
    {
     "name": "stderr",
     "output_type": "stream",
     "text": [
      "\n"
     ]
    },
    {
     "name": "stdout",
     "output_type": "stream",
     "text": [
      "\n",
      "      Epoch    GPU_mem   box_loss   cls_loss   dfl_loss  Instances       Size\n"
     ]
    },
    {
     "name": "stderr",
     "output_type": "stream",
     "text": [
      "      40/50       4.6G     0.9314      1.615      1.365         63        640: 1\n",
      "                 Class     Images  Instances      Box(P          R      mAP50  m"
     ]
    },
    {
     "name": "stdout",
     "output_type": "stream",
     "text": [
      "                   all        360        360      0.957       0.97       0.99      0.826\n"
     ]
    },
    {
     "name": "stderr",
     "output_type": "stream",
     "text": [
      "\n"
     ]
    },
    {
     "name": "stdout",
     "output_type": "stream",
     "text": [
      "Closing dataloader mosaic\n",
      "\n",
      "      Epoch    GPU_mem   box_loss   cls_loss   dfl_loss  Instances       Size\n"
     ]
    },
    {
     "name": "stderr",
     "output_type": "stream",
     "text": [
      "      41/50      5.28G     0.5926     0.9179      1.159         19        640: 1\n",
      "                 Class     Images  Instances      Box(P          R      mAP50  m\n"
     ]
    },
    {
     "name": "stdout",
     "output_type": "stream",
     "text": [
      "                   all        360        360      0.903      0.955      0.985      0.831\n",
      "\n",
      "      Epoch    GPU_mem   box_loss   cls_loss   dfl_loss  Instances       Size\n"
     ]
    },
    {
     "name": "stderr",
     "output_type": "stream",
     "text": [
      "      42/50       4.6G     0.5823     0.8348      1.155         19        640: 1\n",
      "                 Class     Images  Instances      Box(P          R      mAP50  m\n"
     ]
    },
    {
     "name": "stdout",
     "output_type": "stream",
     "text": [
      "                   all        360        360      0.939      0.962      0.992      0.849\n",
      "\n",
      "      Epoch    GPU_mem   box_loss   cls_loss   dfl_loss  Instances       Size\n"
     ]
    },
    {
     "name": "stderr",
     "output_type": "stream",
     "text": [
      "      43/50      4.58G     0.5695     0.7596      1.148         19        640: 1\n",
      "                 Class     Images  Instances      Box(P          R      mAP50  m"
     ]
    },
    {
     "name": "stdout",
     "output_type": "stream",
     "text": [
      "                   all        360        360      0.973      0.974      0.994      0.827\n"
     ]
    },
    {
     "name": "stderr",
     "output_type": "stream",
     "text": [
      "\n"
     ]
    },
    {
     "name": "stdout",
     "output_type": "stream",
     "text": [
      "\n",
      "      Epoch    GPU_mem   box_loss   cls_loss   dfl_loss  Instances       Size\n"
     ]
    },
    {
     "name": "stderr",
     "output_type": "stream",
     "text": [
      "      44/50       4.6G     0.5429     0.7192      1.118         19        640: 1\n",
      "                 Class     Images  Instances      Box(P          R      mAP50  m"
     ]
    },
    {
     "name": "stdout",
     "output_type": "stream",
     "text": [
      "                   all        360        360      0.957      0.979      0.994      0.854\n"
     ]
    },
    {
     "name": "stderr",
     "output_type": "stream",
     "text": [
      "\n"
     ]
    },
    {
     "name": "stdout",
     "output_type": "stream",
     "text": [
      "\n",
      "      Epoch    GPU_mem   box_loss   cls_loss   dfl_loss  Instances       Size\n"
     ]
    },
    {
     "name": "stderr",
     "output_type": "stream",
     "text": [
      "      45/50      4.58G     0.5477     0.6958      1.128         19        640: 1\n",
      "                 Class     Images  Instances      Box(P          R      mAP50  m\n"
     ]
    },
    {
     "name": "stdout",
     "output_type": "stream",
     "text": [
      "                   all        360        360      0.976      0.972      0.995      0.854\n",
      "\n",
      "      Epoch    GPU_mem   box_loss   cls_loss   dfl_loss  Instances       Size\n"
     ]
    },
    {
     "name": "stderr",
     "output_type": "stream",
     "text": [
      "      46/50       4.6G     0.5227     0.6639      1.112         19        640: 1\n",
      "                 Class     Images  Instances      Box(P          R      mAP50  m"
     ]
    },
    {
     "name": "stdout",
     "output_type": "stream",
     "text": [
      "                   all        360        360      0.957      0.982      0.992      0.869\n"
     ]
    },
    {
     "name": "stderr",
     "output_type": "stream",
     "text": [
      "\n"
     ]
    },
    {
     "name": "stdout",
     "output_type": "stream",
     "text": [
      "\n",
      "      Epoch    GPU_mem   box_loss   cls_loss   dfl_loss  Instances       Size\n"
     ]
    },
    {
     "name": "stderr",
     "output_type": "stream",
     "text": [
      "      47/50      4.58G     0.5145     0.6564      1.105         19        640: 1\n",
      "                 Class     Images  Instances      Box(P          R      mAP50  m"
     ]
    },
    {
     "name": "stdout",
     "output_type": "stream",
     "text": [
      "                   all        360        360       0.97      0.973      0.994      0.869\n"
     ]
    },
    {
     "name": "stderr",
     "output_type": "stream",
     "text": [
      "\n"
     ]
    },
    {
     "name": "stdout",
     "output_type": "stream",
     "text": [
      "\n",
      "      Epoch    GPU_mem   box_loss   cls_loss   dfl_loss  Instances       Size\n"
     ]
    },
    {
     "name": "stderr",
     "output_type": "stream",
     "text": [
      "      48/50       4.6G     0.5049     0.6303      1.089         19        640: 1\n",
      "                 Class     Images  Instances      Box(P          R      mAP50  m"
     ]
    },
    {
     "name": "stdout",
     "output_type": "stream",
     "text": [
      "                   all        360        360      0.965       0.99      0.995      0.883\n"
     ]
    },
    {
     "name": "stderr",
     "output_type": "stream",
     "text": [
      "\n"
     ]
    },
    {
     "name": "stdout",
     "output_type": "stream",
     "text": [
      "\n",
      "      Epoch    GPU_mem   box_loss   cls_loss   dfl_loss  Instances       Size\n"
     ]
    },
    {
     "name": "stderr",
     "output_type": "stream",
     "text": [
      "      49/50      4.58G     0.5044      0.615      1.092         19        640: 1\n",
      "                 Class     Images  Instances      Box(P          R      mAP50  m\n"
     ]
    },
    {
     "name": "stdout",
     "output_type": "stream",
     "text": [
      "                   all        360        360      0.975       0.99      0.995      0.876\n",
      "\n",
      "      Epoch    GPU_mem   box_loss   cls_loss   dfl_loss  Instances       Size\n"
     ]
    },
    {
     "name": "stderr",
     "output_type": "stream",
     "text": [
      "      50/50       4.6G     0.4817      0.603      1.072         19        640: 1\n",
      "                 Class     Images  Instances      Box(P          R      mAP50  m"
     ]
    },
    {
     "name": "stdout",
     "output_type": "stream",
     "text": [
      "                   all        360        360      0.975       0.99      0.995       0.87\n"
     ]
    },
    {
     "name": "stderr",
     "output_type": "stream",
     "text": [
      "\n"
     ]
    },
    {
     "name": "stdout",
     "output_type": "stream",
     "text": [
      "\n",
      "50 epochs completed in 0.485 hours.\n",
      "Optimizer stripped from runs/detect/train/weights/last.pt, 6.3MB\n",
      "Optimizer stripped from runs/detect/train/weights/best.pt, 6.3MB\n",
      "\n",
      "Validating runs/detect/train/weights/best.pt...\n",
      "Ultralytics YOLOv8.2.56 🚀 Python-3.11.9 torch-2.3.1+cu121 CUDA:0 (NVIDIA GeForce RTX 4060 Laptop GPU, 7843MiB)\n",
      "Model summary (fused): 168 layers, 3,014,618 parameters, 0 gradients, 8.1 GFLOPs\n"
     ]
    },
    {
     "name": "stderr",
     "output_type": "stream",
     "text": [
      "                 Class     Images  Instances      Box(P          R      mAP50  m\n"
     ]
    },
    {
     "name": "stdout",
     "output_type": "stream",
     "text": [
      "                   all        360        360      0.965       0.99      0.995      0.882\n",
      "                     क          4          4      0.947          1      0.995      0.747\n",
      "                   क्ष          4          4      0.856          1      0.995      0.933\n",
      "                     ख          4          4       0.93          1      0.995      0.921\n",
      "                     ग          8          8      0.997          1      0.995      0.937\n",
      "                     घ          9          9      0.969          1      0.995       0.85\n",
      "                     ङ          6          6      0.964          1      0.995      0.762\n",
      "                     च          9          9      0.942          1      0.995      0.877\n",
      "                     छ         10         10      0.971          1      0.995      0.915\n",
      "                     ज          5          5      0.943          1      0.995      0.877\n",
      "                   ज्ञ          9          9      0.968          1      0.995      0.851\n",
      "                     झ         10         10      0.965          1      0.995      0.874\n",
      "                     ञ          6          6          1      0.999      0.995      0.767\n",
      "                     ट         12         12      0.968          1      0.995      0.887\n",
      "                     ठ          4          4          1      0.968      0.995      0.853\n",
      "                     ड          6          6      0.972          1      0.995      0.871\n",
      "                     ढ          7          7      0.964          1      0.995      0.872\n",
      "                     ण          7          7       0.96          1      0.995      0.874\n",
      "                     त         10         10      0.975          1      0.995      0.895\n",
      "                   त्र         10         10      0.968          1      0.995      0.885\n",
      "                     थ          7          7      0.961          1      0.995       0.88\n",
      "                     द         10         10      0.981          1      0.995      0.881\n",
      "                     ध          7          7      0.963          1      0.995      0.943\n",
      "                     न          6          6      0.965          1      0.995      0.852\n",
      "                     प          8          8          1      0.852      0.995      0.907\n",
      "                     फ         11         11      0.977          1      0.995      0.834\n",
      "                     ब          6          6      0.988          1      0.995      0.874\n",
      "                     भ          6          6          1      0.849      0.995      0.899\n",
      "                     म          3          3       0.88          1      0.995      0.908\n",
      "                     य         11         11      0.975          1      0.995      0.877\n",
      "                     र          6          6      0.941          1      0.995      0.872\n",
      "                     ल          9          9      0.969          1      0.995      0.877\n",
      "                     व          7          7      0.941          1      0.995      0.909\n",
      "                     श         10         10      0.978          1      0.995      0.931\n",
      "                     ष          4          4      0.967          1      0.995      0.871\n",
      "                     स          9          9      0.967          1      0.995      0.908\n",
      "                     ह          7          7          1      0.884      0.995       0.86\n",
      "                     ०         13         13      0.979          1      0.995      0.888\n",
      "                     १          6          6      0.988          1      0.995       0.87\n",
      "                     २         10         10      0.976          1      0.995      0.904\n",
      "                     ३          8          8       0.93          1      0.995      0.898\n",
      "                     ४         11         11      0.969          1      0.995      0.898\n",
      "                     ५         10         10      0.966          1      0.995      0.962\n",
      "                     ६          9          9      0.973          1      0.995      0.867\n",
      "                     ७         10         10       0.98          1      0.995      0.915\n",
      "                     ८          6          6      0.956          1      0.995      0.934\n",
      "                     ९         10         10      0.973          1      0.995       0.92\n",
      "Speed: 0.2ms preprocess, 1.4ms inference, 0.0ms loss, 1.7ms postprocess per image\n",
      "Results saved to \u001b[1mruns/detect/train\u001b[0m\n"
     ]
    },
    {
     "data": {
      "text/plain": [
       "ultralytics.utils.metrics.DetMetrics object with attributes:\n",
       "\n",
       "ap_class_index: array([ 0,  1,  2,  3,  4,  5,  6,  7,  8,  9, 10, 11, 12, 13, 14, 15, 16, 17, 18, 19, 20, 21, 22, 23, 24, 25, 26, 27, 28, 29, 30, 31, 32, 33, 34, 35, 36, 37, 38, 39, 40, 41, 42, 43, 44, 45])\n",
       "box: ultralytics.utils.metrics.Metric object\n",
       "confusion_matrix: <ultralytics.utils.metrics.ConfusionMatrix object at 0x7facd4b996d0>\n",
       "curves: ['Precision-Recall(B)', 'F1-Confidence(B)', 'Precision-Confidence(B)', 'Recall-Confidence(B)']\n",
       "curves_results: [[array([          0,    0.001001,    0.002002,    0.003003,    0.004004,    0.005005,    0.006006,    0.007007,    0.008008,    0.009009,     0.01001,    0.011011,    0.012012,    0.013013,    0.014014,    0.015015,    0.016016,    0.017017,    0.018018,    0.019019,     0.02002,    0.021021,    0.022022,    0.023023,\n",
       "          0.024024,    0.025025,    0.026026,    0.027027,    0.028028,    0.029029,     0.03003,    0.031031,    0.032032,    0.033033,    0.034034,    0.035035,    0.036036,    0.037037,    0.038038,    0.039039,     0.04004,    0.041041,    0.042042,    0.043043,    0.044044,    0.045045,    0.046046,    0.047047,\n",
       "          0.048048,    0.049049,     0.05005,    0.051051,    0.052052,    0.053053,    0.054054,    0.055055,    0.056056,    0.057057,    0.058058,    0.059059,     0.06006,    0.061061,    0.062062,    0.063063,    0.064064,    0.065065,    0.066066,    0.067067,    0.068068,    0.069069,     0.07007,    0.071071,\n",
       "          0.072072,    0.073073,    0.074074,    0.075075,    0.076076,    0.077077,    0.078078,    0.079079,     0.08008,    0.081081,    0.082082,    0.083083,    0.084084,    0.085085,    0.086086,    0.087087,    0.088088,    0.089089,     0.09009,    0.091091,    0.092092,    0.093093,    0.094094,    0.095095,\n",
       "          0.096096,    0.097097,    0.098098,    0.099099,      0.1001,      0.1011,      0.1021,      0.1031,      0.1041,     0.10511,     0.10611,     0.10711,     0.10811,     0.10911,     0.11011,     0.11111,     0.11211,     0.11311,     0.11411,     0.11512,     0.11612,     0.11712,     0.11812,     0.11912,\n",
       "           0.12012,     0.12112,     0.12212,     0.12312,     0.12412,     0.12513,     0.12613,     0.12713,     0.12813,     0.12913,     0.13013,     0.13113,     0.13213,     0.13313,     0.13413,     0.13514,     0.13614,     0.13714,     0.13814,     0.13914,     0.14014,     0.14114,     0.14214,     0.14314,\n",
       "           0.14414,     0.14515,     0.14615,     0.14715,     0.14815,     0.14915,     0.15015,     0.15115,     0.15215,     0.15315,     0.15415,     0.15516,     0.15616,     0.15716,     0.15816,     0.15916,     0.16016,     0.16116,     0.16216,     0.16316,     0.16416,     0.16517,     0.16617,     0.16717,\n",
       "           0.16817,     0.16917,     0.17017,     0.17117,     0.17217,     0.17317,     0.17417,     0.17518,     0.17618,     0.17718,     0.17818,     0.17918,     0.18018,     0.18118,     0.18218,     0.18318,     0.18418,     0.18519,     0.18619,     0.18719,     0.18819,     0.18919,     0.19019,     0.19119,\n",
       "           0.19219,     0.19319,     0.19419,      0.1952,      0.1962,      0.1972,      0.1982,      0.1992,      0.2002,      0.2012,      0.2022,      0.2032,      0.2042,     0.20521,     0.20621,     0.20721,     0.20821,     0.20921,     0.21021,     0.21121,     0.21221,     0.21321,     0.21421,     0.21522,\n",
       "           0.21622,     0.21722,     0.21822,     0.21922,     0.22022,     0.22122,     0.22222,     0.22322,     0.22422,     0.22523,     0.22623,     0.22723,     0.22823,     0.22923,     0.23023,     0.23123,     0.23223,     0.23323,     0.23423,     0.23524,     0.23624,     0.23724,     0.23824,     0.23924,\n",
       "           0.24024,     0.24124,     0.24224,     0.24324,     0.24424,     0.24525,     0.24625,     0.24725,     0.24825,     0.24925,     0.25025,     0.25125,     0.25225,     0.25325,     0.25425,     0.25526,     0.25626,     0.25726,     0.25826,     0.25926,     0.26026,     0.26126,     0.26226,     0.26326,\n",
       "           0.26426,     0.26527,     0.26627,     0.26727,     0.26827,     0.26927,     0.27027,     0.27127,     0.27227,     0.27327,     0.27427,     0.27528,     0.27628,     0.27728,     0.27828,     0.27928,     0.28028,     0.28128,     0.28228,     0.28328,     0.28428,     0.28529,     0.28629,     0.28729,\n",
       "           0.28829,     0.28929,     0.29029,     0.29129,     0.29229,     0.29329,     0.29429,      0.2953,      0.2963,      0.2973,      0.2983,      0.2993,      0.3003,      0.3013,      0.3023,      0.3033,      0.3043,     0.30531,     0.30631,     0.30731,     0.30831,     0.30931,     0.31031,     0.31131,\n",
       "           0.31231,     0.31331,     0.31431,     0.31532,     0.31632,     0.31732,     0.31832,     0.31932,     0.32032,     0.32132,     0.32232,     0.32332,     0.32432,     0.32533,     0.32633,     0.32733,     0.32833,     0.32933,     0.33033,     0.33133,     0.33233,     0.33333,     0.33433,     0.33534,\n",
       "           0.33634,     0.33734,     0.33834,     0.33934,     0.34034,     0.34134,     0.34234,     0.34334,     0.34434,     0.34535,     0.34635,     0.34735,     0.34835,     0.34935,     0.35035,     0.35135,     0.35235,     0.35335,     0.35435,     0.35536,     0.35636,     0.35736,     0.35836,     0.35936,\n",
       "           0.36036,     0.36136,     0.36236,     0.36336,     0.36436,     0.36537,     0.36637,     0.36737,     0.36837,     0.36937,     0.37037,     0.37137,     0.37237,     0.37337,     0.37437,     0.37538,     0.37638,     0.37738,     0.37838,     0.37938,     0.38038,     0.38138,     0.38238,     0.38338,\n",
       "           0.38438,     0.38539,     0.38639,     0.38739,     0.38839,     0.38939,     0.39039,     0.39139,     0.39239,     0.39339,     0.39439,      0.3954,      0.3964,      0.3974,      0.3984,      0.3994,      0.4004,      0.4014,      0.4024,      0.4034,      0.4044,     0.40541,     0.40641,     0.40741,\n",
       "           0.40841,     0.40941,     0.41041,     0.41141,     0.41241,     0.41341,     0.41441,     0.41542,     0.41642,     0.41742,     0.41842,     0.41942,     0.42042,     0.42142,     0.42242,     0.42342,     0.42442,     0.42543,     0.42643,     0.42743,     0.42843,     0.42943,     0.43043,     0.43143,\n",
       "           0.43243,     0.43343,     0.43443,     0.43544,     0.43644,     0.43744,     0.43844,     0.43944,     0.44044,     0.44144,     0.44244,     0.44344,     0.44444,     0.44545,     0.44645,     0.44745,     0.44845,     0.44945,     0.45045,     0.45145,     0.45245,     0.45345,     0.45445,     0.45546,\n",
       "           0.45646,     0.45746,     0.45846,     0.45946,     0.46046,     0.46146,     0.46246,     0.46346,     0.46446,     0.46547,     0.46647,     0.46747,     0.46847,     0.46947,     0.47047,     0.47147,     0.47247,     0.47347,     0.47447,     0.47548,     0.47648,     0.47748,     0.47848,     0.47948,\n",
       "           0.48048,     0.48148,     0.48248,     0.48348,     0.48448,     0.48549,     0.48649,     0.48749,     0.48849,     0.48949,     0.49049,     0.49149,     0.49249,     0.49349,     0.49449,      0.4955,      0.4965,      0.4975,      0.4985,      0.4995,      0.5005,      0.5015,      0.5025,      0.5035,\n",
       "            0.5045,     0.50551,     0.50651,     0.50751,     0.50851,     0.50951,     0.51051,     0.51151,     0.51251,     0.51351,     0.51451,     0.51552,     0.51652,     0.51752,     0.51852,     0.51952,     0.52052,     0.52152,     0.52252,     0.52352,     0.52452,     0.52553,     0.52653,     0.52753,\n",
       "           0.52853,     0.52953,     0.53053,     0.53153,     0.53253,     0.53353,     0.53453,     0.53554,     0.53654,     0.53754,     0.53854,     0.53954,     0.54054,     0.54154,     0.54254,     0.54354,     0.54454,     0.54555,     0.54655,     0.54755,     0.54855,     0.54955,     0.55055,     0.55155,\n",
       "           0.55255,     0.55355,     0.55455,     0.55556,     0.55656,     0.55756,     0.55856,     0.55956,     0.56056,     0.56156,     0.56256,     0.56356,     0.56456,     0.56557,     0.56657,     0.56757,     0.56857,     0.56957,     0.57057,     0.57157,     0.57257,     0.57357,     0.57457,     0.57558,\n",
       "           0.57658,     0.57758,     0.57858,     0.57958,     0.58058,     0.58158,     0.58258,     0.58358,     0.58458,     0.58559,     0.58659,     0.58759,     0.58859,     0.58959,     0.59059,     0.59159,     0.59259,     0.59359,     0.59459,      0.5956,      0.5966,      0.5976,      0.5986,      0.5996,\n",
       "            0.6006,      0.6016,      0.6026,      0.6036,      0.6046,     0.60561,     0.60661,     0.60761,     0.60861,     0.60961,     0.61061,     0.61161,     0.61261,     0.61361,     0.61461,     0.61562,     0.61662,     0.61762,     0.61862,     0.61962,     0.62062,     0.62162,     0.62262,     0.62362,\n",
       "           0.62462,     0.62563,     0.62663,     0.62763,     0.62863,     0.62963,     0.63063,     0.63163,     0.63263,     0.63363,     0.63463,     0.63564,     0.63664,     0.63764,     0.63864,     0.63964,     0.64064,     0.64164,     0.64264,     0.64364,     0.64464,     0.64565,     0.64665,     0.64765,\n",
       "           0.64865,     0.64965,     0.65065,     0.65165,     0.65265,     0.65365,     0.65465,     0.65566,     0.65666,     0.65766,     0.65866,     0.65966,     0.66066,     0.66166,     0.66266,     0.66366,     0.66466,     0.66567,     0.66667,     0.66767,     0.66867,     0.66967,     0.67067,     0.67167,\n",
       "           0.67267,     0.67367,     0.67467,     0.67568,     0.67668,     0.67768,     0.67868,     0.67968,     0.68068,     0.68168,     0.68268,     0.68368,     0.68468,     0.68569,     0.68669,     0.68769,     0.68869,     0.68969,     0.69069,     0.69169,     0.69269,     0.69369,     0.69469,      0.6957,\n",
       "            0.6967,      0.6977,      0.6987,      0.6997,      0.7007,      0.7017,      0.7027,      0.7037,      0.7047,     0.70571,     0.70671,     0.70771,     0.70871,     0.70971,     0.71071,     0.71171,     0.71271,     0.71371,     0.71471,     0.71572,     0.71672,     0.71772,     0.71872,     0.71972,\n",
       "           0.72072,     0.72172,     0.72272,     0.72372,     0.72472,     0.72573,     0.72673,     0.72773,     0.72873,     0.72973,     0.73073,     0.73173,     0.73273,     0.73373,     0.73473,     0.73574,     0.73674,     0.73774,     0.73874,     0.73974,     0.74074,     0.74174,     0.74274,     0.74374,\n",
       "           0.74474,     0.74575,     0.74675,     0.74775,     0.74875,     0.74975,     0.75075,     0.75175,     0.75275,     0.75375,     0.75475,     0.75576,     0.75676,     0.75776,     0.75876,     0.75976,     0.76076,     0.76176,     0.76276,     0.76376,     0.76476,     0.76577,     0.76677,     0.76777,\n",
       "           0.76877,     0.76977,     0.77077,     0.77177,     0.77277,     0.77377,     0.77477,     0.77578,     0.77678,     0.77778,     0.77878,     0.77978,     0.78078,     0.78178,     0.78278,     0.78378,     0.78478,     0.78579,     0.78679,     0.78779,     0.78879,     0.78979,     0.79079,     0.79179,\n",
       "           0.79279,     0.79379,     0.79479,      0.7958,      0.7968,      0.7978,      0.7988,      0.7998,      0.8008,      0.8018,      0.8028,      0.8038,      0.8048,     0.80581,     0.80681,     0.80781,     0.80881,     0.80981,     0.81081,     0.81181,     0.81281,     0.81381,     0.81481,     0.81582,\n",
       "           0.81682,     0.81782,     0.81882,     0.81982,     0.82082,     0.82182,     0.82282,     0.82382,     0.82482,     0.82583,     0.82683,     0.82783,     0.82883,     0.82983,     0.83083,     0.83183,     0.83283,     0.83383,     0.83483,     0.83584,     0.83684,     0.83784,     0.83884,     0.83984,\n",
       "           0.84084,     0.84184,     0.84284,     0.84384,     0.84484,     0.84585,     0.84685,     0.84785,     0.84885,     0.84985,     0.85085,     0.85185,     0.85285,     0.85385,     0.85485,     0.85586,     0.85686,     0.85786,     0.85886,     0.85986,     0.86086,     0.86186,     0.86286,     0.86386,\n",
       "           0.86486,     0.86587,     0.86687,     0.86787,     0.86887,     0.86987,     0.87087,     0.87187,     0.87287,     0.87387,     0.87487,     0.87588,     0.87688,     0.87788,     0.87888,     0.87988,     0.88088,     0.88188,     0.88288,     0.88388,     0.88488,     0.88589,     0.88689,     0.88789,\n",
       "           0.88889,     0.88989,     0.89089,     0.89189,     0.89289,     0.89389,     0.89489,      0.8959,      0.8969,      0.8979,      0.8989,      0.8999,      0.9009,      0.9019,      0.9029,      0.9039,      0.9049,     0.90591,     0.90691,     0.90791,     0.90891,     0.90991,     0.91091,     0.91191,\n",
       "           0.91291,     0.91391,     0.91491,     0.91592,     0.91692,     0.91792,     0.91892,     0.91992,     0.92092,     0.92192,     0.92292,     0.92392,     0.92492,     0.92593,     0.92693,     0.92793,     0.92893,     0.92993,     0.93093,     0.93193,     0.93293,     0.93393,     0.93493,     0.93594,\n",
       "           0.93694,     0.93794,     0.93894,     0.93994,     0.94094,     0.94194,     0.94294,     0.94394,     0.94494,     0.94595,     0.94695,     0.94795,     0.94895,     0.94995,     0.95095,     0.95195,     0.95295,     0.95395,     0.95495,     0.95596,     0.95696,     0.95796,     0.95896,     0.95996,\n",
       "           0.96096,     0.96196,     0.96296,     0.96396,     0.96496,     0.96597,     0.96697,     0.96797,     0.96897,     0.96997,     0.97097,     0.97197,     0.97297,     0.97397,     0.97497,     0.97598,     0.97698,     0.97798,     0.97898,     0.97998,     0.98098,     0.98198,     0.98298,     0.98398,\n",
       "           0.98498,     0.98599,     0.98699,     0.98799,     0.98899,     0.98999,     0.99099,     0.99199,     0.99299,     0.99399,     0.99499,       0.996,       0.997,       0.998,       0.999,           1]), array([[          1,           1,           1, ...,           1,           1,           0],\n",
       "       [          1,           1,           1, ...,           1,           1,           0],\n",
       "       [          1,           1,           1, ...,           1,           1,           0],\n",
       "       ...,\n",
       "       [          1,           1,           1, ...,           1,           1,           0],\n",
       "       [          1,           1,           1, ...,           1,           1,           0],\n",
       "       [          1,           1,           1, ...,           1,           1,           0]]), 'Recall', 'Precision'], [array([          0,    0.001001,    0.002002,    0.003003,    0.004004,    0.005005,    0.006006,    0.007007,    0.008008,    0.009009,     0.01001,    0.011011,    0.012012,    0.013013,    0.014014,    0.015015,    0.016016,    0.017017,    0.018018,    0.019019,     0.02002,    0.021021,    0.022022,    0.023023,\n",
       "          0.024024,    0.025025,    0.026026,    0.027027,    0.028028,    0.029029,     0.03003,    0.031031,    0.032032,    0.033033,    0.034034,    0.035035,    0.036036,    0.037037,    0.038038,    0.039039,     0.04004,    0.041041,    0.042042,    0.043043,    0.044044,    0.045045,    0.046046,    0.047047,\n",
       "          0.048048,    0.049049,     0.05005,    0.051051,    0.052052,    0.053053,    0.054054,    0.055055,    0.056056,    0.057057,    0.058058,    0.059059,     0.06006,    0.061061,    0.062062,    0.063063,    0.064064,    0.065065,    0.066066,    0.067067,    0.068068,    0.069069,     0.07007,    0.071071,\n",
       "          0.072072,    0.073073,    0.074074,    0.075075,    0.076076,    0.077077,    0.078078,    0.079079,     0.08008,    0.081081,    0.082082,    0.083083,    0.084084,    0.085085,    0.086086,    0.087087,    0.088088,    0.089089,     0.09009,    0.091091,    0.092092,    0.093093,    0.094094,    0.095095,\n",
       "          0.096096,    0.097097,    0.098098,    0.099099,      0.1001,      0.1011,      0.1021,      0.1031,      0.1041,     0.10511,     0.10611,     0.10711,     0.10811,     0.10911,     0.11011,     0.11111,     0.11211,     0.11311,     0.11411,     0.11512,     0.11612,     0.11712,     0.11812,     0.11912,\n",
       "           0.12012,     0.12112,     0.12212,     0.12312,     0.12412,     0.12513,     0.12613,     0.12713,     0.12813,     0.12913,     0.13013,     0.13113,     0.13213,     0.13313,     0.13413,     0.13514,     0.13614,     0.13714,     0.13814,     0.13914,     0.14014,     0.14114,     0.14214,     0.14314,\n",
       "           0.14414,     0.14515,     0.14615,     0.14715,     0.14815,     0.14915,     0.15015,     0.15115,     0.15215,     0.15315,     0.15415,     0.15516,     0.15616,     0.15716,     0.15816,     0.15916,     0.16016,     0.16116,     0.16216,     0.16316,     0.16416,     0.16517,     0.16617,     0.16717,\n",
       "           0.16817,     0.16917,     0.17017,     0.17117,     0.17217,     0.17317,     0.17417,     0.17518,     0.17618,     0.17718,     0.17818,     0.17918,     0.18018,     0.18118,     0.18218,     0.18318,     0.18418,     0.18519,     0.18619,     0.18719,     0.18819,     0.18919,     0.19019,     0.19119,\n",
       "           0.19219,     0.19319,     0.19419,      0.1952,      0.1962,      0.1972,      0.1982,      0.1992,      0.2002,      0.2012,      0.2022,      0.2032,      0.2042,     0.20521,     0.20621,     0.20721,     0.20821,     0.20921,     0.21021,     0.21121,     0.21221,     0.21321,     0.21421,     0.21522,\n",
       "           0.21622,     0.21722,     0.21822,     0.21922,     0.22022,     0.22122,     0.22222,     0.22322,     0.22422,     0.22523,     0.22623,     0.22723,     0.22823,     0.22923,     0.23023,     0.23123,     0.23223,     0.23323,     0.23423,     0.23524,     0.23624,     0.23724,     0.23824,     0.23924,\n",
       "           0.24024,     0.24124,     0.24224,     0.24324,     0.24424,     0.24525,     0.24625,     0.24725,     0.24825,     0.24925,     0.25025,     0.25125,     0.25225,     0.25325,     0.25425,     0.25526,     0.25626,     0.25726,     0.25826,     0.25926,     0.26026,     0.26126,     0.26226,     0.26326,\n",
       "           0.26426,     0.26527,     0.26627,     0.26727,     0.26827,     0.26927,     0.27027,     0.27127,     0.27227,     0.27327,     0.27427,     0.27528,     0.27628,     0.27728,     0.27828,     0.27928,     0.28028,     0.28128,     0.28228,     0.28328,     0.28428,     0.28529,     0.28629,     0.28729,\n",
       "           0.28829,     0.28929,     0.29029,     0.29129,     0.29229,     0.29329,     0.29429,      0.2953,      0.2963,      0.2973,      0.2983,      0.2993,      0.3003,      0.3013,      0.3023,      0.3033,      0.3043,     0.30531,     0.30631,     0.30731,     0.30831,     0.30931,     0.31031,     0.31131,\n",
       "           0.31231,     0.31331,     0.31431,     0.31532,     0.31632,     0.31732,     0.31832,     0.31932,     0.32032,     0.32132,     0.32232,     0.32332,     0.32432,     0.32533,     0.32633,     0.32733,     0.32833,     0.32933,     0.33033,     0.33133,     0.33233,     0.33333,     0.33433,     0.33534,\n",
       "           0.33634,     0.33734,     0.33834,     0.33934,     0.34034,     0.34134,     0.34234,     0.34334,     0.34434,     0.34535,     0.34635,     0.34735,     0.34835,     0.34935,     0.35035,     0.35135,     0.35235,     0.35335,     0.35435,     0.35536,     0.35636,     0.35736,     0.35836,     0.35936,\n",
       "           0.36036,     0.36136,     0.36236,     0.36336,     0.36436,     0.36537,     0.36637,     0.36737,     0.36837,     0.36937,     0.37037,     0.37137,     0.37237,     0.37337,     0.37437,     0.37538,     0.37638,     0.37738,     0.37838,     0.37938,     0.38038,     0.38138,     0.38238,     0.38338,\n",
       "           0.38438,     0.38539,     0.38639,     0.38739,     0.38839,     0.38939,     0.39039,     0.39139,     0.39239,     0.39339,     0.39439,      0.3954,      0.3964,      0.3974,      0.3984,      0.3994,      0.4004,      0.4014,      0.4024,      0.4034,      0.4044,     0.40541,     0.40641,     0.40741,\n",
       "           0.40841,     0.40941,     0.41041,     0.41141,     0.41241,     0.41341,     0.41441,     0.41542,     0.41642,     0.41742,     0.41842,     0.41942,     0.42042,     0.42142,     0.42242,     0.42342,     0.42442,     0.42543,     0.42643,     0.42743,     0.42843,     0.42943,     0.43043,     0.43143,\n",
       "           0.43243,     0.43343,     0.43443,     0.43544,     0.43644,     0.43744,     0.43844,     0.43944,     0.44044,     0.44144,     0.44244,     0.44344,     0.44444,     0.44545,     0.44645,     0.44745,     0.44845,     0.44945,     0.45045,     0.45145,     0.45245,     0.45345,     0.45445,     0.45546,\n",
       "           0.45646,     0.45746,     0.45846,     0.45946,     0.46046,     0.46146,     0.46246,     0.46346,     0.46446,     0.46547,     0.46647,     0.46747,     0.46847,     0.46947,     0.47047,     0.47147,     0.47247,     0.47347,     0.47447,     0.47548,     0.47648,     0.47748,     0.47848,     0.47948,\n",
       "           0.48048,     0.48148,     0.48248,     0.48348,     0.48448,     0.48549,     0.48649,     0.48749,     0.48849,     0.48949,     0.49049,     0.49149,     0.49249,     0.49349,     0.49449,      0.4955,      0.4965,      0.4975,      0.4985,      0.4995,      0.5005,      0.5015,      0.5025,      0.5035,\n",
       "            0.5045,     0.50551,     0.50651,     0.50751,     0.50851,     0.50951,     0.51051,     0.51151,     0.51251,     0.51351,     0.51451,     0.51552,     0.51652,     0.51752,     0.51852,     0.51952,     0.52052,     0.52152,     0.52252,     0.52352,     0.52452,     0.52553,     0.52653,     0.52753,\n",
       "           0.52853,     0.52953,     0.53053,     0.53153,     0.53253,     0.53353,     0.53453,     0.53554,     0.53654,     0.53754,     0.53854,     0.53954,     0.54054,     0.54154,     0.54254,     0.54354,     0.54454,     0.54555,     0.54655,     0.54755,     0.54855,     0.54955,     0.55055,     0.55155,\n",
       "           0.55255,     0.55355,     0.55455,     0.55556,     0.55656,     0.55756,     0.55856,     0.55956,     0.56056,     0.56156,     0.56256,     0.56356,     0.56456,     0.56557,     0.56657,     0.56757,     0.56857,     0.56957,     0.57057,     0.57157,     0.57257,     0.57357,     0.57457,     0.57558,\n",
       "           0.57658,     0.57758,     0.57858,     0.57958,     0.58058,     0.58158,     0.58258,     0.58358,     0.58458,     0.58559,     0.58659,     0.58759,     0.58859,     0.58959,     0.59059,     0.59159,     0.59259,     0.59359,     0.59459,      0.5956,      0.5966,      0.5976,      0.5986,      0.5996,\n",
       "            0.6006,      0.6016,      0.6026,      0.6036,      0.6046,     0.60561,     0.60661,     0.60761,     0.60861,     0.60961,     0.61061,     0.61161,     0.61261,     0.61361,     0.61461,     0.61562,     0.61662,     0.61762,     0.61862,     0.61962,     0.62062,     0.62162,     0.62262,     0.62362,\n",
       "           0.62462,     0.62563,     0.62663,     0.62763,     0.62863,     0.62963,     0.63063,     0.63163,     0.63263,     0.63363,     0.63463,     0.63564,     0.63664,     0.63764,     0.63864,     0.63964,     0.64064,     0.64164,     0.64264,     0.64364,     0.64464,     0.64565,     0.64665,     0.64765,\n",
       "           0.64865,     0.64965,     0.65065,     0.65165,     0.65265,     0.65365,     0.65465,     0.65566,     0.65666,     0.65766,     0.65866,     0.65966,     0.66066,     0.66166,     0.66266,     0.66366,     0.66466,     0.66567,     0.66667,     0.66767,     0.66867,     0.66967,     0.67067,     0.67167,\n",
       "           0.67267,     0.67367,     0.67467,     0.67568,     0.67668,     0.67768,     0.67868,     0.67968,     0.68068,     0.68168,     0.68268,     0.68368,     0.68468,     0.68569,     0.68669,     0.68769,     0.68869,     0.68969,     0.69069,     0.69169,     0.69269,     0.69369,     0.69469,      0.6957,\n",
       "            0.6967,      0.6977,      0.6987,      0.6997,      0.7007,      0.7017,      0.7027,      0.7037,      0.7047,     0.70571,     0.70671,     0.70771,     0.70871,     0.70971,     0.71071,     0.71171,     0.71271,     0.71371,     0.71471,     0.71572,     0.71672,     0.71772,     0.71872,     0.71972,\n",
       "           0.72072,     0.72172,     0.72272,     0.72372,     0.72472,     0.72573,     0.72673,     0.72773,     0.72873,     0.72973,     0.73073,     0.73173,     0.73273,     0.73373,     0.73473,     0.73574,     0.73674,     0.73774,     0.73874,     0.73974,     0.74074,     0.74174,     0.74274,     0.74374,\n",
       "           0.74474,     0.74575,     0.74675,     0.74775,     0.74875,     0.74975,     0.75075,     0.75175,     0.75275,     0.75375,     0.75475,     0.75576,     0.75676,     0.75776,     0.75876,     0.75976,     0.76076,     0.76176,     0.76276,     0.76376,     0.76476,     0.76577,     0.76677,     0.76777,\n",
       "           0.76877,     0.76977,     0.77077,     0.77177,     0.77277,     0.77377,     0.77477,     0.77578,     0.77678,     0.77778,     0.77878,     0.77978,     0.78078,     0.78178,     0.78278,     0.78378,     0.78478,     0.78579,     0.78679,     0.78779,     0.78879,     0.78979,     0.79079,     0.79179,\n",
       "           0.79279,     0.79379,     0.79479,      0.7958,      0.7968,      0.7978,      0.7988,      0.7998,      0.8008,      0.8018,      0.8028,      0.8038,      0.8048,     0.80581,     0.80681,     0.80781,     0.80881,     0.80981,     0.81081,     0.81181,     0.81281,     0.81381,     0.81481,     0.81582,\n",
       "           0.81682,     0.81782,     0.81882,     0.81982,     0.82082,     0.82182,     0.82282,     0.82382,     0.82482,     0.82583,     0.82683,     0.82783,     0.82883,     0.82983,     0.83083,     0.83183,     0.83283,     0.83383,     0.83483,     0.83584,     0.83684,     0.83784,     0.83884,     0.83984,\n",
       "           0.84084,     0.84184,     0.84284,     0.84384,     0.84484,     0.84585,     0.84685,     0.84785,     0.84885,     0.84985,     0.85085,     0.85185,     0.85285,     0.85385,     0.85485,     0.85586,     0.85686,     0.85786,     0.85886,     0.85986,     0.86086,     0.86186,     0.86286,     0.86386,\n",
       "           0.86486,     0.86587,     0.86687,     0.86787,     0.86887,     0.86987,     0.87087,     0.87187,     0.87287,     0.87387,     0.87487,     0.87588,     0.87688,     0.87788,     0.87888,     0.87988,     0.88088,     0.88188,     0.88288,     0.88388,     0.88488,     0.88589,     0.88689,     0.88789,\n",
       "           0.88889,     0.88989,     0.89089,     0.89189,     0.89289,     0.89389,     0.89489,      0.8959,      0.8969,      0.8979,      0.8989,      0.8999,      0.9009,      0.9019,      0.9029,      0.9039,      0.9049,     0.90591,     0.90691,     0.90791,     0.90891,     0.90991,     0.91091,     0.91191,\n",
       "           0.91291,     0.91391,     0.91491,     0.91592,     0.91692,     0.91792,     0.91892,     0.91992,     0.92092,     0.92192,     0.92292,     0.92392,     0.92492,     0.92593,     0.92693,     0.92793,     0.92893,     0.92993,     0.93093,     0.93193,     0.93293,     0.93393,     0.93493,     0.93594,\n",
       "           0.93694,     0.93794,     0.93894,     0.93994,     0.94094,     0.94194,     0.94294,     0.94394,     0.94494,     0.94595,     0.94695,     0.94795,     0.94895,     0.94995,     0.95095,     0.95195,     0.95295,     0.95395,     0.95495,     0.95596,     0.95696,     0.95796,     0.95896,     0.95996,\n",
       "           0.96096,     0.96196,     0.96296,     0.96396,     0.96496,     0.96597,     0.96697,     0.96797,     0.96897,     0.96997,     0.97097,     0.97197,     0.97297,     0.97397,     0.97497,     0.97598,     0.97698,     0.97798,     0.97898,     0.97998,     0.98098,     0.98198,     0.98298,     0.98398,\n",
       "           0.98498,     0.98599,     0.98699,     0.98799,     0.98899,     0.98999,     0.99099,     0.99199,     0.99299,     0.99399,     0.99499,       0.996,       0.997,       0.998,       0.999,           1]), array([[   0.094118,    0.094118,      0.1625, ...,           0,           0,           0],\n",
       "       [    0.12308,     0.12308,     0.20744, ...,           0,           0,           0],\n",
       "       [     0.1194,      0.1194,     0.18751, ...,           0,           0,           0],\n",
       "       ...,\n",
       "       [    0.17094,     0.17094,     0.37375, ...,           0,           0,           0],\n",
       "       [    0.16901,     0.16901,     0.25079, ...,           0,           0,           0],\n",
       "       [    0.25316,     0.25316,      0.3529, ...,           0,           0,           0]]), 'Confidence', 'F1'], [array([          0,    0.001001,    0.002002,    0.003003,    0.004004,    0.005005,    0.006006,    0.007007,    0.008008,    0.009009,     0.01001,    0.011011,    0.012012,    0.013013,    0.014014,    0.015015,    0.016016,    0.017017,    0.018018,    0.019019,     0.02002,    0.021021,    0.022022,    0.023023,\n",
       "          0.024024,    0.025025,    0.026026,    0.027027,    0.028028,    0.029029,     0.03003,    0.031031,    0.032032,    0.033033,    0.034034,    0.035035,    0.036036,    0.037037,    0.038038,    0.039039,     0.04004,    0.041041,    0.042042,    0.043043,    0.044044,    0.045045,    0.046046,    0.047047,\n",
       "          0.048048,    0.049049,     0.05005,    0.051051,    0.052052,    0.053053,    0.054054,    0.055055,    0.056056,    0.057057,    0.058058,    0.059059,     0.06006,    0.061061,    0.062062,    0.063063,    0.064064,    0.065065,    0.066066,    0.067067,    0.068068,    0.069069,     0.07007,    0.071071,\n",
       "          0.072072,    0.073073,    0.074074,    0.075075,    0.076076,    0.077077,    0.078078,    0.079079,     0.08008,    0.081081,    0.082082,    0.083083,    0.084084,    0.085085,    0.086086,    0.087087,    0.088088,    0.089089,     0.09009,    0.091091,    0.092092,    0.093093,    0.094094,    0.095095,\n",
       "          0.096096,    0.097097,    0.098098,    0.099099,      0.1001,      0.1011,      0.1021,      0.1031,      0.1041,     0.10511,     0.10611,     0.10711,     0.10811,     0.10911,     0.11011,     0.11111,     0.11211,     0.11311,     0.11411,     0.11512,     0.11612,     0.11712,     0.11812,     0.11912,\n",
       "           0.12012,     0.12112,     0.12212,     0.12312,     0.12412,     0.12513,     0.12613,     0.12713,     0.12813,     0.12913,     0.13013,     0.13113,     0.13213,     0.13313,     0.13413,     0.13514,     0.13614,     0.13714,     0.13814,     0.13914,     0.14014,     0.14114,     0.14214,     0.14314,\n",
       "           0.14414,     0.14515,     0.14615,     0.14715,     0.14815,     0.14915,     0.15015,     0.15115,     0.15215,     0.15315,     0.15415,     0.15516,     0.15616,     0.15716,     0.15816,     0.15916,     0.16016,     0.16116,     0.16216,     0.16316,     0.16416,     0.16517,     0.16617,     0.16717,\n",
       "           0.16817,     0.16917,     0.17017,     0.17117,     0.17217,     0.17317,     0.17417,     0.17518,     0.17618,     0.17718,     0.17818,     0.17918,     0.18018,     0.18118,     0.18218,     0.18318,     0.18418,     0.18519,     0.18619,     0.18719,     0.18819,     0.18919,     0.19019,     0.19119,\n",
       "           0.19219,     0.19319,     0.19419,      0.1952,      0.1962,      0.1972,      0.1982,      0.1992,      0.2002,      0.2012,      0.2022,      0.2032,      0.2042,     0.20521,     0.20621,     0.20721,     0.20821,     0.20921,     0.21021,     0.21121,     0.21221,     0.21321,     0.21421,     0.21522,\n",
       "           0.21622,     0.21722,     0.21822,     0.21922,     0.22022,     0.22122,     0.22222,     0.22322,     0.22422,     0.22523,     0.22623,     0.22723,     0.22823,     0.22923,     0.23023,     0.23123,     0.23223,     0.23323,     0.23423,     0.23524,     0.23624,     0.23724,     0.23824,     0.23924,\n",
       "           0.24024,     0.24124,     0.24224,     0.24324,     0.24424,     0.24525,     0.24625,     0.24725,     0.24825,     0.24925,     0.25025,     0.25125,     0.25225,     0.25325,     0.25425,     0.25526,     0.25626,     0.25726,     0.25826,     0.25926,     0.26026,     0.26126,     0.26226,     0.26326,\n",
       "           0.26426,     0.26527,     0.26627,     0.26727,     0.26827,     0.26927,     0.27027,     0.27127,     0.27227,     0.27327,     0.27427,     0.27528,     0.27628,     0.27728,     0.27828,     0.27928,     0.28028,     0.28128,     0.28228,     0.28328,     0.28428,     0.28529,     0.28629,     0.28729,\n",
       "           0.28829,     0.28929,     0.29029,     0.29129,     0.29229,     0.29329,     0.29429,      0.2953,      0.2963,      0.2973,      0.2983,      0.2993,      0.3003,      0.3013,      0.3023,      0.3033,      0.3043,     0.30531,     0.30631,     0.30731,     0.30831,     0.30931,     0.31031,     0.31131,\n",
       "           0.31231,     0.31331,     0.31431,     0.31532,     0.31632,     0.31732,     0.31832,     0.31932,     0.32032,     0.32132,     0.32232,     0.32332,     0.32432,     0.32533,     0.32633,     0.32733,     0.32833,     0.32933,     0.33033,     0.33133,     0.33233,     0.33333,     0.33433,     0.33534,\n",
       "           0.33634,     0.33734,     0.33834,     0.33934,     0.34034,     0.34134,     0.34234,     0.34334,     0.34434,     0.34535,     0.34635,     0.34735,     0.34835,     0.34935,     0.35035,     0.35135,     0.35235,     0.35335,     0.35435,     0.35536,     0.35636,     0.35736,     0.35836,     0.35936,\n",
       "           0.36036,     0.36136,     0.36236,     0.36336,     0.36436,     0.36537,     0.36637,     0.36737,     0.36837,     0.36937,     0.37037,     0.37137,     0.37237,     0.37337,     0.37437,     0.37538,     0.37638,     0.37738,     0.37838,     0.37938,     0.38038,     0.38138,     0.38238,     0.38338,\n",
       "           0.38438,     0.38539,     0.38639,     0.38739,     0.38839,     0.38939,     0.39039,     0.39139,     0.39239,     0.39339,     0.39439,      0.3954,      0.3964,      0.3974,      0.3984,      0.3994,      0.4004,      0.4014,      0.4024,      0.4034,      0.4044,     0.40541,     0.40641,     0.40741,\n",
       "           0.40841,     0.40941,     0.41041,     0.41141,     0.41241,     0.41341,     0.41441,     0.41542,     0.41642,     0.41742,     0.41842,     0.41942,     0.42042,     0.42142,     0.42242,     0.42342,     0.42442,     0.42543,     0.42643,     0.42743,     0.42843,     0.42943,     0.43043,     0.43143,\n",
       "           0.43243,     0.43343,     0.43443,     0.43544,     0.43644,     0.43744,     0.43844,     0.43944,     0.44044,     0.44144,     0.44244,     0.44344,     0.44444,     0.44545,     0.44645,     0.44745,     0.44845,     0.44945,     0.45045,     0.45145,     0.45245,     0.45345,     0.45445,     0.45546,\n",
       "           0.45646,     0.45746,     0.45846,     0.45946,     0.46046,     0.46146,     0.46246,     0.46346,     0.46446,     0.46547,     0.46647,     0.46747,     0.46847,     0.46947,     0.47047,     0.47147,     0.47247,     0.47347,     0.47447,     0.47548,     0.47648,     0.47748,     0.47848,     0.47948,\n",
       "           0.48048,     0.48148,     0.48248,     0.48348,     0.48448,     0.48549,     0.48649,     0.48749,     0.48849,     0.48949,     0.49049,     0.49149,     0.49249,     0.49349,     0.49449,      0.4955,      0.4965,      0.4975,      0.4985,      0.4995,      0.5005,      0.5015,      0.5025,      0.5035,\n",
       "            0.5045,     0.50551,     0.50651,     0.50751,     0.50851,     0.50951,     0.51051,     0.51151,     0.51251,     0.51351,     0.51451,     0.51552,     0.51652,     0.51752,     0.51852,     0.51952,     0.52052,     0.52152,     0.52252,     0.52352,     0.52452,     0.52553,     0.52653,     0.52753,\n",
       "           0.52853,     0.52953,     0.53053,     0.53153,     0.53253,     0.53353,     0.53453,     0.53554,     0.53654,     0.53754,     0.53854,     0.53954,     0.54054,     0.54154,     0.54254,     0.54354,     0.54454,     0.54555,     0.54655,     0.54755,     0.54855,     0.54955,     0.55055,     0.55155,\n",
       "           0.55255,     0.55355,     0.55455,     0.55556,     0.55656,     0.55756,     0.55856,     0.55956,     0.56056,     0.56156,     0.56256,     0.56356,     0.56456,     0.56557,     0.56657,     0.56757,     0.56857,     0.56957,     0.57057,     0.57157,     0.57257,     0.57357,     0.57457,     0.57558,\n",
       "           0.57658,     0.57758,     0.57858,     0.57958,     0.58058,     0.58158,     0.58258,     0.58358,     0.58458,     0.58559,     0.58659,     0.58759,     0.58859,     0.58959,     0.59059,     0.59159,     0.59259,     0.59359,     0.59459,      0.5956,      0.5966,      0.5976,      0.5986,      0.5996,\n",
       "            0.6006,      0.6016,      0.6026,      0.6036,      0.6046,     0.60561,     0.60661,     0.60761,     0.60861,     0.60961,     0.61061,     0.61161,     0.61261,     0.61361,     0.61461,     0.61562,     0.61662,     0.61762,     0.61862,     0.61962,     0.62062,     0.62162,     0.62262,     0.62362,\n",
       "           0.62462,     0.62563,     0.62663,     0.62763,     0.62863,     0.62963,     0.63063,     0.63163,     0.63263,     0.63363,     0.63463,     0.63564,     0.63664,     0.63764,     0.63864,     0.63964,     0.64064,     0.64164,     0.64264,     0.64364,     0.64464,     0.64565,     0.64665,     0.64765,\n",
       "           0.64865,     0.64965,     0.65065,     0.65165,     0.65265,     0.65365,     0.65465,     0.65566,     0.65666,     0.65766,     0.65866,     0.65966,     0.66066,     0.66166,     0.66266,     0.66366,     0.66466,     0.66567,     0.66667,     0.66767,     0.66867,     0.66967,     0.67067,     0.67167,\n",
       "           0.67267,     0.67367,     0.67467,     0.67568,     0.67668,     0.67768,     0.67868,     0.67968,     0.68068,     0.68168,     0.68268,     0.68368,     0.68468,     0.68569,     0.68669,     0.68769,     0.68869,     0.68969,     0.69069,     0.69169,     0.69269,     0.69369,     0.69469,      0.6957,\n",
       "            0.6967,      0.6977,      0.6987,      0.6997,      0.7007,      0.7017,      0.7027,      0.7037,      0.7047,     0.70571,     0.70671,     0.70771,     0.70871,     0.70971,     0.71071,     0.71171,     0.71271,     0.71371,     0.71471,     0.71572,     0.71672,     0.71772,     0.71872,     0.71972,\n",
       "           0.72072,     0.72172,     0.72272,     0.72372,     0.72472,     0.72573,     0.72673,     0.72773,     0.72873,     0.72973,     0.73073,     0.73173,     0.73273,     0.73373,     0.73473,     0.73574,     0.73674,     0.73774,     0.73874,     0.73974,     0.74074,     0.74174,     0.74274,     0.74374,\n",
       "           0.74474,     0.74575,     0.74675,     0.74775,     0.74875,     0.74975,     0.75075,     0.75175,     0.75275,     0.75375,     0.75475,     0.75576,     0.75676,     0.75776,     0.75876,     0.75976,     0.76076,     0.76176,     0.76276,     0.76376,     0.76476,     0.76577,     0.76677,     0.76777,\n",
       "           0.76877,     0.76977,     0.77077,     0.77177,     0.77277,     0.77377,     0.77477,     0.77578,     0.77678,     0.77778,     0.77878,     0.77978,     0.78078,     0.78178,     0.78278,     0.78378,     0.78478,     0.78579,     0.78679,     0.78779,     0.78879,     0.78979,     0.79079,     0.79179,\n",
       "           0.79279,     0.79379,     0.79479,      0.7958,      0.7968,      0.7978,      0.7988,      0.7998,      0.8008,      0.8018,      0.8028,      0.8038,      0.8048,     0.80581,     0.80681,     0.80781,     0.80881,     0.80981,     0.81081,     0.81181,     0.81281,     0.81381,     0.81481,     0.81582,\n",
       "           0.81682,     0.81782,     0.81882,     0.81982,     0.82082,     0.82182,     0.82282,     0.82382,     0.82482,     0.82583,     0.82683,     0.82783,     0.82883,     0.82983,     0.83083,     0.83183,     0.83283,     0.83383,     0.83483,     0.83584,     0.83684,     0.83784,     0.83884,     0.83984,\n",
       "           0.84084,     0.84184,     0.84284,     0.84384,     0.84484,     0.84585,     0.84685,     0.84785,     0.84885,     0.84985,     0.85085,     0.85185,     0.85285,     0.85385,     0.85485,     0.85586,     0.85686,     0.85786,     0.85886,     0.85986,     0.86086,     0.86186,     0.86286,     0.86386,\n",
       "           0.86486,     0.86587,     0.86687,     0.86787,     0.86887,     0.86987,     0.87087,     0.87187,     0.87287,     0.87387,     0.87487,     0.87588,     0.87688,     0.87788,     0.87888,     0.87988,     0.88088,     0.88188,     0.88288,     0.88388,     0.88488,     0.88589,     0.88689,     0.88789,\n",
       "           0.88889,     0.88989,     0.89089,     0.89189,     0.89289,     0.89389,     0.89489,      0.8959,      0.8969,      0.8979,      0.8989,      0.8999,      0.9009,      0.9019,      0.9029,      0.9039,      0.9049,     0.90591,     0.90691,     0.90791,     0.90891,     0.90991,     0.91091,     0.91191,\n",
       "           0.91291,     0.91391,     0.91491,     0.91592,     0.91692,     0.91792,     0.91892,     0.91992,     0.92092,     0.92192,     0.92292,     0.92392,     0.92492,     0.92593,     0.92693,     0.92793,     0.92893,     0.92993,     0.93093,     0.93193,     0.93293,     0.93393,     0.93493,     0.93594,\n",
       "           0.93694,     0.93794,     0.93894,     0.93994,     0.94094,     0.94194,     0.94294,     0.94394,     0.94494,     0.94595,     0.94695,     0.94795,     0.94895,     0.94995,     0.95095,     0.95195,     0.95295,     0.95395,     0.95495,     0.95596,     0.95696,     0.95796,     0.95896,     0.95996,\n",
       "           0.96096,     0.96196,     0.96296,     0.96396,     0.96496,     0.96597,     0.96697,     0.96797,     0.96897,     0.96997,     0.97097,     0.97197,     0.97297,     0.97397,     0.97497,     0.97598,     0.97698,     0.97798,     0.97898,     0.97998,     0.98098,     0.98198,     0.98298,     0.98398,\n",
       "           0.98498,     0.98599,     0.98699,     0.98799,     0.98899,     0.98999,     0.99099,     0.99199,     0.99299,     0.99399,     0.99499,       0.996,       0.997,       0.998,       0.999,           1]), array([[   0.049383,    0.049383,    0.088434, ...,           1,           1,           1],\n",
       "       [   0.065574,    0.065574,     0.11572, ...,           1,           1,           1],\n",
       "       [   0.063492,    0.063492,     0.10345, ...,           1,           1,           1],\n",
       "       ...,\n",
       "       [   0.093458,    0.093458,     0.22982, ...,           1,           1,           1],\n",
       "       [   0.092308,    0.092308,     0.14338, ...,           1,           1,           1],\n",
       "       [    0.14493,     0.14493,     0.21425, ...,           1,           1,           1]]), 'Confidence', 'Precision'], [array([          0,    0.001001,    0.002002,    0.003003,    0.004004,    0.005005,    0.006006,    0.007007,    0.008008,    0.009009,     0.01001,    0.011011,    0.012012,    0.013013,    0.014014,    0.015015,    0.016016,    0.017017,    0.018018,    0.019019,     0.02002,    0.021021,    0.022022,    0.023023,\n",
       "          0.024024,    0.025025,    0.026026,    0.027027,    0.028028,    0.029029,     0.03003,    0.031031,    0.032032,    0.033033,    0.034034,    0.035035,    0.036036,    0.037037,    0.038038,    0.039039,     0.04004,    0.041041,    0.042042,    0.043043,    0.044044,    0.045045,    0.046046,    0.047047,\n",
       "          0.048048,    0.049049,     0.05005,    0.051051,    0.052052,    0.053053,    0.054054,    0.055055,    0.056056,    0.057057,    0.058058,    0.059059,     0.06006,    0.061061,    0.062062,    0.063063,    0.064064,    0.065065,    0.066066,    0.067067,    0.068068,    0.069069,     0.07007,    0.071071,\n",
       "          0.072072,    0.073073,    0.074074,    0.075075,    0.076076,    0.077077,    0.078078,    0.079079,     0.08008,    0.081081,    0.082082,    0.083083,    0.084084,    0.085085,    0.086086,    0.087087,    0.088088,    0.089089,     0.09009,    0.091091,    0.092092,    0.093093,    0.094094,    0.095095,\n",
       "          0.096096,    0.097097,    0.098098,    0.099099,      0.1001,      0.1011,      0.1021,      0.1031,      0.1041,     0.10511,     0.10611,     0.10711,     0.10811,     0.10911,     0.11011,     0.11111,     0.11211,     0.11311,     0.11411,     0.11512,     0.11612,     0.11712,     0.11812,     0.11912,\n",
       "           0.12012,     0.12112,     0.12212,     0.12312,     0.12412,     0.12513,     0.12613,     0.12713,     0.12813,     0.12913,     0.13013,     0.13113,     0.13213,     0.13313,     0.13413,     0.13514,     0.13614,     0.13714,     0.13814,     0.13914,     0.14014,     0.14114,     0.14214,     0.14314,\n",
       "           0.14414,     0.14515,     0.14615,     0.14715,     0.14815,     0.14915,     0.15015,     0.15115,     0.15215,     0.15315,     0.15415,     0.15516,     0.15616,     0.15716,     0.15816,     0.15916,     0.16016,     0.16116,     0.16216,     0.16316,     0.16416,     0.16517,     0.16617,     0.16717,\n",
       "           0.16817,     0.16917,     0.17017,     0.17117,     0.17217,     0.17317,     0.17417,     0.17518,     0.17618,     0.17718,     0.17818,     0.17918,     0.18018,     0.18118,     0.18218,     0.18318,     0.18418,     0.18519,     0.18619,     0.18719,     0.18819,     0.18919,     0.19019,     0.19119,\n",
       "           0.19219,     0.19319,     0.19419,      0.1952,      0.1962,      0.1972,      0.1982,      0.1992,      0.2002,      0.2012,      0.2022,      0.2032,      0.2042,     0.20521,     0.20621,     0.20721,     0.20821,     0.20921,     0.21021,     0.21121,     0.21221,     0.21321,     0.21421,     0.21522,\n",
       "           0.21622,     0.21722,     0.21822,     0.21922,     0.22022,     0.22122,     0.22222,     0.22322,     0.22422,     0.22523,     0.22623,     0.22723,     0.22823,     0.22923,     0.23023,     0.23123,     0.23223,     0.23323,     0.23423,     0.23524,     0.23624,     0.23724,     0.23824,     0.23924,\n",
       "           0.24024,     0.24124,     0.24224,     0.24324,     0.24424,     0.24525,     0.24625,     0.24725,     0.24825,     0.24925,     0.25025,     0.25125,     0.25225,     0.25325,     0.25425,     0.25526,     0.25626,     0.25726,     0.25826,     0.25926,     0.26026,     0.26126,     0.26226,     0.26326,\n",
       "           0.26426,     0.26527,     0.26627,     0.26727,     0.26827,     0.26927,     0.27027,     0.27127,     0.27227,     0.27327,     0.27427,     0.27528,     0.27628,     0.27728,     0.27828,     0.27928,     0.28028,     0.28128,     0.28228,     0.28328,     0.28428,     0.28529,     0.28629,     0.28729,\n",
       "           0.28829,     0.28929,     0.29029,     0.29129,     0.29229,     0.29329,     0.29429,      0.2953,      0.2963,      0.2973,      0.2983,      0.2993,      0.3003,      0.3013,      0.3023,      0.3033,      0.3043,     0.30531,     0.30631,     0.30731,     0.30831,     0.30931,     0.31031,     0.31131,\n",
       "           0.31231,     0.31331,     0.31431,     0.31532,     0.31632,     0.31732,     0.31832,     0.31932,     0.32032,     0.32132,     0.32232,     0.32332,     0.32432,     0.32533,     0.32633,     0.32733,     0.32833,     0.32933,     0.33033,     0.33133,     0.33233,     0.33333,     0.33433,     0.33534,\n",
       "           0.33634,     0.33734,     0.33834,     0.33934,     0.34034,     0.34134,     0.34234,     0.34334,     0.34434,     0.34535,     0.34635,     0.34735,     0.34835,     0.34935,     0.35035,     0.35135,     0.35235,     0.35335,     0.35435,     0.35536,     0.35636,     0.35736,     0.35836,     0.35936,\n",
       "           0.36036,     0.36136,     0.36236,     0.36336,     0.36436,     0.36537,     0.36637,     0.36737,     0.36837,     0.36937,     0.37037,     0.37137,     0.37237,     0.37337,     0.37437,     0.37538,     0.37638,     0.37738,     0.37838,     0.37938,     0.38038,     0.38138,     0.38238,     0.38338,\n",
       "           0.38438,     0.38539,     0.38639,     0.38739,     0.38839,     0.38939,     0.39039,     0.39139,     0.39239,     0.39339,     0.39439,      0.3954,      0.3964,      0.3974,      0.3984,      0.3994,      0.4004,      0.4014,      0.4024,      0.4034,      0.4044,     0.40541,     0.40641,     0.40741,\n",
       "           0.40841,     0.40941,     0.41041,     0.41141,     0.41241,     0.41341,     0.41441,     0.41542,     0.41642,     0.41742,     0.41842,     0.41942,     0.42042,     0.42142,     0.42242,     0.42342,     0.42442,     0.42543,     0.42643,     0.42743,     0.42843,     0.42943,     0.43043,     0.43143,\n",
       "           0.43243,     0.43343,     0.43443,     0.43544,     0.43644,     0.43744,     0.43844,     0.43944,     0.44044,     0.44144,     0.44244,     0.44344,     0.44444,     0.44545,     0.44645,     0.44745,     0.44845,     0.44945,     0.45045,     0.45145,     0.45245,     0.45345,     0.45445,     0.45546,\n",
       "           0.45646,     0.45746,     0.45846,     0.45946,     0.46046,     0.46146,     0.46246,     0.46346,     0.46446,     0.46547,     0.46647,     0.46747,     0.46847,     0.46947,     0.47047,     0.47147,     0.47247,     0.47347,     0.47447,     0.47548,     0.47648,     0.47748,     0.47848,     0.47948,\n",
       "           0.48048,     0.48148,     0.48248,     0.48348,     0.48448,     0.48549,     0.48649,     0.48749,     0.48849,     0.48949,     0.49049,     0.49149,     0.49249,     0.49349,     0.49449,      0.4955,      0.4965,      0.4975,      0.4985,      0.4995,      0.5005,      0.5015,      0.5025,      0.5035,\n",
       "            0.5045,     0.50551,     0.50651,     0.50751,     0.50851,     0.50951,     0.51051,     0.51151,     0.51251,     0.51351,     0.51451,     0.51552,     0.51652,     0.51752,     0.51852,     0.51952,     0.52052,     0.52152,     0.52252,     0.52352,     0.52452,     0.52553,     0.52653,     0.52753,\n",
       "           0.52853,     0.52953,     0.53053,     0.53153,     0.53253,     0.53353,     0.53453,     0.53554,     0.53654,     0.53754,     0.53854,     0.53954,     0.54054,     0.54154,     0.54254,     0.54354,     0.54454,     0.54555,     0.54655,     0.54755,     0.54855,     0.54955,     0.55055,     0.55155,\n",
       "           0.55255,     0.55355,     0.55455,     0.55556,     0.55656,     0.55756,     0.55856,     0.55956,     0.56056,     0.56156,     0.56256,     0.56356,     0.56456,     0.56557,     0.56657,     0.56757,     0.56857,     0.56957,     0.57057,     0.57157,     0.57257,     0.57357,     0.57457,     0.57558,\n",
       "           0.57658,     0.57758,     0.57858,     0.57958,     0.58058,     0.58158,     0.58258,     0.58358,     0.58458,     0.58559,     0.58659,     0.58759,     0.58859,     0.58959,     0.59059,     0.59159,     0.59259,     0.59359,     0.59459,      0.5956,      0.5966,      0.5976,      0.5986,      0.5996,\n",
       "            0.6006,      0.6016,      0.6026,      0.6036,      0.6046,     0.60561,     0.60661,     0.60761,     0.60861,     0.60961,     0.61061,     0.61161,     0.61261,     0.61361,     0.61461,     0.61562,     0.61662,     0.61762,     0.61862,     0.61962,     0.62062,     0.62162,     0.62262,     0.62362,\n",
       "           0.62462,     0.62563,     0.62663,     0.62763,     0.62863,     0.62963,     0.63063,     0.63163,     0.63263,     0.63363,     0.63463,     0.63564,     0.63664,     0.63764,     0.63864,     0.63964,     0.64064,     0.64164,     0.64264,     0.64364,     0.64464,     0.64565,     0.64665,     0.64765,\n",
       "           0.64865,     0.64965,     0.65065,     0.65165,     0.65265,     0.65365,     0.65465,     0.65566,     0.65666,     0.65766,     0.65866,     0.65966,     0.66066,     0.66166,     0.66266,     0.66366,     0.66466,     0.66567,     0.66667,     0.66767,     0.66867,     0.66967,     0.67067,     0.67167,\n",
       "           0.67267,     0.67367,     0.67467,     0.67568,     0.67668,     0.67768,     0.67868,     0.67968,     0.68068,     0.68168,     0.68268,     0.68368,     0.68468,     0.68569,     0.68669,     0.68769,     0.68869,     0.68969,     0.69069,     0.69169,     0.69269,     0.69369,     0.69469,      0.6957,\n",
       "            0.6967,      0.6977,      0.6987,      0.6997,      0.7007,      0.7017,      0.7027,      0.7037,      0.7047,     0.70571,     0.70671,     0.70771,     0.70871,     0.70971,     0.71071,     0.71171,     0.71271,     0.71371,     0.71471,     0.71572,     0.71672,     0.71772,     0.71872,     0.71972,\n",
       "           0.72072,     0.72172,     0.72272,     0.72372,     0.72472,     0.72573,     0.72673,     0.72773,     0.72873,     0.72973,     0.73073,     0.73173,     0.73273,     0.73373,     0.73473,     0.73574,     0.73674,     0.73774,     0.73874,     0.73974,     0.74074,     0.74174,     0.74274,     0.74374,\n",
       "           0.74474,     0.74575,     0.74675,     0.74775,     0.74875,     0.74975,     0.75075,     0.75175,     0.75275,     0.75375,     0.75475,     0.75576,     0.75676,     0.75776,     0.75876,     0.75976,     0.76076,     0.76176,     0.76276,     0.76376,     0.76476,     0.76577,     0.76677,     0.76777,\n",
       "           0.76877,     0.76977,     0.77077,     0.77177,     0.77277,     0.77377,     0.77477,     0.77578,     0.77678,     0.77778,     0.77878,     0.77978,     0.78078,     0.78178,     0.78278,     0.78378,     0.78478,     0.78579,     0.78679,     0.78779,     0.78879,     0.78979,     0.79079,     0.79179,\n",
       "           0.79279,     0.79379,     0.79479,      0.7958,      0.7968,      0.7978,      0.7988,      0.7998,      0.8008,      0.8018,      0.8028,      0.8038,      0.8048,     0.80581,     0.80681,     0.80781,     0.80881,     0.80981,     0.81081,     0.81181,     0.81281,     0.81381,     0.81481,     0.81582,\n",
       "           0.81682,     0.81782,     0.81882,     0.81982,     0.82082,     0.82182,     0.82282,     0.82382,     0.82482,     0.82583,     0.82683,     0.82783,     0.82883,     0.82983,     0.83083,     0.83183,     0.83283,     0.83383,     0.83483,     0.83584,     0.83684,     0.83784,     0.83884,     0.83984,\n",
       "           0.84084,     0.84184,     0.84284,     0.84384,     0.84484,     0.84585,     0.84685,     0.84785,     0.84885,     0.84985,     0.85085,     0.85185,     0.85285,     0.85385,     0.85485,     0.85586,     0.85686,     0.85786,     0.85886,     0.85986,     0.86086,     0.86186,     0.86286,     0.86386,\n",
       "           0.86486,     0.86587,     0.86687,     0.86787,     0.86887,     0.86987,     0.87087,     0.87187,     0.87287,     0.87387,     0.87487,     0.87588,     0.87688,     0.87788,     0.87888,     0.87988,     0.88088,     0.88188,     0.88288,     0.88388,     0.88488,     0.88589,     0.88689,     0.88789,\n",
       "           0.88889,     0.88989,     0.89089,     0.89189,     0.89289,     0.89389,     0.89489,      0.8959,      0.8969,      0.8979,      0.8989,      0.8999,      0.9009,      0.9019,      0.9029,      0.9039,      0.9049,     0.90591,     0.90691,     0.90791,     0.90891,     0.90991,     0.91091,     0.91191,\n",
       "           0.91291,     0.91391,     0.91491,     0.91592,     0.91692,     0.91792,     0.91892,     0.91992,     0.92092,     0.92192,     0.92292,     0.92392,     0.92492,     0.92593,     0.92693,     0.92793,     0.92893,     0.92993,     0.93093,     0.93193,     0.93293,     0.93393,     0.93493,     0.93594,\n",
       "           0.93694,     0.93794,     0.93894,     0.93994,     0.94094,     0.94194,     0.94294,     0.94394,     0.94494,     0.94595,     0.94695,     0.94795,     0.94895,     0.94995,     0.95095,     0.95195,     0.95295,     0.95395,     0.95495,     0.95596,     0.95696,     0.95796,     0.95896,     0.95996,\n",
       "           0.96096,     0.96196,     0.96296,     0.96396,     0.96496,     0.96597,     0.96697,     0.96797,     0.96897,     0.96997,     0.97097,     0.97197,     0.97297,     0.97397,     0.97497,     0.97598,     0.97698,     0.97798,     0.97898,     0.97998,     0.98098,     0.98198,     0.98298,     0.98398,\n",
       "           0.98498,     0.98599,     0.98699,     0.98799,     0.98899,     0.98999,     0.99099,     0.99199,     0.99299,     0.99399,     0.99499,       0.996,       0.997,       0.998,       0.999,           1]), array([[          1,           1,           1, ...,           0,           0,           0],\n",
       "       [          1,           1,           1, ...,           0,           0,           0],\n",
       "       [          1,           1,           1, ...,           0,           0,           0],\n",
       "       ...,\n",
       "       [          1,           1,           1, ...,           0,           0,           0],\n",
       "       [          1,           1,           1, ...,           0,           0,           0],\n",
       "       [          1,           1,           1, ...,           0,           0,           0]]), 'Confidence', 'Recall']]\n",
       "fitness: 0.8936091016668571\n",
       "keys: ['metrics/precision(B)', 'metrics/recall(B)', 'metrics/mAP50(B)', 'metrics/mAP50-95(B)']\n",
       "maps: array([    0.74726,     0.93334,      0.9206,     0.93744,     0.85014,     0.76211,     0.87724,     0.91531,     0.87731,     0.85099,     0.87427,     0.76679,      0.8865,     0.85254,     0.87125,     0.87186,     0.87388,     0.89535,     0.88475,     0.87964,     0.88063,     0.94282,     0.85176,     0.90694,\n",
       "           0.83416,     0.87425,     0.89908,     0.90754,     0.87715,     0.87164,      0.8774,     0.90908,     0.93102,      0.8715,     0.90786,     0.86035,     0.88757,      0.8699,     0.90398,     0.89811,     0.89844,     0.96202,     0.86685,     0.91528,      0.9338,      0.9201])\n",
       "names: {0: 'क', 1: 'क्ष', 2: 'ख', 3: 'ग', 4: 'घ', 5: 'ङ', 6: 'च', 7: 'छ', 8: 'ज', 9: 'ज्ञ', 10: 'झ', 11: 'ञ', 12: 'ट', 13: 'ठ', 14: 'ड', 15: 'ढ', 16: 'ण', 17: 'त', 18: 'त्र', 19: 'थ', 20: 'द', 21: 'ध', 22: 'न', 23: 'प', 24: 'फ', 25: 'ब', 26: 'भ', 27: 'म', 28: 'य', 29: 'र', 30: 'ल', 31: 'व', 32: 'श', 33: 'ष', 34: 'स', 35: 'ह', 36: '०', 37: '१', 38: '२', 39: '३', 40: '४', 41: '५', 42: '६', 43: '७', 44: '८', 45: '९'}\n",
       "plot: True\n",
       "results_dict: {'metrics/precision(B)': 0.9652789449880861, 'metrics/recall(B)': 0.990254618359029, 'metrics/mAP50(B)': 0.9949999999999996, 'metrics/mAP50-95(B)': 0.882343446296508, 'fitness': 0.8936091016668571}\n",
       "save_dir: PosixPath('runs/detect/train')\n",
       "speed: {'preprocess': 0.20958582560221356, 'inference': 1.3753811518351235, 'loss': 0.00015298525492350262, 'postprocess': 1.6800953282250297}\n",
       "task: 'detect'"
      ]
     },
     "execution_count": 7,
     "metadata": {},
     "output_type": "execute_result"
    }
   ],
   "source": [
    "# Train the model\n",
    "model.train(mode=\"train\", data=\"config.yaml\", \n",
    "            imgsz=640, epochs=50, \n",
    "            batch=32, optimizer=\"SGD\", \n",
    "            hsv_h=0.1, hsv_s=0.4, \n",
    "            hsv_v=0.2, degrees=45,\n",
    "            translate=0.3, shear=0.3, \n",
    "            mixup=0.2\n",
    "            )"
   ]
  }
 ],
 "metadata": {
  "kernelspec": {
   "display_name": "Python 3 (ipykernel)",
   "language": "python",
   "name": "python3"
  },
  "language_info": {
   "codemirror_mode": {
    "name": "ipython",
    "version": 3
   },
   "file_extension": ".py",
   "mimetype": "text/x-python",
   "name": "python",
   "nbconvert_exporter": "python",
   "pygments_lexer": "ipython3",
   "version": "3.11.9"
  }
 },
 "nbformat": 4,
 "nbformat_minor": 5
}
